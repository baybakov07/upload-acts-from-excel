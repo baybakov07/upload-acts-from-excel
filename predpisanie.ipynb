{
 "cells": [
  {
   "cell_type": "markdown",
   "id": "afa4120f",
   "metadata": {},
   "source": [
    "### Основные функции"
   ]
  },
  {
   "cell_type": "code",
   "execution_count": 1,
   "id": "3990aa84-fea0-4238-82d7-971b2ba13576",
   "metadata": {},
   "outputs": [],
   "source": [
    "import warnings\n",
    "warnings.filterwarnings('ignore')"
   ]
  },
  {
   "cell_type": "code",
   "execution_count": 2,
   "id": "7d9b70ba-fefc-4993-aaf0-292b5bbc6e47",
   "metadata": {
    "tags": []
   },
   "outputs": [],
   "source": [
    "def convert_zaknamestep1(matched_value):\n",
    "    if matched_value is None:\n",
    "        return \"ТПП «Повхнефтегаз»\"\n",
    "\n",
    "    zaknamestep = [\n",
    "        {\"id\": \"0\", \"value\": \"ТПП «Когалымнефтегаз»\", \"payload\": {\"city\": \"Когалым\"}},\n",
    "        {\"id\": \"1\", \"value\": \"ТПП «Повхнефтегаз»\", \"payload\": {\"city\": \"Когалым\"}}\n",
    "    ]\n",
    "\n",
    "    for d in zaknamestep:\n",
    "        if matched_value in d[\"value\"]:\n",
    "            return d\n",
    "\n",
    "    return \"ТПП «Повхнефтегаз»\"\n",
    "\n",
    "def convert_zaknamestep1_content(matched_value):\n",
    "\n",
    "    zaknamestep = [\n",
    "        {\"id\": \"0\", \"value\": \"ТПП «Когалымнефтегаз»\"},\n",
    "        {\"id\": \"1\", \"value\": \"ТПП «Повхнефтегаз»\"}\n",
    "    ]\n",
    "\n",
    "    for d in zaknamestep:\n",
    "        if matched_value in d[\"value\"]:\n",
    "            return d[\"value\"]\n",
    "\n",
    "    return \"ТПП «Повхнефтегаз»\""
   ]
  },
  {
   "cell_type": "markdown",
   "id": "fb8ea071",
   "metadata": {},
   "source": [
    "### Выгрузка данных"
   ]
  },
  {
   "cell_type": "code",
   "execution_count": 3,
   "id": "d289476f",
   "metadata": {
    "tags": []
   },
   "outputs": [],
   "source": [
    "import pandas as pd \n",
    "import re\n",
    "import os\n",
    "import json\n",
    "from datetime import datetime\n",
    "from babel.dates import format_date\n",
    "\n",
    "df_start = pd.DataFrame()\n",
    "data_frames = []\n",
    "columns_data = []\n",
    "\n",
    "#Введите свой путь к папке откуда надо взять акты\n",
    "folder_path = '2023 — предписание/'\n",
    "for path, dirs, files in os.walk(folder_path):\n",
    "    for file_name in files:\n",
    "        if file_name.endswith(\".xlsx\") or file_name.endswith(\".XLSX\"):\n",
    "            file_path = os.path.join(path, file_name)\n",
    "            \n",
    "            # Извлечение zaknamestep1\n",
    "            df_row = pd.read_excel(file_path)\n",
    "            zaknamestep1 = df_row.iloc[0][4]\n",
    "            curr = [\"Повхнефтегаз\", \"Когалымнефтегаз\"]\n",
    "            matched_value = \"ТПП «Повхнефтегаз»\"\n",
    "            for i in curr:\n",
    "                if i in zaknamestep1:\n",
    "                    matched_value = i\n",
    "                    break\n",
    "            zaknamestep1 = convert_zaknamestep1(matched_value)\n",
    "            zaknamestep1_content = convert_zaknamestep1_content(matched_value)\n",
    "\n",
    "            # Обработка всего датафрейма\n",
    "            df = pd.read_excel(file_path, skiprows=2)\n",
    "            df = df.rename(columns = dict(zip(df.columns.tolist(),[\" \".join(i.split()).replace(\"/ \", \"/\").replace(\"/ \", \"\\\\\") for i in df.columns.tolist()])))\n",
    "            if 'Выявленные нарушения по ОТ и ТБ, ПБ, ООС' in df.columns or 'Выявленные нарушения по технологии работ.' in df.columns or 'Куст/скважина Месторождение Супервайзер' in df.columns:\n",
    "                df = df.rename(columns={\n",
    "                    'Выявленные нарушения по ОТ и ТБ, ПБ, ООС': 'Выявленные нарушения по ОТ,ПБ',\n",
    "                    'Выявленные нарушения по технологии работ.': 'Выявленные нарушения по технологии работ',\n",
    "                    'Куст/скважина Месторождение Супервайзер': 'Куст/скважина Месторождение ГНО/Qж/Qн Супервайзер'\n",
    "                })\n",
    "            df = df.loc[:, ~df.columns.str.startswith('Unnamed:')]\n",
    "            df = df.drop(labels = [0],axis = 0)\n",
    "            df['zaknamestep1'] = df.shape[0]*[zaknamestep1]\n",
    "            df['zaknamestep1_content'] = df.shape[0]*[zaknamestep1_content]\n",
    "            if \"№ п/п\" not in str(df.columns[0]):\n",
    "                df = pd.read_excel(file_path, skiprows=3)\n",
    "                df = df.rename(columns = dict(zip(df.columns.tolist(),[\" \".join(i.split()).replace(\"/ \", \"/\").replace(\"/ \", \"\\\\\") for i in df.columns.tolist()])))\n",
    "                df = df.loc[:, ~df.columns.str.startswith('Unnamed:')]\n",
    "                df = df.drop(labels = [0],axis = 0)\n",
    "                if 'Выявленные нарушения по ОТ и ТБ, ПБ, ООС' in df.columns or 'Выявленные нарушения по технологии работ.' in df.columns or 'Куст/скважина Месторождение Супервайзер' in df.columns:\n",
    "                    df = df.rename(columns={\n",
    "                        'Выявленные нарушения по ОТ и ТБ, ПБ, ООС': 'Выявленные нарушения по ОТ,ПБ',\n",
    "                        'Выявленные нарушения по технологии работ.': 'Выявленные нарушения по технологии работ',\n",
    "                        'Куст/скважина Месторождение Супервайзер': 'Куст/скважина Месторождение ГНО/Qж/Qн Супервайзер'\n",
    "                    })\n",
    "                df['zaknamestep1'] = df.shape[0]*[zaknamestep1]\n",
    "                df['zaknamestep1_content'] = df.shape[0]*[zaknamestep1_content]\n",
    "\n",
    "            data_frames.append(df)\n",
    "\n",
    "df_start = pd.concat(data_frames, ignore_index=True)"
   ]
  },
  {
   "cell_type": "code",
   "execution_count": 4,
   "id": "9fe1b49a",
   "metadata": {
    "tags": []
   },
   "outputs": [
    {
     "data": {
      "text/html": [
       "<div>\n",
       "<style scoped>\n",
       "    .dataframe tbody tr th:only-of-type {\n",
       "        vertical-align: middle;\n",
       "    }\n",
       "\n",
       "    .dataframe tbody tr th {\n",
       "        vertical-align: top;\n",
       "    }\n",
       "\n",
       "    .dataframe thead th {\n",
       "        text-align: right;\n",
       "    }\n",
       "</style>\n",
       "<table border=\"1\" class=\"dataframe\">\n",
       "  <thead>\n",
       "    <tr style=\"text-align: right;\">\n",
       "      <th></th>\n",
       "      <th>№ п/п</th>\n",
       "      <th>Дата, время проверки</th>\n",
       "      <th>Куст/скважина Месторождение ГНО/Qж/Qн Супервайзер</th>\n",
       "      <th>Подрядчик № бригады Мастер</th>\n",
       "      <th>Технологические операции, выполняемые бригадой на момент проверки</th>\n",
       "      <th>Выявленные нарушения по технологии работ</th>\n",
       "      <th>Выявленные нарушения по ОТ,ПБ</th>\n",
       "      <th>Предложения по устранению</th>\n",
       "      <th>Принятые меры</th>\n",
       "      <th>Фотография выявленного нарушения, показания регистрирующих приборов</th>\n",
       "      <th>Примечание</th>\n",
       "      <th>zaknamestep1</th>\n",
       "      <th>zaknamestep1_content</th>\n",
       "    </tr>\n",
       "  </thead>\n",
       "  <tbody>\n",
       "    <tr>\n",
       "      <th>0</th>\n",
       "      <td>1</td>\n",
       "      <td>01.08.2023г.\\n08:30-10:00</td>\n",
       "      <td>160/8908\\nВать-Еганское \\nКульжанов А.А</td>\n",
       "      <td>ООО\\n\"Мастернефть-Сервис\"\\nЦКРС\\nБр.№36\\nТимер...</td>\n",
       "      <td>КР / Освоение скважины под нагнетание.\\n \"КНГФ...</td>\n",
       "      <td>Проведена проверка  технологического процесса:...</td>\n",
       "      <td>NaN</td>\n",
       "      <td>Работы по скважине вести в соответствие с треб...</td>\n",
       "      <td>Запись в вахтовом журнале</td>\n",
       "      <td>NaN</td>\n",
       "      <td>NaN</td>\n",
       "      <td>{'id': '1', 'value': 'ТПП «Повхнефтегаз»', 'pa...</td>\n",
       "      <td>ТПП «Повхнефтегаз»</td>\n",
       "    </tr>\n",
       "    <tr>\n",
       "      <th>1</th>\n",
       "      <td>NaN</td>\n",
       "      <td>NaN</td>\n",
       "      <td>NaN</td>\n",
       "      <td>NaN</td>\n",
       "      <td>NaN</td>\n",
       "      <td>Мастер в бригаде.</td>\n",
       "      <td>NaN</td>\n",
       "      <td>NaN</td>\n",
       "      <td>NaN</td>\n",
       "      <td>NaN</td>\n",
       "      <td>NaN</td>\n",
       "      <td>{'id': '1', 'value': 'ТПП «Повхнефтегаз»', 'pa...</td>\n",
       "      <td>ТПП «Повхнефтегаз»</td>\n",
       "    </tr>\n",
       "    <tr>\n",
       "      <th>2</th>\n",
       "      <td>2</td>\n",
       "      <td>01.08.2023г.\\n10:30-12:00</td>\n",
       "      <td>ЦИТС\\nВатьеганское\\nКульжанов А.А</td>\n",
       "      <td>\\nТехническое совещание по снижению объемов вы...</td>\n",
       "      <td>NaN</td>\n",
       "      <td>NaN</td>\n",
       "      <td>NaN</td>\n",
       "      <td>NaN</td>\n",
       "      <td>NaN</td>\n",
       "      <td>NaN</td>\n",
       "      <td>NaN</td>\n",
       "      <td>{'id': '1', 'value': 'ТПП «Повхнефтегаз»', 'pa...</td>\n",
       "      <td>ТПП «Повхнефтегаз»</td>\n",
       "    </tr>\n",
       "    <tr>\n",
       "      <th>3</th>\n",
       "      <td>NaN</td>\n",
       "      <td>NaN</td>\n",
       "      <td>NaN</td>\n",
       "      <td>NaN</td>\n",
       "      <td>NaN</td>\n",
       "      <td>NaN</td>\n",
       "      <td>NaN</td>\n",
       "      <td>NaN</td>\n",
       "      <td>NaN</td>\n",
       "      <td>NaN</td>\n",
       "      <td>NaN</td>\n",
       "      <td>{'id': '1', 'value': 'ТПП «Повхнефтегаз»', 'pa...</td>\n",
       "      <td>ТПП «Повхнефтегаз»</td>\n",
       "    </tr>\n",
       "    <tr>\n",
       "      <th>4</th>\n",
       "      <td>3</td>\n",
       "      <td>01.08.2023г.\\n12:30-14:30</td>\n",
       "      <td>58/5744\\nВать-Еганское \\nКульжанов А.А</td>\n",
       "      <td>ООО\\n\"Мастернефть-Сервис\"\\nЦКРС\\nБр.№26\\nКудря...</td>\n",
       "      <td>КР / Извлечение пакера из скважины после авари...</td>\n",
       "      <td>Проведена проверка  технологического процесса:...</td>\n",
       "      <td>NaN</td>\n",
       "      <td>Работы по скважине вести в соответствие с треб...</td>\n",
       "      <td>Запись в вахтовом журнале</td>\n",
       "      <td>NaN</td>\n",
       "      <td>NaN</td>\n",
       "      <td>{'id': '1', 'value': 'ТПП «Повхнефтегаз»', 'pa...</td>\n",
       "      <td>ТПП «Повхнефтегаз»</td>\n",
       "    </tr>\n",
       "  </tbody>\n",
       "</table>\n",
       "</div>"
      ],
      "text/plain": [
       "  № п/п       Дата, время проверки  \\\n",
       "0     1  01.08.2023г.\\n08:30-10:00   \n",
       "1   NaN                        NaN   \n",
       "2     2  01.08.2023г.\\n10:30-12:00   \n",
       "3   NaN                        NaN   \n",
       "4     3  01.08.2023г.\\n12:30-14:30   \n",
       "\n",
       "  Куст/скважина Месторождение ГНО/Qж/Qн Супервайзер  \\\n",
       "0           160/8908\\nВать-Еганское \\nКульжанов А.А   \n",
       "1                                               NaN   \n",
       "2                 ЦИТС\\nВатьеганское\\nКульжанов А.А   \n",
       "3                                               NaN   \n",
       "4            58/5744\\nВать-Еганское \\nКульжанов А.А   \n",
       "\n",
       "                          Подрядчик № бригады Мастер  \\\n",
       "0  ООО\\n\"Мастернефть-Сервис\"\\nЦКРС\\nБр.№36\\nТимер...   \n",
       "1                                                NaN   \n",
       "2  \\nТехническое совещание по снижению объемов вы...   \n",
       "3                                                NaN   \n",
       "4  ООО\\n\"Мастернефть-Сервис\"\\nЦКРС\\nБр.№26\\nКудря...   \n",
       "\n",
       "  Технологические операции, выполняемые бригадой на момент проверки  \\\n",
       "0  КР / Освоение скважины под нагнетание.\\n \"КНГФ...                  \n",
       "1                                                NaN                  \n",
       "2                                                NaN                  \n",
       "3                                                NaN                  \n",
       "4  КР / Извлечение пакера из скважины после авари...                  \n",
       "\n",
       "            Выявленные нарушения по технологии работ  \\\n",
       "0  Проведена проверка  технологического процесса:...   \n",
       "1                                Мастер в бригаде.     \n",
       "2                                                NaN   \n",
       "3                                                NaN   \n",
       "4  Проведена проверка  технологического процесса:...   \n",
       "\n",
       "  Выявленные нарушения по ОТ,ПБ  \\\n",
       "0                           NaN   \n",
       "1                           NaN   \n",
       "2                           NaN   \n",
       "3                           NaN   \n",
       "4                           NaN   \n",
       "\n",
       "                           Предложения по устранению  \\\n",
       "0  Работы по скважине вести в соответствие с треб...   \n",
       "1                                                NaN   \n",
       "2                                                NaN   \n",
       "3                                                NaN   \n",
       "4  Работы по скважине вести в соответствие с треб...   \n",
       "\n",
       "               Принятые меры  \\\n",
       "0  Запись в вахтовом журнале   \n",
       "1                        NaN   \n",
       "2                        NaN   \n",
       "3                        NaN   \n",
       "4  Запись в вахтовом журнале   \n",
       "\n",
       "  Фотография выявленного нарушения, показания регистрирующих приборов  \\\n",
       "0                                                NaN                    \n",
       "1                                                NaN                    \n",
       "2                                                NaN                    \n",
       "3                                                NaN                    \n",
       "4                                                NaN                    \n",
       "\n",
       "  Примечание                                       zaknamestep1  \\\n",
       "0        NaN  {'id': '1', 'value': 'ТПП «Повхнефтегаз»', 'pa...   \n",
       "1        NaN  {'id': '1', 'value': 'ТПП «Повхнефтегаз»', 'pa...   \n",
       "2        NaN  {'id': '1', 'value': 'ТПП «Повхнефтегаз»', 'pa...   \n",
       "3        NaN  {'id': '1', 'value': 'ТПП «Повхнефтегаз»', 'pa...   \n",
       "4        NaN  {'id': '1', 'value': 'ТПП «Повхнефтегаз»', 'pa...   \n",
       "\n",
       "  zaknamestep1_content  \n",
       "0   ТПП «Повхнефтегаз»  \n",
       "1   ТПП «Повхнефтегаз»  \n",
       "2   ТПП «Повхнефтегаз»  \n",
       "3   ТПП «Повхнефтегаз»  \n",
       "4   ТПП «Повхнефтегаз»  "
      ]
     },
     "execution_count": 4,
     "metadata": {},
     "output_type": "execute_result"
    }
   ],
   "source": [
    "df_start.head()"
   ]
  },
  {
   "cell_type": "code",
   "execution_count": 5,
   "id": "fe6b691a",
   "metadata": {
    "tags": []
   },
   "outputs": [
    {
     "data": {
      "text/plain": [
       "(18170, 13)"
      ]
     },
     "execution_count": 5,
     "metadata": {},
     "output_type": "execute_result"
    }
   ],
   "source": [
    "df_start.shape"
   ]
  },
  {
   "cell_type": "code",
   "execution_count": 102,
   "id": "3887e763",
   "metadata": {
    "scrolled": true,
    "tags": []
   },
   "outputs": [
    {
     "data": {
      "text/html": [
       "<div>\n",
       "<style scoped>\n",
       "    .dataframe tbody tr th:only-of-type {\n",
       "        vertical-align: middle;\n",
       "    }\n",
       "\n",
       "    .dataframe tbody tr th {\n",
       "        vertical-align: top;\n",
       "    }\n",
       "\n",
       "    .dataframe thead th {\n",
       "        text-align: right;\n",
       "    }\n",
       "</style>\n",
       "<table border=\"1\" class=\"dataframe\">\n",
       "  <thead>\n",
       "    <tr style=\"text-align: right;\">\n",
       "      <th></th>\n",
       "      <th>№ п/п</th>\n",
       "      <th>Дата, время проверки</th>\n",
       "      <th>Куст/скважина Месторождение ГНО/Qж/Qн Супервайзер</th>\n",
       "      <th>Подрядчик № бригады Мастер</th>\n",
       "      <th>Технологические операции, выполняемые бригадой на момент проверки</th>\n",
       "      <th>Выявленные нарушения по технологии работ</th>\n",
       "      <th>Выявленные нарушения по ОТ,ПБ</th>\n",
       "      <th>Предложения по устранению</th>\n",
       "      <th>Принятые меры</th>\n",
       "      <th>Фотография выявленного нарушения, показания регистрирующих приборов</th>\n",
       "      <th>Примечание</th>\n",
       "      <th>zaknamestep1</th>\n",
       "      <th>zaknamestep1_content</th>\n",
       "    </tr>\n",
       "  </thead>\n",
       "  <tbody>\n",
       "    <tr>\n",
       "      <th>0</th>\n",
       "      <td>1</td>\n",
       "      <td>01.08.2023г.\\n08:30-10:00</td>\n",
       "      <td>160/8908\\nВать-Еганское \\nКульжанов А.А</td>\n",
       "      <td>ООО\\n\"Мастернефть-Сервис\"\\nЦКРС\\nБр.№36\\nТимер...</td>\n",
       "      <td>КР / Освоение скважины под нагнетание.\\n \"КНГФ...</td>\n",
       "      <td>Проведена проверка  технологического процесса:...</td>\n",
       "      <td>NaN</td>\n",
       "      <td>Работы по скважине вести в соответствие с треб...</td>\n",
       "      <td>Запись в вахтовом журнале</td>\n",
       "      <td>NaN</td>\n",
       "      <td>NaN</td>\n",
       "      <td>{'id': '1', 'value': 'ТПП «Повхнефтегаз»', 'pa...</td>\n",
       "      <td>ТПП «Повхнефтегаз»</td>\n",
       "    </tr>\n",
       "    <tr>\n",
       "      <th>1</th>\n",
       "      <td>NaN</td>\n",
       "      <td>NaN</td>\n",
       "      <td>NaN</td>\n",
       "      <td>NaN</td>\n",
       "      <td>NaN</td>\n",
       "      <td>Мастер в бригаде.</td>\n",
       "      <td>NaN</td>\n",
       "      <td>NaN</td>\n",
       "      <td>NaN</td>\n",
       "      <td>NaN</td>\n",
       "      <td>NaN</td>\n",
       "      <td>{'id': '1', 'value': 'ТПП «Повхнефтегаз»', 'pa...</td>\n",
       "      <td>ТПП «Повхнефтегаз»</td>\n",
       "    </tr>\n",
       "    <tr>\n",
       "      <th>2</th>\n",
       "      <td>2</td>\n",
       "      <td>01.08.2023г.\\n10:30-12:00</td>\n",
       "      <td>ЦИТС\\nВатьеганское\\nКульжанов А.А</td>\n",
       "      <td>\\nТехническое совещание по снижению объемов вы...</td>\n",
       "      <td>NaN</td>\n",
       "      <td>NaN</td>\n",
       "      <td>NaN</td>\n",
       "      <td>NaN</td>\n",
       "      <td>NaN</td>\n",
       "      <td>NaN</td>\n",
       "      <td>NaN</td>\n",
       "      <td>{'id': '1', 'value': 'ТПП «Повхнефтегаз»', 'pa...</td>\n",
       "      <td>ТПП «Повхнефтегаз»</td>\n",
       "    </tr>\n",
       "    <tr>\n",
       "      <th>3</th>\n",
       "      <td>NaN</td>\n",
       "      <td>NaN</td>\n",
       "      <td>NaN</td>\n",
       "      <td>NaN</td>\n",
       "      <td>NaN</td>\n",
       "      <td>NaN</td>\n",
       "      <td>NaN</td>\n",
       "      <td>NaN</td>\n",
       "      <td>NaN</td>\n",
       "      <td>NaN</td>\n",
       "      <td>NaN</td>\n",
       "      <td>{'id': '1', 'value': 'ТПП «Повхнефтегаз»', 'pa...</td>\n",
       "      <td>ТПП «Повхнефтегаз»</td>\n",
       "    </tr>\n",
       "    <tr>\n",
       "      <th>4</th>\n",
       "      <td>3</td>\n",
       "      <td>01.08.2023г.\\n12:30-14:30</td>\n",
       "      <td>58/5744\\nВать-Еганское \\nКульжанов А.А</td>\n",
       "      <td>ООО\\n\"Мастернефть-Сервис\"\\nЦКРС\\nБр.№26\\nКудря...</td>\n",
       "      <td>КР / Извлечение пакера из скважины после авари...</td>\n",
       "      <td>Проведена проверка  технологического процесса:...</td>\n",
       "      <td>NaN</td>\n",
       "      <td>Работы по скважине вести в соответствие с треб...</td>\n",
       "      <td>Запись в вахтовом журнале</td>\n",
       "      <td>NaN</td>\n",
       "      <td>NaN</td>\n",
       "      <td>{'id': '1', 'value': 'ТПП «Повхнефтегаз»', 'pa...</td>\n",
       "      <td>ТПП «Повхнефтегаз»</td>\n",
       "    </tr>\n",
       "  </tbody>\n",
       "</table>\n",
       "</div>"
      ],
      "text/plain": [
       "  № п/п       Дата, время проверки  \\\n",
       "0     1  01.08.2023г.\\n08:30-10:00   \n",
       "1   NaN                        NaN   \n",
       "2     2  01.08.2023г.\\n10:30-12:00   \n",
       "3   NaN                        NaN   \n",
       "4     3  01.08.2023г.\\n12:30-14:30   \n",
       "\n",
       "  Куст/скважина Месторождение ГНО/Qж/Qн Супервайзер  \\\n",
       "0           160/8908\\nВать-Еганское \\nКульжанов А.А   \n",
       "1                                               NaN   \n",
       "2                 ЦИТС\\nВатьеганское\\nКульжанов А.А   \n",
       "3                                               NaN   \n",
       "4            58/5744\\nВать-Еганское \\nКульжанов А.А   \n",
       "\n",
       "                          Подрядчик № бригады Мастер  \\\n",
       "0  ООО\\n\"Мастернефть-Сервис\"\\nЦКРС\\nБр.№36\\nТимер...   \n",
       "1                                                NaN   \n",
       "2  \\nТехническое совещание по снижению объемов вы...   \n",
       "3                                                NaN   \n",
       "4  ООО\\n\"Мастернефть-Сервис\"\\nЦКРС\\nБр.№26\\nКудря...   \n",
       "\n",
       "  Технологические операции, выполняемые бригадой на момент проверки  \\\n",
       "0  КР / Освоение скважины под нагнетание.\\n \"КНГФ...                  \n",
       "1                                                NaN                  \n",
       "2                                                NaN                  \n",
       "3                                                NaN                  \n",
       "4  КР / Извлечение пакера из скважины после авари...                  \n",
       "\n",
       "            Выявленные нарушения по технологии работ  \\\n",
       "0  Проведена проверка  технологического процесса:...   \n",
       "1                                Мастер в бригаде.     \n",
       "2                                                NaN   \n",
       "3                                                NaN   \n",
       "4  Проведена проверка  технологического процесса:...   \n",
       "\n",
       "  Выявленные нарушения по ОТ,ПБ  \\\n",
       "0                           NaN   \n",
       "1                           NaN   \n",
       "2                           NaN   \n",
       "3                           NaN   \n",
       "4                           NaN   \n",
       "\n",
       "                           Предложения по устранению  \\\n",
       "0  Работы по скважине вести в соответствие с треб...   \n",
       "1                                                NaN   \n",
       "2                                                NaN   \n",
       "3                                                NaN   \n",
       "4  Работы по скважине вести в соответствие с треб...   \n",
       "\n",
       "               Принятые меры  \\\n",
       "0  Запись в вахтовом журнале   \n",
       "1                        NaN   \n",
       "2                        NaN   \n",
       "3                        NaN   \n",
       "4  Запись в вахтовом журнале   \n",
       "\n",
       "  Фотография выявленного нарушения, показания регистрирующих приборов  \\\n",
       "0                                                NaN                    \n",
       "1                                                NaN                    \n",
       "2                                                NaN                    \n",
       "3                                                NaN                    \n",
       "4                                                NaN                    \n",
       "\n",
       "  Примечание                                       zaknamestep1  \\\n",
       "0        NaN  {'id': '1', 'value': 'ТПП «Повхнефтегаз»', 'pa...   \n",
       "1        NaN  {'id': '1', 'value': 'ТПП «Повхнефтегаз»', 'pa...   \n",
       "2        NaN  {'id': '1', 'value': 'ТПП «Повхнефтегаз»', 'pa...   \n",
       "3        NaN  {'id': '1', 'value': 'ТПП «Повхнефтегаз»', 'pa...   \n",
       "4        NaN  {'id': '1', 'value': 'ТПП «Повхнефтегаз»', 'pa...   \n",
       "\n",
       "  zaknamestep1_content  \n",
       "0   ТПП «Повхнефтегаз»  \n",
       "1   ТПП «Повхнефтегаз»  \n",
       "2   ТПП «Повхнефтегаз»  \n",
       "3   ТПП «Повхнефтегаз»  \n",
       "4   ТПП «Повхнефтегаз»  "
      ]
     },
     "execution_count": 102,
     "metadata": {},
     "output_type": "execute_result"
    }
   ],
   "source": [
    "#Копируем датафрейм, чтобы не пришлось снова считывать файлы\n",
    "df_test = df_start.copy()\n",
    "df_test.head()"
   ]
  },
  {
   "cell_type": "code",
   "execution_count": 103,
   "id": "a245c6e5",
   "metadata": {
    "tags": []
   },
   "outputs": [
    {
     "data": {
      "text/plain": [
       "(18170, 13)"
      ]
     },
     "execution_count": 103,
     "metadata": {},
     "output_type": "execute_result"
    }
   ],
   "source": [
    "df_test.shape"
   ]
  },
  {
   "cell_type": "markdown",
   "id": "ef2f4a3c",
   "metadata": {},
   "source": [
    "### Подготовка данных"
   ]
  },
  {
   "cell_type": "code",
   "execution_count": 104,
   "id": "ac5a8818",
   "metadata": {
    "tags": []
   },
   "outputs": [],
   "source": [
    "# Убираем пропуски\n",
    "df_test = df_test.dropna(subset='№ п/п')"
   ]
  },
  {
   "cell_type": "code",
   "execution_count": 105,
   "id": "04cd6fb0",
   "metadata": {
    "tags": []
   },
   "outputs": [],
   "source": [
    "# Преобразуем столбец в числовой формат\n",
    "df_test['№ п/п'] = pd.to_numeric(df_test['№ п/п'], errors='coerce')\n",
    "\n",
    "# Убираем все значения, кроме чисел\n",
    "df_test['№ п/п'] = df_test['№ п/п'].apply(lambda x: x if pd.notnull(x) else None)"
   ]
  },
  {
   "cell_type": "code",
   "execution_count": 106,
   "id": "ab9d16c8",
   "metadata": {
    "tags": []
   },
   "outputs": [],
   "source": [
    "# Опять убираем пропуски после удаления ненужных строк\n",
    "df_test = df_test.dropna(subset='№ п/п')"
   ]
  },
  {
   "cell_type": "code",
   "execution_count": 107,
   "id": "0f6432d1",
   "metadata": {
    "tags": []
   },
   "outputs": [],
   "source": [
    "# Убираем лишний столбец\n",
    "df_test = df_test.drop(columns='№ п/п')"
   ]
  },
  {
   "cell_type": "code",
   "execution_count": 108,
   "id": "37237fa1",
   "metadata": {
    "tags": []
   },
   "outputs": [],
   "source": [
    "# Заменяем пропуски на нужные строки\n",
    "df_test[\"Выявленные нарушения по ОТ,ПБ\"] = df_test[\"Выявленные нарушения по ОТ,ПБ\"].dropna()"
   ]
  },
  {
   "cell_type": "code",
   "execution_count": 109,
   "id": "0e3fe379",
   "metadata": {
    "tags": []
   },
   "outputs": [],
   "source": [
    "# Ищем нужные нам типы актов \n",
    "df_test[\"Принятые меры\"] = df_test[\"Принятые меры\"].fillna(\"Отсутствуют\")\n",
    "df_test = df_test[df_test['Принятые меры'].str.contains('предп', case=False)]"
   ]
  },
  {
   "cell_type": "code",
   "execution_count": 110,
   "id": "4416c07d",
   "metadata": {
    "tags": []
   },
   "outputs": [],
   "source": [
    "# Преобразуем дату в строку\n",
    "df_test = df_test.dropna(subset='Дата, время проверки')\n",
    "df_test[\"Дата, время проверки\"] = df_test[\"Дата, время проверки\"].apply(lambda x: str(x) if x is not None else x)"
   ]
  },
  {
   "cell_type": "code",
   "execution_count": 111,
   "id": "e8bd88ee",
   "metadata": {
    "scrolled": true,
    "tags": []
   },
   "outputs": [
    {
     "data": {
      "text/plain": [
       "(442, 12)"
      ]
     },
     "execution_count": 111,
     "metadata": {},
     "output_type": "execute_result"
    }
   ],
   "source": [
    "df_test.shape"
   ]
  },
  {
   "cell_type": "code",
   "execution_count": 112,
   "id": "5f7aa270",
   "metadata": {
    "tags": []
   },
   "outputs": [],
   "source": [
    "# Работаем с новым датафреймом и преоборазуем дату\n",
    "def convert_to_datetime(s):\n",
    "    try:\n",
    "        s = s.strip()\n",
    "        full_date = s.split(\"г\")\n",
    "        if len(full_date) == 2:\n",
    "            date_part, other = s.split(\"г\")\n",
    "            end_time = other.strip().split(\"-\")[1].rstrip(\".\")\n",
    "            if \".\" in end_time:\n",
    "                end_time = end_time.replace('.', ':')\n",
    "            if end_time == \"24:00\":\n",
    "                end_time = \"00:00\"\n",
    "        elif len(full_date) == 1:\n",
    "            date_part, other = re.split(r\"\\s+\", s)\n",
    "            end_time = other.strip().split(\"-\")[1].rstrip(\".\")\n",
    "            if \".\" in end_time:\n",
    "                end_time = end_time.replace('.', ':')\n",
    "            if end_time == \"24:00\":\n",
    "                end_time = \"00:00\"\n",
    "        \n",
    "        datetime_str = f\"{date_part} {end_time}\"\n",
    "\n",
    "        return pd.to_datetime(datetime_str, format='%d.%m.%Y %H:%M')\n",
    "    except Exception as e:\n",
    "        return None\n",
    "\n",
    "df_test[\"Дата\"] = df_test[\"Дата, время проверки\"].apply(convert_to_datetime)"
   ]
  },
  {
   "cell_type": "code",
   "execution_count": 113,
   "id": "290b43c4-55a4-4aca-af4b-825f6b036c03",
   "metadata": {},
   "outputs": [
    {
     "data": {
      "text/plain": [
       "2"
      ]
     },
     "execution_count": 113,
     "metadata": {},
     "output_type": "execute_result"
    }
   ],
   "source": [
    "df_test[\"Дата\"].isnull().sum()"
   ]
  },
  {
   "cell_type": "code",
   "execution_count": 114,
   "id": "55c8f0d0",
   "metadata": {
    "tags": []
   },
   "outputs": [],
   "source": [
    "# Ищем ФИО супервайзера\n",
    "def convert_to_fio(row):\n",
    "    try:\n",
    "        pattern = r\"[А-ЯЁ][а-яё]+\\s+[А-ЯЁ]\\.[А-ЯЁ]\"\n",
    "        families = re.findall(pattern, row)\n",
    "        # if not families:\n",
    "        #     s_with_space = re.sub(r'([а-яА-Я]+)([А-Я])', r'\\1 \\2', row)\n",
    "        #     return s_with_space\n",
    "        return families[0]\n",
    "        \n",
    "    except:\n",
    "        # print(row)\n",
    "        pass\n",
    "df_test[\"ФИО супервайзера\"] = df_test[\"Куст/скважина Месторождение ГНО/Qж/Qн Супервайзер\"].apply(convert_to_fio)"
   ]
  },
  {
   "cell_type": "code",
   "execution_count": 115,
   "id": "a2025676-0404-4f4c-82bf-35fd60812e6a",
   "metadata": {},
   "outputs": [
    {
     "data": {
      "text/plain": [
       "0"
      ]
     },
     "execution_count": 115,
     "metadata": {},
     "output_type": "execute_result"
    }
   ],
   "source": [
    "df_test[\"ФИО супервайзера\"].isnull().sum()"
   ]
  },
  {
   "cell_type": "code",
   "execution_count": 116,
   "id": "1990c327",
   "metadata": {
    "tags": []
   },
   "outputs": [],
   "source": [
    "# Ищем куст\n",
    "def convert_to_kust(row):\n",
    "    try:\n",
    "        pattern = r\"\\b(\\d+\\w*)\"\n",
    "        kust = re.search(pattern, row).group(0)\n",
    "        return kust\n",
    "    except:\n",
    "        pass\n",
    "\n",
    "df_test[\"Куст\"] = df_test[\"Куст/скважина Месторождение ГНО/Qж/Qн Супервайзер\"].apply(convert_to_kust)"
   ]
  },
  {
   "cell_type": "code",
   "execution_count": 117,
   "id": "b3426d87-358e-490e-98e2-7e710105c0c8",
   "metadata": {},
   "outputs": [
    {
     "data": {
      "text/plain": [
       "0"
      ]
     },
     "execution_count": 117,
     "metadata": {},
     "output_type": "execute_result"
    }
   ],
   "source": [
    "df_test[\"Куст\"].isnull().sum()"
   ]
  },
  {
   "cell_type": "code",
   "execution_count": 118,
   "id": "ff788e05",
   "metadata": {
    "tags": []
   },
   "outputs": [],
   "source": [
    "# Ищем скважину\n",
    "def convert_to_well(row):\n",
    "    try:\n",
    "        pattern = r\"/\\b(\\d+\\w*)\"\n",
    "        well = re.search(pattern, row).group(1)\n",
    "        return well\n",
    "    except:\n",
    "        return \"\"\n",
    "\n",
    "df_test[\"Скважина\"] = df_test[\"Куст/скважина Месторождение ГНО/Qж/Qн Супервайзер\"].apply(convert_to_well)"
   ]
  },
  {
   "cell_type": "code",
   "execution_count": 119,
   "id": "02a756b4-899e-4e7a-b57a-fd902d259129",
   "metadata": {},
   "outputs": [
    {
     "data": {
      "text/plain": [
       "0"
      ]
     },
     "execution_count": 119,
     "metadata": {},
     "output_type": "execute_result"
    }
   ],
   "source": [
    "df_test[\"Скважина\"].isnull().sum()"
   ]
  },
  {
   "cell_type": "code",
   "execution_count": 120,
   "id": "8d726bff",
   "metadata": {
    "tags": []
   },
   "outputs": [],
   "source": [
    "# Ищем месторождение\n",
    "def convert_to_fields(row):\n",
    "    try:\n",
    "        pattern = r\"\\b[\\w-]*(ое|овх|ун|ого|ор)\\b\"\n",
    "        field = re.search(pattern, row).group(0)\n",
    "        return field    \n",
    "    except:\n",
    "        return \"\"\n",
    "    \n",
    "df_test[\"Месторождение\"] = df_test[\"Куст/скважина Месторождение ГНО/Qж/Qн Супервайзер\"].apply(convert_to_fields)"
   ]
  },
  {
   "cell_type": "code",
   "execution_count": 121,
   "id": "28dde5b6-5170-4769-9920-68118396af63",
   "metadata": {},
   "outputs": [
    {
     "data": {
      "text/plain": [
       "0"
      ]
     },
     "execution_count": 121,
     "metadata": {},
     "output_type": "execute_result"
    }
   ],
   "source": [
    "df_test[\"Месторождение\"].isnull().sum()"
   ]
  },
  {
   "cell_type": "code",
   "execution_count": 122,
   "id": "7482e229",
   "metadata": {
    "tags": []
   },
   "outputs": [],
   "source": [
    "# Сопоставляем месторождения с теми, что есть в базе данных\n",
    "def convert_to_fields_names(row):\n",
    "    choices_fields = [{\"value\": \"Абино-Украинское\"}, {\"value\": \"Абрамовское\"}, {\"value\": \"Аганское\"}, {\"value\": \"Акташское\"}, {\"value\": \"Алексеевская\"}, {\"value\": \"Алисовское\"}, {\"value\": \"Амдермаельское\"}, {\"value\": \"Андреевское\"}, {\"value\": \"Антиповско-Балыклейская\"}, {\"value\": \"Аригольское\"}, {\"value\": \"Аспинское\"}, {\"value\": \"Атамановское\"}, {\"value\": \"Ачимовское\"}, {\"value\": \"Ашальчинское\"}, {\"value\": \"Баганское\"}, {\"value\": \"Баклановское\"}, {\"value\": \"Барсуковское\"}, {\"value\": \"Батырбайское\"}, {\"value\": \"Бахиловское\"}, {\"value\": \"Бахиловское\"}, {\"value\": \"Бахтияровское\"}, {\"value\": \"Бельское\"}, {\"value\": \"Береговое\"}, {\"value\": \"Бобровское\"}, {\"value\": \"Бобровское\"}, {\"value\": \"Бобровское\"}, {\"value\": \"Боголюбовское\"}, {\"value\": \"Больше-Каменское\"}, {\"value\": \"Бузулукское\"}, {\"value\": \"В-Волостновское\"}, {\"value\": \"В-боголюбовское\"}, {\"value\": \"В. Сарутаюсское\"}, {\"value\": \"В.Капитоновское\"}, {\"value\": \"В.Малаховское\"}, {\"value\": \"Ван еганское\"}, {\"value\": \"Ван-Еганское\"}, {\"value\": \"Ван-Еганское бур.\"}, {\"value\": \"Ванкор\"}, {\"value\": \"Варьёганское\"}, {\"value\": \"Ватинское\"}, {\"value\": \"Ватинское\"}, {\"value\": \"Ватинское\"}, {\"value\": \"Вать-Ёганское\"}, {\"value\": \"Вать-Еганское\"}, {\"value\": \"Ватьеганское\"}, {\"value\": \"Вахитовское\"}, {\"value\": \"Верхнеколик-Еганское\"}, {\"value\": \"Верхнеколик-Еганское\"}, {\"value\": \"Видное\"}, {\"value\": \"Викторинское\"}, {\"value\": \"Винниковское\"}, {\"value\": \"Вишневское\"}, {\"value\": \"Возей\"}, {\"value\": \"Возейское\"}, {\"value\": \"Волостновское\"}, {\"value\": \"Воробьевское\"}, {\"value\": \"Восточно- Мастерьельское\"}, {\"value\": \"Восточно-Икилорское\"}, {\"value\": \"Восточно-Икилорское\"}, {\"value\": \"Восточно-Кустовое\"}, {\"value\": \"Восточно-Макаровское\"}, {\"value\": \"Восточно-Перевальное\"}, {\"value\": \"Восточно-Перевальное\"}, {\"value\": \"Восточно-Правдинское\"}, {\"value\": \"Восточно-Придорожное\"}, {\"value\": \"Восточно-Придорожное\"}, {\"value\": \"Восточно-Придорожное\"}, {\"value\": \"Восточно-Пякутинское\"}, {\"value\": \"Восточно-Сарутаюское\"}, {\"value\": \"Восточно-Сургутское\"}, {\"value\": \"Восточно-Токайское\"}, {\"value\": \"Восточно-Ягунское\"}, {\"value\": \"Восточнро-Придорожное\"}, {\"value\": \"Встречное\"}, {\"value\": \"Вынгаяхинское\"}, {\"value\": \"Гаршинское\"}, {\"value\": \"Герасимовское\"}, {\"value\": \"Геркулесовское\"}, {\"value\": \"Гондыревское\"}, {\"value\": \"Горное\"}, {\"value\": \"Графское\"}, {\"value\": \"Даниловское\"}, {\"value\": \"Демаельская\"}, {\"value\": \"Довыдовское\"}, {\"value\": \"Дозорцевское\"}, {\"value\": \"Долговское\"}, {\"value\": \"Долговское\"}, {\"value\": \"Долговское\"}, {\"value\": \"Дон-Сыртовское\"}, {\"value\": \"Донская\"}, {\"value\": \"Дороховское\"}, {\"value\": \"Дружное\"}, {\"value\": \"Дружное\"}, {\"value\": \"Е.Зыковское\"}, {\"value\": \"Енапаевское\"}, {\"value\": \"Енорусскинское\"}, {\"value\": \"Етыпуровское\"}, {\"value\": \"Жилинское\"}, {\"value\": \"Журавское\"}, {\"value\": \"Загорское\"}, {\"value\": \"Залесское\"}, {\"value\": \"Зап-Угутское\"}, {\"value\": \"Зап-Усть -Былыкское\"}, {\"value\": \"Западно-Асомкинское\"}, {\"value\": \"Западно-Бимское\"}, {\"value\": \"Западно-Варьёганское\"}, {\"value\": \"Западно-Икилорское\"}, {\"value\": \"Западно-Катыльгинское\"}, {\"value\": \"Западно-Кулагинское\"}, {\"value\": \"Западно-Малобалыкское\"}, {\"value\": \"Западно-Пурпейское\"}, {\"value\": \"Западно-Степановское\"}, {\"value\": \"Западно-Тугровское\"}, {\"value\": \"Западно-Эргинское\"}, {\"value\": \"Западное Сюрхаратинское\"}, {\"value\": \"Западный Могутлор\"}, {\"value\": \"Зимнее\"}, {\"value\": \"Ивановское\"}, {\"value\": \"Икилорское\"}, {\"value\": \"Икилорское\"}, {\"value\": \"Ильичевское\"}, {\"value\": \"Имилорское\"}, {\"value\": \"Инзырейское\"}, {\"value\": \"Ининское\"}, {\"value\": \"Ининское\"}, {\"value\": \"Ипатское\"}, {\"value\": \"Ишуевское\"}, {\"value\": \"Казыгашевское\"}, {\"value\": \"Калиннинковское\"}, {\"value\": \"Калмиярское\"}, {\"value\": \"Камеликское\"}, {\"value\": \"Каменское\"}, {\"value\": \"Каменское\"}, {\"value\": \"Кетовское\"}, {\"value\": \"Кечимовское\"}, {\"value\": \"Киндельское\"}, {\"value\": \"Кинзельское\"}, {\"value\": \"Киняминское\"}, {\"value\": \"Кичкасское\"}, {\"value\": \"Киязлинское\"}, {\"value\": \"Ключевое\"}, {\"value\": \"Ковыктинское ГКМ\"}, {\"value\": \"Кодяковское\"}, {\"value\": \"Колвинское\"}, {\"value\": \"Командишорское\"}, {\"value\": \"Комсомольское\"}, {\"value\": \"Кондинское\"}, {\"value\": \"Корниловское\"}, {\"value\": \"Кочевское\"}, {\"value\": \"Кочевское\"}, {\"value\": \"Кошильское\"}, {\"value\": \"Крайнее\"}, {\"value\": \"Крапивинское\"}, {\"value\": \"Красное\"}, {\"value\": \"Красноленинское\"}, {\"value\": \"Красноленинское\"}, {\"value\": \"Краснонивское\"}, {\"value\": \"Красноярско-Куединское\"}, {\"value\": \"Красноярское\"}, {\"value\": \"Кристальное\"}, {\"value\": \"Крузенштернское\"}, {\"value\": \"Кузоваткинское\"}, {\"value\": \"Кукуштанское\"}, {\"value\": \"Кулагинское\"}, {\"value\": \"Курманаевское\"}, {\"value\": \"Кустовое\"}, {\"value\": \"Кустовое\"}, {\"value\": \"Кутулукское\"}, {\"value\": \"Куюмбинское\"}, {\"value\": \"Кыртаельское\"}, {\"value\": \"Кэралайское\"}, {\"value\": \"Лабаганское\"}, {\"value\": \"Лас-Еганское\"}, {\"value\": \"Лачаель\"}, {\"value\": \"Лебяжинское\"}, {\"value\": \"Лебяжинское\"}, {\"value\": \"Леккерское\"}, {\"value\": \"Лекхарьягинское\"}, {\"value\": \"Лесное\"}, {\"value\": \"Лобановское\"}, {\"value\": \"Локосовское\"}, {\"value\": \"Луговое\"}, {\"value\": \"Луньвожпальское\"}, {\"value\": \"Лыаельское\"}, {\"value\": \"Мало-Балыкское\"}, {\"value\": \"Малобалыкское\"}, {\"value\": \"Мамалаевское\"}, {\"value\": \"Мамонтовское\"}, {\"value\": \"Мастерьельское\"}, {\"value\": \"Мегионское\"}, {\"value\": \"Мельниковское\"}, {\"value\": \"Мензелинское\"}, {\"value\": \"Минибаевское\"}, {\"value\": \"Моргуновское\"}, {\"value\": \"Мортымья-Тетеревское\"}, {\"value\": \"Мортымья-Тетеревское\"}, {\"value\": \"Мортымья-Тетеревское\"}, {\"value\": \"Московцева\"}, {\"value\": \"Москудьинское\"}, {\"value\": \"Мушакское\"}, {\"value\": \"Мыхпайское\"}, {\"value\": \"Мядсейское\"}, {\"value\": \"Н-Кудренское\"}, {\"value\": \"Н-Любимовское\"}, {\"value\": \"Надейю\"}, {\"value\": \"Натальинское\"}, {\"value\": \"Натальинское\"}, {\"value\": \"Нерутынское\"}, {\"value\": \"Нивагальское\"}, {\"value\": \"Ново-Боголюбовское\"}, {\"value\": \"Ново-Дмитриевское\"}, {\"value\": \"Ново-Жедринское\"}, {\"value\": \"Ново-Землянское\"}, {\"value\": \"Ново-Малаховское\"}, {\"value\": \"Ново-Покурское\"}, {\"value\": \"Ново-Пурпейское\"}, {\"value\": \"Ново-Федоровское\"}, {\"value\": \"Новокрасинская\"}, {\"value\": \"Новомостовское\"}, {\"value\": \"Новоортъягунское\"}, {\"value\": \"Новосибирское\"}, {\"value\": \"Нонг-Еганское\"}, {\"value\": \"Ольгинское\"}, {\"value\": \"Ольховское\"}, {\"value\": \"Ольховское\"}, {\"value\": \"Омбинское\"}, {\"value\": \"Орехо-Ермаковское\"}, {\"value\": \"Орехово-Ермаковское\"}, {\"value\": \"Орехово-Ермаковское\"}, {\"value\": \"Островное\"}, {\"value\": \"Ошское\"}, {\"value\": \"П.Сорочинское\"}, {\"value\": \"Павловское\"}, {\"value\": \"Памятно-Сасовское\"}, {\"value\": \"Пачгинское\"}, {\"value\": \"Пашнинское\"}, {\"value\": \"Первомайское\"}, {\"value\": \"Перевозное\"}, {\"value\": \"Пермяковское\"}, {\"value\": \"Петелинское\"}, {\"value\": \"Пихтовое\"}, {\"value\": \"Пихтовское\"}, {\"value\": \"Пихтовское\"}, {\"value\": \"Повховское\"}, {\"value\": \"Повховское\"}, {\"value\": \"Пожвинское\"}, {\"value\": \"Покачевское\"}, {\"value\": \"Покомасовское\"}, {\"value\": \"Покрово-Сорочинское\"}, {\"value\": \"Покровское\"}, {\"value\": \"Потанай-Картопьинское\"}, {\"value\": \"Поточное\"}, {\"value\": \"Правдинское\"}, {\"value\": \"Правдинское\"}, {\"value\": \"Придорожное\"}, {\"value\": \"Пример месторождения\"}, {\"value\": \"Приобское\"}, {\"value\": \"Приобское\"}, {\"value\": \"Приразломное\"}, {\"value\": \"Приразломное\"}, {\"value\": \"Присклоновое\"}, {\"value\": \"Присклоновое\"}, {\"value\": \"Пробное\"}, {\"value\": \"Пронькинское\"}, {\"value\": \"Пыжельское\"}, {\"value\": \"Пякяхинское\"}, {\"value\": \"Р-Тевлинское\"}, {\"value\": \"Р/Конновское\"}, {\"value\": \"Равенское\"}, {\"value\": \"Равенское\"}, {\"value\": \"Радовское\"}, {\"value\": \"Рассохинское\"}, {\"value\": \"Расьюское\"}, {\"value\": \"Речное\"}, {\"value\": \"Ржавское\"}, {\"value\": \"Родинское\"}, {\"value\": \"Родниковское\"}, {\"value\": \"Романовское\"}, {\"value\": \"Рославльское\"}, {\"value\": \"Россихинское\"}, {\"value\": \"Росташинское\"}, {\"value\": \"Рыбкинское\"}, {\"value\": \"Рябиновое\"}, {\"value\": \"С. Макарихинское\"}, {\"value\": \"С.Краснояровское\"}, {\"value\": \"С.Никольское\"}, {\"value\": \"Савиноборское\"}, {\"value\": \"Саврушинское\"}, {\"value\": \"Сакадинское\"}, {\"value\": \"Салымское\"}, {\"value\": \"Самодуровское\"}, {\"value\": \"Самотлорское\"}, {\"value\": \"Самотлорское 13\"}, {\"value\": \"Самотлорское 14\"}, {\"value\": \"Самотлорское 2\"}, {\"value\": \"Самотлорское 3\"}, {\"value\": \"Свободное\"}, {\"value\": \"Северный Баган\"}, {\"value\": \"Северный Ванкор\"}, {\"value\": \"Северо Губкинское\"}, {\"value\": \"Северо- Ипатское\"}, {\"value\": \"Северо-Варьеганское\"}, {\"value\": \"Северо-Варьёганское\"}, {\"value\": \"Северо-Губкинское\"}, {\"value\": \"Северо-Даниловское\"}, {\"value\": \"Северо-Конитлорское\"}, {\"value\": \"Северо-Кочевское\"}, {\"value\": \"Северо-Кочевское\"}, {\"value\": \"Северо-Ореховское\"}, {\"value\": \"Северо-Островное\"}, {\"value\": \"Северо-Покачевское\"}, {\"value\": \"Северо-Покровское\"}, {\"value\": \"Северо-Покурское\"}, {\"value\": \"Северо-Поточное\"}, {\"value\": \"Северо-Савиноборское\"}, {\"value\": \"Северо-Сарембой\"}, {\"value\": \"Северо-Хохряковское\"}, {\"value\": \"Северо-Янгтинское\"}, {\"value\": \"Скворцовское\"}, {\"value\": \"Слободское\"}, {\"value\": \"Случайное\"}, {\"value\": \"Солдатовское\"}, {\"value\": \"Солдатовское\"}, {\"value\": \"Солкинское\"}, {\"value\": \"Сорочинск-Никольское\"}, {\"value\": \"Сорочинско-Никольское\"}, {\"value\": \"Сосновское\"}, {\"value\": \"Софьинское\"}, {\"value\": \"Спиридоновское\"}, {\"value\": \"Средне - Балыкское\"}, {\"value\": \"Средне-Мичаельское\"}, {\"value\": \"Средне-Угутское\"}, {\"value\": \"Средне-Харьягинское\"}, {\"value\": \"Степноозерское\"}, {\"value\": \"Суборское\"}, {\"value\": \"Сугмутское\"}, {\"value\": \"Султан-Заглядинское\"}, {\"value\": \"Суторминское\"}, {\"value\": \"Сухаревское\"}, {\"value\": \"Сюрхаратинское\"}, {\"value\": \"Тагринское\"}, {\"value\": \"Тайлаковское\"}, {\"value\": \"Тананыкское\"}, {\"value\": \"Таращанское\"}, {\"value\": \"Тевлино-Русскинское\"}, {\"value\": \"Тевлинско-Русскинское\"}, {\"value\": \"Тединское\"}, {\"value\": \"Тепловское\"}, {\"value\": \"Тестовое\"}, {\"value\": \"Титова\"}, {\"value\": \"Тобойское\"}, {\"value\": \"Токское\"}, {\"value\": \"Толумское\"}, {\"value\": \"Торовейское\"}, {\"value\": \"Требса\"}, {\"value\": \"Трубецкое\"}, {\"value\": \"Турчаниновское\"}, {\"value\": \"Угутское\"}, {\"value\": \"Узунское\"}, {\"value\": \"Умирское\"}, {\"value\": \"Умсейское\"}, {\"value\": \"Урьевское\"}, {\"value\": \"Усинское\"}, {\"value\": \"Усинское\"}, {\"value\": \"Усть-Балыкское\"}, {\"value\": \"Усть-Котухтинское\"}, {\"value\": \"Устьевое\"}, {\"value\": \"Федотовская площадь\"}, {\"value\": \"Хальмерпоютинское\"}, {\"value\": \"Хантос\"}, {\"value\": \"Харьягинское\"}, {\"value\": \"Хасырейское\"}, {\"value\": \"Хыльчаюское\"}, {\"value\": \"Чаяндинское\"}, {\"value\": \"Чекалдинское\"}, {\"value\": \"Чернушинское\"}, {\"value\": \"Черпаю\"}, {\"value\": \"Чистинное\"}, {\"value\": \"Чишминская\"}, {\"value\": \"Чумпасское\"}, {\"value\": \"Чупальское\"}, {\"value\": \"Чураковское\"}, {\"value\": \"Шароновское\"}, {\"value\": \"Шейгурчинское\"}, {\"value\": \"Школьное\"}, {\"value\": \"Шулаевское\"}, {\"value\": \"Экилорское\"}, {\"value\": \"Энтельское\"}, {\"value\": \"Ю-Выинтойское\"}, {\"value\": \"Ю-Султангуловское\"}, {\"value\": \"Ю-Урьевское\"}, {\"value\": \"Ю.Сперидоновское\"}, {\"value\": \"Юбилейное\"}, {\"value\": \"Южинское\"}, {\"value\": \"Южно Ипатское\"}, {\"value\": \"Южно Лыжского\"}, {\"value\": \"Южно Юрьяхинское\"}, {\"value\": \"Южно--Ягунское\"}, {\"value\": \"Южно-Аганское\"}, {\"value\": \"Южно-Баганское\"}, {\"value\": \"Южно-Балыкское\"}, {\"value\": \"Южно-Выинтойское\"}, {\"value\": \"Южно-Выйнтой\"}, {\"value\": \"Южно-Киняминское\"}, {\"value\": \"Южно-Кустовое\"}, {\"value\": \"Южно-Островное\"}, {\"value\": \"Южно-Покамасовское\"}, {\"value\": \"Южно-Покачевское\"}, {\"value\": \"Южно-Приобское\"}, {\"value\": \"Южно-Тарасовское\"}, {\"value\": \"Южно-Тарасовское\"}, {\"value\": \"Южно-Ягунское\"}, {\"value\": \"Южно-Ягунское\"}, {\"value\": \"Южно-арасовское\"}, {\"value\": \"Южчно-Кустовое\"}, {\"value\": \"Юрхаровское\"}, {\"value\": \"Юрчукское\"}, {\"value\": \"Ямбургское\"}, {\"value\": \"Ярегское\"}, {\"value\": \"Яреюское\"}, {\"value\": \"Яркое\"}, {\"value\": \"без названия\"}, {\"value\": \"им. А.Титова\"}, {\"value\": \"им. Алабушина\"}, {\"value\": \"им. Московцева\"}, {\"value\": \"им. Р. Требса\"}, {\"value\": \"им. Россихина\"}, {\"value\": \"скв 29956 залежь 221\"}]\n",
    "    try:\n",
    "        for field in choices_fields:\n",
    "            if row in field[\"value\"]:\n",
    "                return field[\"value\"]\n",
    "    except:\n",
    "        pass\n",
    "    \n",
    "df_test[\"Месторождение\"] = df_test[\"Месторождение\"].apply(lambda x: convert_to_fields_names(x))"
   ]
  },
  {
   "cell_type": "code",
   "execution_count": 123,
   "id": "4afc70df-dc14-4000-b1e7-0d040173cd9f",
   "metadata": {},
   "outputs": [
    {
     "data": {
      "text/plain": [
       "1"
      ]
     },
     "execution_count": 123,
     "metadata": {},
     "output_type": "execute_result"
    }
   ],
   "source": [
    "df_test[\"Месторождение\"].isnull().sum()"
   ]
  },
  {
   "cell_type": "code",
   "execution_count": 124,
   "id": "d8ac1779",
   "metadata": {
    "tags": []
   },
   "outputs": [],
   "source": [
    "# Ищем подрядчика \n",
    "def convert_to_podr(row):\n",
    "    choices_podr = [{\"вэлл\": \"ООО «ВэллСервис»\", \"велл\": \"ООО «ВэллСервис»\", \"бке\": \"ООО «БКЕ» ФРС\", \"мастернефть\": \"ООО «Мастернефтьсервис»\", \"инс\": \"ООО «Мастернефтьсервис»\", \\\n",
    "                    \"евразия\": \"ООО «БКЕ» ФРС\", \"мстернефть\": \"ООО «Мастернефтьсервис»\", \"мастер-нефть\": \"ООО «Мастернефтьсервис»\", \\\n",
    "                    \"импульс-нефтесервис\": \"ООО «Мастернефтьсервис»\", \"инпус-нефтесервис\": \"ООО «Мастернефтьсервис»\", \"импульс нефтесервис\": \"ООО «Мастернефтьсервис»\", \\\n",
    "                    \"мастер - нефть\": \"ООО «Мастернефтьсервис»\", \"«мастернефтесервис»\": \"ООО «Мастернефтьсервис»\", \"мастер нефть\":\"ООО «Мастернефтьсервис»\"}]\n",
    "    try:\n",
    "        if row:\n",
    "            row_cleaned = re.sub(r'\\s+', ' ', row.lower()) # Удаление лишних пробелов и приведение к нижнему регистру\n",
    "            ans = []\n",
    "            for i in choices_podr:\n",
    "                for j in i.keys():\n",
    "                    if j in row_cleaned:\n",
    "                        ans.append(i[j])\n",
    "                        return i[j]\n",
    "            # if not ans:\n",
    "            #     print(row)\n",
    "    except:\n",
    "        pass\n",
    "        \n",
    "\n",
    "df_test[\"Наименование подрядчика\"] = df_test[\"Подрядчик № бригады Мастер\"].apply(convert_to_podr)"
   ]
  },
  {
   "cell_type": "code",
   "execution_count": 125,
   "id": "bd5b5448-e7f0-49dd-a035-2c82d5b1a42d",
   "metadata": {},
   "outputs": [
    {
     "data": {
      "text/plain": [
       "6"
      ]
     },
     "execution_count": 125,
     "metadata": {},
     "output_type": "execute_result"
    }
   ],
   "source": [
    "df_test[\"Наименование подрядчика\"].isnull().sum()"
   ]
  },
  {
   "cell_type": "code",
   "execution_count": 126,
   "id": "64135214",
   "metadata": {
    "tags": []
   },
   "outputs": [],
   "source": [
    "# Ищем ФИО мастера бригады\n",
    "def convert_to_master(row):\n",
    "    try:\n",
    "        pattern = r\"[А-ЯЁ][а-яё]+\\s+[А-ЯЁ]\\.[А-ЯЁ]\\.|[А-ЯЁ][а-яё]+\\s+[А-ЯЁ]\\.|[А-ЯЁ][а-яё]+\\s+[А-ЯЁ]\"\n",
    "        families = re.findall(pattern, row)\n",
    "        return families[0]\n",
    "    except:\n",
    "#        print(row)\n",
    "        return \"\"\n",
    "    \n",
    "df_test[\"Мастер бригады\"] = df_test[\"Подрядчик № бригады Мастер\"].apply(convert_to_master)"
   ]
  },
  {
   "cell_type": "code",
   "execution_count": 127,
   "id": "c3ac93c7-8d13-4ea6-8189-901e13e933b2",
   "metadata": {},
   "outputs": [
    {
     "data": {
      "text/plain": [
       "0"
      ]
     },
     "execution_count": 127,
     "metadata": {},
     "output_type": "execute_result"
    }
   ],
   "source": [
    "df_test[\"Мастер бригады\"].isnull().sum()"
   ]
  },
  {
   "cell_type": "code",
   "execution_count": 128,
   "id": "02dece08",
   "metadata": {
    "tags": []
   },
   "outputs": [],
   "source": [
    "# Ищем номер бригады\n",
    "def extract_last_number(string):\n",
    "    try:\n",
    "        results = re.findall(r'\\s*№?\\s*(\\d+)', string, re.IGNORECASE)\n",
    "        return results[-1]  # Возвращаем последнее совпадение\n",
    "    except:\n",
    "        #print(string)\n",
    "        pass\n",
    "df_test[\"Номер бригады\"] = df_test[\"Подрядчик № бригады Мастер\"].apply(extract_last_number)"
   ]
  },
  {
   "cell_type": "code",
   "execution_count": 129,
   "id": "93e04b67-c70c-40a2-b763-ad9abd36af34",
   "metadata": {},
   "outputs": [
    {
     "data": {
      "text/plain": [
       "0"
      ]
     },
     "execution_count": 129,
     "metadata": {},
     "output_type": "execute_result"
    }
   ],
   "source": [
    "df_test[\"Номер бригады\"].isnull().sum()"
   ]
  },
  {
   "cell_type": "code",
   "execution_count": 130,
   "id": "3a1c9bfb",
   "metadata": {
    "tags": []
   },
   "outputs": [],
   "source": [
    "# Сбрасываем индекс\n",
    "df_test = df_test.reset_index(drop=True)"
   ]
  },
  {
   "cell_type": "code",
   "execution_count": 131,
   "id": "75a012db",
   "metadata": {
    "tags": []
   },
   "outputs": [],
   "source": [
    "# Переименовываем столбцы для удобства\n",
    "df_test = df_test.rename(columns={\n",
    "    \"Дата\": \"dateAkt\",\n",
    "    \"ФИО супервайзера\": \"superFIO\",\n",
    "    \"Мастер бригады\": \"MasterFIO\",\n",
    "    \"Скважина\": \"well\",\n",
    "    \"Номер бригады\": \"numBrigade\",\n",
    "    \"Месторождение\": \"field\",\n",
    "    \"Наименование подрядчика\": \"podrCompanystep1\",\n",
    "    \"Куст\": \"padstep1\",\n",
    "    \"Выявленные нарушения по ОТ,ПБ\": \"violations\",\n",
    "})"
   ]
  },
  {
   "cell_type": "code",
   "execution_count": 132,
   "id": "72c59ef3",
   "metadata": {
    "tags": []
   },
   "outputs": [],
   "source": [
    "# Преобразуем дату\n",
    "df_test['dateAkt'] = pd.to_datetime(df_test['dateAkt']).dt.strftime('%Y%m%dT%H:%M:%SZ')"
   ]
  },
  {
   "cell_type": "code",
   "execution_count": 133,
   "id": "b9f41002-aa17-412d-9b8e-40f0a9d2f5bb",
   "metadata": {},
   "outputs": [],
   "source": [
    "df_test = df_test[[\"dateAkt\", \"superFIO\", \"padstep1\", \"well\", \"field\", \"podrCompanystep1\", \\\n",
    "                   \"MasterFIO\", \"numBrigade\", \"violations\", \"zaknamestep1_content\", \"zaknamestep1\"]]"
   ]
  },
  {
   "cell_type": "code",
   "execution_count": 134,
   "id": "82f29ebf",
   "metadata": {
    "tags": []
   },
   "outputs": [
    {
     "data": {
      "text/plain": [
       "dateAkt                 2\n",
       "superFIO                0\n",
       "padstep1                0\n",
       "well                    0\n",
       "field                   1\n",
       "podrCompanystep1        6\n",
       "MasterFIO               0\n",
       "numBrigade              0\n",
       "violations              1\n",
       "zaknamestep1_content    0\n",
       "zaknamestep1            0\n",
       "dtype: int64"
      ]
     },
     "execution_count": 134,
     "metadata": {},
     "output_type": "execute_result"
    }
   ],
   "source": [
    "# Смотрим на кол-во пропусков\n",
    "df_test.isnull().sum()"
   ]
  },
  {
   "cell_type": "code",
   "execution_count": 135,
   "id": "49121aa9-68ed-4be9-9235-2ce0a901b52f",
   "metadata": {},
   "outputs": [],
   "source": [
    "#Удаляем пропуски\n",
    "df_test = df_test.dropna()"
   ]
  },
  {
   "cell_type": "code",
   "execution_count": 136,
   "id": "296da7c0",
   "metadata": {
    "tags": []
   },
   "outputs": [
    {
     "data": {
      "text/plain": [
       "(433, 11)"
      ]
     },
     "execution_count": 136,
     "metadata": {},
     "output_type": "execute_result"
    }
   ],
   "source": [
    "df_test.shape"
   ]
  },
  {
   "cell_type": "markdown",
   "id": "47c7f62a",
   "metadata": {},
   "source": [
    "### Подготка датафрейма для нарушений"
   ]
  },
  {
   "cell_type": "code",
   "execution_count": 137,
   "id": "3bab0186",
   "metadata": {
    "tags": []
   },
   "outputs": [],
   "source": [
    "df_test = df_test.reset_index(drop=True)"
   ]
  },
  {
   "cell_type": "code",
   "execution_count": 299,
   "id": "7f4350ed-26f5-43c1-8f2f-4b487256b07d",
   "metadata": {
    "scrolled": true,
    "tags": []
   },
   "outputs": [
    {
     "data": {
      "text/html": [
       "<div>\n",
       "<style scoped>\n",
       "    .dataframe tbody tr th:only-of-type {\n",
       "        vertical-align: middle;\n",
       "    }\n",
       "\n",
       "    .dataframe tbody tr th {\n",
       "        vertical-align: top;\n",
       "    }\n",
       "\n",
       "    .dataframe thead th {\n",
       "        text-align: right;\n",
       "    }\n",
       "</style>\n",
       "<table border=\"1\" class=\"dataframe\">\n",
       "  <thead>\n",
       "    <tr style=\"text-align: right;\">\n",
       "      <th></th>\n",
       "      <th>dateAkt</th>\n",
       "      <th>superFIO</th>\n",
       "      <th>padstep1</th>\n",
       "      <th>well</th>\n",
       "      <th>field</th>\n",
       "      <th>podrCompanystep1</th>\n",
       "      <th>MasterFIO</th>\n",
       "      <th>numBrigade</th>\n",
       "      <th>violations</th>\n",
       "      <th>zaknamestep1_content</th>\n",
       "      <th>zaknamestep1</th>\n",
       "    </tr>\n",
       "  </thead>\n",
       "  <tbody>\n",
       "    <tr>\n",
       "      <th>0</th>\n",
       "      <td>20230801T14:00:00Z</td>\n",
       "      <td>Марков А.С</td>\n",
       "      <td>581</td>\n",
       "      <td>8944</td>\n",
       "      <td>Ватьеганское</td>\n",
       "      <td>ООО «БКЕ» ФРС</td>\n",
       "      <td>Лохман А.В.</td>\n",
       "      <td>38</td>\n",
       "      <td>1 Настил рабочей площадки деформирован, имеют...</td>\n",
       "      <td>ТПП «Повхнефтегаз»</td>\n",
       "      <td>{'id': '1', 'value': 'ТПП «Повхнефтегаз»', 'pa...</td>\n",
       "    </tr>\n",
       "    <tr>\n",
       "      <th>1</th>\n",
       "      <td>20230801T15:30:00Z</td>\n",
       "      <td>Шайхутдинов А.А</td>\n",
       "      <td>1</td>\n",
       "      <td>1226</td>\n",
       "      <td>Повховское</td>\n",
       "      <td>ООО «Мастернефтьсервис»</td>\n",
       "      <td>Ибрагимов Р.Ф.</td>\n",
       "      <td>31</td>\n",
       "      <td>1. Некорректная работа видеофиксации (отключен...</td>\n",
       "      <td>ТПП «Повхнефтегаз»</td>\n",
       "      <td>{'id': '1', 'value': 'ТПП «Повхнефтегаз»', 'pa...</td>\n",
       "    </tr>\n",
       "    <tr>\n",
       "      <th>2</th>\n",
       "      <td>20230801T17:30:00Z</td>\n",
       "      <td>Шайхутдинов А.А</td>\n",
       "      <td>94б</td>\n",
       "      <td>829</td>\n",
       "      <td>Повховское</td>\n",
       "      <td>ООО «Мастернефтьсервис»</td>\n",
       "      <td>Цапков Н.А.</td>\n",
       "      <td>35</td>\n",
       "      <td>1. Отсутствует метка предельно допустимого дав...</td>\n",
       "      <td>ТПП «Повхнефтегаз»</td>\n",
       "      <td>{'id': '1', 'value': 'ТПП «Повхнефтегаз»', 'pa...</td>\n",
       "    </tr>\n",
       "    <tr>\n",
       "      <th>3</th>\n",
       "      <td>20230801T20:00:00Z</td>\n",
       "      <td>Ляпустин Д.В</td>\n",
       "      <td>166</td>\n",
       "      <td>3777</td>\n",
       "      <td>Повховское</td>\n",
       "      <td>ООО «Мастернефтьсервис»</td>\n",
       "      <td>Лютов С.А.</td>\n",
       "      <td>7</td>\n",
       "      <td>1. При работе \"Фрезерование\" оплетка шланга вы...</td>\n",
       "      <td>ТПП «Повхнефтегаз»</td>\n",
       "      <td>{'id': '1', 'value': 'ТПП «Повхнефтегаз»', 'pa...</td>\n",
       "    </tr>\n",
       "    <tr>\n",
       "      <th>4</th>\n",
       "      <td>20230802T01:00:00Z</td>\n",
       "      <td>Ляпустин Д.В</td>\n",
       "      <td>46б</td>\n",
       "      <td>4299</td>\n",
       "      <td>Повховское</td>\n",
       "      <td>ООО «Мастернефтьсервис»</td>\n",
       "      <td>Александров Е.В.</td>\n",
       "      <td>6</td>\n",
       "      <td>1. Бригада не укомплектована исправным комплек...</td>\n",
       "      <td>ТПП «Повхнефтегаз»</td>\n",
       "      <td>{'id': '1', 'value': 'ТПП «Повхнефтегаз»', 'pa...</td>\n",
       "    </tr>\n",
       "  </tbody>\n",
       "</table>\n",
       "</div>"
      ],
      "text/plain": [
       "              dateAkt         superFIO padstep1  well         field  \\\n",
       "0  20230801T14:00:00Z       Марков А.С      581  8944  Ватьеганское   \n",
       "1  20230801T15:30:00Z  Шайхутдинов А.А        1  1226    Повховское   \n",
       "2  20230801T17:30:00Z  Шайхутдинов А.А      94б   829    Повховское   \n",
       "3  20230801T20:00:00Z     Ляпустин Д.В      166  3777    Повховское   \n",
       "4  20230802T01:00:00Z     Ляпустин Д.В      46б  4299    Повховское   \n",
       "\n",
       "          podrCompanystep1         MasterFIO numBrigade  \\\n",
       "0            ООО «БКЕ» ФРС       Лохман А.В.         38   \n",
       "1  ООО «Мастернефтьсервис»    Ибрагимов Р.Ф.         31   \n",
       "2  ООО «Мастернефтьсервис»       Цапков Н.А.         35   \n",
       "3  ООО «Мастернефтьсервис»        Лютов С.А.          7   \n",
       "4  ООО «Мастернефтьсервис»  Александров Е.В.          6   \n",
       "\n",
       "                                          violations zaknamestep1_content  \\\n",
       "0   1 Настил рабочей площадки деформирован, имеют...   ТПП «Повхнефтегаз»   \n",
       "1  1. Некорректная работа видеофиксации (отключен...   ТПП «Повхнефтегаз»   \n",
       "2  1. Отсутствует метка предельно допустимого дав...   ТПП «Повхнефтегаз»   \n",
       "3  1. При работе \"Фрезерование\" оплетка шланга вы...   ТПП «Повхнефтегаз»   \n",
       "4  1. Бригада не укомплектована исправным комплек...   ТПП «Повхнефтегаз»   \n",
       "\n",
       "                                        zaknamestep1  \n",
       "0  {'id': '1', 'value': 'ТПП «Повхнефтегаз»', 'pa...  \n",
       "1  {'id': '1', 'value': 'ТПП «Повхнефтегаз»', 'pa...  \n",
       "2  {'id': '1', 'value': 'ТПП «Повхнефтегаз»', 'pa...  \n",
       "3  {'id': '1', 'value': 'ТПП «Повхнефтегаз»', 'pa...  \n",
       "4  {'id': '1', 'value': 'ТПП «Повхнефтегаз»', 'pa...  "
      ]
     },
     "execution_count": 299,
     "metadata": {},
     "output_type": "execute_result"
    }
   ],
   "source": [
    "df_new_vio = df_test.copy()\n",
    "df_new_vio.head()"
   ]
  },
  {
   "cell_type": "code",
   "execution_count": 239,
   "id": "65253894-8cb5-4346-9388-95a8b89386c0",
   "metadata": {},
   "outputs": [],
   "source": [
    "ans_name = []\n",
    "ans_ref = []\n",
    "for i in df_new_vio[\"violations\"]:\n",
    "    try:\n",
    "        pattern = r'\\([^()]*\\)|\\(.*\\)'\n",
    "        df_found = pd.DataFrame(re.findall(pattern, i))\n",
    "        pattern1 = r\"п\\.|п \\d|п№|п\\d|схема.*№|статья.*№|ст\\.\"\n",
    "        df_found = df_found[df_found[0].str.contains(pattern1)].reset_index(drop=True)\n",
    "        # print(df_found[0].to_list())\n",
    "        ans_ref.append(df_found[0].to_list())\n",
    "        other_text = re.split(r\"|\".join(df_found[0].to_list()).replace(\"(\",\"\\\\(\").replace(\")\",\"\\\\)\"),i)\n",
    "        filtered_values = [value for value in other_text if value.strip()]\n",
    "        ans_name.append(filtered_values)\n",
    "    except:\n",
    "        ans_ref.append([])\n",
    "        ans_name.append([])"
   ]
  },
  {
   "cell_type": "code",
   "execution_count": 241,
   "id": "8607e909-0d25-4649-97e8-68473988e312",
   "metadata": {},
   "outputs": [
    {
     "data": {
      "text/plain": [
       "433"
      ]
     },
     "execution_count": 241,
     "metadata": {},
     "output_type": "execute_result"
    }
   ],
   "source": [
    "len(ans_ref)"
   ]
  },
  {
   "cell_type": "code",
   "execution_count": 242,
   "id": "fe26e4fb-f89b-4807-bcdb-4dd70ea9037b",
   "metadata": {},
   "outputs": [],
   "source": [
    "df_new_vio[\"violations_name\"] = ans_name\n",
    "df_new_vio[\"violations_reference\"] = ans_ref"
   ]
  },
  {
   "cell_type": "code",
   "execution_count": 243,
   "id": "f18367c6-e25d-4925-b909-5c461e86cfef",
   "metadata": {},
   "outputs": [],
   "source": [
    "# Датафрейм для определения пунктов и добавления в tbl_contents\n",
    "df_excel = pd.read_excel(\"Information/finalWithChapters20240116afternoon - pred.xlsx\")\n",
    "df_excel = df_excel.dropna()\n",
    "df_excel = df_excel.rename(columns={\n",
    "    \"references\": \"reference\",\n",
    "    \"all_items_reference\": \"name_reference\"\n",
    "})\n",
    "df_excel[\"reference\"] = df_excel[\"reference\"].apply(lambda x: x.strip())\n",
    "df_excel[\"name_reference\"] = df_excel[\"name_reference\"].apply(lambda x: x.strip())\n",
    "df_excel = df_excel.astype({\"all_items_id\": \"int\"})"
   ]
  },
  {
   "cell_type": "code",
   "execution_count": 296,
   "id": "f0c0f554",
   "metadata": {
    "tags": []
   },
   "outputs": [],
   "source": [
    "df_new_copy = df_new_vio.copy()"
   ]
  },
  {
   "cell_type": "code",
   "execution_count": 246,
   "id": "4c78c4bc",
   "metadata": {
    "tags": []
   },
   "outputs": [
    {
     "data": {
      "text/plain": [
       "(433, 13)"
      ]
     },
     "execution_count": 246,
     "metadata": {},
     "output_type": "execute_result"
    }
   ],
   "source": [
    "df_new_copy.shape"
   ]
  },
  {
   "cell_type": "code",
   "execution_count": 247,
   "id": "e2cc47a7",
   "metadata": {
    "scrolled": true,
    "tags": []
   },
   "outputs": [],
   "source": [
    "# Ищем пункты в датафрейме df_excel\n",
    "for index, row in df_new_copy.iterrows():\n",
    "    updated_violations = []\n",
    "    violations = row[\"violations_name\"]\n",
    "    references = row[\"violations_reference\"]\n",
    "    \n",
    "    # Добавляем проверку на пустоту списков\n",
    "    if violations and references:\n",
    "        diff = len(violations) - len(references)\n",
    "        if diff > 0:\n",
    "            references.extend([references[-1]] * abs(diff))\n",
    "        elif diff < 0:\n",
    "            violations.extend([violations[-1]] * abs(diff))\n",
    "\n",
    "        for i in range(len(violations)):\n",
    "            violation = violations[i]\n",
    "            reference = references[i]\n",
    "\n",
    "            cnt = 0\n",
    "            for index_excel, row_excel in df_excel.iterrows():\n",
    "                if row_excel[\"name_reference\"] in reference:\n",
    "                    cnt += 1\n",
    "                    d = {\n",
    "                        \"riskLevel\": \"\",\n",
    "                        \"violationName\": violation,\n",
    "                        \"violationDescription\": [{\n",
    "                            \"id\": row_excel[\"all_items_id\"],\n",
    "                            \"reference\": row_excel[\"reference\"],\n",
    "                            \"shortText\": row_excel[\"short_text\"],\n",
    "                            \"normativeDocument\": row_excel[\"normative_document_name\"],\n",
    "                            \"normativeChapter\": row_excel[\"chaptername\"]\n",
    "                        }]\n",
    "                    }\n",
    "                    updated_violations.append(d)\n",
    "                    break\n",
    "\n",
    "    df_new_copy.at[index, \"violations\"] = updated_violations"
   ]
  },
  {
   "cell_type": "code",
   "execution_count": 249,
   "id": "17f915a6-fecc-40f5-807e-d5e61da5f8a1",
   "metadata": {},
   "outputs": [],
   "source": [
    "df_new_copy = df_new_copy[df_new_copy['violations'].apply(lambda x: len(x) != 0)]"
   ]
  },
  {
   "cell_type": "code",
   "execution_count": 250,
   "id": "339235c1-9c2a-4d99-a536-2786761dab7c",
   "metadata": {},
   "outputs": [],
   "source": [
    "df_new_copy = df_new_copy.drop(columns=[\"violations_name\", \"violations_reference\"])"
   ]
  },
  {
   "cell_type": "code",
   "execution_count": 251,
   "id": "fda68127-8459-441b-bdd3-dc8b242006cd",
   "metadata": {},
   "outputs": [
    {
     "data": {
      "text/plain": [
       "(403, 11)"
      ]
     },
     "execution_count": 251,
     "metadata": {},
     "output_type": "execute_result"
    }
   ],
   "source": [
    "df_new_copy.shape"
   ]
  },
  {
   "cell_type": "markdown",
   "id": "0bd9fe16",
   "metadata": {},
   "source": [
    "### Формирование поля content"
   ]
  },
  {
   "cell_type": "code",
   "execution_count": 252,
   "id": "29167d72",
   "metadata": {},
   "outputs": [],
   "source": [
    "df_new_for_content = df_new_copy.copy()"
   ]
  },
  {
   "cell_type": "code",
   "execution_count": 253,
   "id": "387a9a37",
   "metadata": {},
   "outputs": [],
   "source": [
    "from datetime import datetime\n",
    "from babel.dates import format_date, format_datetime, format_time\n",
    "\n",
    "def process_dates(date_str):\n",
    "    date_dt = datetime.strptime(date_str, \"%Y%m%dT%H:%M:%SZ\")\n",
    "    date_hour = date_dt.strftime(\"%H\")\n",
    "    date_minute = date_dt.strftime(\"%M\")\n",
    "    date_main = format_date(date_dt, \"dd MMMM yyyy\", locale='ru')\n",
    "    date_time = format_datetime(date_dt, \"HH:mm, dd.MM.yyyy\", locale='ru')\n",
    "    dateTime = format_datetime(date_dt, \"dd MMMM HH\", locale='ru')\n",
    "    dateTime2 = format_datetime(date_dt, \"dd/MMMM/yy\", locale='ru')\n",
    "    dateAktquotes = date_dt.strftime('%d %m')\n",
    "    dateAktchbegin = date_dt.strftime('%d')\n",
    "    return date_hour, date_minute, date_main, date_time, dateTime, dateTime2, dateAktquotes, dateAktchbegin\n",
    "\n",
    "df_new_for_content[['dateAktHour', 'dateAktMinute', 'dateAktmain', 'dateAkttime', 'dateTime', 'dateTime2', 'dateAktquotes', 'dateAktchbegin']] = df_new_for_content['dateAkt'].apply(\n",
    "    lambda x: pd.Series(process_dates(x))\n",
    ")"
   ]
  },
  {
   "cell_type": "code",
   "execution_count": 254,
   "id": "c3eaf012-f58f-485e-8c93-fc83bf41bb6c",
   "metadata": {},
   "outputs": [
    {
     "data": {
      "text/html": [
       "<div>\n",
       "<style scoped>\n",
       "    .dataframe tbody tr th:only-of-type {\n",
       "        vertical-align: middle;\n",
       "    }\n",
       "\n",
       "    .dataframe tbody tr th {\n",
       "        vertical-align: top;\n",
       "    }\n",
       "\n",
       "    .dataframe thead th {\n",
       "        text-align: right;\n",
       "    }\n",
       "</style>\n",
       "<table border=\"1\" class=\"dataframe\">\n",
       "  <thead>\n",
       "    <tr style=\"text-align: right;\">\n",
       "      <th></th>\n",
       "      <th>dateAkt</th>\n",
       "      <th>superFIO</th>\n",
       "      <th>padstep1</th>\n",
       "      <th>well</th>\n",
       "      <th>field</th>\n",
       "      <th>podrCompanystep1</th>\n",
       "      <th>MasterFIO</th>\n",
       "      <th>numBrigade</th>\n",
       "      <th>violations</th>\n",
       "      <th>zaknamestep1_content</th>\n",
       "      <th>zaknamestep1</th>\n",
       "      <th>dateAktHour</th>\n",
       "      <th>dateAktMinute</th>\n",
       "      <th>dateAktmain</th>\n",
       "      <th>dateAkttime</th>\n",
       "      <th>dateTime</th>\n",
       "      <th>dateTime2</th>\n",
       "      <th>dateAktquotes</th>\n",
       "      <th>dateAktchbegin</th>\n",
       "    </tr>\n",
       "  </thead>\n",
       "  <tbody>\n",
       "    <tr>\n",
       "      <th>0</th>\n",
       "      <td>20230801T14:00:00Z</td>\n",
       "      <td>Марков А.С</td>\n",
       "      <td>581</td>\n",
       "      <td>8944</td>\n",
       "      <td>Ватьеганское</td>\n",
       "      <td>ООО «БКЕ» ФРС</td>\n",
       "      <td>Лохман А.В.</td>\n",
       "      <td>38</td>\n",
       "      <td>[{'riskLevel': '', 'violationName': ' 1 Настил...</td>\n",
       "      <td>ТПП «Повхнефтегаз»</td>\n",
       "      <td>{'id': '1', 'value': 'ТПП «Повхнефтегаз»', 'pa...</td>\n",
       "      <td>14</td>\n",
       "      <td>00</td>\n",
       "      <td>01 августа 2023</td>\n",
       "      <td>14:00, 01.08.2023</td>\n",
       "      <td>01 августа 14</td>\n",
       "      <td>01/августа/23</td>\n",
       "      <td>01 08</td>\n",
       "      <td>01</td>\n",
       "    </tr>\n",
       "    <tr>\n",
       "      <th>1</th>\n",
       "      <td>20230801T15:30:00Z</td>\n",
       "      <td>Шайхутдинов А.А</td>\n",
       "      <td>1</td>\n",
       "      <td>1226</td>\n",
       "      <td>Повховское</td>\n",
       "      <td>ООО «Мастернефтьсервис»</td>\n",
       "      <td>Ибрагимов Р.Ф.</td>\n",
       "      <td>31</td>\n",
       "      <td>[{'riskLevel': '', 'violationName': '1. Некорр...</td>\n",
       "      <td>ТПП «Повхнефтегаз»</td>\n",
       "      <td>{'id': '1', 'value': 'ТПП «Повхнефтегаз»', 'pa...</td>\n",
       "      <td>15</td>\n",
       "      <td>30</td>\n",
       "      <td>01 августа 2023</td>\n",
       "      <td>15:30, 01.08.2023</td>\n",
       "      <td>01 августа 15</td>\n",
       "      <td>01/августа/23</td>\n",
       "      <td>01 08</td>\n",
       "      <td>01</td>\n",
       "    </tr>\n",
       "    <tr>\n",
       "      <th>2</th>\n",
       "      <td>20230801T17:30:00Z</td>\n",
       "      <td>Шайхутдинов А.А</td>\n",
       "      <td>94б</td>\n",
       "      <td>829</td>\n",
       "      <td>Повховское</td>\n",
       "      <td>ООО «Мастернефтьсервис»</td>\n",
       "      <td>Цапков Н.А.</td>\n",
       "      <td>35</td>\n",
       "      <td>[{'riskLevel': '', 'violationName': '1. Отсутс...</td>\n",
       "      <td>ТПП «Повхнефтегаз»</td>\n",
       "      <td>{'id': '1', 'value': 'ТПП «Повхнефтегаз»', 'pa...</td>\n",
       "      <td>17</td>\n",
       "      <td>30</td>\n",
       "      <td>01 августа 2023</td>\n",
       "      <td>17:30, 01.08.2023</td>\n",
       "      <td>01 августа 17</td>\n",
       "      <td>01/августа/23</td>\n",
       "      <td>01 08</td>\n",
       "      <td>01</td>\n",
       "    </tr>\n",
       "    <tr>\n",
       "      <th>3</th>\n",
       "      <td>20230801T20:00:00Z</td>\n",
       "      <td>Ляпустин Д.В</td>\n",
       "      <td>166</td>\n",
       "      <td>3777</td>\n",
       "      <td>Повховское</td>\n",
       "      <td>ООО «Мастернефтьсервис»</td>\n",
       "      <td>Лютов С.А.</td>\n",
       "      <td>7</td>\n",
       "      <td>[{'riskLevel': '', 'violationName': '1. При ра...</td>\n",
       "      <td>ТПП «Повхнефтегаз»</td>\n",
       "      <td>{'id': '1', 'value': 'ТПП «Повхнефтегаз»', 'pa...</td>\n",
       "      <td>20</td>\n",
       "      <td>00</td>\n",
       "      <td>01 августа 2023</td>\n",
       "      <td>20:00, 01.08.2023</td>\n",
       "      <td>01 августа 20</td>\n",
       "      <td>01/августа/23</td>\n",
       "      <td>01 08</td>\n",
       "      <td>01</td>\n",
       "    </tr>\n",
       "    <tr>\n",
       "      <th>4</th>\n",
       "      <td>20230802T01:00:00Z</td>\n",
       "      <td>Ляпустин Д.В</td>\n",
       "      <td>46б</td>\n",
       "      <td>4299</td>\n",
       "      <td>Повховское</td>\n",
       "      <td>ООО «Мастернефтьсервис»</td>\n",
       "      <td>Александров Е.В.</td>\n",
       "      <td>6</td>\n",
       "      <td>[{'riskLevel': '', 'violationName': '1. Бригад...</td>\n",
       "      <td>ТПП «Повхнефтегаз»</td>\n",
       "      <td>{'id': '1', 'value': 'ТПП «Повхнефтегаз»', 'pa...</td>\n",
       "      <td>01</td>\n",
       "      <td>00</td>\n",
       "      <td>02 августа 2023</td>\n",
       "      <td>01:00, 02.08.2023</td>\n",
       "      <td>02 августа 01</td>\n",
       "      <td>02/августа/23</td>\n",
       "      <td>02 08</td>\n",
       "      <td>02</td>\n",
       "    </tr>\n",
       "  </tbody>\n",
       "</table>\n",
       "</div>"
      ],
      "text/plain": [
       "              dateAkt         superFIO padstep1  well         field  \\\n",
       "0  20230801T14:00:00Z       Марков А.С      581  8944  Ватьеганское   \n",
       "1  20230801T15:30:00Z  Шайхутдинов А.А        1  1226    Повховское   \n",
       "2  20230801T17:30:00Z  Шайхутдинов А.А      94б   829    Повховское   \n",
       "3  20230801T20:00:00Z     Ляпустин Д.В      166  3777    Повховское   \n",
       "4  20230802T01:00:00Z     Ляпустин Д.В      46б  4299    Повховское   \n",
       "\n",
       "          podrCompanystep1         MasterFIO numBrigade  \\\n",
       "0            ООО «БКЕ» ФРС       Лохман А.В.         38   \n",
       "1  ООО «Мастернефтьсервис»    Ибрагимов Р.Ф.         31   \n",
       "2  ООО «Мастернефтьсервис»       Цапков Н.А.         35   \n",
       "3  ООО «Мастернефтьсервис»        Лютов С.А.          7   \n",
       "4  ООО «Мастернефтьсервис»  Александров Е.В.          6   \n",
       "\n",
       "                                          violations zaknamestep1_content  \\\n",
       "0  [{'riskLevel': '', 'violationName': ' 1 Настил...   ТПП «Повхнефтегаз»   \n",
       "1  [{'riskLevel': '', 'violationName': '1. Некорр...   ТПП «Повхнефтегаз»   \n",
       "2  [{'riskLevel': '', 'violationName': '1. Отсутс...   ТПП «Повхнефтегаз»   \n",
       "3  [{'riskLevel': '', 'violationName': '1. При ра...   ТПП «Повхнефтегаз»   \n",
       "4  [{'riskLevel': '', 'violationName': '1. Бригад...   ТПП «Повхнефтегаз»   \n",
       "\n",
       "                                        zaknamestep1 dateAktHour  \\\n",
       "0  {'id': '1', 'value': 'ТПП «Повхнефтегаз»', 'pa...          14   \n",
       "1  {'id': '1', 'value': 'ТПП «Повхнефтегаз»', 'pa...          15   \n",
       "2  {'id': '1', 'value': 'ТПП «Повхнефтегаз»', 'pa...          17   \n",
       "3  {'id': '1', 'value': 'ТПП «Повхнефтегаз»', 'pa...          20   \n",
       "4  {'id': '1', 'value': 'ТПП «Повхнефтегаз»', 'pa...          01   \n",
       "\n",
       "  dateAktMinute      dateAktmain        dateAkttime       dateTime  \\\n",
       "0            00  01 августа 2023  14:00, 01.08.2023  01 августа 14   \n",
       "1            30  01 августа 2023  15:30, 01.08.2023  01 августа 15   \n",
       "2            30  01 августа 2023  17:30, 01.08.2023  01 августа 17   \n",
       "3            00  01 августа 2023  20:00, 01.08.2023  01 августа 20   \n",
       "4            00  02 августа 2023  01:00, 02.08.2023  02 августа 01   \n",
       "\n",
       "       dateTime2 dateAktquotes dateAktchbegin  \n",
       "0  01/августа/23         01 08             01  \n",
       "1  01/августа/23         01 08             01  \n",
       "2  01/августа/23         01 08             01  \n",
       "3  01/августа/23         01 08             01  \n",
       "4  02/августа/23         02 08             02  "
      ]
     },
     "execution_count": 254,
     "metadata": {},
     "output_type": "execute_result"
    }
   ],
   "source": [
    "df_new_for_content.head()"
   ]
  },
  {
   "cell_type": "code",
   "execution_count": 255,
   "id": "b5849ef6",
   "metadata": {},
   "outputs": [],
   "source": [
    "# Окончательно формируем поле content\n",
    "res_content = []\n",
    "for index, row in df_new_for_content.iterrows():\n",
    "    dic = {\n",
    "        \"superFIO\": row[1],\n",
    "        \"superCompany \": \"АО «НИПЦ ГНТ»\",\n",
    "        \"superPositionkem \": \"Супервайзером\",\n",
    "        \"inPresence\": \"\",\n",
    "        \"dateTime\": row[15],\n",
    "        \"dateTime2\": row[16],\n",
    "        \"dateAktquotes\": row[17],\n",
    "        \"dateAktmain\": row[13],\n",
    "        \"dateAktchbegin\": row[18],\n",
    "        \"dateAkttime\": row[14],\n",
    "        \"nomerAktaKomiFreestep1\": \"\",\n",
    "        \"padstep1\": row[2],\n",
    "        \"wellstep1\": row[3],\n",
    "        \"typeJobstep1\": \"\",\n",
    "        \"superSignat\": \"\",\n",
    "        \"podrSignat\": \"\",\n",
    "        \"tbl_contents\": row[8],\n",
    "        \"numBrigade\": row[7],\n",
    "        \"cdng\": \"\",\n",
    "        \"findings\": \"\",\n",
    "        \"perfName\": \"\",\n",
    "        \"applicat\": \"\",\n",
    "        \"podrFIO\": row[6],\n",
    "        \"podrPosition\": \"\",\n",
    "        \"special_opinion\": \"\"\n",
    "    }\n",
    "    res_content.append(dic)"
   ]
  },
  {
   "cell_type": "markdown",
   "id": "be078727-0ca4-4281-8666-3599f540f682",
   "metadata": {},
   "source": [
    "### Формируем поле raw_content"
   ]
  },
  {
   "cell_type": "code",
   "execution_count": 256,
   "id": "8588d1f5-3f75-4f9c-9811-a4edf74776fa",
   "metadata": {},
   "outputs": [
    {
     "data": {
      "text/html": [
       "<div>\n",
       "<style scoped>\n",
       "    .dataframe tbody tr th:only-of-type {\n",
       "        vertical-align: middle;\n",
       "    }\n",
       "\n",
       "    .dataframe tbody tr th {\n",
       "        vertical-align: top;\n",
       "    }\n",
       "\n",
       "    .dataframe thead th {\n",
       "        text-align: right;\n",
       "    }\n",
       "</style>\n",
       "<table border=\"1\" class=\"dataframe\">\n",
       "  <thead>\n",
       "    <tr style=\"text-align: right;\">\n",
       "      <th></th>\n",
       "      <th>dateAkt</th>\n",
       "      <th>superFIO</th>\n",
       "      <th>padstep1</th>\n",
       "      <th>well</th>\n",
       "      <th>field</th>\n",
       "      <th>podrCompanystep1</th>\n",
       "      <th>MasterFIO</th>\n",
       "      <th>numBrigade</th>\n",
       "      <th>violations</th>\n",
       "      <th>zaknamestep1_content</th>\n",
       "      <th>zaknamestep1</th>\n",
       "    </tr>\n",
       "  </thead>\n",
       "  <tbody>\n",
       "    <tr>\n",
       "      <th>0</th>\n",
       "      <td>20230801T14:00:00Z</td>\n",
       "      <td>Марков А.С</td>\n",
       "      <td>581</td>\n",
       "      <td>8944</td>\n",
       "      <td>Ватьеганское</td>\n",
       "      <td>ООО «БКЕ» ФРС</td>\n",
       "      <td>Лохман А.В.</td>\n",
       "      <td>38</td>\n",
       "      <td>[{'riskLevel': '', 'violationName': ' 1 Настил...</td>\n",
       "      <td>ТПП «Повхнефтегаз»</td>\n",
       "      <td>{'id': '1', 'value': 'ТПП «Повхнефтегаз»', 'pa...</td>\n",
       "    </tr>\n",
       "    <tr>\n",
       "      <th>1</th>\n",
       "      <td>20230801T15:30:00Z</td>\n",
       "      <td>Шайхутдинов А.А</td>\n",
       "      <td>1</td>\n",
       "      <td>1226</td>\n",
       "      <td>Повховское</td>\n",
       "      <td>ООО «Мастернефтьсервис»</td>\n",
       "      <td>Ибрагимов Р.Ф.</td>\n",
       "      <td>31</td>\n",
       "      <td>[{'riskLevel': '', 'violationName': '1. Некорр...</td>\n",
       "      <td>ТПП «Повхнефтегаз»</td>\n",
       "      <td>{'id': '1', 'value': 'ТПП «Повхнефтегаз»', 'pa...</td>\n",
       "    </tr>\n",
       "    <tr>\n",
       "      <th>2</th>\n",
       "      <td>20230801T17:30:00Z</td>\n",
       "      <td>Шайхутдинов А.А</td>\n",
       "      <td>94б</td>\n",
       "      <td>829</td>\n",
       "      <td>Повховское</td>\n",
       "      <td>ООО «Мастернефтьсервис»</td>\n",
       "      <td>Цапков Н.А.</td>\n",
       "      <td>35</td>\n",
       "      <td>[{'riskLevel': '', 'violationName': '1. Отсутс...</td>\n",
       "      <td>ТПП «Повхнефтегаз»</td>\n",
       "      <td>{'id': '1', 'value': 'ТПП «Повхнефтегаз»', 'pa...</td>\n",
       "    </tr>\n",
       "    <tr>\n",
       "      <th>3</th>\n",
       "      <td>20230801T20:00:00Z</td>\n",
       "      <td>Ляпустин Д.В</td>\n",
       "      <td>166</td>\n",
       "      <td>3777</td>\n",
       "      <td>Повховское</td>\n",
       "      <td>ООО «Мастернефтьсервис»</td>\n",
       "      <td>Лютов С.А.</td>\n",
       "      <td>7</td>\n",
       "      <td>[{'riskLevel': '', 'violationName': '1. При ра...</td>\n",
       "      <td>ТПП «Повхнефтегаз»</td>\n",
       "      <td>{'id': '1', 'value': 'ТПП «Повхнефтегаз»', 'pa...</td>\n",
       "    </tr>\n",
       "    <tr>\n",
       "      <th>4</th>\n",
       "      <td>20230802T01:00:00Z</td>\n",
       "      <td>Ляпустин Д.В</td>\n",
       "      <td>46б</td>\n",
       "      <td>4299</td>\n",
       "      <td>Повховское</td>\n",
       "      <td>ООО «Мастернефтьсервис»</td>\n",
       "      <td>Александров Е.В.</td>\n",
       "      <td>6</td>\n",
       "      <td>[{'riskLevel': '', 'violationName': '1. Бригад...</td>\n",
       "      <td>ТПП «Повхнефтегаз»</td>\n",
       "      <td>{'id': '1', 'value': 'ТПП «Повхнефтегаз»', 'pa...</td>\n",
       "    </tr>\n",
       "  </tbody>\n",
       "</table>\n",
       "</div>"
      ],
      "text/plain": [
       "              dateAkt         superFIO padstep1  well         field  \\\n",
       "0  20230801T14:00:00Z       Марков А.С      581  8944  Ватьеганское   \n",
       "1  20230801T15:30:00Z  Шайхутдинов А.А        1  1226    Повховское   \n",
       "2  20230801T17:30:00Z  Шайхутдинов А.А      94б   829    Повховское   \n",
       "3  20230801T20:00:00Z     Ляпустин Д.В      166  3777    Повховское   \n",
       "4  20230802T01:00:00Z     Ляпустин Д.В      46б  4299    Повховское   \n",
       "\n",
       "          podrCompanystep1         MasterFIO numBrigade  \\\n",
       "0            ООО «БКЕ» ФРС       Лохман А.В.         38   \n",
       "1  ООО «Мастернефтьсервис»    Ибрагимов Р.Ф.         31   \n",
       "2  ООО «Мастернефтьсервис»       Цапков Н.А.         35   \n",
       "3  ООО «Мастернефтьсервис»        Лютов С.А.          7   \n",
       "4  ООО «Мастернефтьсервис»  Александров Е.В.          6   \n",
       "\n",
       "                                          violations zaknamestep1_content  \\\n",
       "0  [{'riskLevel': '', 'violationName': ' 1 Настил...   ТПП «Повхнефтегаз»   \n",
       "1  [{'riskLevel': '', 'violationName': '1. Некорр...   ТПП «Повхнефтегаз»   \n",
       "2  [{'riskLevel': '', 'violationName': '1. Отсутс...   ТПП «Повхнефтегаз»   \n",
       "3  [{'riskLevel': '', 'violationName': '1. При ра...   ТПП «Повхнефтегаз»   \n",
       "4  [{'riskLevel': '', 'violationName': '1. Бригад...   ТПП «Повхнефтегаз»   \n",
       "\n",
       "                                        zaknamestep1  \n",
       "0  {'id': '1', 'value': 'ТПП «Повхнефтегаз»', 'pa...  \n",
       "1  {'id': '1', 'value': 'ТПП «Повхнефтегаз»', 'pa...  \n",
       "2  {'id': '1', 'value': 'ТПП «Повхнефтегаз»', 'pa...  \n",
       "3  {'id': '1', 'value': 'ТПП «Повхнефтегаз»', 'pa...  \n",
       "4  {'id': '1', 'value': 'ТПП «Повхнефтегаз»', 'pa...  "
      ]
     },
     "execution_count": 256,
     "metadata": {},
     "output_type": "execute_result"
    }
   ],
   "source": [
    "df_new_raw_content = df_new_copy.copy()\n",
    "df_new_raw_content.head()"
   ]
  },
  {
   "cell_type": "code",
   "execution_count": 257,
   "id": "9e9a6ce0-bc9d-43cf-9341-c8167121f910",
   "metadata": {},
   "outputs": [],
   "source": [
    "podrCompany = [\n",
    "    {\"id\": \"0\", \"value\": \"ООО «ВэллСервис»\"},\n",
    "    {\"id\": \"1\", \"value\": \"ООО «Мастернефтьсервис»\"},\n",
    "    {\"id\": \"2\", \"value\": \"ООО «БКЕ» ФРС\"}\n",
    "]\n",
    "podrCompanyCurr = [\"ВэллСервис\", \"нефть\", \"БКЕ\"]\n",
    "lookup_dict = {}\n",
    "for company in podrCompany:\n",
    "    for curr_name in podrCompanyCurr:\n",
    "        if curr_name in company[\"value\"]:\n",
    "            lookup_dict[curr_name] = company              "
   ]
  },
  {
   "cell_type": "code",
   "execution_count": 258,
   "id": "90085e17-5b4d-44af-bae0-70c674b8eecb",
   "metadata": {},
   "outputs": [],
   "source": [
    "def replace_company(row):\n",
    "    for key, value in lookup_dict.items():\n",
    "        if key in row[\"podrCompanystep1\"]:\n",
    "            return value\n",
    "    return row[\"podrCompanystep1\"]\n",
    "\n",
    "df_new_raw_content[\"podrCompanystep1\"] = df_new_raw_content.apply(replace_company, axis=1)"
   ]
  },
  {
   "cell_type": "code",
   "execution_count": 259,
   "id": "b3a25be7-0c70-4ba1-bc8c-15391c8c6409",
   "metadata": {},
   "outputs": [],
   "source": [
    "def convert_to_superfio(x):\n",
    "    d = {\n",
    "        \"value\": x,\n",
    "        \"payload\": {\n",
    "            \"superFIOkem\": x,\n",
    "            \"superCompany\": \"АО «НИПЦ ГНТ»\",\n",
    "            \"superPositionkem\": \"Супервайзером\"\n",
    "        }\n",
    "    }\n",
    "    return d\n",
    "\n",
    "df_new_raw_content[\"superFIO\"] = df_new_raw_content[\"superFIO\"].apply(lambda x: convert_to_superfio(x))"
   ]
  },
  {
   "cell_type": "code",
   "execution_count": 260,
   "id": "71767f16-5b07-4baf-9313-557bb7c14226",
   "metadata": {},
   "outputs": [],
   "source": [
    "def convert_to_field_raw(x):\n",
    "    fields = [{'choices': [{'value': 'Абино-Украинское', 'id': 0}, {'value': 'Абрамовское', 'id': 1}, {'value': 'Аганское', 'id': 2}, {'value': 'Акташское', 'id': 3}, {'value': 'Алексеевская', 'id': 4}, {'value': 'Алисовское', 'id': 5}, {'value': 'Амдермаельское', 'id': 6}, {'value': 'Андреевское', 'id': 7}, {'value': 'Антиповско-Балыклейская', 'id': 8}, {'value': 'Аригольское', 'id': 9}, {'value': 'Аспинское', 'id': 10}, {'value': 'Атамановское', 'id': 11}, {'value': 'Ачимовское', 'id': 12}, {'value': 'Ашальчинское', 'id': 13}, {'value': 'Баганское', 'id': 14}, {'value': 'Баклановское', 'id': 15}, {'value': 'Барсуковское', 'id': 16}, {'value': 'Батырбайское', 'id': 17}, {'value': 'Бахиловское', 'id': 18}, {'value': 'Бахиловское', 'id': 19}, {'value': 'Бахтияровское', 'id': 20}, {'value': 'Бельское', 'id': 21}, {'value': 'Береговое', 'id': 22}, {'value': 'Бобровское', 'id': 23}, {'value': 'Бобровское', 'id': 24}, {'value': 'Бобровское', 'id': 25}, {'value': 'Боголюбовское', 'id': 26}, {'value': 'Больше-Каменское', 'id': 27}, {'value': 'Бузулукское', 'id': 28}, {'value': 'В-Волостновское', 'id': 29}, {'value': 'В-боголюбовское', 'id': 30}, {'value': 'В. Сарутаюсское', 'id': 31}, {'value': 'В.Капитоновское', 'id': 32}, {'value': 'В.Малаховское', 'id': 33}, {'value': 'Ван еганское', 'id': 34}, {'value': 'Ван-Еганское', 'id': 35}, {'value': 'Ван-Еганское бур.', 'id': 36}, {'value': 'Ванкор', 'id': 37}, {'value': 'Варьёганское', 'id': 38}, {'value': 'Ватинское', 'id': 39}, {'value': 'Ватинское', 'id': 40}, {'value': 'Ватинское', 'id': 41}, {'value': 'Вать-Ёганское', 'id': 42}, {'value': 'Вать-Еганское', 'id': 43}, {'value': 'Ватьеганское', 'id': 44}, {'value': 'Вахитовское', 'id': 45}, {'value': 'Верхнеколик-Еганское', 'id': 46}, {'value': 'Верхнеколик-Еганское', 'id': 47}, {'value': 'Видное', 'id': 48}, {'value': 'Викторинское', 'id': 49}, {'value': 'Винниковское', 'id': 50}, {'value': 'Вишневское', 'id': 51}, {'value': 'Возей', 'id': 52}, {'value': 'Возейское', 'id': 53}, {'value': 'Волостновское', 'id': 54}, {'value': 'Воробьевское', 'id': 55}, {'value': 'Восточно- Мастерьельское', 'id': 56}, {'value': 'Восточно-Икилорское', 'id': 57}, {'value': 'Восточно-Икилорское', 'id': 58}, {'value': 'Восточно-Кустовое', 'id': 59}, {'value': 'Восточно-Макаровское', 'id': 60}, {'value': 'Восточно-Перевальное', 'id': 61}, {'value': 'Восточно-Перевальное', 'id': 62}, {'value': 'Восточно-Правдинское', 'id': 63}, {'value': 'Восточно-Придорожное', 'id': 64}, {'value': 'Восточно-Придорожное', 'id': 65}, {'value': 'Восточно-Придорожное', 'id': 66}, {'value': 'Восточно-Пякутинское', 'id': 67}, {'value': 'Восточно-Сарутаюское', 'id': 68}, {'value': 'Восточно-Сургутское', 'id': 69}, {'value': 'Восточно-Токайское', 'id': 70}, {'value': 'Восточно-Ягунское', 'id': 71}, {'value': 'Восточнро-Придорожное', 'id': 72}, {'value': 'Встречное', 'id': 73}, {'value': 'Вынгаяхинское', 'id': 74}, {'value': 'Гаршинское', 'id': 75}, {'value': 'Герасимовское', 'id': 76}, {'value': 'Геркулесовское', 'id': 77}, {'value': 'Гондыревское', 'id': 78}, {'value': 'Горное', 'id': 79}, {'value': 'Графское', 'id': 80}, {'value': 'Даниловское', 'id': 81}, {'value': 'Демаельская', 'id': 82}, {'value': 'Довыдовское', 'id': 83}, {'value': 'Дозорцевское', 'id': 84}, {'value': 'Долговское', 'id': 85}, {'value': 'Долговское', 'id': 86}, {'value': 'Долговское', 'id': 87}, {'value': 'Дон-Сыртовское', 'id': 88}, {'value': 'Донская', 'id': 89}, {'value': 'Дороховское', 'id': 90}, {'value': 'Дружное', 'id': 91}, {'value': 'Дружное', 'id': 92}, {'value': 'Е.Зыковское', 'id': 93}, {'value': 'Енапаевское', 'id': 94}, {'value': 'Енорусскинское', 'id': 95}, {'value': 'Етыпуровское', 'id': 96}, {'value': 'Жилинское', 'id': 97}, {'value': 'Журавское', 'id': 98}, {'value': 'Загорское', 'id': 99}, {'value': 'Залесское', 'id': 100}, {'value': 'Зап-Угутское', 'id': 101}, {'value': 'Зап-Усть -Былыкское', 'id': 102}, {'value': 'Западно-Асомкинское', 'id': 103}, {'value': 'Западно-Бимское', 'id': 104}, {'value': 'Западно-Варьёганское', 'id': 105}, {'value': 'Западно-Икилорское', 'id': 106}, {'value': 'Западно-Катыльгинское', 'id': 107}, {'value': 'Западно-Кулагинское', 'id': 108}, {'value': 'Западно-Малобалыкское', 'id': 109}, {'value': 'Западно-Пурпейское', 'id': 110}, {'value': 'Западно-Степановское', 'id': 111}, {'value': 'Западно-Тугровское', 'id': 112}, {'value': 'Западно-Эргинское', 'id': 113}, {'value': 'Западное Сюрхаратинское', 'id': 114}, {'value': 'Западный Могутлор', 'id': 115}, {'value': 'Зимнее', 'id': 116}, {'value': 'Ивановское', 'id': 117}, {'value': 'Икилорское', 'id': 118}, {'value': 'Икилорское', 'id': 119}, {'value': 'Ильичевское', 'id': 120}, {'value': 'Имилорское', 'id': 121}, {'value': 'Инзырейское', 'id': 122}, {'value': 'Ининское', 'id': 123}, {'value': 'Ининское', 'id': 124}, {'value': 'Ипатское', 'id': 125}, {'value': 'Ишуевское', 'id': 126}, {'value': 'Казыгашевское', 'id': 127}, {'value': 'Калиннинковское', 'id': 128}, {'value': 'Калмиярское', 'id': 129}, {'value': 'Камеликское', 'id': 130}, {'value': 'Каменское', 'id': 131}, {'value': 'Каменское', 'id': 132}, {'value': 'Кетовское', 'id': 133}, {'value': 'Кечимовское', 'id': 134}, {'value': 'Киндельское', 'id': 135}, {'value': 'Кинзельское', 'id': 136}, {'value': 'Киняминское', 'id': 137}, {'value': 'Кичкасское', 'id': 138}, {'value': 'Киязлинское', 'id': 139}, {'value': 'Ключевое', 'id': 140}, {'value': 'Ковыктинское ГКМ', 'id': 141}, {'value': 'Кодяковское', 'id': 142}, {'value': 'Колвинское', 'id': 143}, {'value': 'Командишорское', 'id': 144}, {'value': 'Комсомольское', 'id': 145}, {'value': 'Кондинское', 'id': 146}, {'value': 'Корниловское', 'id': 147}, {'value': 'Кочевское', 'id': 148}, {'value': 'Кочевское', 'id': 149}, {'value': 'Кошильское', 'id': 150}, {'value': 'Крайнее', 'id': 151}, {'value': 'Крапивинское', 'id': 152}, {'value': 'Красное', 'id': 153}, {'value': 'Красноленинское', 'id': 154}, {'value': 'Красноленинское', 'id': 155}, {'value': 'Краснонивское', 'id': 156}, {'value': 'Красноярско-Куединское', 'id': 157}, {'value': 'Красноярское', 'id': 158}, {'value': 'Кристальное', 'id': 159}, {'value': 'Крузенштернское', 'id': 160}, {'value': 'Кузоваткинское', 'id': 161}, {'value': 'Кукуштанское', 'id': 162}, {'value': 'Кулагинское', 'id': 163}, {'value': 'Курманаевское', 'id': 164}, {'value': 'Кустовое', 'id': 165}, {'value': 'Кустовое', 'id': 166}, {'value': 'Кутулукское', 'id': 167}, {'value': 'Куюмбинское', 'id': 168}, {'value': 'Кыртаельское', 'id': 169}, {'value': 'Кэралайское', 'id': 170}, {'value': 'Лабаганское', 'id': 171}, {'value': 'Лас-Еганское', 'id': 172}, {'value': 'Лачаель', 'id': 173}, {'value': 'Лебяжинское', 'id': 174}, {'value': 'Лебяжинское', 'id': 175}, {'value': 'Леккерское', 'id': 176}, {'value': 'Лекхарьягинское', 'id': 177}, {'value': 'Лесное', 'id': 178}, {'value': 'Лобановское', 'id': 179}, {'value': 'Локосовское', 'id': 180}, {'value': 'Луговое', 'id': 181}, {'value': 'Луньвожпальское', 'id': 182}, {'value': 'Лыаельское', 'id': 183}, {'value': 'Мало-Балыкское', 'id': 184}, {'value': 'Малобалыкское', 'id': 185}, {'value': 'Мамалаевское', 'id': 186}, {'value': 'Мамонтовское', 'id': 187}, {'value': 'Мастерьельское', 'id': 188}, {'value': 'Мегионское', 'id': 189}, {'value': 'Мельниковское', 'id': 190}, {'value': 'Мензелинское', 'id': 191}, {'value': 'Минибаевское', 'id': 192}, {'value': 'Моргуновское', 'id': 193}, {'value': 'Мортымья-Тетеревское', 'id': 194}, {'value': 'Мортымья-Тетеревское', 'id': 195}, {'value': 'Мортымья-Тетеревское', 'id': 196}, {'value': 'Московцева', 'id': 197}, {'value': 'Москудьинское', 'id': 198}, {'value': 'Мушакское', 'id': 199}, {'value': 'Мыхпайское', 'id': 200}, {'value': 'Мядсейское', 'id': 201}, {'value': 'Н-Кудренское', 'id': 202}, {'value': 'Н-Любимовское', 'id': 203}, {'value': 'Надейю', 'id': 204}, {'value': 'Натальинское', 'id': 205}, {'value': 'Натальинское', 'id': 206}, {'value': 'Нерутынское', 'id': 207}, {'value': 'Нивагальское', 'id': 208}, {'value': 'Ново-Боголюбовское', 'id': 209}, {'value': 'Ново-Дмитриевское', 'id': 210}, {'value': 'Ново-Жедринское', 'id': 211}, {'value': 'Ново-Землянское', 'id': 212}, {'value': 'Ново-Малаховское', 'id': 213}, {'value': 'Ново-Покурское', 'id': 214}, {'value': 'Ново-Пурпейское', 'id': 215}, {'value': 'Ново-Федоровское', 'id': 216}, {'value': 'Новокрасинская', 'id': 217}, {'value': 'Новомостовское', 'id': 218}, {'value': 'Новоортъягунское', 'id': 219}, {'value': 'Новосибирское', 'id': 220}, {'value': 'Нонг-Еганское', 'id': 221}, {'value': 'Ольгинское', 'id': 222}, {'value': 'Ольховское', 'id': 223}, {'value': 'Ольховское', 'id': 224}, {'value': 'Омбинское', 'id': 225}, {'value': 'Орехо-Ермаковское', 'id': 226}, {'value': 'Орехово-Ермаковское', 'id': 227}, {'value': 'Орехово-Ермаковское', 'id': 228}, {'value': 'Островное', 'id': 229}, {'value': 'Ошское', 'id': 230}, {'value': 'П.Сорочинское', 'id': 231}, {'value': 'Павловское', 'id': 232}, {'value': 'Памятно-Сасовское', 'id': 233}, {'value': 'Пачгинское', 'id': 234}, {'value': 'Пашнинское', 'id': 235}, {'value': 'Первомайское', 'id': 236}, {'value': 'Перевозное', 'id': 237}, {'value': 'Пермяковское', 'id': 238}, {'value': 'Петелинское', 'id': 239}, {'value': 'Пихтовое', 'id': 240}, {'value': 'Пихтовское', 'id': 241}, {'value': 'Пихтовское', 'id': 242}, {'value': 'Повховское', 'id': 243}, {'value': 'Повховское', 'id': 244}, {'value': 'Пожвинское', 'id': 245}, {'value': 'Покачевское', 'id': 246}, {'value': 'Покомасовское', 'id': 247}, {'value': 'Покрово-Сорочинское', 'id': 248}, {'value': 'Покровское', 'id': 249}, {'value': 'Потанай-Картопьинское', 'id': 250}, {'value': 'Поточное', 'id': 251}, {'value': 'Правдинское', 'id': 252}, {'value': 'Правдинское', 'id': 253}, {'value': 'Придорожное', 'id': 254}, {'value': 'Пример месторождения', 'id': 255}, {'value': 'Приобское', 'id': 256}, {'value': 'Приобское', 'id': 257}, {'value': 'Приразломное', 'id': 258}, {'value': 'Приразломное', 'id': 259}, {'value': 'Присклоновое', 'id': 260}, {'value': 'Присклоновое', 'id': 261}, {'value': 'Пробное', 'id': 262}, {'value': 'Пронькинское', 'id': 263}, {'value': 'Пыжельское', 'id': 264}, {'value': 'Пякяхинское', 'id': 265}, {'value': 'Р-Тевлинское', 'id': 266}, {'value': 'Р/Конновское', 'id': 267}, {'value': 'Равенское', 'id': 268}, {'value': 'Равенское', 'id': 269}, {'value': 'Радовское', 'id': 270}, {'value': 'Рассохинское', 'id': 271}, {'value': 'Расьюское', 'id': 272}, {'value': 'Речное', 'id': 273}, {'value': 'Ржавское', 'id': 274}, {'value': 'Родинское', 'id': 275}, {'value': 'Родниковское', 'id': 276}, {'value': 'Романовское', 'id': 277}, {'value': 'Рославльское', 'id': 278}, {'value': 'Россихинское', 'id': 279}, {'value': 'Росташинское', 'id': 280}, {'value': 'Рыбкинское', 'id': 281}, {'value': 'Рябиновое', 'id': 282}, {'value': 'С. Макарихинское', 'id': 283}, {'value': 'С.Краснояровское', 'id': 284}, {'value': 'С.Никольское', 'id': 285}, {'value': 'Савиноборское', 'id': 286}, {'value': 'Саврушинское', 'id': 287}, {'value': 'Сакадинское', 'id': 288}, {'value': 'Салымское', 'id': 289}, {'value': 'Самодуровское', 'id': 290}, {'value': 'Самотлорское', 'id': 291}, {'value': 'Самотлорское 13', 'id': 292}, {'value': 'Самотлорское 14', 'id': 293}, {'value': 'Самотлорское 2', 'id': 294}, {'value': 'Самотлорское 3', 'id': 295}, {'value': 'Свободное', 'id': 296}, {'value': 'Северный Баган', 'id': 297}, {'value': 'Северный Ванкор', 'id': 298}, {'value': 'Северо Губкинское', 'id': 299}, {'value': 'Северо- Ипатское', 'id': 300}, {'value': 'Северо-Варьеганское', 'id': 301}, {'value': 'Северо-Варьёганское', 'id': 302}, {'value': 'Северо-Губкинское', 'id': 303}, {'value': 'Северо-Даниловское', 'id': 304}, {'value': 'Северо-Конитлорское', 'id': 305}, {'value': 'Северо-Кочевское', 'id': 306}, {'value': 'Северо-Кочевское', 'id': 307}, {'value': 'Северо-Ореховское', 'id': 308}, {'value': 'Северо-Островное', 'id': 309}, {'value': 'Северо-Покачевское', 'id': 310}, {'value': 'Северо-Покровское', 'id': 311}, {'value': 'Северо-Покурское', 'id': 312}, {'value': 'Северо-Поточное', 'id': 313}, {'value': 'Северо-Савиноборское', 'id': 314}, {'value': 'Северо-Сарембой', 'id': 315}, {'value': 'Северо-Хохряковское', 'id': 316}, {'value': 'Северо-Янгтинское', 'id': 317}, {'value': 'Скворцовское', 'id': 318}, {'value': 'Слободское', 'id': 319}, {'value': 'Случайное', 'id': 320}, {'value': 'Солдатовское', 'id': 321}, {'value': 'Солдатовское', 'id': 322}, {'value': 'Солкинское', 'id': 323}, {'value': 'Сорочинск-Никольское', 'id': 324}, {'value': 'Сорочинско-Никольское', 'id': 325}, {'value': 'Сосновское', 'id': 326}, {'value': 'Софьинское', 'id': 327}, {'value': 'Спиридоновское', 'id': 328}, {'value': 'Средне - Балыкское', 'id': 329}, {'value': 'Средне-Мичаельское', 'id': 330}, {'value': 'Средне-Угутское', 'id': 331}, {'value': 'Средне-Харьягинское', 'id': 332}, {'value': 'Степноозерское', 'id': 333}, {'value': 'Суборское', 'id': 334}, {'value': 'Сугмутское', 'id': 335}, {'value': 'Султан-Заглядинское', 'id': 336}, {'value': 'Суторминское', 'id': 337}, {'value': 'Сухаревское', 'id': 338}, {'value': 'Сюрхаратинское', 'id': 339}, {'value': 'Тагринское', 'id': 340}, {'value': 'Тайлаковское', 'id': 341}, {'value': 'Тананыкское', 'id': 342}, {'value': 'Таращанское', 'id': 343}, {'value': 'Тевлино-Русскинское', 'id': 344}, {'id': 345, 'value': 'Тевлинско-Русскинское'}, {'value': 'Тединское', 'id': 346}, {'value': 'Тепловское', 'id': 347}, {'value': 'Тестовое', 'id': 348}, {'value': 'Титова', 'id': 349}, {'value': 'Тобойское', 'id': 350}, {'value': 'Токское', 'id': 351}, {'value': 'Толумское', 'id': 352}, {'value': 'Торовейское', 'id': 353}, {'value': 'Требса', 'id': 354}, {'value': 'Трубецкое', 'id': 355}, {'value': 'Турчаниновское', 'id': 356}, {'value': 'Угутское', 'id': 357}, {'value': 'Узунское', 'id': 358}, {'value': 'Умирское', 'id': 359}, {'value': 'Умсейское', 'id': 360}, {'value': 'Урьевское', 'id': 361}, {'value': 'Усинское', 'id': 362}, {'value': 'Усинское', 'id': 363}, {'value': 'Усть-Балыкское', 'id': 364}, {'value': 'Усть-Котухтинское', 'id': 365}, {'value': 'Устьевое', 'id': 366}, {'value': 'Федотовская площадь', 'id': 367}, {'value': 'Хальмерпоютинское', 'id': 368}, {'value': 'Хантос', 'id': 369}, {'value': 'Харьягинское', 'id': 370}, {'value': 'Хасырейское', 'id': 371}, {'value': 'Хыльчаюское', 'id': 372}, {'value': 'Чаяндинское', 'id': 373}, {'value': 'Чекалдинское', 'id': 374}, {'value': 'Чернушинское', 'id': 375}, {'value': 'Черпаю', 'id': 376}, {'value': 'Чистинное', 'id': 377}, {'value': 'Чишминская', 'id': 378}, {'value': 'Чумпасское', 'id': 379}, {'value': 'Чупальское', 'id': 380}, {'value': 'Чураковское', 'id': 381}, {'value': 'Шароновское', 'id': 382}, {'value': 'Шейгурчинское', 'id': 383}, {'value': 'Школьное', 'id': 384}, {'value': 'Шулаевское', 'id': 385}, {'value': 'Экилорское', 'id': 386}, {'value': 'Энтельское', 'id': 387}, {'value': 'Ю-Выинтойское', 'id': 388}, {'value': 'Ю-Султангуловское', 'id': 389}, {'value': 'Ю-Урьевское', 'id': 390}, {'value': 'Ю.Сперидоновское', 'id': 391}, {'value': 'Юбилейное', 'id': 392}, {'value': 'Южинское', 'id': 393}, {'value': 'Южно Ипатское', 'id': 394}, {'value': 'Южно Лыжского', 'id': 395}, {'value': 'Южно Юрьяхинское', 'id': 396}, {'value': 'Южно--Ягунское', 'id': 397}, {'value': 'Южно-Аганское', 'id': 398}, {'value': 'Южно-Баганское', 'id': 399}, {'value': 'Южно-Балыкское', 'id': 400}, {'value': 'Южно-Выинтойское', 'id': 401}, {'value': 'Южно-Выйнтой', 'id': 402}, {'value': 'Южно-Киняминское', 'id': 403}, {'value': 'Южно-Кустовое', 'id': 404}, {'value': 'Южно-Островное', 'id': 405}, {'value': 'Южно-Покамасовское', 'id': 406}, {'value': 'Южно-Покачевское', 'id': 407}, {'value': 'Южно-Приобское', 'id': 408}, {'value': 'Южно-Тарасовское', 'id': 409}, {'value': 'Южно-Тарасовское', 'id': 410}, {'value': 'Южно-Ягунское', 'id': 411}, {'value': 'Южно-Ягунское', 'id': 412}, {'value': 'Южно-арасовское', 'id': 413}, {'value': 'Южчно-Кустовое', 'id': 414}, {'value': 'Юрхаровское', 'id': 415}, {'value': 'Юрчукское', 'id': 416}, {'value': 'Ямбургское', 'id': 417}, {'value': 'Ярегское', 'id': 418}, {'value': 'Яреюское', 'id': 419}, {'value': 'Яркое', 'id': 420}, {'value': 'без названия', 'id': 421}, {'value': 'им. А.Титова', 'id': 422}, {'value': 'им. Алабушина', 'id': 423}, {'value': 'им. Московцева', 'id': 424}, {'value': 'им. Р. Требса', 'id': 425}, {'value': 'им. Россихина', 'id': 426}, {'value': 'скв 29956 залежь 221', 'id': 427}]}]\n",
    "    for field in fields[0][\"choices\"]:\n",
    "        if x in field[\"value\"]:\n",
    "            return field\n",
    "df_new_raw_content[\"field\"] = df_new_raw_content[\"field\"].apply(lambda x: convert_to_field_raw(x))"
   ]
  },
  {
   "cell_type": "code",
   "execution_count": 261,
   "id": "18897395-530e-4082-9fbc-a9fb58f5b7d7",
   "metadata": {},
   "outputs": [],
   "source": [
    "def convert_dateAkt_to_date(date_string):\n",
    "    date = pd.to_datetime(date_string, format='%Y%m%dT%H:%M:%S%z')\n",
    "    formatted_date = date.strftime('%Y-%m-%dT%H:%M:%S.%f%z')\n",
    "    return formatted_date\n",
    "\n",
    "df_new_raw_content[\"dateAkt\"] = df_new_raw_content[\"dateAkt\"].apply(lambda x: convert_dateAkt_to_date(x))"
   ]
  },
  {
   "cell_type": "code",
   "execution_count": 262,
   "id": "bcc4a5d2-fa81-4f72-bd46-b304f280bbbf",
   "metadata": {},
   "outputs": [],
   "source": [
    "df_new_raw_content = df_new_raw_content[df_new_raw_content['violations'].apply(lambda x: x != [])]"
   ]
  },
  {
   "cell_type": "code",
   "execution_count": 263,
   "id": "19edb8a9-9e78-4ae6-8516-611bad46b90c",
   "metadata": {},
   "outputs": [
    {
     "data": {
      "text/html": [
       "<div>\n",
       "<style scoped>\n",
       "    .dataframe tbody tr th:only-of-type {\n",
       "        vertical-align: middle;\n",
       "    }\n",
       "\n",
       "    .dataframe tbody tr th {\n",
       "        vertical-align: top;\n",
       "    }\n",
       "\n",
       "    .dataframe thead th {\n",
       "        text-align: right;\n",
       "    }\n",
       "</style>\n",
       "<table border=\"1\" class=\"dataframe\">\n",
       "  <thead>\n",
       "    <tr style=\"text-align: right;\">\n",
       "      <th></th>\n",
       "      <th>dateAkt</th>\n",
       "      <th>superFIO</th>\n",
       "      <th>padstep1</th>\n",
       "      <th>well</th>\n",
       "      <th>field</th>\n",
       "      <th>podrCompanystep1</th>\n",
       "      <th>MasterFIO</th>\n",
       "      <th>numBrigade</th>\n",
       "      <th>violations</th>\n",
       "      <th>zaknamestep1_content</th>\n",
       "      <th>zaknamestep1</th>\n",
       "    </tr>\n",
       "  </thead>\n",
       "  <tbody>\n",
       "    <tr>\n",
       "      <th>0</th>\n",
       "      <td>2023-08-01T14:00:00.000000+0000</td>\n",
       "      <td>{'value': 'Марков А.С', 'payload': {'superFIOk...</td>\n",
       "      <td>581</td>\n",
       "      <td>8944</td>\n",
       "      <td>{'value': 'Ватьеганское', 'id': 44}</td>\n",
       "      <td>{'id': '2', 'value': 'ООО «БКЕ» ФРС'}</td>\n",
       "      <td>Лохман А.В.</td>\n",
       "      <td>38</td>\n",
       "      <td>[{'riskLevel': '', 'violationName': ' 1 Настил...</td>\n",
       "      <td>ТПП «Повхнефтегаз»</td>\n",
       "      <td>{'id': '1', 'value': 'ТПП «Повхнефтегаз»', 'pa...</td>\n",
       "    </tr>\n",
       "    <tr>\n",
       "      <th>1</th>\n",
       "      <td>2023-08-01T15:30:00.000000+0000</td>\n",
       "      <td>{'value': 'Шайхутдинов А.А', 'payload': {'supe...</td>\n",
       "      <td>1</td>\n",
       "      <td>1226</td>\n",
       "      <td>{'value': 'Повховское', 'id': 243}</td>\n",
       "      <td>{'id': '1', 'value': 'ООО «Мастернефтьсервис»'}</td>\n",
       "      <td>Ибрагимов Р.Ф.</td>\n",
       "      <td>31</td>\n",
       "      <td>[{'riskLevel': '', 'violationName': '1. Некорр...</td>\n",
       "      <td>ТПП «Повхнефтегаз»</td>\n",
       "      <td>{'id': '1', 'value': 'ТПП «Повхнефтегаз»', 'pa...</td>\n",
       "    </tr>\n",
       "    <tr>\n",
       "      <th>2</th>\n",
       "      <td>2023-08-01T17:30:00.000000+0000</td>\n",
       "      <td>{'value': 'Шайхутдинов А.А', 'payload': {'supe...</td>\n",
       "      <td>94б</td>\n",
       "      <td>829</td>\n",
       "      <td>{'value': 'Повховское', 'id': 243}</td>\n",
       "      <td>{'id': '1', 'value': 'ООО «Мастернефтьсервис»'}</td>\n",
       "      <td>Цапков Н.А.</td>\n",
       "      <td>35</td>\n",
       "      <td>[{'riskLevel': '', 'violationName': '1. Отсутс...</td>\n",
       "      <td>ТПП «Повхнефтегаз»</td>\n",
       "      <td>{'id': '1', 'value': 'ТПП «Повхнефтегаз»', 'pa...</td>\n",
       "    </tr>\n",
       "    <tr>\n",
       "      <th>3</th>\n",
       "      <td>2023-08-01T20:00:00.000000+0000</td>\n",
       "      <td>{'value': 'Ляпустин Д.В', 'payload': {'superFI...</td>\n",
       "      <td>166</td>\n",
       "      <td>3777</td>\n",
       "      <td>{'value': 'Повховское', 'id': 243}</td>\n",
       "      <td>{'id': '1', 'value': 'ООО «Мастернефтьсервис»'}</td>\n",
       "      <td>Лютов С.А.</td>\n",
       "      <td>7</td>\n",
       "      <td>[{'riskLevel': '', 'violationName': '1. При ра...</td>\n",
       "      <td>ТПП «Повхнефтегаз»</td>\n",
       "      <td>{'id': '1', 'value': 'ТПП «Повхнефтегаз»', 'pa...</td>\n",
       "    </tr>\n",
       "    <tr>\n",
       "      <th>4</th>\n",
       "      <td>2023-08-02T01:00:00.000000+0000</td>\n",
       "      <td>{'value': 'Ляпустин Д.В', 'payload': {'superFI...</td>\n",
       "      <td>46б</td>\n",
       "      <td>4299</td>\n",
       "      <td>{'value': 'Повховское', 'id': 243}</td>\n",
       "      <td>{'id': '1', 'value': 'ООО «Мастернефтьсервис»'}</td>\n",
       "      <td>Александров Е.В.</td>\n",
       "      <td>6</td>\n",
       "      <td>[{'riskLevel': '', 'violationName': '1. Бригад...</td>\n",
       "      <td>ТПП «Повхнефтегаз»</td>\n",
       "      <td>{'id': '1', 'value': 'ТПП «Повхнефтегаз»', 'pa...</td>\n",
       "    </tr>\n",
       "  </tbody>\n",
       "</table>\n",
       "</div>"
      ],
      "text/plain": [
       "                           dateAkt  \\\n",
       "0  2023-08-01T14:00:00.000000+0000   \n",
       "1  2023-08-01T15:30:00.000000+0000   \n",
       "2  2023-08-01T17:30:00.000000+0000   \n",
       "3  2023-08-01T20:00:00.000000+0000   \n",
       "4  2023-08-02T01:00:00.000000+0000   \n",
       "\n",
       "                                            superFIO padstep1  well  \\\n",
       "0  {'value': 'Марков А.С', 'payload': {'superFIOk...      581  8944   \n",
       "1  {'value': 'Шайхутдинов А.А', 'payload': {'supe...        1  1226   \n",
       "2  {'value': 'Шайхутдинов А.А', 'payload': {'supe...      94б   829   \n",
       "3  {'value': 'Ляпустин Д.В', 'payload': {'superFI...      166  3777   \n",
       "4  {'value': 'Ляпустин Д.В', 'payload': {'superFI...      46б  4299   \n",
       "\n",
       "                                 field  \\\n",
       "0  {'value': 'Ватьеганское', 'id': 44}   \n",
       "1   {'value': 'Повховское', 'id': 243}   \n",
       "2   {'value': 'Повховское', 'id': 243}   \n",
       "3   {'value': 'Повховское', 'id': 243}   \n",
       "4   {'value': 'Повховское', 'id': 243}   \n",
       "\n",
       "                                  podrCompanystep1         MasterFIO  \\\n",
       "0            {'id': '2', 'value': 'ООО «БКЕ» ФРС'}       Лохман А.В.   \n",
       "1  {'id': '1', 'value': 'ООО «Мастернефтьсервис»'}    Ибрагимов Р.Ф.   \n",
       "2  {'id': '1', 'value': 'ООО «Мастернефтьсервис»'}       Цапков Н.А.   \n",
       "3  {'id': '1', 'value': 'ООО «Мастернефтьсервис»'}        Лютов С.А.   \n",
       "4  {'id': '1', 'value': 'ООО «Мастернефтьсервис»'}  Александров Е.В.   \n",
       "\n",
       "  numBrigade                                         violations  \\\n",
       "0         38  [{'riskLevel': '', 'violationName': ' 1 Настил...   \n",
       "1         31  [{'riskLevel': '', 'violationName': '1. Некорр...   \n",
       "2         35  [{'riskLevel': '', 'violationName': '1. Отсутс...   \n",
       "3          7  [{'riskLevel': '', 'violationName': '1. При ра...   \n",
       "4          6  [{'riskLevel': '', 'violationName': '1. Бригад...   \n",
       "\n",
       "  zaknamestep1_content                                       zaknamestep1  \n",
       "0   ТПП «Повхнефтегаз»  {'id': '1', 'value': 'ТПП «Повхнефтегаз»', 'pa...  \n",
       "1   ТПП «Повхнефтегаз»  {'id': '1', 'value': 'ТПП «Повхнефтегаз»', 'pa...  \n",
       "2   ТПП «Повхнефтегаз»  {'id': '1', 'value': 'ТПП «Повхнефтегаз»', 'pa...  \n",
       "3   ТПП «Повхнефтегаз»  {'id': '1', 'value': 'ТПП «Повхнефтегаз»', 'pa...  \n",
       "4   ТПП «Повхнефтегаз»  {'id': '1', 'value': 'ТПП «Повхнефтегаз»', 'pa...  "
      ]
     },
     "execution_count": 263,
     "metadata": {},
     "output_type": "execute_result"
    }
   ],
   "source": [
    "df_new_raw_content.head()"
   ]
  },
  {
   "cell_type": "code",
   "execution_count": 264,
   "id": "a27b3038-d6e1-410d-9c9f-90af9e60c8b6",
   "metadata": {},
   "outputs": [],
   "source": [
    "# Окончательно формируем raw_content\n",
    "res_raw_content = []\n",
    "for index, row in df_new_raw_content.iterrows():\n",
    "    dic = {\n",
    "        \"superFIO\": row[1],\n",
    "        \"inPresence\": \"\",\n",
    "        \"podrCompanystep1\": row[5],\n",
    "        \"dateAkt\": row[0],\n",
    "        \"zaknamestep1\": row[10],\n",
    "        \"nomerAktaKomiFreestep1\": \"\",\n",
    "        \"field\": row[4],\n",
    "        \"padstep1\": row[2],\n",
    "        \"wellstep1\": row[3],\n",
    "        \"typeJobstep1\": \"\",\n",
    "        \"superSignat\": \"\",\n",
    "        \"podrSignat\": \"\",\n",
    "        \"tbl_contents\": row[8],\n",
    "        \"numBrigade\": row[7],\n",
    "        \"cdng\": \"\",\n",
    "        \"findings\": \"\",\n",
    "        \"perfName\": \"\",\n",
    "        \"applicat\": \"\",\n",
    "        \"podrFIO\": row[6],\n",
    "        \"podrPosition\": \"\",\n",
    "        \"special_opinion\": \"\"\n",
    "    }\n",
    "    res_raw_content.append(dic)"
   ]
  },
  {
   "cell_type": "code",
   "execution_count": 265,
   "id": "ef0b4a5a-471e-457c-bb8f-ab1268de8c27",
   "metadata": {},
   "outputs": [
    {
     "data": {
      "text/plain": [
       "(403, 19)"
      ]
     },
     "execution_count": 265,
     "metadata": {},
     "output_type": "execute_result"
    }
   ],
   "source": [
    "df_new_for_content.shape"
   ]
  },
  {
   "cell_type": "markdown",
   "id": "e680c190-23ea-48f6-8db4-a60af92ffdaf",
   "metadata": {},
   "source": [
    "### Формируем датафрейм для запроса на нарушения"
   ]
  },
  {
   "cell_type": "code",
   "execution_count": 266,
   "id": "12ed29cb-c59f-4349-836b-f96ef496afb6",
   "metadata": {},
   "outputs": [],
   "source": [
    "df_for_violations_request = pd.DataFrame()"
   ]
  },
  {
   "cell_type": "code",
   "execution_count": 267,
   "id": "ad505aad-2d78-4196-997c-5a1fa50a36cc",
   "metadata": {},
   "outputs": [],
   "source": [
    "df_for_violations_request[\"content\"] = df_new_for_content.violations"
   ]
  },
  {
   "cell_type": "code",
   "execution_count": 268,
   "id": "fc5a710e-0155-49cd-be9c-6ce1d5085204",
   "metadata": {},
   "outputs": [],
   "source": [
    "def add_attachments_to_violations(row):\n",
    "    try:\n",
    "        for i in row:\n",
    "            i[\"attachments\"] = []\n",
    "        return row\n",
    "    except:\n",
    "        pass\n",
    "\n",
    "df_for_violations_request[\"raw_content\"] = df_for_violations_request[\"content\"].apply(add_attachments_to_violations)"
   ]
  },
  {
   "cell_type": "code",
   "execution_count": 269,
   "id": "e68909e5-d66b-421b-a574-754796b8b868",
   "metadata": {},
   "outputs": [],
   "source": [
    "def normative_articles_to_violations(row):\n",
    "    try:\n",
    "        normative_articles = []\n",
    "        for i in row:\n",
    "            for j in i[\"violationDescription\"]:\n",
    "                normative_articles.append(j[\"id\"])\n",
    "        return normative_articles\n",
    "    except:\n",
    "        pass\n",
    "df_for_violations_request[\"normative_articles\"] = df_for_violations_request.raw_content.apply(normative_articles_to_violations)"
   ]
  },
  {
   "cell_type": "code",
   "execution_count": 270,
   "id": "753f1dd2-565e-46e6-947a-15188608e77c",
   "metadata": {},
   "outputs": [],
   "source": [
    "def convert_to_name_violation(row):\n",
    "    try:\n",
    "        name = []\n",
    "        for i in row:\n",
    "            name.append(i[\"violationName\"])\n",
    "        return name\n",
    "    except:\n",
    "        pass\n",
    "        \n",
    "df_for_violations_request[\"name\"] = df_for_violations_request.raw_content.apply(convert_to_name_violation)"
   ]
  },
  {
   "cell_type": "code",
   "execution_count": 271,
   "id": "13338484-8016-4c8b-8a21-09d9085ce195",
   "metadata": {},
   "outputs": [],
   "source": [
    "df_for_violations_request = df_for_violations_request.assign(environment_state=2865)\n",
    "empty_lists_files = [[] for _ in range(len(df_for_violations_request))]\n",
    "df_for_violations_request = df_for_violations_request.assign(files=empty_lists_files)"
   ]
  },
  {
   "cell_type": "code",
   "execution_count": 272,
   "id": "14535411-6f77-42e2-a170-31a0648ffb52",
   "metadata": {},
   "outputs": [],
   "source": [
    "# Получаем id супервайзеров\n",
    "import json\n",
    "import requests\n",
    "s = requests.Session()\n",
    "r = s.request('POST','https://ma.gasoilcenter.ru/api/token/obtain/', json = {\"username\":\"admin\",\"password\":\"Yasin1367!\"})\n",
    "m = (eval(r.text))[\"access\"]\n",
    "response = s.get('https://ma.gasoilcenter.ru/api/user/get-user/?is_mobile=false', headers={'Authorization':f\"JWT {m}\"})\n",
    "response = json.loads(response.text)\n",
    "users_id = []\n",
    "users_first_name = []\n",
    "users_last_name = []\n",
    "for i in response:\n",
    "    users_id.append(i[\"id\"])\n",
    "    users_first_name.append(i[\"first_name\"])\n",
    "    users_last_name.append(i[\"last_name\"])\n",
    "\n",
    "df_users_all = pd.DataFrame({\n",
    "    \"id\": users_id,\n",
    "    \"last_name\": users_last_name,\n",
    "    \"first_name\": users_first_name\n",
    "})\n"
   ]
  },
  {
   "cell_type": "code",
   "execution_count": 273,
   "id": "601322e6-75f8-4957-b935-48167d83bc2b",
   "metadata": {},
   "outputs": [],
   "source": [
    "df_for_violations_request[\"superFIO\"] = df_new_raw_content.superFIO"
   ]
  },
  {
   "cell_type": "code",
   "execution_count": 274,
   "id": "57ea7d4e-0fae-44ee-a69d-4ce5cf4c63c1",
   "metadata": {},
   "outputs": [],
   "source": [
    "df_for_violations_request = df_for_violations_request.dropna()"
   ]
  },
  {
   "cell_type": "code",
   "execution_count": 275,
   "id": "ba3c2a7c-0ae2-4172-8588-c7913837ac57",
   "metadata": {},
   "outputs": [],
   "source": [
    "# Получаем id супервайзера по его ФИО\n",
    "users_id_true = []\n",
    "not_users = []\n",
    "for record in df_for_violations_request['superFIO']:\n",
    "    super_fio_full = record[\"value\"]\n",
    "    if super_fio_full == 'Габуллин Р.Р':\n",
    "        record[\"value\"] = 'Габдуллин Р.Р'\n",
    "        super_fio_full = 'Габдуллин Р.Р'\n",
    "    elif super_fio_full == 'Субботн В.А' or super_fio_full == 'Суботин В.А':\n",
    "        record[\"value\"] = 'Субботин В.А'\n",
    "        super_fio_full = 'Субботин В.А'\n",
    "    elif super_fio_full == 'Королмыцев Н.В':\n",
    "        record[\"value\"] = 'Коломыцев Н.В.'\n",
    "        super_fio_full = 'Коломыцев Н.В.'\n",
    "    super_fio_parts = super_fio_full.split()\n",
    "    last_name = super_fio_parts[0] if super_fio_parts else None\n",
    "    start_first_name = super_fio_parts[1][0] if super_fio_parts else None\n",
    "    try:\n",
    "        users_id_true.append(df_users_all[(df_users_all[\"last_name\"] == last_name) & (df_users_all[\"first_name\"].str.startswith(start_first_name))].id.iloc[0])\n",
    "    except: \n",
    "        users_id_true.append(\"нет id в системе\")\n",
    "        not_users.append(super_fio_full)\n",
    "        # break"
   ]
  },
  {
   "cell_type": "code",
   "execution_count": 276,
   "id": "716c1e9c-7afe-4ae0-84f4-c9f764cde720",
   "metadata": {},
   "outputs": [
    {
     "data": {
      "text/plain": [
       "set()"
      ]
     },
     "execution_count": 276,
     "metadata": {},
     "output_type": "execute_result"
    }
   ],
   "source": [
    "set(not_users)"
   ]
  },
  {
   "cell_type": "code",
   "execution_count": 277,
   "id": "a0c6748e-5c21-43d2-af6c-5eadff8778b6",
   "metadata": {},
   "outputs": [
    {
     "data": {
      "text/plain": [
       "True"
      ]
     },
     "execution_count": 277,
     "metadata": {},
     "output_type": "execute_result"
    }
   ],
   "source": [
    "# Проверяем что мы обработали всех супервайзеров\n",
    "len(users_id_true) == df_for_violations_request.shape[0]"
   ]
  },
  {
   "cell_type": "code",
   "execution_count": 278,
   "id": "d7d44548-f1d3-4cdf-90a1-628d33d40646",
   "metadata": {},
   "outputs": [],
   "source": [
    "df_for_violations_request = df_for_violations_request.assign(creator = users_id_true)"
   ]
  },
  {
   "cell_type": "code",
   "execution_count": 279,
   "id": "6422591b-976a-494a-9183-1ddd7ed1e941",
   "metadata": {},
   "outputs": [],
   "source": [
    "df_for_violations_request = df_for_violations_request.drop(columns=\"superFIO\")"
   ]
  },
  {
   "cell_type": "code",
   "execution_count": 280,
   "id": "d32a0da8-48ab-4b72-94c1-0469d37c0209",
   "metadata": {},
   "outputs": [
    {
     "data": {
      "text/html": [
       "<div>\n",
       "<style scoped>\n",
       "    .dataframe tbody tr th:only-of-type {\n",
       "        vertical-align: middle;\n",
       "    }\n",
       "\n",
       "    .dataframe tbody tr th {\n",
       "        vertical-align: top;\n",
       "    }\n",
       "\n",
       "    .dataframe thead th {\n",
       "        text-align: right;\n",
       "    }\n",
       "</style>\n",
       "<table border=\"1\" class=\"dataframe\">\n",
       "  <thead>\n",
       "    <tr style=\"text-align: right;\">\n",
       "      <th></th>\n",
       "      <th>content</th>\n",
       "      <th>raw_content</th>\n",
       "      <th>normative_articles</th>\n",
       "      <th>name</th>\n",
       "      <th>environment_state</th>\n",
       "      <th>files</th>\n",
       "      <th>creator</th>\n",
       "    </tr>\n",
       "  </thead>\n",
       "  <tbody>\n",
       "    <tr>\n",
       "      <th>0</th>\n",
       "      <td>[{'riskLevel': '', 'violationName': ' 1 Настил...</td>\n",
       "      <td>[{'riskLevel': '', 'violationName': ' 1 Настил...</td>\n",
       "      <td>[21141, 19006]</td>\n",
       "      <td>[ 1 Настил рабочей площадки деформирован, имею...</td>\n",
       "      <td>2865</td>\n",
       "      <td>[]</td>\n",
       "      <td>146</td>\n",
       "    </tr>\n",
       "    <tr>\n",
       "      <th>1</th>\n",
       "      <td>[{'riskLevel': '', 'violationName': '1. Некорр...</td>\n",
       "      <td>[{'riskLevel': '', 'violationName': '1. Некорр...</td>\n",
       "      <td>[25682]</td>\n",
       "      <td>[1. Некорректная работа видеофиксации (отключе...</td>\n",
       "      <td>2865</td>\n",
       "      <td>[]</td>\n",
       "      <td>122</td>\n",
       "    </tr>\n",
       "    <tr>\n",
       "      <th>2</th>\n",
       "      <td>[{'riskLevel': '', 'violationName': '1. Отсутс...</td>\n",
       "      <td>[{'riskLevel': '', 'violationName': '1. Отсутс...</td>\n",
       "      <td>[20048, 25682]</td>\n",
       "      <td>[1. Отсутствует метка предельно допустимого да...</td>\n",
       "      <td>2865</td>\n",
       "      <td>[]</td>\n",
       "      <td>122</td>\n",
       "    </tr>\n",
       "    <tr>\n",
       "      <th>3</th>\n",
       "      <td>[{'riskLevel': '', 'violationName': '1. При ра...</td>\n",
       "      <td>[{'riskLevel': '', 'violationName': '1. При ра...</td>\n",
       "      <td>[38122]</td>\n",
       "      <td>[1. При работе \"Фрезерование\" оплетка шланга в...</td>\n",
       "      <td>2865</td>\n",
       "      <td>[]</td>\n",
       "      <td>241</td>\n",
       "    </tr>\n",
       "    <tr>\n",
       "      <th>4</th>\n",
       "      <td>[{'riskLevel': '', 'violationName': '1. Бригад...</td>\n",
       "      <td>[{'riskLevel': '', 'violationName': '1. Бригад...</td>\n",
       "      <td>[20048]</td>\n",
       "      <td>[1. Бригада не укомплектована исправным компле...</td>\n",
       "      <td>2865</td>\n",
       "      <td>[]</td>\n",
       "      <td>241</td>\n",
       "    </tr>\n",
       "  </tbody>\n",
       "</table>\n",
       "</div>"
      ],
      "text/plain": [
       "                                             content  \\\n",
       "0  [{'riskLevel': '', 'violationName': ' 1 Настил...   \n",
       "1  [{'riskLevel': '', 'violationName': '1. Некорр...   \n",
       "2  [{'riskLevel': '', 'violationName': '1. Отсутс...   \n",
       "3  [{'riskLevel': '', 'violationName': '1. При ра...   \n",
       "4  [{'riskLevel': '', 'violationName': '1. Бригад...   \n",
       "\n",
       "                                         raw_content normative_articles  \\\n",
       "0  [{'riskLevel': '', 'violationName': ' 1 Настил...     [21141, 19006]   \n",
       "1  [{'riskLevel': '', 'violationName': '1. Некорр...            [25682]   \n",
       "2  [{'riskLevel': '', 'violationName': '1. Отсутс...     [20048, 25682]   \n",
       "3  [{'riskLevel': '', 'violationName': '1. При ра...            [38122]   \n",
       "4  [{'riskLevel': '', 'violationName': '1. Бригад...            [20048]   \n",
       "\n",
       "                                                name  environment_state files  \\\n",
       "0  [ 1 Настил рабочей площадки деформирован, имею...               2865    []   \n",
       "1  [1. Некорректная работа видеофиксации (отключе...               2865    []   \n",
       "2  [1. Отсутствует метка предельно допустимого да...               2865    []   \n",
       "3  [1. При работе \"Фрезерование\" оплетка шланга в...               2865    []   \n",
       "4  [1. Бригада не укомплектована исправным компле...               2865    []   \n",
       "\n",
       "   creator  \n",
       "0      146  \n",
       "1      122  \n",
       "2      122  \n",
       "3      241  \n",
       "4      241  "
      ]
     },
     "execution_count": 280,
     "metadata": {},
     "output_type": "execute_result"
    }
   ],
   "source": [
    "df_for_violations_request.head()"
   ]
  },
  {
   "cell_type": "code",
   "execution_count": 281,
   "id": "998a1857-df29-4aec-a614-df3b245f5771",
   "metadata": {},
   "outputs": [
    {
     "data": {
      "text/plain": [
       "(403, 7)"
      ]
     },
     "execution_count": 281,
     "metadata": {},
     "output_type": "execute_result"
    }
   ],
   "source": [
    "df_for_violations_request.shape"
   ]
  },
  {
   "cell_type": "markdown",
   "id": "715c3aea-dc01-476d-8cc5-6826b1aec9d8",
   "metadata": {},
   "source": [
    "### Формируем столбцы акта"
   ]
  },
  {
   "cell_type": "code",
   "execution_count": 282,
   "id": "bc65b9a3-f9f4-4ac2-8c17-be756b7149da",
   "metadata": {},
   "outputs": [],
   "source": [
    "def process_dates_raw(date_str):\n",
    "    date = pd.to_datetime(date_str, format='%Y%m%dT%H:%M:%SZ')\n",
    "    formatted_date = date.strftime('%Y-%m-%dT%H:%M:%S.%fZ')\n",
    "    return formatted_date\n",
    "\n",
    "df_new_for_content['dateAkt'] = df_new_for_content['dateAkt'].apply(\n",
    "            lambda x: pd.Series(process_dates_raw(x))\n",
    "        )"
   ]
  },
  {
   "cell_type": "code",
   "execution_count": 283,
   "id": "0906cbd5-d926-4d1b-84c9-fc3fdc3231b6",
   "metadata": {},
   "outputs": [
    {
     "data": {
      "text/html": [
       "<div>\n",
       "<style scoped>\n",
       "    .dataframe tbody tr th:only-of-type {\n",
       "        vertical-align: middle;\n",
       "    }\n",
       "\n",
       "    .dataframe tbody tr th {\n",
       "        vertical-align: top;\n",
       "    }\n",
       "\n",
       "    .dataframe thead th {\n",
       "        text-align: right;\n",
       "    }\n",
       "</style>\n",
       "<table border=\"1\" class=\"dataframe\">\n",
       "  <thead>\n",
       "    <tr style=\"text-align: right;\">\n",
       "      <th></th>\n",
       "      <th>dateAkt</th>\n",
       "      <th>superFIO</th>\n",
       "      <th>padstep1</th>\n",
       "      <th>well</th>\n",
       "      <th>field</th>\n",
       "      <th>podrCompanystep1</th>\n",
       "      <th>MasterFIO</th>\n",
       "      <th>numBrigade</th>\n",
       "      <th>violations</th>\n",
       "      <th>zaknamestep1_content</th>\n",
       "      <th>zaknamestep1</th>\n",
       "      <th>dateAktHour</th>\n",
       "      <th>dateAktMinute</th>\n",
       "      <th>dateAktmain</th>\n",
       "      <th>dateAkttime</th>\n",
       "      <th>dateTime</th>\n",
       "      <th>dateTime2</th>\n",
       "      <th>dateAktquotes</th>\n",
       "      <th>dateAktchbegin</th>\n",
       "    </tr>\n",
       "  </thead>\n",
       "  <tbody>\n",
       "    <tr>\n",
       "      <th>0</th>\n",
       "      <td>2023-08-01T14:00:00.000000Z</td>\n",
       "      <td>Марков А.С</td>\n",
       "      <td>581</td>\n",
       "      <td>8944</td>\n",
       "      <td>Ватьеганское</td>\n",
       "      <td>ООО «БКЕ» ФРС</td>\n",
       "      <td>Лохман А.В.</td>\n",
       "      <td>38</td>\n",
       "      <td>[{'riskLevel': '', 'violationName': ' 1 Настил...</td>\n",
       "      <td>ТПП «Повхнефтегаз»</td>\n",
       "      <td>{'id': '1', 'value': 'ТПП «Повхнефтегаз»', 'pa...</td>\n",
       "      <td>14</td>\n",
       "      <td>00</td>\n",
       "      <td>01 августа 2023</td>\n",
       "      <td>14:00, 01.08.2023</td>\n",
       "      <td>01 августа 14</td>\n",
       "      <td>01/августа/23</td>\n",
       "      <td>01 08</td>\n",
       "      <td>01</td>\n",
       "    </tr>\n",
       "    <tr>\n",
       "      <th>1</th>\n",
       "      <td>2023-08-01T15:30:00.000000Z</td>\n",
       "      <td>Шайхутдинов А.А</td>\n",
       "      <td>1</td>\n",
       "      <td>1226</td>\n",
       "      <td>Повховское</td>\n",
       "      <td>ООО «Мастернефтьсервис»</td>\n",
       "      <td>Ибрагимов Р.Ф.</td>\n",
       "      <td>31</td>\n",
       "      <td>[{'riskLevel': '', 'violationName': '1. Некорр...</td>\n",
       "      <td>ТПП «Повхнефтегаз»</td>\n",
       "      <td>{'id': '1', 'value': 'ТПП «Повхнефтегаз»', 'pa...</td>\n",
       "      <td>15</td>\n",
       "      <td>30</td>\n",
       "      <td>01 августа 2023</td>\n",
       "      <td>15:30, 01.08.2023</td>\n",
       "      <td>01 августа 15</td>\n",
       "      <td>01/августа/23</td>\n",
       "      <td>01 08</td>\n",
       "      <td>01</td>\n",
       "    </tr>\n",
       "    <tr>\n",
       "      <th>2</th>\n",
       "      <td>2023-08-01T17:30:00.000000Z</td>\n",
       "      <td>Шайхутдинов А.А</td>\n",
       "      <td>94б</td>\n",
       "      <td>829</td>\n",
       "      <td>Повховское</td>\n",
       "      <td>ООО «Мастернефтьсервис»</td>\n",
       "      <td>Цапков Н.А.</td>\n",
       "      <td>35</td>\n",
       "      <td>[{'riskLevel': '', 'violationName': '1. Отсутс...</td>\n",
       "      <td>ТПП «Повхнефтегаз»</td>\n",
       "      <td>{'id': '1', 'value': 'ТПП «Повхнефтегаз»', 'pa...</td>\n",
       "      <td>17</td>\n",
       "      <td>30</td>\n",
       "      <td>01 августа 2023</td>\n",
       "      <td>17:30, 01.08.2023</td>\n",
       "      <td>01 августа 17</td>\n",
       "      <td>01/августа/23</td>\n",
       "      <td>01 08</td>\n",
       "      <td>01</td>\n",
       "    </tr>\n",
       "    <tr>\n",
       "      <th>3</th>\n",
       "      <td>2023-08-01T20:00:00.000000Z</td>\n",
       "      <td>Ляпустин Д.В</td>\n",
       "      <td>166</td>\n",
       "      <td>3777</td>\n",
       "      <td>Повховское</td>\n",
       "      <td>ООО «Мастернефтьсервис»</td>\n",
       "      <td>Лютов С.А.</td>\n",
       "      <td>7</td>\n",
       "      <td>[{'riskLevel': '', 'violationName': '1. При ра...</td>\n",
       "      <td>ТПП «Повхнефтегаз»</td>\n",
       "      <td>{'id': '1', 'value': 'ТПП «Повхнефтегаз»', 'pa...</td>\n",
       "      <td>20</td>\n",
       "      <td>00</td>\n",
       "      <td>01 августа 2023</td>\n",
       "      <td>20:00, 01.08.2023</td>\n",
       "      <td>01 августа 20</td>\n",
       "      <td>01/августа/23</td>\n",
       "      <td>01 08</td>\n",
       "      <td>01</td>\n",
       "    </tr>\n",
       "    <tr>\n",
       "      <th>4</th>\n",
       "      <td>2023-08-02T01:00:00.000000Z</td>\n",
       "      <td>Ляпустин Д.В</td>\n",
       "      <td>46б</td>\n",
       "      <td>4299</td>\n",
       "      <td>Повховское</td>\n",
       "      <td>ООО «Мастернефтьсервис»</td>\n",
       "      <td>Александров Е.В.</td>\n",
       "      <td>6</td>\n",
       "      <td>[{'riskLevel': '', 'violationName': '1. Бригад...</td>\n",
       "      <td>ТПП «Повхнефтегаз»</td>\n",
       "      <td>{'id': '1', 'value': 'ТПП «Повхнефтегаз»', 'pa...</td>\n",
       "      <td>01</td>\n",
       "      <td>00</td>\n",
       "      <td>02 августа 2023</td>\n",
       "      <td>01:00, 02.08.2023</td>\n",
       "      <td>02 августа 01</td>\n",
       "      <td>02/августа/23</td>\n",
       "      <td>02 08</td>\n",
       "      <td>02</td>\n",
       "    </tr>\n",
       "  </tbody>\n",
       "</table>\n",
       "</div>"
      ],
      "text/plain": [
       "                       dateAkt         superFIO padstep1  well         field  \\\n",
       "0  2023-08-01T14:00:00.000000Z       Марков А.С      581  8944  Ватьеганское   \n",
       "1  2023-08-01T15:30:00.000000Z  Шайхутдинов А.А        1  1226    Повховское   \n",
       "2  2023-08-01T17:30:00.000000Z  Шайхутдинов А.А      94б   829    Повховское   \n",
       "3  2023-08-01T20:00:00.000000Z     Ляпустин Д.В      166  3777    Повховское   \n",
       "4  2023-08-02T01:00:00.000000Z     Ляпустин Д.В      46б  4299    Повховское   \n",
       "\n",
       "          podrCompanystep1         MasterFIO numBrigade  \\\n",
       "0            ООО «БКЕ» ФРС       Лохман А.В.         38   \n",
       "1  ООО «Мастернефтьсервис»    Ибрагимов Р.Ф.         31   \n",
       "2  ООО «Мастернефтьсервис»       Цапков Н.А.         35   \n",
       "3  ООО «Мастернефтьсервис»        Лютов С.А.          7   \n",
       "4  ООО «Мастернефтьсервис»  Александров Е.В.          6   \n",
       "\n",
       "                                          violations zaknamestep1_content  \\\n",
       "0  [{'riskLevel': '', 'violationName': ' 1 Настил...   ТПП «Повхнефтегаз»   \n",
       "1  [{'riskLevel': '', 'violationName': '1. Некорр...   ТПП «Повхнефтегаз»   \n",
       "2  [{'riskLevel': '', 'violationName': '1. Отсутс...   ТПП «Повхнефтегаз»   \n",
       "3  [{'riskLevel': '', 'violationName': '1. При ра...   ТПП «Повхнефтегаз»   \n",
       "4  [{'riskLevel': '', 'violationName': '1. Бригад...   ТПП «Повхнефтегаз»   \n",
       "\n",
       "                                        zaknamestep1 dateAktHour  \\\n",
       "0  {'id': '1', 'value': 'ТПП «Повхнефтегаз»', 'pa...          14   \n",
       "1  {'id': '1', 'value': 'ТПП «Повхнефтегаз»', 'pa...          15   \n",
       "2  {'id': '1', 'value': 'ТПП «Повхнефтегаз»', 'pa...          17   \n",
       "3  {'id': '1', 'value': 'ТПП «Повхнефтегаз»', 'pa...          20   \n",
       "4  {'id': '1', 'value': 'ТПП «Повхнефтегаз»', 'pa...          01   \n",
       "\n",
       "  dateAktMinute      dateAktmain        dateAkttime       dateTime  \\\n",
       "0            00  01 августа 2023  14:00, 01.08.2023  01 августа 14   \n",
       "1            30  01 августа 2023  15:30, 01.08.2023  01 августа 15   \n",
       "2            30  01 августа 2023  17:30, 01.08.2023  01 августа 17   \n",
       "3            00  01 августа 2023  20:00, 01.08.2023  01 августа 20   \n",
       "4            00  02 августа 2023  01:00, 02.08.2023  02 августа 01   \n",
       "\n",
       "       dateTime2 dateAktquotes dateAktchbegin  \n",
       "0  01/августа/23         01 08             01  \n",
       "1  01/августа/23         01 08             01  \n",
       "2  01/августа/23         01 08             01  \n",
       "3  01/августа/23         01 08             01  \n",
       "4  02/августа/23         02 08             02  "
      ]
     },
     "execution_count": 283,
     "metadata": {},
     "output_type": "execute_result"
    }
   ],
   "source": [
    "df_new_for_content.head()"
   ]
  },
  {
   "cell_type": "code",
   "execution_count": 284,
   "id": "d8ac32c8-83c8-446b-b86c-a1efadc114e4",
   "metadata": {},
   "outputs": [],
   "source": [
    "df_final = pd.DataFrame()\n",
    "df_final[\"name\"] = df_new_for_content['dateAkt'].apply(lambda x: \"Предписание ЛЗС-КРС_sign. \" + x)"
   ]
  },
  {
   "cell_type": "code",
   "execution_count": 285,
   "id": "6a32606a-4fbe-4cda-ad42-598f1b2ccef9",
   "metadata": {},
   "outputs": [],
   "source": [
    "# Заносим оставшиеся столбцы\n",
    "df_final = df_final.assign(status=\"signed\")\n",
    "df_final = df_final.assign(environment_state=2865)\n",
    "df_final = df_final.assign(content=res_content)\n",
    "df_final = df_final.assign(raw_content=res_raw_content)\n",
    "\n",
    "# Создаем пустые списки для каждой строки в DataFrame\n",
    "empty_lists_files = [[] for _ in range(len(df_final))]\n",
    "empty_lists_violations = [[] for _ in range(len(df_final))]\n",
    "\n",
    "df_final = df_final.assign(files=empty_lists_files)\n",
    "df_final = df_final.assign(violations=empty_lists_violations)"
   ]
  },
  {
   "cell_type": "code",
   "execution_count": 286,
   "id": "ee21a257-089b-4701-96ff-d8008430c739",
   "metadata": {},
   "outputs": [
    {
     "data": {
      "text/plain": [
       "True"
      ]
     },
     "execution_count": 286,
     "metadata": {},
     "output_type": "execute_result"
    }
   ],
   "source": [
    "# Проверям, что кол-во нарушений совпадает\n",
    "len(res_content) == len(res_raw_content)"
   ]
  },
  {
   "cell_type": "code",
   "execution_count": 287,
   "id": "f9c6cc04-dcea-4377-8d45-24c254b21c0a",
   "metadata": {},
   "outputs": [],
   "source": [
    "# Получаем id супервайзера по его ФИО\n",
    "users_id_true = []\n",
    "not_users = []\n",
    "for record in df_final['raw_content']:\n",
    "    super_fio_full = record[\"superFIO\"][\"value\"]\n",
    "    if super_fio_full == 'Габуллин Р.Р':\n",
    "        record[\"superFIO\"][\"value\"] = 'Габдуллин Р.Р'\n",
    "        super_fio_full = 'Габдуллин Р.Р'\n",
    "    elif super_fio_full == 'Субботн В.А' or super_fio_full == 'Суботин В.А':\n",
    "        record[\"superFIO\"][\"value\"] = 'Субботин В.А'\n",
    "        super_fio_full = 'Субботин В.А'\n",
    "    super_fio_parts = super_fio_full.split()\n",
    "    date_akt = record[\"dateAkt\"]\n",
    "    last_name = super_fio_parts[0] if super_fio_parts else None\n",
    "    start_first_name = super_fio_parts[1][0] if super_fio_parts else None\n",
    "    try:\n",
    "        users_id_true.append(df_users_all[(df_users_all[\"last_name\"] == last_name) & (df_users_all[\"first_name\"].str.startswith(start_first_name))].id.iloc[0])\n",
    "    except: \n",
    "        users_id_true.append(\"нет id в системе\")\n",
    "        not_users.append(super_fio_full)\n",
    "        # break"
   ]
  },
  {
   "cell_type": "code",
   "execution_count": 288,
   "id": "b47f57a8-9c66-43d2-841b-016e7058baa0",
   "metadata": {},
   "outputs": [
    {
     "data": {
      "text/plain": [
       "set()"
      ]
     },
     "execution_count": 288,
     "metadata": {},
     "output_type": "execute_result"
    }
   ],
   "source": [
    "set(not_users)"
   ]
  },
  {
   "cell_type": "code",
   "execution_count": 289,
   "id": "1d2683a5-ac8b-4d10-9ae7-0cba2b2346d1",
   "metadata": {},
   "outputs": [
    {
     "data": {
      "text/plain": [
       "True"
      ]
     },
     "execution_count": 289,
     "metadata": {},
     "output_type": "execute_result"
    }
   ],
   "source": [
    "# Проверяем что мы обработали всех супервайзеров\n",
    "len(users_id_true) == df_final.shape[0]"
   ]
  },
  {
   "cell_type": "code",
   "execution_count": 290,
   "id": "dccf00ab-7c24-4d81-b430-304dfedbdd78",
   "metadata": {},
   "outputs": [],
   "source": [
    "df_final = df_final.assign(creator = users_id_true)"
   ]
  },
  {
   "cell_type": "code",
   "execution_count": 291,
   "id": "99928755-3381-4698-ac50-d5e6641476e4",
   "metadata": {},
   "outputs": [
    {
     "data": {
      "text/html": [
       "<div>\n",
       "<style scoped>\n",
       "    .dataframe tbody tr th:only-of-type {\n",
       "        vertical-align: middle;\n",
       "    }\n",
       "\n",
       "    .dataframe tbody tr th {\n",
       "        vertical-align: top;\n",
       "    }\n",
       "\n",
       "    .dataframe thead th {\n",
       "        text-align: right;\n",
       "    }\n",
       "</style>\n",
       "<table border=\"1\" class=\"dataframe\">\n",
       "  <thead>\n",
       "    <tr style=\"text-align: right;\">\n",
       "      <th></th>\n",
       "      <th>name</th>\n",
       "      <th>status</th>\n",
       "      <th>environment_state</th>\n",
       "      <th>content</th>\n",
       "      <th>raw_content</th>\n",
       "      <th>files</th>\n",
       "      <th>violations</th>\n",
       "      <th>creator</th>\n",
       "    </tr>\n",
       "  </thead>\n",
       "  <tbody>\n",
       "    <tr>\n",
       "      <th>0</th>\n",
       "      <td>Предписание ЛЗС-КРС_sign. 2023-08-01T14:00:00....</td>\n",
       "      <td>signed</td>\n",
       "      <td>2865</td>\n",
       "      <td>{'superFIO': 'Марков А.С', 'superCompany ': 'А...</td>\n",
       "      <td>{'superFIO': {'value': 'Марков А.С', 'payload'...</td>\n",
       "      <td>[]</td>\n",
       "      <td>[]</td>\n",
       "      <td>146</td>\n",
       "    </tr>\n",
       "    <tr>\n",
       "      <th>1</th>\n",
       "      <td>Предписание ЛЗС-КРС_sign. 2023-08-01T15:30:00....</td>\n",
       "      <td>signed</td>\n",
       "      <td>2865</td>\n",
       "      <td>{'superFIO': 'Шайхутдинов А.А', 'superCompany ...</td>\n",
       "      <td>{'superFIO': {'value': 'Шайхутдинов А.А', 'pay...</td>\n",
       "      <td>[]</td>\n",
       "      <td>[]</td>\n",
       "      <td>122</td>\n",
       "    </tr>\n",
       "    <tr>\n",
       "      <th>2</th>\n",
       "      <td>Предписание ЛЗС-КРС_sign. 2023-08-01T17:30:00....</td>\n",
       "      <td>signed</td>\n",
       "      <td>2865</td>\n",
       "      <td>{'superFIO': 'Шайхутдинов А.А', 'superCompany ...</td>\n",
       "      <td>{'superFIO': {'value': 'Шайхутдинов А.А', 'pay...</td>\n",
       "      <td>[]</td>\n",
       "      <td>[]</td>\n",
       "      <td>122</td>\n",
       "    </tr>\n",
       "    <tr>\n",
       "      <th>3</th>\n",
       "      <td>Предписание ЛЗС-КРС_sign. 2023-08-01T20:00:00....</td>\n",
       "      <td>signed</td>\n",
       "      <td>2865</td>\n",
       "      <td>{'superFIO': 'Ляпустин Д.В', 'superCompany ': ...</td>\n",
       "      <td>{'superFIO': {'value': 'Ляпустин Д.В', 'payloa...</td>\n",
       "      <td>[]</td>\n",
       "      <td>[]</td>\n",
       "      <td>241</td>\n",
       "    </tr>\n",
       "    <tr>\n",
       "      <th>4</th>\n",
       "      <td>Предписание ЛЗС-КРС_sign. 2023-08-02T01:00:00....</td>\n",
       "      <td>signed</td>\n",
       "      <td>2865</td>\n",
       "      <td>{'superFIO': 'Ляпустин Д.В', 'superCompany ': ...</td>\n",
       "      <td>{'superFIO': {'value': 'Ляпустин Д.В', 'payloa...</td>\n",
       "      <td>[]</td>\n",
       "      <td>[]</td>\n",
       "      <td>241</td>\n",
       "    </tr>\n",
       "  </tbody>\n",
       "</table>\n",
       "</div>"
      ],
      "text/plain": [
       "                                                name  status  \\\n",
       "0  Предписание ЛЗС-КРС_sign. 2023-08-01T14:00:00....  signed   \n",
       "1  Предписание ЛЗС-КРС_sign. 2023-08-01T15:30:00....  signed   \n",
       "2  Предписание ЛЗС-КРС_sign. 2023-08-01T17:30:00....  signed   \n",
       "3  Предписание ЛЗС-КРС_sign. 2023-08-01T20:00:00....  signed   \n",
       "4  Предписание ЛЗС-КРС_sign. 2023-08-02T01:00:00....  signed   \n",
       "\n",
       "   environment_state                                            content  \\\n",
       "0               2865  {'superFIO': 'Марков А.С', 'superCompany ': 'А...   \n",
       "1               2865  {'superFIO': 'Шайхутдинов А.А', 'superCompany ...   \n",
       "2               2865  {'superFIO': 'Шайхутдинов А.А', 'superCompany ...   \n",
       "3               2865  {'superFIO': 'Ляпустин Д.В', 'superCompany ': ...   \n",
       "4               2865  {'superFIO': 'Ляпустин Д.В', 'superCompany ': ...   \n",
       "\n",
       "                                         raw_content files violations  creator  \n",
       "0  {'superFIO': {'value': 'Марков А.С', 'payload'...    []         []      146  \n",
       "1  {'superFIO': {'value': 'Шайхутдинов А.А', 'pay...    []         []      122  \n",
       "2  {'superFIO': {'value': 'Шайхутдинов А.А', 'pay...    []         []      122  \n",
       "3  {'superFIO': {'value': 'Ляпустин Д.В', 'payloa...    []         []      241  \n",
       "4  {'superFIO': {'value': 'Ляпустин Д.В', 'payloa...    []         []      241  "
      ]
     },
     "execution_count": 291,
     "metadata": {},
     "output_type": "execute_result"
    }
   ],
   "source": [
    "df_final.head()"
   ]
  },
  {
   "cell_type": "markdown",
   "id": "97d16d84-f5ab-4df1-95cb-51a4ac3339ec",
   "metadata": {},
   "source": [
    "### Загружаем нарушения в базу"
   ]
  },
  {
   "cell_type": "code",
   "execution_count": 292,
   "id": "dc0b1f83-5eca-4382-ba69-4950ca490e5c",
   "metadata": {},
   "outputs": [],
   "source": [
    "df_final = df_final.reset_index(drop=True)\n",
    "df_for_violations_request = df_for_violations_request.reset_index(drop=True)"
   ]
  },
  {
   "cell_type": "code",
   "execution_count": 293,
   "id": "d1752892-f537-4dde-955d-01b919b100bd",
   "metadata": {},
   "outputs": [
    {
     "name": "stdout",
     "output_type": "stream",
     "text": [
      "(403, 7)\n",
      "(403, 8)\n"
     ]
    }
   ],
   "source": [
    "print(df_for_violations_request.shape)\n",
    "print(df_final.shape)"
   ]
  },
  {
   "cell_type": "code",
   "execution_count": 195,
   "id": "6614e48e-8f87-4e5e-81f6-5cf78780e892",
   "metadata": {},
   "outputs": [],
   "source": [
    "# df_final = df_final[:2]\n",
    "# df_for_violations_request = df_for_violations_request[:2]"
   ]
  },
  {
   "cell_type": "code",
   "execution_count": 294,
   "id": "a36a4b14-0bab-42e9-bc92-005b0d7a563b",
   "metadata": {
    "scrolled": true
   },
   "outputs": [],
   "source": [
    "# Отправляем запрос\n",
    "import requests\n",
    "s = requests.Session()\n",
    "r = s.request('POST','https://ma.gasoilcenter.ru/api/token/obtain/',json = {\"username\":\"admin\",\"password\":\"Yasin1367!\"})\n",
    "m = (eval(r.text))[\"access\"]\n",
    "for k in range(len(df_final)):\n",
    "    responses = []\n",
    "    violations = df_for_violations_request.loc[k].to_dict()\n",
    "    for i in range(len(violations[\"content\"])):\n",
    "        violation = violations.copy()\n",
    "        violation[\"name\"] = violations[\"name\"][i]\n",
    "        violation[\"content\"] = violations[\"content\"][i]\n",
    "        violation[\"raw_content\"] = violations[\"raw_content\"][i]\n",
    "        violation[\"normative_articles\"] = [violations[\"normative_articles\"][i]]\n",
    "        json_data = json.dumps(violation, ensure_ascii=False).encode('utf8')\n",
    "        # Отправляем данные\n",
    "        response_violation = s.post('https://ma.gasoilcenter.ru/api/master-of-acts/violations/', headers={'Authorization': f\"JWT {m}\", 'Content-Type': 'application/json; charset=utf-8'}, data=json_data)\n",
    "        response_text_violation = json.loads(response_violation.text)\n",
    "        responses.append(response_text_violation)\n",
    "    #Получаем id и вставляем в акты для запроса\n",
    "    responses_id =[]\n",
    "    for i in responses:\n",
    "        responses_id.append(i[\"id\"])\n",
    "    df_final[\"violations\"].loc[k] = responses_id\n",
    "    for i, j in zip(df_final.content[k][\"tbl_contents\"], responses_id):\n",
    "        i[\"id\"] = j\n",
    "    for i, j in zip(df_final.content[k][\"tbl_contents\"], responses_id):\n",
    "        i[\"id\"] = j\n",
    "    data_final = df_final.loc[k].to_dict()\n",
    "    \n",
    "    # Отправляем данные\n",
    "    response = s.post('https://ma.gasoilcenter.ru/api/master-of-acts/acts/', headers={'Authorization': f\"JWT {m}\"}, json=data_final)\n",
    "    response_text = json.loads(response.text)\n",
    "    id_response = response_text[\"id\"]\n",
    "    # Создаем новый словарь, исключая ненужные ключи\n",
    "    filtered_response_text = {key: value for key, value in response_text.items() \\\n",
    "                              if key not in [\"id\", \"name\", \"creator\", \"created_at\", \"qrcode_web\", \"qr_phone\", \"environment_state\", \"field_contractor\"]}\n",
    "    # Добавляем необходимые ключи\n",
    "    filtered_response_text[\"content\"][\"city\"] = filtered_response_text[\"raw_content\"][\"zaknamestep1\"][\"payload\"][\"city\"]\n",
    "    filtered_response_text[\"content\"][\"zaknamestep1\"] = filtered_response_text[\"raw_content\"][\"zaknamestep1\"][\"value\"]\n",
    "    filtered_response_text[\"content\"][\"podrCompanystep1\"] = filtered_response_text[\"raw_content\"][\"podrCompanystep1\"][\"value\"]\n",
    "    filtered_response_text[\"content\"][\"field\"] = filtered_response_text[\"raw_content\"][\"field\"][\"value\"]\n",
    "    filtered_response_text[\"content\"][\"superPositionkem\"] = filtered_response_text[\"raw_content\"][\"superFIO\"][\"payload\"][\"superPositionkem\"]\n",
    "    filtered_response_text[\"content\"][\"superFIOkem\"] = filtered_response_text[\"raw_content\"][\"superFIO\"][\"payload\"][\"superFIOkem\"]\n",
    "    filtered_response_text[\"content\"][\"superCompany\"] = filtered_response_text[\"raw_content\"][\"superFIO\"][\"payload\"][\"superCompany\"]\n",
    "    response1 = s.patch(f\"https://ma.gasoilcenter.ru/api/master-of-acts/acts/{id_response}/\", headers={'Authorization':f\"JWT {m}\"}, json=filtered_response_text)"
   ]
  },
  {
   "cell_type": "code",
   "execution_count": 113,
   "id": "5c945fb1-3287-4dec-9adc-68a63643344e",
   "metadata": {},
   "outputs": [
    {
     "data": {
      "text/plain": [
       "{'city',\n",
       " 'field',\n",
       " 'podrCompanystep1',\n",
       " 'superCompany',\n",
       " 'superFIOkem',\n",
       " 'superPositionkem',\n",
       " 'zaknamestep1'}"
      ]
     },
     "execution_count": 113,
     "metadata": {},
     "output_type": "execute_result"
    }
   ],
   "source": [
    "# Находим ключи, которые есть только в dict1\n",
    "keys_only_in_dict1 = set(dict1[\"content\"].keys()) - set(response_text[\"content\"].keys())\n",
    "keys_only_in_dict1"
   ]
  },
  {
   "cell_type": "code",
   "execution_count": 114,
   "id": "93783490-27b3-4aab-83d3-f70e67c86538",
   "metadata": {},
   "outputs": [],
   "source": [
    "# Находим ключи, которые есть только в dict2\n",
    "keys_only_in_dict2 = set(response_text[\"content\"].keys()) - set(dict1[\"content\"].keys())"
   ]
  },
  {
   "cell_type": "code",
   "execution_count": null,
   "id": "9ff278d8-29ed-4cf0-9688-2bc84fe2c428",
   "metadata": {},
   "outputs": [],
   "source": []
  }
 ],
 "metadata": {
  "kernelspec": {
   "display_name": "Python 3 (ipykernel)",
   "language": "python",
   "name": "python3"
  },
  "language_info": {
   "codemirror_mode": {
    "name": "ipython",
    "version": 3
   },
   "file_extension": ".py",
   "mimetype": "text/x-python",
   "name": "python",
   "nbconvert_exporter": "python",
   "pygments_lexer": "ipython3",
   "version": "3.11.5"
  }
 },
 "nbformat": 4,
 "nbformat_minor": 5
}
