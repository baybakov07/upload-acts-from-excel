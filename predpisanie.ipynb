{
 "cells": [
  {
   "cell_type": "markdown",
   "id": "afa4120f",
   "metadata": {},
   "source": [
    "### Основные функции"
   ]
  },
  {
   "cell_type": "code",
   "execution_count": 1,
   "id": "3990aa84-fea0-4238-82d7-971b2ba13576",
   "metadata": {},
   "outputs": [],
   "source": [
    "import warnings\n",
    "warnings.filterwarnings('ignore')"
   ]
  },
  {
   "cell_type": "code",
   "execution_count": 2,
   "id": "7d9b70ba-fefc-4993-aaf0-292b5bbc6e47",
   "metadata": {
    "tags": []
   },
   "outputs": [],
   "source": [
    "def convert_zaknamestep1(matched_value):\n",
    "    if matched_value is None:\n",
    "        return \"ТПП «Повхнефтегаз»\"\n",
    "\n",
    "    zaknamestep = [\n",
    "        {\"id\": \"0\", \"value\": \"ТПП «Когалымнефтегаз»\", \"payload\": {\"city\": \"Когалым\"}},\n",
    "        {\"id\": \"1\", \"value\": \"ТПП «Повхнефтегаз»\", \"payload\": {\"city\": \"Когалым\"}}\n",
    "    ]\n",
    "\n",
    "    for d in zaknamestep:\n",
    "        if matched_value in d[\"value\"]:\n",
    "            return d\n",
    "\n",
    "    return \"ТПП «Повхнефтегаз»\"\n",
    "\n",
    "def convert_zaknamestep1_content(matched_value):\n",
    "\n",
    "    zaknamestep = [\n",
    "        {\"id\": \"0\", \"value\": \"ТПП «Когалымнефтегаз»\"},\n",
    "        {\"id\": \"1\", \"value\": \"ТПП «Повхнефтегаз»\"}\n",
    "    ]\n",
    "\n",
    "    for d in zaknamestep:\n",
    "        if matched_value in d[\"value\"]:\n",
    "            return d[\"value\"]\n",
    "\n",
    "    return \"ТПП «Повхнефтегаз»\""
   ]
  },
  {
   "cell_type": "markdown",
   "id": "fb8ea071",
   "metadata": {},
   "source": [
    "### Выгрузка данных"
   ]
  },
  {
   "cell_type": "code",
   "execution_count": 3,
   "id": "d289476f",
   "metadata": {
    "tags": []
   },
   "outputs": [],
   "source": [
    "import pandas as pd \n",
    "import re\n",
    "import os\n",
    "import json\n",
    "from datetime import datetime\n",
    "from babel.dates import format_date\n",
    "\n",
    "df_start = pd.DataFrame()\n",
    "data_frames = []\n",
    "columns_data = []\n",
    "\n",
    "#Введите свой путь к папке откуда надо взять акты\n",
    "folder_path = '2021/'\n",
    "for path, dirs, files in os.walk(folder_path):\n",
    "    for file_name in files:\n",
    "        if file_name.endswith(\".xlsx\") or file_name.endswith(\".XLSX\"):\n",
    "            file_path = os.path.join(path, file_name)\n",
    "            \n",
    "            # Извлечение zaknamestep1\n",
    "            df_row = pd.read_excel(file_path)\n",
    "            zaknamestep1 = df_row.iloc[0][4]\n",
    "            curr = [\"Повхнефтегаз\", \"Когалымнефтегаз\"]\n",
    "            matched_value = \"ТПП «Повхнефтегаз»\"\n",
    "            for i in curr:\n",
    "                if i in zaknamestep1:\n",
    "                    matched_value = i\n",
    "                    break\n",
    "            zaknamestep1 = convert_zaknamestep1(matched_value)\n",
    "            zaknamestep1_content = convert_zaknamestep1_content(matched_value)\n",
    "\n",
    "            # Обработка всего датафрейма\n",
    "            df = pd.read_excel(file_path, skiprows=2)\n",
    "            df = df.rename(columns = dict(zip(df.columns.tolist(),[\" \".join(i.split()).replace(\"/ \", \"/\").replace(\"/ \", \"\\\\\") for i in df.columns.tolist()])))\n",
    "            if 'Выявленные нарушения по ОТ и ТБ, ПБ, ООС' in df.columns or 'Выявленные нарушения по технологии работ.' in df.columns or 'Куст/скважина Месторождение Супервайзер' in df.columns:\n",
    "                df = df.rename(columns={\n",
    "                    'Выявленные нарушения по ОТ и ТБ, ПБ, ООС': 'Выявленные нарушения по ОТ,ПБ',\n",
    "                    'Выявленные нарушения по технологии работ.': 'Выявленные нарушения по технологии работ',\n",
    "                    'Куст/скважина Месторождение Супервайзер': 'Куст/скважина Месторождение ГНО/Qж/Qн Супервайзер'\n",
    "                })\n",
    "            df = df.loc[:, ~df.columns.str.startswith('Unnamed:')]\n",
    "            df = df.drop(labels = [0],axis = 0)\n",
    "            df['zaknamestep1'] = df.shape[0]*[zaknamestep1]\n",
    "            df['zaknamestep1_content'] = df.shape[0]*[zaknamestep1_content]\n",
    "            if \"№ п/п\" not in str(df.columns[0]):\n",
    "                df = pd.read_excel(file_path, skiprows=3)\n",
    "                df = df.rename(columns = dict(zip(df.columns.tolist(),[\" \".join(i.split()).replace(\"/ \", \"/\").replace(\"/ \", \"\\\\\") for i in df.columns.tolist()])))\n",
    "                df = df.loc[:, ~df.columns.str.startswith('Unnamed:')]\n",
    "                df = df.drop(labels = [0],axis = 0)\n",
    "                if 'Выявленные нарушения по ОТ и ТБ, ПБ, ООС' in df.columns or 'Выявленные нарушения по технологии работ.' in df.columns or 'Куст/скважина Месторождение Супервайзер' in df.columns:\n",
    "                    df = df.rename(columns={\n",
    "                        'Выявленные нарушения по ОТ и ТБ, ПБ, ООС': 'Выявленные нарушения по ОТ,ПБ',\n",
    "                        'Выявленные нарушения по технологии работ.': 'Выявленные нарушения по технологии работ',\n",
    "                        'Куст/скважина Месторождение Супервайзер': 'Куст/скважина Месторождение ГНО/Qж/Qн Супервайзер'\n",
    "                    })\n",
    "                df['zaknamestep1'] = df.shape[0]*[zaknamestep1]\n",
    "                df['zaknamestep1_content'] = df.shape[0]*[zaknamestep1_content]\n",
    "\n",
    "            data_frames.append(df)\n",
    "\n",
    "df_start = pd.concat(data_frames, ignore_index=True)"
   ]
  },
  {
   "cell_type": "code",
   "execution_count": 4,
   "id": "b6f254f1",
   "metadata": {
    "scrolled": true,
    "tags": []
   },
   "outputs": [
    {
     "data": {
      "text/plain": [
       "zaknamestep1\n",
       "{'id': '1', 'value': 'ТПП «Повхнефтегаз»', 'payload': {'city': 'Когалым'}}       142459\n",
       "{'id': '0', 'value': 'ТПП «Когалымнефтегаз»', 'payload': {'city': 'Когалым'}}     24983\n",
       "Name: count, dtype: int64"
      ]
     },
     "execution_count": 4,
     "metadata": {},
     "output_type": "execute_result"
    }
   ],
   "source": [
    "df_start.zaknamestep1.value_counts()"
   ]
  },
  {
   "cell_type": "code",
   "execution_count": 5,
   "id": "9fe1b49a",
   "metadata": {
    "tags": []
   },
   "outputs": [
    {
     "data": {
      "text/html": [
       "<div>\n",
       "<style scoped>\n",
       "    .dataframe tbody tr th:only-of-type {\n",
       "        vertical-align: middle;\n",
       "    }\n",
       "\n",
       "    .dataframe tbody tr th {\n",
       "        vertical-align: top;\n",
       "    }\n",
       "\n",
       "    .dataframe thead th {\n",
       "        text-align: right;\n",
       "    }\n",
       "</style>\n",
       "<table border=\"1\" class=\"dataframe\">\n",
       "  <thead>\n",
       "    <tr style=\"text-align: right;\">\n",
       "      <th></th>\n",
       "      <th>№ п/п</th>\n",
       "      <th>Дата, время проверки</th>\n",
       "      <th>Куст/скважина Месторождение ГНО/Qж/Qн Супервайзер</th>\n",
       "      <th>Подрядчик № бригады Мастер</th>\n",
       "      <th>Технологические операции, выполняемые бригадой на момент проверки</th>\n",
       "      <th>Выявленные нарушения по технологии работ</th>\n",
       "      <th>Выявленные нарушения по ОТ,ПБ</th>\n",
       "      <th>Предложения по устранению</th>\n",
       "      <th>Принятые меры</th>\n",
       "      <th>Фотография выявленного нарушения, показания регистрирующих приборов</th>\n",
       "      <th>Примечание</th>\n",
       "      <th>zaknamestep1</th>\n",
       "      <th>zaknamestep1_content</th>\n",
       "    </tr>\n",
       "  </thead>\n",
       "  <tbody>\n",
       "    <tr>\n",
       "      <th>0</th>\n",
       "      <td>NaN</td>\n",
       "      <td>01.01.2021г. \\n08:00-10:00</td>\n",
       "      <td>28/911                                        ...</td>\n",
       "      <td>ООО  КРС                                \"Евраз...</td>\n",
       "      <td>ТР5-1 Ревизия и смена насоса. \\nСправка: в скв...</td>\n",
       "      <td>Проведена проверка  технологического процесса ...</td>\n",
       "      <td>NaN</td>\n",
       "      <td>Работы по скважине вести в соответствии с треб...</td>\n",
       "      <td>Запись в вахтовом журнале</td>\n",
       "      <td>NaN</td>\n",
       "      <td>NaN</td>\n",
       "      <td>{'id': '1', 'value': 'ТПП «Повхнефтегаз»', 'pa...</td>\n",
       "      <td>ТПП «Повхнефтегаз»</td>\n",
       "    </tr>\n",
       "    <tr>\n",
       "      <th>1</th>\n",
       "      <td>NaN</td>\n",
       "      <td>NaN</td>\n",
       "      <td>NaN</td>\n",
       "      <td>NaN</td>\n",
       "      <td>NaN</td>\n",
       "      <td>Мастер в бригаде.</td>\n",
       "      <td>NaN</td>\n",
       "      <td>NaN</td>\n",
       "      <td>NaN</td>\n",
       "      <td>NaN</td>\n",
       "      <td>NaN</td>\n",
       "      <td>{'id': '1', 'value': 'ТПП «Повхнефтегаз»', 'pa...</td>\n",
       "      <td>ТПП «Повхнефтегаз»</td>\n",
       "    </tr>\n",
       "    <tr>\n",
       "      <th>2</th>\n",
       "      <td>2</td>\n",
       "      <td>01.01.2021г.\\n11:00-13:00</td>\n",
       "      <td>14В/945Г                                      ...</td>\n",
       "      <td>ООО  КРС                                \"Евраз...</td>\n",
       "      <td>ТР5-1 Ревизия и смена насоса. \\nПРР.</td>\n",
       "      <td>Проведена проверка  технологического процесса:...</td>\n",
       "      <td>NaN</td>\n",
       "      <td>Работы по скважине вести в соответствии с треб...</td>\n",
       "      <td>Запись в вахтовом журнале</td>\n",
       "      <td>NaN</td>\n",
       "      <td>NaN</td>\n",
       "      <td>{'id': '1', 'value': 'ТПП «Повхнефтегаз»', 'pa...</td>\n",
       "      <td>ТПП «Повхнефтегаз»</td>\n",
       "    </tr>\n",
       "    <tr>\n",
       "      <th>3</th>\n",
       "      <td>NaN</td>\n",
       "      <td>NaN</td>\n",
       "      <td>NaN</td>\n",
       "      <td>NaN</td>\n",
       "      <td>NaN</td>\n",
       "      <td>Мастер в бригаде.</td>\n",
       "      <td>NaN</td>\n",
       "      <td>NaN</td>\n",
       "      <td>NaN</td>\n",
       "      <td>NaN</td>\n",
       "      <td>NaN</td>\n",
       "      <td>{'id': '1', 'value': 'ТПП «Повхнефтегаз»', 'pa...</td>\n",
       "      <td>ТПП «Повхнефтегаз»</td>\n",
       "    </tr>\n",
       "    <tr>\n",
       "      <th>4</th>\n",
       "      <td>3</td>\n",
       "      <td>01.01.2021г.\\n14:00-15:30</td>\n",
       "      <td>28/911                                        ...</td>\n",
       "      <td>ООО  КРС                                \"Евраз...</td>\n",
       "      <td>ТР5-1 Ревизия и смена насоса.\\nСправка: в сква...</td>\n",
       "      <td>Проведена проверка  технологического процесса:...</td>\n",
       "      <td>NaN</td>\n",
       "      <td>Работы по скважине вести в соответствии с треб...</td>\n",
       "      <td>Запись в вахтовом журнале</td>\n",
       "      <td>NaN</td>\n",
       "      <td>NaN</td>\n",
       "      <td>{'id': '1', 'value': 'ТПП «Повхнефтегаз»', 'pa...</td>\n",
       "      <td>ТПП «Повхнефтегаз»</td>\n",
       "    </tr>\n",
       "  </tbody>\n",
       "</table>\n",
       "</div>"
      ],
      "text/plain": [
       "  № п/п        Дата, время проверки  \\\n",
       "0   NaN  01.01.2021г. \\n08:00-10:00   \n",
       "1   NaN                         NaN   \n",
       "2     2   01.01.2021г.\\n11:00-13:00   \n",
       "3   NaN                         NaN   \n",
       "4     3   01.01.2021г.\\n14:00-15:30   \n",
       "\n",
       "   Куст/скважина Месторождение ГНО/Qж/Qн Супервайзер  \\\n",
       "0  28/911                                        ...   \n",
       "1                                                NaN   \n",
       "2  14В/945Г                                      ...   \n",
       "3                                                NaN   \n",
       "4  28/911                                        ...   \n",
       "\n",
       "                          Подрядчик № бригады Мастер  \\\n",
       "0  ООО  КРС                                \"Евраз...   \n",
       "1                                                NaN   \n",
       "2  ООО  КРС                                \"Евраз...   \n",
       "3                                                NaN   \n",
       "4  ООО  КРС                                \"Евраз...   \n",
       "\n",
       "  Технологические операции, выполняемые бригадой на момент проверки  \\\n",
       "0  ТР5-1 Ревизия и смена насоса. \\nСправка: в скв...                  \n",
       "1                                                NaN                  \n",
       "2               ТР5-1 Ревизия и смена насоса. \\nПРР.                  \n",
       "3                                                NaN                  \n",
       "4  ТР5-1 Ревизия и смена насоса.\\nСправка: в сква...                  \n",
       "\n",
       "            Выявленные нарушения по технологии работ  \\\n",
       "0  Проведена проверка  технологического процесса ...   \n",
       "1                               Мастер в бригаде.      \n",
       "2  Проведена проверка  технологического процесса:...   \n",
       "3                                Мастер в бригаде.     \n",
       "4  Проведена проверка  технологического процесса:...   \n",
       "\n",
       "  Выявленные нарушения по ОТ,ПБ  \\\n",
       "0                           NaN   \n",
       "1                           NaN   \n",
       "2                           NaN   \n",
       "3                           NaN   \n",
       "4                           NaN   \n",
       "\n",
       "                           Предложения по устранению  \\\n",
       "0  Работы по скважине вести в соответствии с треб...   \n",
       "1                                                NaN   \n",
       "2  Работы по скважине вести в соответствии с треб...   \n",
       "3                                                NaN   \n",
       "4  Работы по скважине вести в соответствии с треб...   \n",
       "\n",
       "               Принятые меры  \\\n",
       "0  Запись в вахтовом журнале   \n",
       "1                        NaN   \n",
       "2  Запись в вахтовом журнале   \n",
       "3                        NaN   \n",
       "4  Запись в вахтовом журнале   \n",
       "\n",
       "  Фотография выявленного нарушения, показания регистрирующих приборов  \\\n",
       "0                                                NaN                    \n",
       "1                                                NaN                    \n",
       "2                                                NaN                    \n",
       "3                                                NaN                    \n",
       "4                                                NaN                    \n",
       "\n",
       "  Примечание                                       zaknamestep1  \\\n",
       "0        NaN  {'id': '1', 'value': 'ТПП «Повхнефтегаз»', 'pa...   \n",
       "1        NaN  {'id': '1', 'value': 'ТПП «Повхнефтегаз»', 'pa...   \n",
       "2        NaN  {'id': '1', 'value': 'ТПП «Повхнефтегаз»', 'pa...   \n",
       "3        NaN  {'id': '1', 'value': 'ТПП «Повхнефтегаз»', 'pa...   \n",
       "4        NaN  {'id': '1', 'value': 'ТПП «Повхнефтегаз»', 'pa...   \n",
       "\n",
       "  zaknamestep1_content  \n",
       "0   ТПП «Повхнефтегаз»  \n",
       "1   ТПП «Повхнефтегаз»  \n",
       "2   ТПП «Повхнефтегаз»  \n",
       "3   ТПП «Повхнефтегаз»  \n",
       "4   ТПП «Повхнефтегаз»  "
      ]
     },
     "execution_count": 5,
     "metadata": {},
     "output_type": "execute_result"
    }
   ],
   "source": [
    "df_start.head()"
   ]
  },
  {
   "cell_type": "code",
   "execution_count": 6,
   "id": "fe6b691a",
   "metadata": {
    "tags": []
   },
   "outputs": [
    {
     "data": {
      "text/plain": [
       "(167442, 13)"
      ]
     },
     "execution_count": 6,
     "metadata": {},
     "output_type": "execute_result"
    }
   ],
   "source": [
    "df_start.shape"
   ]
  },
  {
   "cell_type": "code",
   "execution_count": 28,
   "id": "3887e763",
   "metadata": {
    "scrolled": true,
    "tags": []
   },
   "outputs": [
    {
     "data": {
      "text/html": [
       "<div>\n",
       "<style scoped>\n",
       "    .dataframe tbody tr th:only-of-type {\n",
       "        vertical-align: middle;\n",
       "    }\n",
       "\n",
       "    .dataframe tbody tr th {\n",
       "        vertical-align: top;\n",
       "    }\n",
       "\n",
       "    .dataframe thead th {\n",
       "        text-align: right;\n",
       "    }\n",
       "</style>\n",
       "<table border=\"1\" class=\"dataframe\">\n",
       "  <thead>\n",
       "    <tr style=\"text-align: right;\">\n",
       "      <th></th>\n",
       "      <th>№ п/п</th>\n",
       "      <th>Дата, время проверки</th>\n",
       "      <th>Куст/скважина Месторождение ГНО/Qж/Qн Супервайзер</th>\n",
       "      <th>Подрядчик № бригады Мастер</th>\n",
       "      <th>Технологические операции, выполняемые бригадой на момент проверки</th>\n",
       "      <th>Выявленные нарушения по технологии работ</th>\n",
       "      <th>Выявленные нарушения по ОТ,ПБ</th>\n",
       "      <th>Предложения по устранению</th>\n",
       "      <th>Принятые меры</th>\n",
       "      <th>Фотография выявленного нарушения, показания регистрирующих приборов</th>\n",
       "      <th>Примечание</th>\n",
       "      <th>zaknamestep1</th>\n",
       "      <th>zaknamestep1_content</th>\n",
       "    </tr>\n",
       "  </thead>\n",
       "  <tbody>\n",
       "    <tr>\n",
       "      <th>0</th>\n",
       "      <td>NaN</td>\n",
       "      <td>01.01.2021г. \\n08:00-10:00</td>\n",
       "      <td>28/911                                        ...</td>\n",
       "      <td>ООО  КРС                                \"Евраз...</td>\n",
       "      <td>ТР5-1 Ревизия и смена насоса. \\nСправка: в скв...</td>\n",
       "      <td>Проведена проверка  технологического процесса ...</td>\n",
       "      <td>NaN</td>\n",
       "      <td>Работы по скважине вести в соответствии с треб...</td>\n",
       "      <td>Запись в вахтовом журнале</td>\n",
       "      <td>NaN</td>\n",
       "      <td>NaN</td>\n",
       "      <td>{'id': '1', 'value': 'ТПП «Повхнефтегаз»', 'pa...</td>\n",
       "      <td>ТПП «Повхнефтегаз»</td>\n",
       "    </tr>\n",
       "    <tr>\n",
       "      <th>1</th>\n",
       "      <td>NaN</td>\n",
       "      <td>NaN</td>\n",
       "      <td>NaN</td>\n",
       "      <td>NaN</td>\n",
       "      <td>NaN</td>\n",
       "      <td>Мастер в бригаде.</td>\n",
       "      <td>NaN</td>\n",
       "      <td>NaN</td>\n",
       "      <td>NaN</td>\n",
       "      <td>NaN</td>\n",
       "      <td>NaN</td>\n",
       "      <td>{'id': '1', 'value': 'ТПП «Повхнефтегаз»', 'pa...</td>\n",
       "      <td>ТПП «Повхнефтегаз»</td>\n",
       "    </tr>\n",
       "    <tr>\n",
       "      <th>2</th>\n",
       "      <td>2</td>\n",
       "      <td>01.01.2021г.\\n11:00-13:00</td>\n",
       "      <td>14В/945Г                                      ...</td>\n",
       "      <td>ООО  КРС                                \"Евраз...</td>\n",
       "      <td>ТР5-1 Ревизия и смена насоса. \\nПРР.</td>\n",
       "      <td>Проведена проверка  технологического процесса:...</td>\n",
       "      <td>NaN</td>\n",
       "      <td>Работы по скважине вести в соответствии с треб...</td>\n",
       "      <td>Запись в вахтовом журнале</td>\n",
       "      <td>NaN</td>\n",
       "      <td>NaN</td>\n",
       "      <td>{'id': '1', 'value': 'ТПП «Повхнефтегаз»', 'pa...</td>\n",
       "      <td>ТПП «Повхнефтегаз»</td>\n",
       "    </tr>\n",
       "    <tr>\n",
       "      <th>3</th>\n",
       "      <td>NaN</td>\n",
       "      <td>NaN</td>\n",
       "      <td>NaN</td>\n",
       "      <td>NaN</td>\n",
       "      <td>NaN</td>\n",
       "      <td>Мастер в бригаде.</td>\n",
       "      <td>NaN</td>\n",
       "      <td>NaN</td>\n",
       "      <td>NaN</td>\n",
       "      <td>NaN</td>\n",
       "      <td>NaN</td>\n",
       "      <td>{'id': '1', 'value': 'ТПП «Повхнефтегаз»', 'pa...</td>\n",
       "      <td>ТПП «Повхнефтегаз»</td>\n",
       "    </tr>\n",
       "    <tr>\n",
       "      <th>4</th>\n",
       "      <td>3</td>\n",
       "      <td>01.01.2021г.\\n14:00-15:30</td>\n",
       "      <td>28/911                                        ...</td>\n",
       "      <td>ООО  КРС                                \"Евраз...</td>\n",
       "      <td>ТР5-1 Ревизия и смена насоса.\\nСправка: в сква...</td>\n",
       "      <td>Проведена проверка  технологического процесса:...</td>\n",
       "      <td>NaN</td>\n",
       "      <td>Работы по скважине вести в соответствии с треб...</td>\n",
       "      <td>Запись в вахтовом журнале</td>\n",
       "      <td>NaN</td>\n",
       "      <td>NaN</td>\n",
       "      <td>{'id': '1', 'value': 'ТПП «Повхнефтегаз»', 'pa...</td>\n",
       "      <td>ТПП «Повхнефтегаз»</td>\n",
       "    </tr>\n",
       "  </tbody>\n",
       "</table>\n",
       "</div>"
      ],
      "text/plain": [
       "  № п/п        Дата, время проверки  \\\n",
       "0   NaN  01.01.2021г. \\n08:00-10:00   \n",
       "1   NaN                         NaN   \n",
       "2     2   01.01.2021г.\\n11:00-13:00   \n",
       "3   NaN                         NaN   \n",
       "4     3   01.01.2021г.\\n14:00-15:30   \n",
       "\n",
       "   Куст/скважина Месторождение ГНО/Qж/Qн Супервайзер  \\\n",
       "0  28/911                                        ...   \n",
       "1                                                NaN   \n",
       "2  14В/945Г                                      ...   \n",
       "3                                                NaN   \n",
       "4  28/911                                        ...   \n",
       "\n",
       "                          Подрядчик № бригады Мастер  \\\n",
       "0  ООО  КРС                                \"Евраз...   \n",
       "1                                                NaN   \n",
       "2  ООО  КРС                                \"Евраз...   \n",
       "3                                                NaN   \n",
       "4  ООО  КРС                                \"Евраз...   \n",
       "\n",
       "  Технологические операции, выполняемые бригадой на момент проверки  \\\n",
       "0  ТР5-1 Ревизия и смена насоса. \\nСправка: в скв...                  \n",
       "1                                                NaN                  \n",
       "2               ТР5-1 Ревизия и смена насоса. \\nПРР.                  \n",
       "3                                                NaN                  \n",
       "4  ТР5-1 Ревизия и смена насоса.\\nСправка: в сква...                  \n",
       "\n",
       "            Выявленные нарушения по технологии работ  \\\n",
       "0  Проведена проверка  технологического процесса ...   \n",
       "1                               Мастер в бригаде.      \n",
       "2  Проведена проверка  технологического процесса:...   \n",
       "3                                Мастер в бригаде.     \n",
       "4  Проведена проверка  технологического процесса:...   \n",
       "\n",
       "  Выявленные нарушения по ОТ,ПБ  \\\n",
       "0                           NaN   \n",
       "1                           NaN   \n",
       "2                           NaN   \n",
       "3                           NaN   \n",
       "4                           NaN   \n",
       "\n",
       "                           Предложения по устранению  \\\n",
       "0  Работы по скважине вести в соответствии с треб...   \n",
       "1                                                NaN   \n",
       "2  Работы по скважине вести в соответствии с треб...   \n",
       "3                                                NaN   \n",
       "4  Работы по скважине вести в соответствии с треб...   \n",
       "\n",
       "               Принятые меры  \\\n",
       "0  Запись в вахтовом журнале   \n",
       "1                        NaN   \n",
       "2  Запись в вахтовом журнале   \n",
       "3                        NaN   \n",
       "4  Запись в вахтовом журнале   \n",
       "\n",
       "  Фотография выявленного нарушения, показания регистрирующих приборов  \\\n",
       "0                                                NaN                    \n",
       "1                                                NaN                    \n",
       "2                                                NaN                    \n",
       "3                                                NaN                    \n",
       "4                                                NaN                    \n",
       "\n",
       "  Примечание                                       zaknamestep1  \\\n",
       "0        NaN  {'id': '1', 'value': 'ТПП «Повхнефтегаз»', 'pa...   \n",
       "1        NaN  {'id': '1', 'value': 'ТПП «Повхнефтегаз»', 'pa...   \n",
       "2        NaN  {'id': '1', 'value': 'ТПП «Повхнефтегаз»', 'pa...   \n",
       "3        NaN  {'id': '1', 'value': 'ТПП «Повхнефтегаз»', 'pa...   \n",
       "4        NaN  {'id': '1', 'value': 'ТПП «Повхнефтегаз»', 'pa...   \n",
       "\n",
       "  zaknamestep1_content  \n",
       "0   ТПП «Повхнефтегаз»  \n",
       "1   ТПП «Повхнефтегаз»  \n",
       "2   ТПП «Повхнефтегаз»  \n",
       "3   ТПП «Повхнефтегаз»  \n",
       "4   ТПП «Повхнефтегаз»  "
      ]
     },
     "execution_count": 28,
     "metadata": {},
     "output_type": "execute_result"
    }
   ],
   "source": [
    "#Копируем датафрейм, чтобы не пришлось снова считывать файлы\n",
    "df_test = df_start.copy()\n",
    "df_test.head()"
   ]
  },
  {
   "cell_type": "code",
   "execution_count": 29,
   "id": "a245c6e5",
   "metadata": {
    "tags": []
   },
   "outputs": [
    {
     "data": {
      "text/plain": [
       "(167442, 13)"
      ]
     },
     "execution_count": 29,
     "metadata": {},
     "output_type": "execute_result"
    }
   ],
   "source": [
    "df_test.shape"
   ]
  },
  {
   "cell_type": "markdown",
   "id": "ef2f4a3c",
   "metadata": {},
   "source": [
    "### Подготовка данных"
   ]
  },
  {
   "cell_type": "code",
   "execution_count": 30,
   "id": "ac5a8818",
   "metadata": {
    "tags": []
   },
   "outputs": [],
   "source": [
    "# Убираем пропуски\n",
    "df_test = df_test.dropna(subset='№ п/п')"
   ]
  },
  {
   "cell_type": "code",
   "execution_count": 31,
   "id": "04cd6fb0",
   "metadata": {
    "tags": []
   },
   "outputs": [],
   "source": [
    "# Преобразуем столбец в числовой формат\n",
    "df_test['№ п/п'] = pd.to_numeric(df_test['№ п/п'], errors='coerce')\n",
    "\n",
    "# Убираем все значения, кроме чисел\n",
    "df_test['№ п/п'] = df_test['№ п/п'].apply(lambda x: x if pd.notnull(x) else None)"
   ]
  },
  {
   "cell_type": "code",
   "execution_count": 32,
   "id": "ab9d16c8",
   "metadata": {
    "tags": []
   },
   "outputs": [],
   "source": [
    "# Опять убираем пропуски после удаления ненужных строк\n",
    "df_test = df_test.dropna(subset='№ п/п')"
   ]
  },
  {
   "cell_type": "code",
   "execution_count": 33,
   "id": "0f6432d1",
   "metadata": {
    "tags": []
   },
   "outputs": [],
   "source": [
    "# Убираем лишний столбец\n",
    "df_test = df_test.drop(columns='№ п/п')"
   ]
  },
  {
   "cell_type": "code",
   "execution_count": 34,
   "id": "37237fa1",
   "metadata": {
    "tags": []
   },
   "outputs": [],
   "source": [
    "# Заменяем пропуски на нужные строки\n",
    "df_test[\"Выявленные нарушения по ОТ,ПБ\"] = df_test[\"Выявленные нарушения по ОТ,ПБ\"].fillna(\"Отсутствуют\")"
   ]
  },
  {
   "cell_type": "code",
   "execution_count": 35,
   "id": "0e3fe379",
   "metadata": {
    "tags": []
   },
   "outputs": [],
   "source": [
    "# Ищем нужные нам типы актов \n",
    "df_test[\"Принятые меры\"] = df_test[\"Принятые меры\"].fillna(\"Отсутствуют\")\n",
    "df_test = df_test[df_test['Принятые меры'].str.contains('предп', case=False)]"
   ]
  },
  {
   "cell_type": "code",
   "execution_count": 36,
   "id": "4416c07d",
   "metadata": {
    "tags": []
   },
   "outputs": [],
   "source": [
    "# Преобразуем дату в строку\n",
    "df_test = df_test.dropna(subset='Дата, время проверки')\n",
    "df_test[\"Дата, время проверки\"] = df_test[\"Дата, время проверки\"].apply(lambda x: str(x) if x is not None else x)"
   ]
  },
  {
   "cell_type": "code",
   "execution_count": 37,
   "id": "e8bd88ee",
   "metadata": {
    "scrolled": true,
    "tags": []
   },
   "outputs": [
    {
     "data": {
      "text/plain": [
       "(1464, 12)"
      ]
     },
     "execution_count": 37,
     "metadata": {},
     "output_type": "execute_result"
    }
   ],
   "source": [
    "df_test.shape"
   ]
  },
  {
   "cell_type": "code",
   "execution_count": 38,
   "id": "5f7aa270",
   "metadata": {
    "tags": []
   },
   "outputs": [],
   "source": [
    "# Работаем с новым датафреймом и преоборазуем дату\n",
    "def convert_to_datetime(s):\n",
    "    try:\n",
    "        s = s.strip()\n",
    "        full_date = s.split(\"г\")\n",
    "        if len(full_date) == 2:\n",
    "            date_part, other = s.split(\"г\")\n",
    "            end_time = other.strip().split(\"-\")[1].rstrip(\".\")\n",
    "            if \".\" in end_time:\n",
    "                end_time = end_time.replace('.', ':')\n",
    "            if end_time == \"24:00\":\n",
    "                end_time = \"00:00\"\n",
    "        elif len(full_date) == 1:\n",
    "            date_part, other = re.split(r\"\\s+\", s)\n",
    "            end_time = other.strip().split(\"-\")[1].rstrip(\".\")\n",
    "            if \".\" in end_time:\n",
    "                end_time = end_time.replace('.', ':')\n",
    "            if end_time == \"24:00\":\n",
    "                end_time = \"00:00\"\n",
    "        \n",
    "        datetime_str = f\"{date_part} {end_time}\"\n",
    "\n",
    "        return pd.to_datetime(datetime_str, format='%d.%m.%Y %H:%M')\n",
    "    except Exception as e:\n",
    "        return None\n",
    "\n",
    "df_new = pd.DataFrame()\n",
    "df_new[\"Дата\"] = df_test[\"Дата, время проверки\"].apply(convert_to_datetime)"
   ]
  },
  {
   "cell_type": "code",
   "execution_count": 39,
   "id": "290b43c4-55a4-4aca-af4b-825f6b036c03",
   "metadata": {},
   "outputs": [
    {
     "data": {
      "text/plain": [
       "22"
      ]
     },
     "execution_count": 39,
     "metadata": {},
     "output_type": "execute_result"
    }
   ],
   "source": [
    "df_new[\"Дата\"].isnull().sum()"
   ]
  },
  {
   "cell_type": "code",
   "execution_count": 40,
   "id": "55c8f0d0",
   "metadata": {
    "tags": []
   },
   "outputs": [],
   "source": [
    "# Ищем ФИО супервайзера\n",
    "def convert_to_fio(row):\n",
    "    try:\n",
    "        pattern = r\"[А-ЯЁ][а-яё]+\\s+[А-ЯЁ]\\.[А-ЯЁ]\"\n",
    "        families = re.findall(pattern, row)\n",
    "        # if not families:\n",
    "        #     s_with_space = re.sub(r'([а-яА-Я]+)([А-Я])', r'\\1 \\2', row)\n",
    "        #     return s_with_space\n",
    "        return families[0]\n",
    "        \n",
    "    except:\n",
    "        # print(row)\n",
    "        pass\n",
    "df_new[\"ФИО супервайзера\"] = df_test[\"Куст/скважина Месторождение ГНО/Qж/Qн Супервайзер\"].apply(convert_to_fio)"
   ]
  },
  {
   "cell_type": "code",
   "execution_count": 41,
   "id": "a2025676-0404-4f4c-82bf-35fd60812e6a",
   "metadata": {},
   "outputs": [
    {
     "data": {
      "text/plain": [
       "1"
      ]
     },
     "execution_count": 41,
     "metadata": {},
     "output_type": "execute_result"
    }
   ],
   "source": [
    "df_new[\"ФИО супервайзера\"].isnull().sum()"
   ]
  },
  {
   "cell_type": "code",
   "execution_count": 42,
   "id": "1990c327",
   "metadata": {
    "tags": []
   },
   "outputs": [],
   "source": [
    "# Ищем куст\n",
    "def convert_to_kust(row):\n",
    "    try:\n",
    "        pattern = r\"\\b(\\d+\\w*)\"\n",
    "        kust = re.search(pattern, row).group(0)\n",
    "        return kust\n",
    "    except:\n",
    "        pass\n",
    "\n",
    "df_new[\"Куст\"] = df_test[\"Куст/скважина Месторождение ГНО/Qж/Qн Супервайзер\"].apply(convert_to_kust)"
   ]
  },
  {
   "cell_type": "code",
   "execution_count": 43,
   "id": "b3426d87-358e-490e-98e2-7e710105c0c8",
   "metadata": {},
   "outputs": [
    {
     "data": {
      "text/plain": [
       "0"
      ]
     },
     "execution_count": 43,
     "metadata": {},
     "output_type": "execute_result"
    }
   ],
   "source": [
    "df_new[\"Куст\"].isnull().sum()"
   ]
  },
  {
   "cell_type": "code",
   "execution_count": 44,
   "id": "ff788e05",
   "metadata": {
    "tags": []
   },
   "outputs": [],
   "source": [
    "# Ищем скважину\n",
    "def convert_to_well(row):\n",
    "    try:\n",
    "        pattern = r\"/\\b(\\d+\\w*)\"\n",
    "        well = re.search(pattern, row).group(1)\n",
    "        return well\n",
    "    except:\n",
    "        return \"\"\n",
    "\n",
    "df_new[\"Скважина\"] = df_test[\"Куст/скважина Месторождение ГНО/Qж/Qн Супервайзер\"].apply(convert_to_well)"
   ]
  },
  {
   "cell_type": "code",
   "execution_count": 45,
   "id": "02a756b4-899e-4e7a-b57a-fd902d259129",
   "metadata": {},
   "outputs": [
    {
     "data": {
      "text/plain": [
       "0"
      ]
     },
     "execution_count": 45,
     "metadata": {},
     "output_type": "execute_result"
    }
   ],
   "source": [
    "df_new[\"Скважина\"].isnull().sum()"
   ]
  },
  {
   "cell_type": "code",
   "execution_count": 46,
   "id": "8d726bff",
   "metadata": {
    "tags": []
   },
   "outputs": [],
   "source": [
    "# Ищем месторождение\n",
    "def convert_to_fields(row):\n",
    "    try:\n",
    "        pattern = r\"\\b[\\w-]*(ое|овх|ун|ого|ор)\\b\"\n",
    "        field = re.search(pattern, row).group(0)\n",
    "        return field    \n",
    "    except:\n",
    "        return \"\"\n",
    "    \n",
    "df_new[\"Месторождение\"] = df_test[\"Куст/скважина Месторождение ГНО/Qж/Qн Супервайзер\"].apply(convert_to_fields)"
   ]
  },
  {
   "cell_type": "code",
   "execution_count": 47,
   "id": "28dde5b6-5170-4769-9920-68118396af63",
   "metadata": {},
   "outputs": [
    {
     "data": {
      "text/plain": [
       "0"
      ]
     },
     "execution_count": 47,
     "metadata": {},
     "output_type": "execute_result"
    }
   ],
   "source": [
    "df_new[\"Месторождение\"].isnull().sum()"
   ]
  },
  {
   "cell_type": "code",
   "execution_count": 48,
   "id": "7482e229",
   "metadata": {
    "tags": []
   },
   "outputs": [],
   "source": [
    "# Сопоставляем месторождения с теми, что есть в базе данных\n",
    "def convert_to_fields_names(row):\n",
    "    choices_fields = [{\"value\": \"Абино-Украинское\"}, {\"value\": \"Абрамовское\"}, {\"value\": \"Аганское\"}, {\"value\": \"Акташское\"}, {\"value\": \"Алексеевская\"}, {\"value\": \"Алисовское\"}, {\"value\": \"Амдермаельское\"}, {\"value\": \"Андреевское\"}, {\"value\": \"Антиповско-Балыклейская\"}, {\"value\": \"Аригольское\"}, {\"value\": \"Аспинское\"}, {\"value\": \"Атамановское\"}, {\"value\": \"Ачимовское\"}, {\"value\": \"Ашальчинское\"}, {\"value\": \"Баганское\"}, {\"value\": \"Баклановское\"}, {\"value\": \"Барсуковское\"}, {\"value\": \"Батырбайское\"}, {\"value\": \"Бахиловское\"}, {\"value\": \"Бахиловское\"}, {\"value\": \"Бахтияровское\"}, {\"value\": \"Бельское\"}, {\"value\": \"Береговое\"}, {\"value\": \"Бобровское\"}, {\"value\": \"Бобровское\"}, {\"value\": \"Бобровское\"}, {\"value\": \"Боголюбовское\"}, {\"value\": \"Больше-Каменское\"}, {\"value\": \"Бузулукское\"}, {\"value\": \"В-Волостновское\"}, {\"value\": \"В-боголюбовское\"}, {\"value\": \"В. Сарутаюсское\"}, {\"value\": \"В.Капитоновское\"}, {\"value\": \"В.Малаховское\"}, {\"value\": \"Ван еганское\"}, {\"value\": \"Ван-Еганское\"}, {\"value\": \"Ван-Еганское бур.\"}, {\"value\": \"Ванкор\"}, {\"value\": \"Варьёганское\"}, {\"value\": \"Ватинское\"}, {\"value\": \"Ватинское\"}, {\"value\": \"Ватинское\"}, {\"value\": \"Вать-Ёганское\"}, {\"value\": \"Вать-Еганское\"}, {\"value\": \"Ватьеганское\"}, {\"value\": \"Вахитовское\"}, {\"value\": \"Верхнеколик-Еганское\"}, {\"value\": \"Верхнеколик-Еганское\"}, {\"value\": \"Видное\"}, {\"value\": \"Викторинское\"}, {\"value\": \"Винниковское\"}, {\"value\": \"Вишневское\"}, {\"value\": \"Возей\"}, {\"value\": \"Возейское\"}, {\"value\": \"Волостновское\"}, {\"value\": \"Воробьевское\"}, {\"value\": \"Восточно- Мастерьельское\"}, {\"value\": \"Восточно-Икилорское\"}, {\"value\": \"Восточно-Икилорское\"}, {\"value\": \"Восточно-Кустовое\"}, {\"value\": \"Восточно-Макаровское\"}, {\"value\": \"Восточно-Перевальное\"}, {\"value\": \"Восточно-Перевальное\"}, {\"value\": \"Восточно-Правдинское\"}, {\"value\": \"Восточно-Придорожное\"}, {\"value\": \"Восточно-Придорожное\"}, {\"value\": \"Восточно-Придорожное\"}, {\"value\": \"Восточно-Пякутинское\"}, {\"value\": \"Восточно-Сарутаюское\"}, {\"value\": \"Восточно-Сургутское\"}, {\"value\": \"Восточно-Токайское\"}, {\"value\": \"Восточно-Ягунское\"}, {\"value\": \"Восточнро-Придорожное\"}, {\"value\": \"Встречное\"}, {\"value\": \"Вынгаяхинское\"}, {\"value\": \"Гаршинское\"}, {\"value\": \"Герасимовское\"}, {\"value\": \"Геркулесовское\"}, {\"value\": \"Гондыревское\"}, {\"value\": \"Горное\"}, {\"value\": \"Графское\"}, {\"value\": \"Даниловское\"}, {\"value\": \"Демаельская\"}, {\"value\": \"Довыдовское\"}, {\"value\": \"Дозорцевское\"}, {\"value\": \"Долговское\"}, {\"value\": \"Долговское\"}, {\"value\": \"Долговское\"}, {\"value\": \"Дон-Сыртовское\"}, {\"value\": \"Донская\"}, {\"value\": \"Дороховское\"}, {\"value\": \"Дружное\"}, {\"value\": \"Дружное\"}, {\"value\": \"Е.Зыковское\"}, {\"value\": \"Енапаевское\"}, {\"value\": \"Енорусскинское\"}, {\"value\": \"Етыпуровское\"}, {\"value\": \"Жилинское\"}, {\"value\": \"Журавское\"}, {\"value\": \"Загорское\"}, {\"value\": \"Залесское\"}, {\"value\": \"Зап-Угутское\"}, {\"value\": \"Зап-Усть -Былыкское\"}, {\"value\": \"Западно-Асомкинское\"}, {\"value\": \"Западно-Бимское\"}, {\"value\": \"Западно-Варьёганское\"}, {\"value\": \"Западно-Икилорское\"}, {\"value\": \"Западно-Катыльгинское\"}, {\"value\": \"Западно-Кулагинское\"}, {\"value\": \"Западно-Малобалыкское\"}, {\"value\": \"Западно-Пурпейское\"}, {\"value\": \"Западно-Степановское\"}, {\"value\": \"Западно-Тугровское\"}, {\"value\": \"Западно-Эргинское\"}, {\"value\": \"Западное Сюрхаратинское\"}, {\"value\": \"Западный Могутлор\"}, {\"value\": \"Зимнее\"}, {\"value\": \"Ивановское\"}, {\"value\": \"Икилорское\"}, {\"value\": \"Икилорское\"}, {\"value\": \"Ильичевское\"}, {\"value\": \"Имилорское\"}, {\"value\": \"Инзырейское\"}, {\"value\": \"Ининское\"}, {\"value\": \"Ининское\"}, {\"value\": \"Ипатское\"}, {\"value\": \"Ишуевское\"}, {\"value\": \"Казыгашевское\"}, {\"value\": \"Калиннинковское\"}, {\"value\": \"Калмиярское\"}, {\"value\": \"Камеликское\"}, {\"value\": \"Каменское\"}, {\"value\": \"Каменское\"}, {\"value\": \"Кетовское\"}, {\"value\": \"Кечимовское\"}, {\"value\": \"Киндельское\"}, {\"value\": \"Кинзельское\"}, {\"value\": \"Киняминское\"}, {\"value\": \"Кичкасское\"}, {\"value\": \"Киязлинское\"}, {\"value\": \"Ключевое\"}, {\"value\": \"Ковыктинское ГКМ\"}, {\"value\": \"Кодяковское\"}, {\"value\": \"Колвинское\"}, {\"value\": \"Командишорское\"}, {\"value\": \"Комсомольское\"}, {\"value\": \"Кондинское\"}, {\"value\": \"Корниловское\"}, {\"value\": \"Кочевское\"}, {\"value\": \"Кочевское\"}, {\"value\": \"Кошильское\"}, {\"value\": \"Крайнее\"}, {\"value\": \"Крапивинское\"}, {\"value\": \"Красное\"}, {\"value\": \"Красноленинское\"}, {\"value\": \"Красноленинское\"}, {\"value\": \"Краснонивское\"}, {\"value\": \"Красноярско-Куединское\"}, {\"value\": \"Красноярское\"}, {\"value\": \"Кристальное\"}, {\"value\": \"Крузенштернское\"}, {\"value\": \"Кузоваткинское\"}, {\"value\": \"Кукуштанское\"}, {\"value\": \"Кулагинское\"}, {\"value\": \"Курманаевское\"}, {\"value\": \"Кустовое\"}, {\"value\": \"Кустовое\"}, {\"value\": \"Кутулукское\"}, {\"value\": \"Куюмбинское\"}, {\"value\": \"Кыртаельское\"}, {\"value\": \"Кэралайское\"}, {\"value\": \"Лабаганское\"}, {\"value\": \"Лас-Еганское\"}, {\"value\": \"Лачаель\"}, {\"value\": \"Лебяжинское\"}, {\"value\": \"Лебяжинское\"}, {\"value\": \"Леккерское\"}, {\"value\": \"Лекхарьягинское\"}, {\"value\": \"Лесное\"}, {\"value\": \"Лобановское\"}, {\"value\": \"Локосовское\"}, {\"value\": \"Луговое\"}, {\"value\": \"Луньвожпальское\"}, {\"value\": \"Лыаельское\"}, {\"value\": \"Мало-Балыкское\"}, {\"value\": \"Малобалыкское\"}, {\"value\": \"Мамалаевское\"}, {\"value\": \"Мамонтовское\"}, {\"value\": \"Мастерьельское\"}, {\"value\": \"Мегионское\"}, {\"value\": \"Мельниковское\"}, {\"value\": \"Мензелинское\"}, {\"value\": \"Минибаевское\"}, {\"value\": \"Моргуновское\"}, {\"value\": \"Мортымья-Тетеревское\"}, {\"value\": \"Мортымья-Тетеревское\"}, {\"value\": \"Мортымья-Тетеревское\"}, {\"value\": \"Московцева\"}, {\"value\": \"Москудьинское\"}, {\"value\": \"Мушакское\"}, {\"value\": \"Мыхпайское\"}, {\"value\": \"Мядсейское\"}, {\"value\": \"Н-Кудренское\"}, {\"value\": \"Н-Любимовское\"}, {\"value\": \"Надейю\"}, {\"value\": \"Натальинское\"}, {\"value\": \"Натальинское\"}, {\"value\": \"Нерутынское\"}, {\"value\": \"Нивагальское\"}, {\"value\": \"Ново-Боголюбовское\"}, {\"value\": \"Ново-Дмитриевское\"}, {\"value\": \"Ново-Жедринское\"}, {\"value\": \"Ново-Землянское\"}, {\"value\": \"Ново-Малаховское\"}, {\"value\": \"Ново-Покурское\"}, {\"value\": \"Ново-Пурпейское\"}, {\"value\": \"Ново-Федоровское\"}, {\"value\": \"Новокрасинская\"}, {\"value\": \"Новомостовское\"}, {\"value\": \"Новоортъягунское\"}, {\"value\": \"Новосибирское\"}, {\"value\": \"Нонг-Еганское\"}, {\"value\": \"Ольгинское\"}, {\"value\": \"Ольховское\"}, {\"value\": \"Ольховское\"}, {\"value\": \"Омбинское\"}, {\"value\": \"Орехо-Ермаковское\"}, {\"value\": \"Орехово-Ермаковское\"}, {\"value\": \"Орехово-Ермаковское\"}, {\"value\": \"Островное\"}, {\"value\": \"Ошское\"}, {\"value\": \"П.Сорочинское\"}, {\"value\": \"Павловское\"}, {\"value\": \"Памятно-Сасовское\"}, {\"value\": \"Пачгинское\"}, {\"value\": \"Пашнинское\"}, {\"value\": \"Первомайское\"}, {\"value\": \"Перевозное\"}, {\"value\": \"Пермяковское\"}, {\"value\": \"Петелинское\"}, {\"value\": \"Пихтовое\"}, {\"value\": \"Пихтовское\"}, {\"value\": \"Пихтовское\"}, {\"value\": \"Повховское\"}, {\"value\": \"Повховское\"}, {\"value\": \"Пожвинское\"}, {\"value\": \"Покачевское\"}, {\"value\": \"Покомасовское\"}, {\"value\": \"Покрово-Сорочинское\"}, {\"value\": \"Покровское\"}, {\"value\": \"Потанай-Картопьинское\"}, {\"value\": \"Поточное\"}, {\"value\": \"Правдинское\"}, {\"value\": \"Правдинское\"}, {\"value\": \"Придорожное\"}, {\"value\": \"Пример месторождения\"}, {\"value\": \"Приобское\"}, {\"value\": \"Приобское\"}, {\"value\": \"Приразломное\"}, {\"value\": \"Приразломное\"}, {\"value\": \"Присклоновое\"}, {\"value\": \"Присклоновое\"}, {\"value\": \"Пробное\"}, {\"value\": \"Пронькинское\"}, {\"value\": \"Пыжельское\"}, {\"value\": \"Пякяхинское\"}, {\"value\": \"Р-Тевлинское\"}, {\"value\": \"Р/Конновское\"}, {\"value\": \"Равенское\"}, {\"value\": \"Равенское\"}, {\"value\": \"Радовское\"}, {\"value\": \"Рассохинское\"}, {\"value\": \"Расьюское\"}, {\"value\": \"Речное\"}, {\"value\": \"Ржавское\"}, {\"value\": \"Родинское\"}, {\"value\": \"Родниковское\"}, {\"value\": \"Романовское\"}, {\"value\": \"Рославльское\"}, {\"value\": \"Россихинское\"}, {\"value\": \"Росташинское\"}, {\"value\": \"Рыбкинское\"}, {\"value\": \"Рябиновое\"}, {\"value\": \"С. Макарихинское\"}, {\"value\": \"С.Краснояровское\"}, {\"value\": \"С.Никольское\"}, {\"value\": \"Савиноборское\"}, {\"value\": \"Саврушинское\"}, {\"value\": \"Сакадинское\"}, {\"value\": \"Салымское\"}, {\"value\": \"Самодуровское\"}, {\"value\": \"Самотлорское\"}, {\"value\": \"Самотлорское 13\"}, {\"value\": \"Самотлорское 14\"}, {\"value\": \"Самотлорское 2\"}, {\"value\": \"Самотлорское 3\"}, {\"value\": \"Свободное\"}, {\"value\": \"Северный Баган\"}, {\"value\": \"Северный Ванкор\"}, {\"value\": \"Северо Губкинское\"}, {\"value\": \"Северо- Ипатское\"}, {\"value\": \"Северо-Варьеганское\"}, {\"value\": \"Северо-Варьёганское\"}, {\"value\": \"Северо-Губкинское\"}, {\"value\": \"Северо-Даниловское\"}, {\"value\": \"Северо-Конитлорское\"}, {\"value\": \"Северо-Кочевское\"}, {\"value\": \"Северо-Кочевское\"}, {\"value\": \"Северо-Ореховское\"}, {\"value\": \"Северо-Островное\"}, {\"value\": \"Северо-Покачевское\"}, {\"value\": \"Северо-Покровское\"}, {\"value\": \"Северо-Покурское\"}, {\"value\": \"Северо-Поточное\"}, {\"value\": \"Северо-Савиноборское\"}, {\"value\": \"Северо-Сарембой\"}, {\"value\": \"Северо-Хохряковское\"}, {\"value\": \"Северо-Янгтинское\"}, {\"value\": \"Скворцовское\"}, {\"value\": \"Слободское\"}, {\"value\": \"Случайное\"}, {\"value\": \"Солдатовское\"}, {\"value\": \"Солдатовское\"}, {\"value\": \"Солкинское\"}, {\"value\": \"Сорочинск-Никольское\"}, {\"value\": \"Сорочинско-Никольское\"}, {\"value\": \"Сосновское\"}, {\"value\": \"Софьинское\"}, {\"value\": \"Спиридоновское\"}, {\"value\": \"Средне - Балыкское\"}, {\"value\": \"Средне-Мичаельское\"}, {\"value\": \"Средне-Угутское\"}, {\"value\": \"Средне-Харьягинское\"}, {\"value\": \"Степноозерское\"}, {\"value\": \"Суборское\"}, {\"value\": \"Сугмутское\"}, {\"value\": \"Султан-Заглядинское\"}, {\"value\": \"Суторминское\"}, {\"value\": \"Сухаревское\"}, {\"value\": \"Сюрхаратинское\"}, {\"value\": \"Тагринское\"}, {\"value\": \"Тайлаковское\"}, {\"value\": \"Тананыкское\"}, {\"value\": \"Таращанское\"}, {\"value\": \"Тевлино-Русскинское\"}, {\"value\": \"Тевлинско-Русскинское\"}, {\"value\": \"Тединское\"}, {\"value\": \"Тепловское\"}, {\"value\": \"Тестовое\"}, {\"value\": \"Титова\"}, {\"value\": \"Тобойское\"}, {\"value\": \"Токское\"}, {\"value\": \"Толумское\"}, {\"value\": \"Торовейское\"}, {\"value\": \"Требса\"}, {\"value\": \"Трубецкое\"}, {\"value\": \"Турчаниновское\"}, {\"value\": \"Угутское\"}, {\"value\": \"Узунское\"}, {\"value\": \"Умирское\"}, {\"value\": \"Умсейское\"}, {\"value\": \"Урьевское\"}, {\"value\": \"Усинское\"}, {\"value\": \"Усинское\"}, {\"value\": \"Усть-Балыкское\"}, {\"value\": \"Усть-Котухтинское\"}, {\"value\": \"Устьевое\"}, {\"value\": \"Федотовская площадь\"}, {\"value\": \"Хальмерпоютинское\"}, {\"value\": \"Хантос\"}, {\"value\": \"Харьягинское\"}, {\"value\": \"Хасырейское\"}, {\"value\": \"Хыльчаюское\"}, {\"value\": \"Чаяндинское\"}, {\"value\": \"Чекалдинское\"}, {\"value\": \"Чернушинское\"}, {\"value\": \"Черпаю\"}, {\"value\": \"Чистинное\"}, {\"value\": \"Чишминская\"}, {\"value\": \"Чумпасское\"}, {\"value\": \"Чупальское\"}, {\"value\": \"Чураковское\"}, {\"value\": \"Шароновское\"}, {\"value\": \"Шейгурчинское\"}, {\"value\": \"Школьное\"}, {\"value\": \"Шулаевское\"}, {\"value\": \"Экилорское\"}, {\"value\": \"Энтельское\"}, {\"value\": \"Ю-Выинтойское\"}, {\"value\": \"Ю-Султангуловское\"}, {\"value\": \"Ю-Урьевское\"}, {\"value\": \"Ю.Сперидоновское\"}, {\"value\": \"Юбилейное\"}, {\"value\": \"Южинское\"}, {\"value\": \"Южно Ипатское\"}, {\"value\": \"Южно Лыжского\"}, {\"value\": \"Южно Юрьяхинское\"}, {\"value\": \"Южно--Ягунское\"}, {\"value\": \"Южно-Аганское\"}, {\"value\": \"Южно-Баганское\"}, {\"value\": \"Южно-Балыкское\"}, {\"value\": \"Южно-Выинтойское\"}, {\"value\": \"Южно-Выйнтой\"}, {\"value\": \"Южно-Киняминское\"}, {\"value\": \"Южно-Кустовое\"}, {\"value\": \"Южно-Островное\"}, {\"value\": \"Южно-Покамасовское\"}, {\"value\": \"Южно-Покачевское\"}, {\"value\": \"Южно-Приобское\"}, {\"value\": \"Южно-Тарасовское\"}, {\"value\": \"Южно-Тарасовское\"}, {\"value\": \"Южно-Ягунское\"}, {\"value\": \"Южно-Ягунское\"}, {\"value\": \"Южно-арасовское\"}, {\"value\": \"Южчно-Кустовое\"}, {\"value\": \"Юрхаровское\"}, {\"value\": \"Юрчукское\"}, {\"value\": \"Ямбургское\"}, {\"value\": \"Ярегское\"}, {\"value\": \"Яреюское\"}, {\"value\": \"Яркое\"}, {\"value\": \"без названия\"}, {\"value\": \"им. А.Титова\"}, {\"value\": \"им. Алабушина\"}, {\"value\": \"им. Московцева\"}, {\"value\": \"им. Р. Требса\"}, {\"value\": \"им. Россихина\"}, {\"value\": \"скв 29956 залежь 221\"}]\n",
    "    try:\n",
    "        for field in choices_fields:\n",
    "            if row in field[\"value\"]:\n",
    "                return field[\"value\"]\n",
    "    except:\n",
    "        pass\n",
    "    \n",
    "df_new[\"Месторождение\"] = df_new[\"Месторождение\"].apply(lambda x: convert_to_fields_names(x))"
   ]
  },
  {
   "cell_type": "code",
   "execution_count": 49,
   "id": "4afc70df-dc14-4000-b1e7-0d040173cd9f",
   "metadata": {},
   "outputs": [
    {
     "data": {
      "text/plain": [
       "4"
      ]
     },
     "execution_count": 49,
     "metadata": {},
     "output_type": "execute_result"
    }
   ],
   "source": [
    "df_new[\"Месторождение\"].isnull().sum()"
   ]
  },
  {
   "cell_type": "code",
   "execution_count": 50,
   "id": "d8ac1779",
   "metadata": {
    "tags": []
   },
   "outputs": [],
   "source": [
    "# Ищем подрядчика \n",
    "def convert_to_podr(row):\n",
    "    choices_podr = [{\"вэлл\": \"ООО «ВэллСервис»\", \"велл\": \"ООО «ВэллСервис»\", \"бке\": \"ООО «БКЕ» ФРС\", \"мастернефть\": \"ООО «Мастернефтьcервис»\", \"инс\": \"ООО «Мастернефтьcервис»\", \\\n",
    "                    \"евразия\": \"ООО «БКЕ» ФРС\", \"мстернефть\": \"ООО «Мастернефтьcервис»\", \"мастер-нефть\": \"ООО «Мастернефтьcервис»\", \\\n",
    "                    \"импульс-нефтесервис\": \"ООО «Мастернефтьcервис»\", \"инпус-нефтесервис\": \"ООО «Мастернефтьcервис»\", \"импульс нефтесервис\": \"ООО «Мастернефтьcервис»\", \\\n",
    "                    \"мастер - нефть\": \"ООО «Мастернефтьcервис»\", \"«мастернефтесервис»\": \"ООО «Мастернефтьcервис»\", \"мастер нефть\":\"ООО «Мастернефтьcервис»\"}]\n",
    "    try:\n",
    "        if row:\n",
    "            row_cleaned = re.sub(r'\\s+', ' ', row.lower()) # Удаление лишних пробелов и приведение к нижнему регистру\n",
    "            ans = []\n",
    "            for i in choices_podr:\n",
    "                for j in i.keys():\n",
    "                    if j in row_cleaned:\n",
    "                        ans.append(i[j])\n",
    "                        return i[j]\n",
    "            # if not ans:\n",
    "            #     print(row)\n",
    "    except:\n",
    "        pass\n",
    "        \n",
    "\n",
    "df_new[\"Наименование подрядчика\"] = df_test[\"Подрядчик № бригады Мастер\"].apply(convert_to_podr)"
   ]
  },
  {
   "cell_type": "code",
   "execution_count": 51,
   "id": "bd5b5448-e7f0-49dd-a035-2c82d5b1a42d",
   "metadata": {},
   "outputs": [
    {
     "data": {
      "text/plain": [
       "0"
      ]
     },
     "execution_count": 51,
     "metadata": {},
     "output_type": "execute_result"
    }
   ],
   "source": [
    "df_new[\"Наименование подрядчика\"].isnull().sum()"
   ]
  },
  {
   "cell_type": "code",
   "execution_count": 52,
   "id": "64135214",
   "metadata": {
    "tags": []
   },
   "outputs": [],
   "source": [
    "# Ищем ФИО мастера бригады\n",
    "def convert_to_master(row):\n",
    "    try:\n",
    "        pattern = r\"[А-ЯЁ][а-яё]+\\s+[А-ЯЁ]\\.[А-ЯЁ]\\.|[А-ЯЁ][а-яё]+\\s+[А-ЯЁ]\\.|[А-ЯЁ][а-яё]+\\s+[А-ЯЁ]\"\n",
    "        families = re.findall(pattern, row)\n",
    "        return families[0]\n",
    "    except:\n",
    "#        print(row)\n",
    "        return \"\"\n",
    "    \n",
    "df_new[\"Мастер бригады\"] = df_test[\"Подрядчик № бригады Мастер\"].apply(convert_to_master)"
   ]
  },
  {
   "cell_type": "code",
   "execution_count": 53,
   "id": "c3ac93c7-8d13-4ea6-8189-901e13e933b2",
   "metadata": {},
   "outputs": [
    {
     "data": {
      "text/plain": [
       "0"
      ]
     },
     "execution_count": 53,
     "metadata": {},
     "output_type": "execute_result"
    }
   ],
   "source": [
    "df_new[\"Мастер бригады\"].isnull().sum()"
   ]
  },
  {
   "cell_type": "code",
   "execution_count": 54,
   "id": "02dece08",
   "metadata": {
    "tags": []
   },
   "outputs": [],
   "source": [
    "# Ищем номер бригады\n",
    "def extract_last_number(string):\n",
    "    try:\n",
    "        results = re.findall(r'\\s*№?\\s*(\\d+)', string, re.IGNORECASE)\n",
    "        return int(results[-1])  # Возвращаем последнее совпадение\n",
    "    except:\n",
    "        #print(string)\n",
    "        pass\n",
    "df_new[\"Номер бригады\"] = df_test[\"Подрядчик № бригады Мастер\"].apply(extract_last_number)"
   ]
  },
  {
   "cell_type": "code",
   "execution_count": 55,
   "id": "93e04b67-c70c-40a2-b763-ad9abd36af34",
   "metadata": {},
   "outputs": [
    {
     "data": {
      "text/plain": [
       "0"
      ]
     },
     "execution_count": 55,
     "metadata": {},
     "output_type": "execute_result"
    }
   ],
   "source": [
    "df_new[\"Номер бригады\"].isnull().sum()"
   ]
  },
  {
   "cell_type": "code",
   "execution_count": 56,
   "id": "3a1c9bfb",
   "metadata": {
    "tags": []
   },
   "outputs": [],
   "source": [
    "# Сбрасываем индекс\n",
    "df_new = df_new.reset_index(drop=True)"
   ]
  },
  {
   "cell_type": "code",
   "execution_count": 57,
   "id": "75a012db",
   "metadata": {
    "tags": []
   },
   "outputs": [],
   "source": [
    "# Переименовываем столбцы для удобства\n",
    "df_new = df_new.rename(columns={\n",
    "    \"Дата\": \"dateAkt\",\n",
    "    \"ФИО супервайзера\": \"superFIO\",\n",
    "    \"Мастер бригады\": \"MasterFIO\",\n",
    "    \"Скважина\": \"well\",\n",
    "    \"Номер бригады\": \"numBrigade\",\n",
    "    \"Месторождение\": \"field\",\n",
    "    \"Наименование подрядчика\": \"podrCompanystep1\",\n",
    "    \"Куст\": \"padstep1\"\n",
    "})"
   ]
  },
  {
   "cell_type": "code",
   "execution_count": 58,
   "id": "72c59ef3",
   "metadata": {
    "tags": []
   },
   "outputs": [],
   "source": [
    "# Преобразуем дату\n",
    "df_new['dateAkt'] = pd.to_datetime(df_new['dateAkt']).dt.strftime('%Y%m%dT%H:%M:%SZ')"
   ]
  },
  {
   "cell_type": "code",
   "execution_count": 59,
   "id": "82f29ebf",
   "metadata": {
    "tags": []
   },
   "outputs": [
    {
     "data": {
      "text/plain": [
       "dateAkt             22\n",
       "superFIO             1\n",
       "padstep1             0\n",
       "well                 0\n",
       "field                4\n",
       "podrCompanystep1     0\n",
       "MasterFIO            0\n",
       "numBrigade           0\n",
       "dtype: int64"
      ]
     },
     "execution_count": 59,
     "metadata": {},
     "output_type": "execute_result"
    }
   ],
   "source": [
    "# Смотрим на кол-во пропусков\n",
    "df_new.isnull().sum()"
   ]
  },
  {
   "cell_type": "code",
   "execution_count": 60,
   "id": "49121aa9-68ed-4be9-9235-2ce0a901b52f",
   "metadata": {},
   "outputs": [],
   "source": [
    "#Удаляем пропуски\n",
    "df_new = df_new.dropna()"
   ]
  },
  {
   "cell_type": "code",
   "execution_count": 61,
   "id": "296da7c0",
   "metadata": {
    "tags": []
   },
   "outputs": [
    {
     "data": {
      "text/plain": [
       "(1437, 8)"
      ]
     },
     "execution_count": 61,
     "metadata": {},
     "output_type": "execute_result"
    }
   ],
   "source": [
    "df_new.shape"
   ]
  },
  {
   "cell_type": "markdown",
   "id": "47c7f62a",
   "metadata": {},
   "source": [
    "### Подготка датафрейма для нарушений"
   ]
  },
  {
   "cell_type": "code",
   "execution_count": 62,
   "id": "3bab0186",
   "metadata": {
    "tags": []
   },
   "outputs": [],
   "source": [
    "df_new = df_new.reset_index(drop=True)\n",
    "df_test = df_test.reset_index(drop=True)"
   ]
  },
  {
   "cell_type": "code",
   "execution_count": 63,
   "id": "495b8ace",
   "metadata": {
    "tags": []
   },
   "outputs": [],
   "source": [
    "df_new[\"violations\"] = df_test[\"Выявленные нарушения по технологии работ\"].apply(lambda x: x)"
   ]
  },
  {
   "cell_type": "code",
   "execution_count": 64,
   "id": "78527cd2",
   "metadata": {
    "scrolled": true,
    "tags": []
   },
   "outputs": [
    {
     "data": {
      "text/plain": [
       "'Проведена проверка технологического процесса:\\nПодъём КФ-120х80 + Шламоуловитель на СБТ З-86 прав Н=1800м.\\nПланируемые работы: Полный подъём КФ-120х80 + Шламоуловитель на СБТ З-86 прав до \"0м\" запланирован на 17:00ч 01.01.2021г. \\nДалее спуск по результату подъёма.\\nКамера видео регистрации установлена, в исправном состоянии.\\nПроизведен замер газовоздушной среды. \\nРаботы производятся согласно плана работ.   \\nОперативная сводка соответствует выполняемым операциям. \\nУстановка и эксплуатация ПВО соответствует СНД по ПФБ. '"
      ]
     },
     "execution_count": 64,
     "metadata": {},
     "output_type": "execute_result"
    }
   ],
   "source": [
    "df_new.violations[1]"
   ]
  },
  {
   "cell_type": "code",
   "execution_count": 317,
   "id": "7f4350ed-26f5-43c1-8f2f-4b487256b07d",
   "metadata": {
    "scrolled": true,
    "tags": []
   },
   "outputs": [
    {
     "data": {
      "text/html": [
       "<div>\n",
       "<style scoped>\n",
       "    .dataframe tbody tr th:only-of-type {\n",
       "        vertical-align: middle;\n",
       "    }\n",
       "\n",
       "    .dataframe tbody tr th {\n",
       "        vertical-align: top;\n",
       "    }\n",
       "\n",
       "    .dataframe thead th {\n",
       "        text-align: right;\n",
       "    }\n",
       "</style>\n",
       "<table border=\"1\" class=\"dataframe\">\n",
       "  <thead>\n",
       "    <tr style=\"text-align: right;\">\n",
       "      <th></th>\n",
       "      <th>dateAkt</th>\n",
       "      <th>superFIO</th>\n",
       "      <th>padstep1</th>\n",
       "      <th>well</th>\n",
       "      <th>field</th>\n",
       "      <th>podrCompanystep1</th>\n",
       "      <th>MasterFIO</th>\n",
       "      <th>numBrigade</th>\n",
       "      <th>violations</th>\n",
       "    </tr>\n",
       "  </thead>\n",
       "  <tbody>\n",
       "    <tr>\n",
       "      <th>0</th>\n",
       "      <td>20210101T22:00:00Z</td>\n",
       "      <td>Почуев В.М</td>\n",
       "      <td>43а</td>\n",
       "      <td>741</td>\n",
       "      <td>Южно-Ягунское</td>\n",
       "      <td>ООО «Мастернефтьcервис»</td>\n",
       "      <td>Коныш А.М.</td>\n",
       "      <td>15</td>\n",
       "      <td>Проведена проверка технологического процесса:\\...</td>\n",
       "    </tr>\n",
       "    <tr>\n",
       "      <th>1</th>\n",
       "      <td>20210101T15:00:00Z</td>\n",
       "      <td>Блудилин А.А</td>\n",
       "      <td>71</td>\n",
       "      <td>8060</td>\n",
       "      <td>Тевлинско-Русскинское</td>\n",
       "      <td>ООО «ВэллСервис»</td>\n",
       "      <td>Гасанбеков В.В.</td>\n",
       "      <td>411</td>\n",
       "      <td>Проведена проверка технологического процесса:\\...</td>\n",
       "    </tr>\n",
       "    <tr>\n",
       "      <th>2</th>\n",
       "      <td>20210101T12:00:00Z</td>\n",
       "      <td>Халилов Л.Р</td>\n",
       "      <td>9</td>\n",
       "      <td>7140</td>\n",
       "      <td>Кочевское</td>\n",
       "      <td>ООО «БКЕ» ФРС</td>\n",
       "      <td>Худаяров Э.Б.</td>\n",
       "      <td>20</td>\n",
       "      <td>Проведена проверка технологического процесса:\\...</td>\n",
       "    </tr>\n",
       "    <tr>\n",
       "      <th>3</th>\n",
       "      <td>20210102T16:30:00Z</td>\n",
       "      <td>Сергеев В.И</td>\n",
       "      <td>20</td>\n",
       "      <td>451</td>\n",
       "      <td>Северо Губкинское</td>\n",
       "      <td>ООО «БКЕ» ФРС</td>\n",
       "      <td>Карманов А.В.</td>\n",
       "      <td>287</td>\n",
       "      <td>Проведена проверка технологического процесса: ...</td>\n",
       "    </tr>\n",
       "    <tr>\n",
       "      <th>4</th>\n",
       "      <td>20200102T12:00:00Z</td>\n",
       "      <td>Никотин Д.В</td>\n",
       "      <td>11</td>\n",
       "      <td>1160Г</td>\n",
       "      <td>Имилорское</td>\n",
       "      <td>ООО «ВэллСервис»</td>\n",
       "      <td>Карманаджиев Р.</td>\n",
       "      <td>405</td>\n",
       "      <td>Проведена проверка технологического процесса:\\...</td>\n",
       "    </tr>\n",
       "    <tr>\n",
       "      <th>...</th>\n",
       "      <td>...</td>\n",
       "      <td>...</td>\n",
       "      <td>...</td>\n",
       "      <td>...</td>\n",
       "      <td>...</td>\n",
       "      <td>...</td>\n",
       "      <td>...</td>\n",
       "      <td>...</td>\n",
       "      <td>...</td>\n",
       "    </tr>\n",
       "    <tr>\n",
       "      <th>1432</th>\n",
       "      <td>20211228T17:00:00Z</td>\n",
       "      <td>Галиуллин Р.И</td>\n",
       "      <td>3</td>\n",
       "      <td>391У</td>\n",
       "      <td>Имилорское</td>\n",
       "      <td>ООО «ВэллСервис»</td>\n",
       "      <td>Манжиков М.В.</td>\n",
       "      <td>408</td>\n",
       "      <td>Проведена проверка технологического процесса:\\...</td>\n",
       "    </tr>\n",
       "    <tr>\n",
       "      <th>1433</th>\n",
       "      <td>20211228T13:30:00Z</td>\n",
       "      <td>Чуприянов С.В</td>\n",
       "      <td>74</td>\n",
       "      <td>8013</td>\n",
       "      <td>Тевлинско-Русскинское</td>\n",
       "      <td>ООО «БКЕ» ФРС</td>\n",
       "      <td>Исламов И.</td>\n",
       "      <td>157</td>\n",
       "      <td>Проведена проверка технологического процесса: ...</td>\n",
       "    </tr>\n",
       "    <tr>\n",
       "      <th>1434</th>\n",
       "      <td>20211228T22:00:00Z</td>\n",
       "      <td>Бочкарев А.В</td>\n",
       "      <td>194</td>\n",
       "      <td>6151</td>\n",
       "      <td>Тевлинско-Русскинское</td>\n",
       "      <td>ООО «Мастернефтьcервис»</td>\n",
       "      <td>Ибрагимов Р.Ф.</td>\n",
       "      <td>5</td>\n",
       "      <td>Проведена проверка технологического процесса: ...</td>\n",
       "    </tr>\n",
       "    <tr>\n",
       "      <th>1435</th>\n",
       "      <td>20211229T10:30:00Z</td>\n",
       "      <td>Бурлаков Р.В</td>\n",
       "      <td>21</td>\n",
       "      <td>224л</td>\n",
       "      <td>Северо Губкинское</td>\n",
       "      <td>ООО «БКЕ» ФРС</td>\n",
       "      <td>Галеев А.А.</td>\n",
       "      <td>1</td>\n",
       "      <td>Проведена проверка технологического процесса:\\...</td>\n",
       "    </tr>\n",
       "    <tr>\n",
       "      <th>1436</th>\n",
       "      <td>20211229T00:00:00Z</td>\n",
       "      <td>Бочкарев А.В</td>\n",
       "      <td>208</td>\n",
       "      <td>9285</td>\n",
       "      <td>Тевлинско-Русскинское</td>\n",
       "      <td>ООО «БКЕ» ФРС</td>\n",
       "      <td>Спиридонов А.А.</td>\n",
       "      <td>261</td>\n",
       "      <td>Проведена проверка технологического процесса:\\...</td>\n",
       "    </tr>\n",
       "  </tbody>\n",
       "</table>\n",
       "<p>1437 rows × 9 columns</p>\n",
       "</div>"
      ],
      "text/plain": [
       "                 dateAkt       superFIO padstep1   well  \\\n",
       "0     20210101T22:00:00Z     Почуев В.М      43а    741   \n",
       "1     20210101T15:00:00Z   Блудилин А.А       71   8060   \n",
       "2     20210101T12:00:00Z    Халилов Л.Р        9   7140   \n",
       "3     20210102T16:30:00Z    Сергеев В.И       20    451   \n",
       "4     20200102T12:00:00Z    Никотин Д.В       11  1160Г   \n",
       "...                  ...            ...      ...    ...   \n",
       "1432  20211228T17:00:00Z  Галиуллин Р.И        3   391У   \n",
       "1433  20211228T13:30:00Z  Чуприянов С.В       74   8013   \n",
       "1434  20211228T22:00:00Z   Бочкарев А.В      194   6151   \n",
       "1435  20211229T10:30:00Z   Бурлаков Р.В       21   224л   \n",
       "1436  20211229T00:00:00Z   Бочкарев А.В      208   9285   \n",
       "\n",
       "                      field         podrCompanystep1        MasterFIO  \\\n",
       "0             Южно-Ягунское  ООО «Мастернефтьcервис»       Коныш А.М.   \n",
       "1     Тевлинско-Русскинское         ООО «ВэллСервис»  Гасанбеков В.В.   \n",
       "2                 Кочевское            ООО «БКЕ» ФРС    Худаяров Э.Б.   \n",
       "3         Северо Губкинское            ООО «БКЕ» ФРС    Карманов А.В.   \n",
       "4                Имилорское         ООО «ВэллСервис»  Карманаджиев Р.   \n",
       "...                     ...                      ...              ...   \n",
       "1432             Имилорское         ООО «ВэллСервис»    Манжиков М.В.   \n",
       "1433  Тевлинско-Русскинское            ООО «БКЕ» ФРС       Исламов И.   \n",
       "1434  Тевлинско-Русскинское  ООО «Мастернефтьcервис»   Ибрагимов Р.Ф.   \n",
       "1435      Северо Губкинское            ООО «БКЕ» ФРС      Галеев А.А.   \n",
       "1436  Тевлинско-Русскинское            ООО «БКЕ» ФРС  Спиридонов А.А.   \n",
       "\n",
       "      numBrigade                                         violations  \n",
       "0             15  Проведена проверка технологического процесса:\\...  \n",
       "1            411  Проведена проверка технологического процесса:\\...  \n",
       "2             20  Проведена проверка технологического процесса:\\...  \n",
       "3            287  Проведена проверка технологического процесса: ...  \n",
       "4            405  Проведена проверка технологического процесса:\\...  \n",
       "...          ...                                                ...  \n",
       "1432         408  Проведена проверка технологического процесса:\\...  \n",
       "1433         157  Проведена проверка технологического процесса: ...  \n",
       "1434           5  Проведена проверка технологического процесса: ...  \n",
       "1435           1  Проведена проверка технологического процесса:\\...  \n",
       "1436         261  Проведена проверка технологического процесса:\\...  \n",
       "\n",
       "[1437 rows x 9 columns]"
      ]
     },
     "execution_count": 317,
     "metadata": {},
     "output_type": "execute_result"
    }
   ],
   "source": [
    "df_new_vio = df_new.copy()\n",
    "df_new_vio"
   ]
  },
  {
   "cell_type": "code",
   "execution_count": 318,
   "id": "3d78de44-43fb-497c-8a0a-d66dd112996d",
   "metadata": {},
   "outputs": [],
   "source": [
    "def find_violation_name(text):\n",
    "    def joinNPV(x):\n",
    "        lines = x.strip().split(\"\\n\")\n",
    "        forSearch = [\"Непроизводит\", \"нпв\", \"НПВ\", \"непроизводиель\", \"Нпв\"]\n",
    "        ans = []\n",
    "        i = 0\n",
    "        while i < len(lines):\n",
    "            if any(word in lines[i] for word in forSearch) and i > 0:\n",
    "                ans[-1] = ans[-1] + \" \" + lines[i]\n",
    "            else:\n",
    "                ans.append(lines[i])\n",
    "            i += 1\n",
    "        return \"\\n\".join(ans)\n",
    "    references = []\n",
    "    descriptions = []\n",
    "    pattern = r\"\\([^()]*В/О[^()]*\\)|\\([^()]*в/о[^()]*\\)\"\n",
    "    a = re.findall(pattern,text)\n",
    "    b = re.split(pattern,text)[:-1]\n",
    "    pattern1 = r\"\\n\\d+\\.\\s*.*|\\n\\d+\\s*.*\"\n",
    "    for i in b:\n",
    "        try:\n",
    "            e = joinNPV(i)\n",
    "        except:\n",
    "            e = i\n",
    "        c = re.findall(pattern1,e)\n",
    "        if len(c)>0:\n",
    "            descriptions.append(c[-1])\n",
    "        else:\n",
    "            pattern2 = r\".*\"\n",
    "            d = re.findall(pattern2,e.strip())[:-1]\n",
    "            if len(d)>0:\n",
    "                descriptions.append(d[-1])\n",
    "    true_descriptions = []\n",
    "    for violation in descriptions:\n",
    "        violation = violation.strip()\n",
    "        violation = re.sub(r\"\\d+\\.?\\s*?\", \"\", violation, count=1)\n",
    "        true_descriptions.append(violation)\n",
    "    return [i.strip() for i in true_descriptions]\n",
    "df_new_vio[\"violations_name\"] = df_new_vio[\"violations\"].apply(find_violation_name)"
   ]
  },
  {
   "cell_type": "code",
   "execution_count": 319,
   "id": "fc8006d1-b10b-4abf-98c2-d1bc6743543a",
   "metadata": {},
   "outputs": [],
   "source": [
    "def find_violation_reference(text):\n",
    "    def joinNPV(x):\n",
    "        lines = x.strip().split(\"\\n\")\n",
    "        forSearch = [\"Непроизводит\", \"нпв\", \"НПВ\", \"непроизводиель\", \"Нпв\"]\n",
    "        ans = []\n",
    "        i = 0\n",
    "        while i < len(lines):\n",
    "            if any(word in lines[i] for word in forSearch) and i > 0:\n",
    "                ans[-1] = ans[-1] + \" \" + lines[i]\n",
    "            else:\n",
    "                ans.append(lines[i])\n",
    "            i += 1\n",
    "        return \"\\n\".join(ans)\n",
    "    references = []\n",
    "    descriptions = []\n",
    "    pattern = r\"\\([^()]*В/О[^()]*\\)|\\([^()]*в/о[^()]*\\)\"\n",
    "    a = re.findall(pattern,text)\n",
    "    b = re.split(pattern,text)[:-1]\n",
    "    pattern1 = r\"\\n\\d+\\.\\s*.*|\\n\\d+\\s*.*\"\n",
    "    for i in b:\n",
    "        try:\n",
    "            e = joinNPV(i)\n",
    "        except:\n",
    "            e = i\n",
    "        c = re.findall(pattern1,e)\n",
    "        if len(c)>0:\n",
    "            descriptions.append(c[-1])\n",
    "        else:\n",
    "            pattern2 = r\".*\"\n",
    "            d = re.findall(pattern2,e.strip())[:-1]\n",
    "            if len(d)>0:\n",
    "                descriptions.append(d[-1])\n",
    "    if len(descriptions) > len(a):\n",
    "        a = a*len(descriptions)\n",
    "    return [i.strip() for i in a]\n",
    "df_new_vio[\"violations_reference\"] = df_new_vio[\"violations\"].apply(find_violation_reference)"
   ]
  },
  {
   "cell_type": "code",
   "execution_count": 320,
   "id": "b1b763ed-6a3a-4cfc-a5db-9fe6b5466eda",
   "metadata": {},
   "outputs": [
    {
     "data": {
      "text/plain": [
       "'Проведена проверка технологического процесса: \\nПодъём ТВО-73 на СБТ з86лев Н-2541м, вышла пустая.\\nДальнейшие работы: Ревизия и СПО ТВО-73.\\n1. Проведены не эффективные работы. Бригада произвела спуск ТВО-73 и \\nловильные работы на Н-2541м(+). Расхаживание до 65т(-), отворот при 50т(+). \\nПри подъёме ТВО-73 вышла пустой, результат не достигнут. Работы по СПО \\nТВО-73 считать не производительными с 17:00 часов 31.12.2020г до 16:00 \\nчасов 02.01.2021г. \\nНе производительное время 32 часа.\\n(Регламент В/О, Приложение №5 п.8).\\nДанный акт рассмотреть на итоговом закрытие простоев.\\nПротивозатаскиватель и аварийная остановка ДВС исправны.                                                                             \\nСистема видео регистрации установлена, в исправном состоянии. \\nРаботы проводятся согласно плана работ.   \\nСводка соответствует проведенным операциям. \\nУстановка и эксплуатация ПВО соответствует СНД по ПФБ. '"
      ]
     },
     "execution_count": 320,
     "metadata": {},
     "output_type": "execute_result"
    }
   ],
   "source": [
    "df_new.violations[3]"
   ]
  },
  {
   "cell_type": "code",
   "execution_count": 321,
   "id": "ade2cd59-85d9-42f5-b7ae-f87d46e480e2",
   "metadata": {},
   "outputs": [
    {
     "data": {
      "text/plain": [
       "['Проведены не эффективные работы. Бригада произвела спуск ТВО-73 и']"
      ]
     },
     "execution_count": 321,
     "metadata": {},
     "output_type": "execute_result"
    }
   ],
   "source": [
    "df_new_vio.violations_name[3]"
   ]
  },
  {
   "cell_type": "code",
   "execution_count": 322,
   "id": "267b36de-792f-4fee-b652-246c7f144614",
   "metadata": {},
   "outputs": [
    {
     "data": {
      "text/plain": [
       "['(Регламент В/О, Приложение №5 п.8)']"
      ]
     },
     "execution_count": 322,
     "metadata": {},
     "output_type": "execute_result"
    }
   ],
   "source": [
    "df_new_vio.violations_reference[3]"
   ]
  },
  {
   "cell_type": "code",
   "execution_count": 323,
   "id": "1822932b",
   "metadata": {
    "tags": []
   },
   "outputs": [],
   "source": [
    "# Датафрейм для определения пунктов и добавления в tbl_contents\n",
    "df_excel = pd.read_excel(\"Information/final.xlsx\")"
   ]
  },
  {
   "cell_type": "code",
   "execution_count": 324,
   "id": "d991c7b2-4fd1-41c3-932e-c7d8ab401848",
   "metadata": {},
   "outputs": [
    {
     "data": {
      "text/plain": [
       "34"
      ]
     },
     "execution_count": 324,
     "metadata": {},
     "output_type": "execute_result"
    }
   ],
   "source": [
    "df_excel.all_items_id.isnull().sum()"
   ]
  },
  {
   "cell_type": "code",
   "execution_count": 325,
   "id": "4c37f549-a9ca-4f24-9bfa-678de0d1f605",
   "metadata": {},
   "outputs": [],
   "source": [
    "df_excel = df_excel.dropna()"
   ]
  },
  {
   "cell_type": "code",
   "execution_count": 326,
   "id": "f18367c6-e25d-4925-b909-5c461e86cfef",
   "metadata": {},
   "outputs": [],
   "source": [
    "df_excel = df_excel.rename(columns={\n",
    "    \"references\": \"reference\",\n",
    "    \"all_items_reference\": \"name_reference\"\n",
    "})\n",
    "df_excel[\"reference\"] = df_excel[\"reference\"].apply(lambda x: x.strip())"
   ]
  },
  {
   "cell_type": "code",
   "execution_count": 327,
   "id": "c502f5a0-3e3f-4ac1-afc8-d741ab5865f4",
   "metadata": {},
   "outputs": [],
   "source": [
    "df_excel = df_excel.astype({\"all_items_id\": \"int\"})"
   ]
  },
  {
   "cell_type": "code",
   "execution_count": 335,
   "id": "f0c0f554",
   "metadata": {
    "tags": []
   },
   "outputs": [],
   "source": [
    "df_new_copy = df_new_vio.copy()"
   ]
  },
  {
   "cell_type": "code",
   "execution_count": 336,
   "id": "4c78c4bc",
   "metadata": {
    "tags": []
   },
   "outputs": [
    {
     "data": {
      "text/plain": [
       "(1437, 11)"
      ]
     },
     "execution_count": 336,
     "metadata": {},
     "output_type": "execute_result"
    }
   ],
   "source": [
    "df_new_copy.shape"
   ]
  },
  {
   "cell_type": "code",
   "execution_count": 337,
   "id": "e2cc47a7",
   "metadata": {
    "tags": []
   },
   "outputs": [],
   "source": [
    "# Ищем пункты в датафрейме df_excel\n",
    "\n",
    "for index, row in df_new_copy.iterrows():\n",
    "    updated_violations = []\n",
    "    violations = row[\"violations_name\"]\n",
    "    references = row[\"violations_reference\"]\n",
    "    cnt = 0\n",
    "    for i in range(len(violations)):\n",
    "        violation = violations[i]\n",
    "        reference = references[i]\n",
    "        for index_excel, row_excel in df_excel.iterrows():\n",
    "            if row_excel[\"name_reference\"] in reference:\n",
    "                cnt += 1\n",
    "                d = {\n",
    "                    \"riskLevel\": \"\",\n",
    "                    \"violationName\": violation,\n",
    "                    \"violationDescription\": [{\n",
    "                        \"id\": row_excel[\"all_items_id\"],\n",
    "                        \"reference\": row_excel[\"reference\"],\n",
    "                        \"shortText\": row_excel[\"short_text\"],\n",
    "                        \"normativeDocument\": row_excel[\"normative_document_name\"],\n",
    "                        \"normativeChapter\": row_excel[\"chaptername\"]\n",
    "                    }]\n",
    "                }\n",
    "                updated_violations.append(d)\n",
    "                break\n",
    "    if cnt < len(violations):\n",
    "        df_new_copy.at[index, \"violations\"] = None\n",
    "    else:\n",
    "        df_new_copy.at[index, \"violations\"] = updated_violations"
   ]
  },
  {
   "cell_type": "code",
   "execution_count": 338,
   "id": "17f915a6-fecc-40f5-807e-d5e61da5f8a1",
   "metadata": {},
   "outputs": [
    {
     "data": {
      "text/plain": [
       "2"
      ]
     },
     "execution_count": 338,
     "metadata": {},
     "output_type": "execute_result"
    }
   ],
   "source": [
    "df_new_copy.violations.isnull().sum()"
   ]
  },
  {
   "cell_type": "code",
   "execution_count": 339,
   "id": "172492dd-9012-4e52-ae9f-8040238b69df",
   "metadata": {},
   "outputs": [
    {
     "data": {
      "text/html": [
       "<div>\n",
       "<style scoped>\n",
       "    .dataframe tbody tr th:only-of-type {\n",
       "        vertical-align: middle;\n",
       "    }\n",
       "\n",
       "    .dataframe tbody tr th {\n",
       "        vertical-align: top;\n",
       "    }\n",
       "\n",
       "    .dataframe thead th {\n",
       "        text-align: right;\n",
       "    }\n",
       "</style>\n",
       "<table border=\"1\" class=\"dataframe\">\n",
       "  <thead>\n",
       "    <tr style=\"text-align: right;\">\n",
       "      <th></th>\n",
       "      <th>dateAkt</th>\n",
       "      <th>superFIO</th>\n",
       "      <th>padstep1</th>\n",
       "      <th>well</th>\n",
       "      <th>field</th>\n",
       "      <th>podrCompanystep1</th>\n",
       "      <th>MasterFIO</th>\n",
       "      <th>numBrigade</th>\n",
       "      <th>violations</th>\n",
       "      <th>violations_name</th>\n",
       "      <th>violations_reference</th>\n",
       "    </tr>\n",
       "  </thead>\n",
       "  <tbody>\n",
       "    <tr>\n",
       "      <th>0</th>\n",
       "      <td>20210101T22:00:00Z</td>\n",
       "      <td>Почуев В.М</td>\n",
       "      <td>43а</td>\n",
       "      <td>741</td>\n",
       "      <td>Южно-Ягунское</td>\n",
       "      <td>ООО «Мастернефтьcервис»</td>\n",
       "      <td>Коныш А.М.</td>\n",
       "      <td>15</td>\n",
       "      <td>[]</td>\n",
       "      <td>[]</td>\n",
       "      <td>[]</td>\n",
       "    </tr>\n",
       "    <tr>\n",
       "      <th>1</th>\n",
       "      <td>20210101T15:00:00Z</td>\n",
       "      <td>Блудилин А.А</td>\n",
       "      <td>71</td>\n",
       "      <td>8060</td>\n",
       "      <td>Тевлинско-Русскинское</td>\n",
       "      <td>ООО «ВэллСервис»</td>\n",
       "      <td>Гасанбеков В.В.</td>\n",
       "      <td>411</td>\n",
       "      <td>[]</td>\n",
       "      <td>[]</td>\n",
       "      <td>[]</td>\n",
       "    </tr>\n",
       "    <tr>\n",
       "      <th>2</th>\n",
       "      <td>20210101T12:00:00Z</td>\n",
       "      <td>Халилов Л.Р</td>\n",
       "      <td>9</td>\n",
       "      <td>7140</td>\n",
       "      <td>Кочевское</td>\n",
       "      <td>ООО «БКЕ» ФРС</td>\n",
       "      <td>Худаяров Э.Б.</td>\n",
       "      <td>20</td>\n",
       "      <td>[]</td>\n",
       "      <td>[]</td>\n",
       "      <td>[]</td>\n",
       "    </tr>\n",
       "    <tr>\n",
       "      <th>3</th>\n",
       "      <td>20210102T16:30:00Z</td>\n",
       "      <td>Сергеев В.И</td>\n",
       "      <td>20</td>\n",
       "      <td>451</td>\n",
       "      <td>Северо Губкинское</td>\n",
       "      <td>ООО «БКЕ» ФРС</td>\n",
       "      <td>Карманов А.В.</td>\n",
       "      <td>287</td>\n",
       "      <td>[{'riskLevel': '', 'violationName': 'Проведены...</td>\n",
       "      <td>[Проведены не эффективные работы. Бригада прои...</td>\n",
       "      <td>[(Регламент В/О, Приложение №5 п.8)]</td>\n",
       "    </tr>\n",
       "    <tr>\n",
       "      <th>4</th>\n",
       "      <td>20200102T12:00:00Z</td>\n",
       "      <td>Никотин Д.В</td>\n",
       "      <td>11</td>\n",
       "      <td>1160Г</td>\n",
       "      <td>Имилорское</td>\n",
       "      <td>ООО «ВэллСервис»</td>\n",
       "      <td>Карманаджиев Р.</td>\n",
       "      <td>405</td>\n",
       "      <td>[]</td>\n",
       "      <td>[]</td>\n",
       "      <td>[]</td>\n",
       "    </tr>\n",
       "  </tbody>\n",
       "</table>\n",
       "</div>"
      ],
      "text/plain": [
       "              dateAkt      superFIO padstep1   well                  field  \\\n",
       "0  20210101T22:00:00Z    Почуев В.М      43а    741          Южно-Ягунское   \n",
       "1  20210101T15:00:00Z  Блудилин А.А       71   8060  Тевлинско-Русскинское   \n",
       "2  20210101T12:00:00Z   Халилов Л.Р        9   7140              Кочевское   \n",
       "3  20210102T16:30:00Z   Сергеев В.И       20    451      Северо Губкинское   \n",
       "4  20200102T12:00:00Z   Никотин Д.В       11  1160Г             Имилорское   \n",
       "\n",
       "          podrCompanystep1        MasterFIO  numBrigade  \\\n",
       "0  ООО «Мастернефтьcервис»       Коныш А.М.          15   \n",
       "1         ООО «ВэллСервис»  Гасанбеков В.В.         411   \n",
       "2            ООО «БКЕ» ФРС    Худаяров Э.Б.          20   \n",
       "3            ООО «БКЕ» ФРС    Карманов А.В.         287   \n",
       "4         ООО «ВэллСервис»  Карманаджиев Р.         405   \n",
       "\n",
       "                                          violations  \\\n",
       "0                                                 []   \n",
       "1                                                 []   \n",
       "2                                                 []   \n",
       "3  [{'riskLevel': '', 'violationName': 'Проведены...   \n",
       "4                                                 []   \n",
       "\n",
       "                                     violations_name  \\\n",
       "0                                                 []   \n",
       "1                                                 []   \n",
       "2                                                 []   \n",
       "3  [Проведены не эффективные работы. Бригада прои...   \n",
       "4                                                 []   \n",
       "\n",
       "                   violations_reference  \n",
       "0                                    []  \n",
       "1                                    []  \n",
       "2                                    []  \n",
       "3  [(Регламент В/О, Приложение №5 п.8)]  \n",
       "4                                    []  "
      ]
     },
     "execution_count": 339,
     "metadata": {},
     "output_type": "execute_result"
    }
   ],
   "source": [
    "df_new_copy.head()"
   ]
  },
  {
   "cell_type": "code",
   "execution_count": 340,
   "id": "8aa95ffd-cb74-4743-a442-a78ea318babf",
   "metadata": {},
   "outputs": [
    {
     "data": {
      "text/plain": [
       "[{'riskLevel': '',\n",
       "  'violationName': 'Проведены не эффективные работы. Бригада произвела спуск ТВО-73 и',\n",
       "  'violationDescription': [{'id': 25838,\n",
       "    'reference': 'Регламент В/О Приложение №5 п.8',\n",
       "    'shortText': 'Авария, технологическое осложнение, брак при ремонте или освоении скважины, допущенные по вине персонала Подрядчика',\n",
       "    'normativeDocument': 'РЕГЛАМЕНТ взаимоотношений между ООО «ЛУКОЙЛ-Западная Сибирь», предприятиями  технико-технологического контроля (супервайзинга) и подрядными  организациями,  выполняющими  работы по текущему и капитальному ремонту скважин на месторождениях ООО «ЛУКОЙЛ-Западная Сибирь»',\n",
       "    'normativeChapter': 'Регламент В/О Приложение №5'}]}]"
      ]
     },
     "execution_count": 340,
     "metadata": {},
     "output_type": "execute_result"
    }
   ],
   "source": [
    "df_new_copy.violations[3]"
   ]
  },
  {
   "cell_type": "code",
   "execution_count": 341,
   "id": "7c61b12b-4f85-4442-96f5-4ce09a836f3d",
   "metadata": {},
   "outputs": [],
   "source": [
    "df_new_copy = df_new_copy[~df_new_copy.violations.isnull()]"
   ]
  },
  {
   "cell_type": "code",
   "execution_count": 342,
   "id": "d29592e1-1653-425f-9978-e9367f6aec0d",
   "metadata": {},
   "outputs": [
    {
     "data": {
      "text/html": [
       "<div>\n",
       "<style scoped>\n",
       "    .dataframe tbody tr th:only-of-type {\n",
       "        vertical-align: middle;\n",
       "    }\n",
       "\n",
       "    .dataframe tbody tr th {\n",
       "        vertical-align: top;\n",
       "    }\n",
       "\n",
       "    .dataframe thead th {\n",
       "        text-align: right;\n",
       "    }\n",
       "</style>\n",
       "<table border=\"1\" class=\"dataframe\">\n",
       "  <thead>\n",
       "    <tr style=\"text-align: right;\">\n",
       "      <th></th>\n",
       "      <th>dateAkt</th>\n",
       "      <th>superFIO</th>\n",
       "      <th>padstep1</th>\n",
       "      <th>well</th>\n",
       "      <th>field</th>\n",
       "      <th>podrCompanystep1</th>\n",
       "      <th>MasterFIO</th>\n",
       "      <th>numBrigade</th>\n",
       "      <th>violations</th>\n",
       "      <th>violations_name</th>\n",
       "      <th>violations_reference</th>\n",
       "    </tr>\n",
       "  </thead>\n",
       "  <tbody>\n",
       "    <tr>\n",
       "      <th>0</th>\n",
       "      <td>20210101T22:00:00Z</td>\n",
       "      <td>Почуев В.М</td>\n",
       "      <td>43а</td>\n",
       "      <td>741</td>\n",
       "      <td>Южно-Ягунское</td>\n",
       "      <td>ООО «Мастернефтьcервис»</td>\n",
       "      <td>Коныш А.М.</td>\n",
       "      <td>15</td>\n",
       "      <td>[]</td>\n",
       "      <td>[]</td>\n",
       "      <td>[]</td>\n",
       "    </tr>\n",
       "    <tr>\n",
       "      <th>1</th>\n",
       "      <td>20210101T15:00:00Z</td>\n",
       "      <td>Блудилин А.А</td>\n",
       "      <td>71</td>\n",
       "      <td>8060</td>\n",
       "      <td>Тевлинско-Русскинское</td>\n",
       "      <td>ООО «ВэллСервис»</td>\n",
       "      <td>Гасанбеков В.В.</td>\n",
       "      <td>411</td>\n",
       "      <td>[]</td>\n",
       "      <td>[]</td>\n",
       "      <td>[]</td>\n",
       "    </tr>\n",
       "    <tr>\n",
       "      <th>2</th>\n",
       "      <td>20210101T12:00:00Z</td>\n",
       "      <td>Халилов Л.Р</td>\n",
       "      <td>9</td>\n",
       "      <td>7140</td>\n",
       "      <td>Кочевское</td>\n",
       "      <td>ООО «БКЕ» ФРС</td>\n",
       "      <td>Худаяров Э.Б.</td>\n",
       "      <td>20</td>\n",
       "      <td>[]</td>\n",
       "      <td>[]</td>\n",
       "      <td>[]</td>\n",
       "    </tr>\n",
       "    <tr>\n",
       "      <th>3</th>\n",
       "      <td>20210102T16:30:00Z</td>\n",
       "      <td>Сергеев В.И</td>\n",
       "      <td>20</td>\n",
       "      <td>451</td>\n",
       "      <td>Северо Губкинское</td>\n",
       "      <td>ООО «БКЕ» ФРС</td>\n",
       "      <td>Карманов А.В.</td>\n",
       "      <td>287</td>\n",
       "      <td>[{'riskLevel': '', 'violationName': 'Проведены...</td>\n",
       "      <td>[Проведены не эффективные работы. Бригада прои...</td>\n",
       "      <td>[(Регламент В/О, Приложение №5 п.8)]</td>\n",
       "    </tr>\n",
       "    <tr>\n",
       "      <th>4</th>\n",
       "      <td>20200102T12:00:00Z</td>\n",
       "      <td>Никотин Д.В</td>\n",
       "      <td>11</td>\n",
       "      <td>1160Г</td>\n",
       "      <td>Имилорское</td>\n",
       "      <td>ООО «ВэллСервис»</td>\n",
       "      <td>Карманаджиев Р.</td>\n",
       "      <td>405</td>\n",
       "      <td>[]</td>\n",
       "      <td>[]</td>\n",
       "      <td>[]</td>\n",
       "    </tr>\n",
       "  </tbody>\n",
       "</table>\n",
       "</div>"
      ],
      "text/plain": [
       "              dateAkt      superFIO padstep1   well                  field  \\\n",
       "0  20210101T22:00:00Z    Почуев В.М      43а    741          Южно-Ягунское   \n",
       "1  20210101T15:00:00Z  Блудилин А.А       71   8060  Тевлинско-Русскинское   \n",
       "2  20210101T12:00:00Z   Халилов Л.Р        9   7140              Кочевское   \n",
       "3  20210102T16:30:00Z   Сергеев В.И       20    451      Северо Губкинское   \n",
       "4  20200102T12:00:00Z   Никотин Д.В       11  1160Г             Имилорское   \n",
       "\n",
       "          podrCompanystep1        MasterFIO  numBrigade  \\\n",
       "0  ООО «Мастернефтьcервис»       Коныш А.М.          15   \n",
       "1         ООО «ВэллСервис»  Гасанбеков В.В.         411   \n",
       "2            ООО «БКЕ» ФРС    Худаяров Э.Б.          20   \n",
       "3            ООО «БКЕ» ФРС    Карманов А.В.         287   \n",
       "4         ООО «ВэллСервис»  Карманаджиев Р.         405   \n",
       "\n",
       "                                          violations  \\\n",
       "0                                                 []   \n",
       "1                                                 []   \n",
       "2                                                 []   \n",
       "3  [{'riskLevel': '', 'violationName': 'Проведены...   \n",
       "4                                                 []   \n",
       "\n",
       "                                     violations_name  \\\n",
       "0                                                 []   \n",
       "1                                                 []   \n",
       "2                                                 []   \n",
       "3  [Проведены не эффективные работы. Бригада прои...   \n",
       "4                                                 []   \n",
       "\n",
       "                   violations_reference  \n",
       "0                                    []  \n",
       "1                                    []  \n",
       "2                                    []  \n",
       "3  [(Регламент В/О, Приложение №5 п.8)]  \n",
       "4                                    []  "
      ]
     },
     "execution_count": 342,
     "metadata": {},
     "output_type": "execute_result"
    }
   ],
   "source": [
    "df_new_copy.head()"
   ]
  },
  {
   "cell_type": "code",
   "execution_count": 343,
   "id": "c7068b33-4f60-422e-8a43-958926947122",
   "metadata": {},
   "outputs": [],
   "source": [
    "df_new_copy = df_new_copy.drop(columns=[\"violations_name\", \"violations_reference\"])"
   ]
  },
  {
   "cell_type": "markdown",
   "id": "0bd9fe16",
   "metadata": {},
   "source": [
    "### Формирование поля content"
   ]
  },
  {
   "cell_type": "code",
   "execution_count": 344,
   "id": "29167d72",
   "metadata": {},
   "outputs": [
    {
     "data": {
      "text/html": [
       "<div>\n",
       "<style scoped>\n",
       "    .dataframe tbody tr th:only-of-type {\n",
       "        vertical-align: middle;\n",
       "    }\n",
       "\n",
       "    .dataframe tbody tr th {\n",
       "        vertical-align: top;\n",
       "    }\n",
       "\n",
       "    .dataframe thead th {\n",
       "        text-align: right;\n",
       "    }\n",
       "</style>\n",
       "<table border=\"1\" class=\"dataframe\">\n",
       "  <thead>\n",
       "    <tr style=\"text-align: right;\">\n",
       "      <th></th>\n",
       "      <th>dateAkt</th>\n",
       "      <th>superFIO</th>\n",
       "      <th>padstep1</th>\n",
       "      <th>well</th>\n",
       "      <th>field</th>\n",
       "      <th>podrCompanystep1</th>\n",
       "      <th>MasterFIO</th>\n",
       "      <th>numBrigade</th>\n",
       "      <th>violations</th>\n",
       "    </tr>\n",
       "  </thead>\n",
       "  <tbody>\n",
       "    <tr>\n",
       "      <th>0</th>\n",
       "      <td>20210101T22:00:00Z</td>\n",
       "      <td>Почуев В.М</td>\n",
       "      <td>43а</td>\n",
       "      <td>741</td>\n",
       "      <td>Южно-Ягунское</td>\n",
       "      <td>ООО «Мастернефтьcервис»</td>\n",
       "      <td>Коныш А.М.</td>\n",
       "      <td>15</td>\n",
       "      <td>[]</td>\n",
       "    </tr>\n",
       "    <tr>\n",
       "      <th>1</th>\n",
       "      <td>20210101T15:00:00Z</td>\n",
       "      <td>Блудилин А.А</td>\n",
       "      <td>71</td>\n",
       "      <td>8060</td>\n",
       "      <td>Тевлинско-Русскинское</td>\n",
       "      <td>ООО «ВэллСервис»</td>\n",
       "      <td>Гасанбеков В.В.</td>\n",
       "      <td>411</td>\n",
       "      <td>[]</td>\n",
       "    </tr>\n",
       "    <tr>\n",
       "      <th>2</th>\n",
       "      <td>20210101T12:00:00Z</td>\n",
       "      <td>Халилов Л.Р</td>\n",
       "      <td>9</td>\n",
       "      <td>7140</td>\n",
       "      <td>Кочевское</td>\n",
       "      <td>ООО «БКЕ» ФРС</td>\n",
       "      <td>Худаяров Э.Б.</td>\n",
       "      <td>20</td>\n",
       "      <td>[]</td>\n",
       "    </tr>\n",
       "    <tr>\n",
       "      <th>3</th>\n",
       "      <td>20210102T16:30:00Z</td>\n",
       "      <td>Сергеев В.И</td>\n",
       "      <td>20</td>\n",
       "      <td>451</td>\n",
       "      <td>Северо Губкинское</td>\n",
       "      <td>ООО «БКЕ» ФРС</td>\n",
       "      <td>Карманов А.В.</td>\n",
       "      <td>287</td>\n",
       "      <td>[{'riskLevel': '', 'violationName': 'Проведены...</td>\n",
       "    </tr>\n",
       "    <tr>\n",
       "      <th>4</th>\n",
       "      <td>20200102T12:00:00Z</td>\n",
       "      <td>Никотин Д.В</td>\n",
       "      <td>11</td>\n",
       "      <td>1160Г</td>\n",
       "      <td>Имилорское</td>\n",
       "      <td>ООО «ВэллСервис»</td>\n",
       "      <td>Карманаджиев Р.</td>\n",
       "      <td>405</td>\n",
       "      <td>[]</td>\n",
       "    </tr>\n",
       "  </tbody>\n",
       "</table>\n",
       "</div>"
      ],
      "text/plain": [
       "              dateAkt      superFIO padstep1   well                  field  \\\n",
       "0  20210101T22:00:00Z    Почуев В.М      43а    741          Южно-Ягунское   \n",
       "1  20210101T15:00:00Z  Блудилин А.А       71   8060  Тевлинско-Русскинское   \n",
       "2  20210101T12:00:00Z   Халилов Л.Р        9   7140              Кочевское   \n",
       "3  20210102T16:30:00Z   Сергеев В.И       20    451      Северо Губкинское   \n",
       "4  20200102T12:00:00Z   Никотин Д.В       11  1160Г             Имилорское   \n",
       "\n",
       "          podrCompanystep1        MasterFIO  numBrigade  \\\n",
       "0  ООО «Мастернефтьcервис»       Коныш А.М.          15   \n",
       "1         ООО «ВэллСервис»  Гасанбеков В.В.         411   \n",
       "2            ООО «БКЕ» ФРС    Худаяров Э.Б.          20   \n",
       "3            ООО «БКЕ» ФРС    Карманов А.В.         287   \n",
       "4         ООО «ВэллСервис»  Карманаджиев Р.         405   \n",
       "\n",
       "                                          violations  \n",
       "0                                                 []  \n",
       "1                                                 []  \n",
       "2                                                 []  \n",
       "3  [{'riskLevel': '', 'violationName': 'Проведены...  \n",
       "4                                                 []  "
      ]
     },
     "execution_count": 344,
     "metadata": {},
     "output_type": "execute_result"
    }
   ],
   "source": [
    "df_new_for_content = df_new_copy.copy()\n",
    "df_new_for_content.head()"
   ]
  },
  {
   "cell_type": "code",
   "execution_count": 346,
   "id": "18ee7afd-c6dd-4c94-ba93-24541cc7d3f2",
   "metadata": {},
   "outputs": [],
   "source": [
    "df_new_for_content = df_new_for_content[df_new_for_content['violations'].apply(lambda x: x != [])]"
   ]
  },
  {
   "cell_type": "code",
   "execution_count": 347,
   "id": "387a9a37",
   "metadata": {},
   "outputs": [],
   "source": [
    "from datetime import datetime\n",
    "from babel.dates import format_date, format_datetime, format_time\n",
    "\n",
    "def process_dates(date_str):\n",
    "    date_dt = datetime.strptime(date_str, \"%Y%m%dT%H:%M:%SZ\")\n",
    "    date_hour = date_dt.strftime(\"%H\")\n",
    "    date_minute = date_dt.strftime(\"%M\")\n",
    "    date_main = format_date(date_dt, \"dd MMMM yyyy\", locale='ru')\n",
    "    date_time = format_datetime(date_dt, \"HH:mm, dd.MM.yyyy\", locale='ru')\n",
    "    dateTime = format_datetime(date_dt, \"dd MMMM HH\", locale='ru')\n",
    "    dateTime2 = format_datetime(date_dt, \"dd/MMMM/yy\", locale='ru')\n",
    "    dateAktquotes = date_dt.strftime('%d %m')\n",
    "    dateAktchbegin = date_dt.strftime('%d')\n",
    "    return date_hour, date_minute, date_main, date_time, dateTime, dateTime2, dateAktquotes, dateAktchbegin\n",
    "\n",
    "df_new_for_content[['dateAktHour', 'dateAktMinute', 'dateAktmain', 'dateAkttime', 'dateTime', 'dateTime2', 'dateAktquotes', 'dateAktchbegin']] = df_new_for_content['dateAkt'].apply(\n",
    "    lambda x: pd.Series(process_dates(x))\n",
    ")"
   ]
  },
  {
   "cell_type": "code",
   "execution_count": 348,
   "id": "c3eaf012-f58f-485e-8c93-fc83bf41bb6c",
   "metadata": {},
   "outputs": [
    {
     "data": {
      "text/html": [
       "<div>\n",
       "<style scoped>\n",
       "    .dataframe tbody tr th:only-of-type {\n",
       "        vertical-align: middle;\n",
       "    }\n",
       "\n",
       "    .dataframe tbody tr th {\n",
       "        vertical-align: top;\n",
       "    }\n",
       "\n",
       "    .dataframe thead th {\n",
       "        text-align: right;\n",
       "    }\n",
       "</style>\n",
       "<table border=\"1\" class=\"dataframe\">\n",
       "  <thead>\n",
       "    <tr style=\"text-align: right;\">\n",
       "      <th></th>\n",
       "      <th>dateAkt</th>\n",
       "      <th>superFIO</th>\n",
       "      <th>padstep1</th>\n",
       "      <th>well</th>\n",
       "      <th>field</th>\n",
       "      <th>podrCompanystep1</th>\n",
       "      <th>MasterFIO</th>\n",
       "      <th>numBrigade</th>\n",
       "      <th>violations</th>\n",
       "      <th>dateAktHour</th>\n",
       "      <th>dateAktMinute</th>\n",
       "      <th>dateAktmain</th>\n",
       "      <th>dateAkttime</th>\n",
       "      <th>dateTime</th>\n",
       "      <th>dateTime2</th>\n",
       "      <th>dateAktquotes</th>\n",
       "      <th>dateAktchbegin</th>\n",
       "    </tr>\n",
       "  </thead>\n",
       "  <tbody>\n",
       "    <tr>\n",
       "      <th>3</th>\n",
       "      <td>20210102T16:30:00Z</td>\n",
       "      <td>Сергеев В.И</td>\n",
       "      <td>20</td>\n",
       "      <td>451</td>\n",
       "      <td>Северо Губкинское</td>\n",
       "      <td>ООО «БКЕ» ФРС</td>\n",
       "      <td>Карманов А.В.</td>\n",
       "      <td>287</td>\n",
       "      <td>[{'riskLevel': '', 'violationName': 'Проведены...</td>\n",
       "      <td>16</td>\n",
       "      <td>30</td>\n",
       "      <td>02 января 2021</td>\n",
       "      <td>16:30, 02.01.2021</td>\n",
       "      <td>02 января 16</td>\n",
       "      <td>02/января/21</td>\n",
       "      <td>02 01</td>\n",
       "      <td>02</td>\n",
       "    </tr>\n",
       "    <tr>\n",
       "      <th>17</th>\n",
       "      <td>20210106T10:40:00Z</td>\n",
       "      <td>Блудилин А.А</td>\n",
       "      <td>134Р</td>\n",
       "      <td></td>\n",
       "      <td>Тевлинско-Русскинское</td>\n",
       "      <td>ООО «БКЕ» ФРС</td>\n",
       "      <td>Назаров А.М.</td>\n",
       "      <td>261</td>\n",
       "      <td>[{'riskLevel': '', 'violationName': 'Вышел сро...</td>\n",
       "      <td>10</td>\n",
       "      <td>40</td>\n",
       "      <td>06 января 2021</td>\n",
       "      <td>10:40, 06.01.2021</td>\n",
       "      <td>06 января 10</td>\n",
       "      <td>06/января/21</td>\n",
       "      <td>06 01</td>\n",
       "      <td>06</td>\n",
       "    </tr>\n",
       "    <tr>\n",
       "      <th>21</th>\n",
       "      <td>20210107T15:00:00Z</td>\n",
       "      <td>Блудилин А.А</td>\n",
       "      <td>331</td>\n",
       "      <td>8567</td>\n",
       "      <td>Тевлинско-Русскинское</td>\n",
       "      <td>ООО «БКЕ» ФРС</td>\n",
       "      <td>Кузьмищев Л.С.</td>\n",
       "      <td>262</td>\n",
       "      <td>[{'riskLevel': '', 'violationName': 'Спуск ЭЦН...</td>\n",
       "      <td>15</td>\n",
       "      <td>00</td>\n",
       "      <td>07 января 2021</td>\n",
       "      <td>15:00, 07.01.2021</td>\n",
       "      <td>07 января 15</td>\n",
       "      <td>07/января/21</td>\n",
       "      <td>07 01</td>\n",
       "      <td>07</td>\n",
       "    </tr>\n",
       "    <tr>\n",
       "      <th>22</th>\n",
       "      <td>20210107T00:00:00Z</td>\n",
       "      <td>Леонов В.Ю</td>\n",
       "      <td>31а</td>\n",
       "      <td>2067</td>\n",
       "      <td>Северо-Кочевское</td>\n",
       "      <td>ООО «БКЕ» ФРС</td>\n",
       "      <td>Ампукаев Д.С.</td>\n",
       "      <td>146</td>\n",
       "      <td>[{'riskLevel': '', 'violationName': 'При работ...</td>\n",
       "      <td>00</td>\n",
       "      <td>00</td>\n",
       "      <td>07 января 2021</td>\n",
       "      <td>00:00, 07.01.2021</td>\n",
       "      <td>07 января 00</td>\n",
       "      <td>07/января/21</td>\n",
       "      <td>07 01</td>\n",
       "      <td>07</td>\n",
       "    </tr>\n",
       "    <tr>\n",
       "      <th>33</th>\n",
       "      <td>20210111T12:00:00Z</td>\n",
       "      <td>Сергеев В.И</td>\n",
       "      <td>13</td>\n",
       "      <td>124</td>\n",
       "      <td>Северо Губкинское</td>\n",
       "      <td>ООО «БКЕ» ФРС</td>\n",
       "      <td>Гизатуллин Р.И.</td>\n",
       "      <td>61</td>\n",
       "      <td>[{'riskLevel': '', 'violationName': 'Бригада п...</td>\n",
       "      <td>12</td>\n",
       "      <td>00</td>\n",
       "      <td>11 января 2021</td>\n",
       "      <td>12:00, 11.01.2021</td>\n",
       "      <td>11 января 12</td>\n",
       "      <td>11/января/21</td>\n",
       "      <td>11 01</td>\n",
       "      <td>11</td>\n",
       "    </tr>\n",
       "  </tbody>\n",
       "</table>\n",
       "</div>"
      ],
      "text/plain": [
       "               dateAkt      superFIO padstep1  well                  field  \\\n",
       "3   20210102T16:30:00Z   Сергеев В.И       20   451      Северо Губкинское   \n",
       "17  20210106T10:40:00Z  Блудилин А.А     134Р        Тевлинско-Русскинское   \n",
       "21  20210107T15:00:00Z  Блудилин А.А      331  8567  Тевлинско-Русскинское   \n",
       "22  20210107T00:00:00Z    Леонов В.Ю      31а  2067       Северо-Кочевское   \n",
       "33  20210111T12:00:00Z   Сергеев В.И       13   124      Северо Губкинское   \n",
       "\n",
       "   podrCompanystep1        MasterFIO  numBrigade  \\\n",
       "3     ООО «БКЕ» ФРС    Карманов А.В.         287   \n",
       "17    ООО «БКЕ» ФРС     Назаров А.М.         261   \n",
       "21    ООО «БКЕ» ФРС   Кузьмищев Л.С.         262   \n",
       "22    ООО «БКЕ» ФРС    Ампукаев Д.С.         146   \n",
       "33    ООО «БКЕ» ФРС  Гизатуллин Р.И.          61   \n",
       "\n",
       "                                           violations dateAktHour  \\\n",
       "3   [{'riskLevel': '', 'violationName': 'Проведены...          16   \n",
       "17  [{'riskLevel': '', 'violationName': 'Вышел сро...          10   \n",
       "21  [{'riskLevel': '', 'violationName': 'Спуск ЭЦН...          15   \n",
       "22  [{'riskLevel': '', 'violationName': 'При работ...          00   \n",
       "33  [{'riskLevel': '', 'violationName': 'Бригада п...          12   \n",
       "\n",
       "   dateAktMinute     dateAktmain        dateAkttime      dateTime  \\\n",
       "3             30  02 января 2021  16:30, 02.01.2021  02 января 16   \n",
       "17            40  06 января 2021  10:40, 06.01.2021  06 января 10   \n",
       "21            00  07 января 2021  15:00, 07.01.2021  07 января 15   \n",
       "22            00  07 января 2021  00:00, 07.01.2021  07 января 00   \n",
       "33            00  11 января 2021  12:00, 11.01.2021  11 января 12   \n",
       "\n",
       "       dateTime2 dateAktquotes dateAktchbegin  \n",
       "3   02/января/21         02 01             02  \n",
       "17  06/января/21         06 01             06  \n",
       "21  07/января/21         07 01             07  \n",
       "22  07/января/21         07 01             07  \n",
       "33  11/января/21         11 01             11  "
      ]
     },
     "execution_count": 348,
     "metadata": {},
     "output_type": "execute_result"
    }
   ],
   "source": [
    "df_new_for_content.head()"
   ]
  },
  {
   "cell_type": "code",
   "execution_count": 349,
   "id": "b5849ef6",
   "metadata": {},
   "outputs": [],
   "source": [
    "# Окончательно формируем поле content\n",
    "res_content = []\n",
    "for index, row in df_new_for_content.iterrows():\n",
    "    dic = {\n",
    "        \"superFIO\": row[1],\n",
    "        \"superCompany \": \"АО «НИПЦ ГНТ»\",\n",
    "        \"superPositionkem \": \"Супервайзером\",\n",
    "        \"inPresence\": \"\",\n",
    "        \"dateTime\": row[13],\n",
    "        \"dateTime2\": row[14],\n",
    "        \"dateAktquotes\": row[15],\n",
    "        \"dateAktmain\": row[11],\n",
    "        \"dateAktchbegin\": row[16],\n",
    "        \"dateAkttime\": row[12],\n",
    "        \"nomerAktaKomiFreestep1\": \"\",\n",
    "        \"padstep1\": row[2],\n",
    "        \"wellstep1\": row[3],\n",
    "        \"typeJobstep1\": \"\",\n",
    "        \"superSignat\": \"\",\n",
    "        \"podrSignat\": \"\",\n",
    "        \"tbl_contents\": row[8],\n",
    "        \"numBrigade\": row[7],\n",
    "        \"cdng\": \"\",\n",
    "        \"findings\": \"\",\n",
    "        \"perfName\": \"\",\n",
    "        \"applicat\": \"\",\n",
    "        \"podrFIO\": row[6],\n",
    "        \"podrPosition\": \"\",\n",
    "        \"special_opinion\": \"\"\n",
    "    }\n",
    "    res_content.append(dic)"
   ]
  },
  {
   "cell_type": "markdown",
   "id": "be078727-0ca4-4281-8666-3599f540f682",
   "metadata": {},
   "source": [
    "### Формируем поле raw_content"
   ]
  },
  {
   "cell_type": "code",
   "execution_count": 391,
   "id": "8588d1f5-3f75-4f9c-9811-a4edf74776fa",
   "metadata": {},
   "outputs": [
    {
     "data": {
      "text/html": [
       "<div>\n",
       "<style scoped>\n",
       "    .dataframe tbody tr th:only-of-type {\n",
       "        vertical-align: middle;\n",
       "    }\n",
       "\n",
       "    .dataframe tbody tr th {\n",
       "        vertical-align: top;\n",
       "    }\n",
       "\n",
       "    .dataframe thead th {\n",
       "        text-align: right;\n",
       "    }\n",
       "</style>\n",
       "<table border=\"1\" class=\"dataframe\">\n",
       "  <thead>\n",
       "    <tr style=\"text-align: right;\">\n",
       "      <th></th>\n",
       "      <th>dateAkt</th>\n",
       "      <th>superFIO</th>\n",
       "      <th>padstep1</th>\n",
       "      <th>well</th>\n",
       "      <th>field</th>\n",
       "      <th>podrCompanystep1</th>\n",
       "      <th>MasterFIO</th>\n",
       "      <th>numBrigade</th>\n",
       "      <th>violations</th>\n",
       "    </tr>\n",
       "  </thead>\n",
       "  <tbody>\n",
       "    <tr>\n",
       "      <th>0</th>\n",
       "      <td>20210101T22:00:00Z</td>\n",
       "      <td>Почуев В.М</td>\n",
       "      <td>43а</td>\n",
       "      <td>741</td>\n",
       "      <td>Южно-Ягунское</td>\n",
       "      <td>ООО «Мастернефтьcервис»</td>\n",
       "      <td>Коныш А.М.</td>\n",
       "      <td>15</td>\n",
       "      <td>[]</td>\n",
       "    </tr>\n",
       "    <tr>\n",
       "      <th>1</th>\n",
       "      <td>20210101T15:00:00Z</td>\n",
       "      <td>Блудилин А.А</td>\n",
       "      <td>71</td>\n",
       "      <td>8060</td>\n",
       "      <td>Тевлинско-Русскинское</td>\n",
       "      <td>ООО «ВэллСервис»</td>\n",
       "      <td>Гасанбеков В.В.</td>\n",
       "      <td>411</td>\n",
       "      <td>[]</td>\n",
       "    </tr>\n",
       "    <tr>\n",
       "      <th>2</th>\n",
       "      <td>20210101T12:00:00Z</td>\n",
       "      <td>Халилов Л.Р</td>\n",
       "      <td>9</td>\n",
       "      <td>7140</td>\n",
       "      <td>Кочевское</td>\n",
       "      <td>ООО «БКЕ» ФРС</td>\n",
       "      <td>Худаяров Э.Б.</td>\n",
       "      <td>20</td>\n",
       "      <td>[]</td>\n",
       "    </tr>\n",
       "    <tr>\n",
       "      <th>3</th>\n",
       "      <td>20210102T16:30:00Z</td>\n",
       "      <td>Сергеев В.И</td>\n",
       "      <td>20</td>\n",
       "      <td>451</td>\n",
       "      <td>Северо Губкинское</td>\n",
       "      <td>ООО «БКЕ» ФРС</td>\n",
       "      <td>Карманов А.В.</td>\n",
       "      <td>287</td>\n",
       "      <td>[{'riskLevel': '', 'violationName': 'Проведены...</td>\n",
       "    </tr>\n",
       "    <tr>\n",
       "      <th>4</th>\n",
       "      <td>20200102T12:00:00Z</td>\n",
       "      <td>Никотин Д.В</td>\n",
       "      <td>11</td>\n",
       "      <td>1160Г</td>\n",
       "      <td>Имилорское</td>\n",
       "      <td>ООО «ВэллСервис»</td>\n",
       "      <td>Карманаджиев Р.</td>\n",
       "      <td>405</td>\n",
       "      <td>[]</td>\n",
       "    </tr>\n",
       "  </tbody>\n",
       "</table>\n",
       "</div>"
      ],
      "text/plain": [
       "              dateAkt      superFIO padstep1   well                  field  \\\n",
       "0  20210101T22:00:00Z    Почуев В.М      43а    741          Южно-Ягунское   \n",
       "1  20210101T15:00:00Z  Блудилин А.А       71   8060  Тевлинско-Русскинское   \n",
       "2  20210101T12:00:00Z   Халилов Л.Р        9   7140              Кочевское   \n",
       "3  20210102T16:30:00Z   Сергеев В.И       20    451      Северо Губкинское   \n",
       "4  20200102T12:00:00Z   Никотин Д.В       11  1160Г             Имилорское   \n",
       "\n",
       "          podrCompanystep1        MasterFIO  numBrigade  \\\n",
       "0  ООО «Мастернефтьcервис»       Коныш А.М.          15   \n",
       "1         ООО «ВэллСервис»  Гасанбеков В.В.         411   \n",
       "2            ООО «БКЕ» ФРС    Худаяров Э.Б.          20   \n",
       "3            ООО «БКЕ» ФРС    Карманов А.В.         287   \n",
       "4         ООО «ВэллСервис»  Карманаджиев Р.         405   \n",
       "\n",
       "                                          violations  \n",
       "0                                                 []  \n",
       "1                                                 []  \n",
       "2                                                 []  \n",
       "3  [{'riskLevel': '', 'violationName': 'Проведены...  \n",
       "4                                                 []  "
      ]
     },
     "execution_count": 391,
     "metadata": {},
     "output_type": "execute_result"
    }
   ],
   "source": [
    "df_new_raw_content = df_new_copy.copy()\n",
    "df_new_raw_content.head()"
   ]
  },
  {
   "cell_type": "code",
   "execution_count": 392,
   "id": "9e9a6ce0-bc9d-43cf-9341-c8167121f910",
   "metadata": {},
   "outputs": [],
   "source": [
    "podrCompany = [\n",
    "    {\"id\": \"0\", \"value\": \"ООО «ВэллСервис»\"},\n",
    "    {\"id\": \"1\", \"value\": \"ООО «Мастернефтьсервис»\"},\n",
    "    {\"id\": \"2\", \"value\": \"ООО «БКЕ» ФРС\"}\n",
    "]\n",
    "podrCompanyCurr = [\"ВэллСервис\", \"нефть\", \"БКЕ\"]\n",
    "lookup_dict = {}\n",
    "for company in podrCompany:\n",
    "    for curr_name in podrCompanyCurr:\n",
    "        if curr_name in company[\"value\"]:\n",
    "            lookup_dict[curr_name] = company              "
   ]
  },
  {
   "cell_type": "code",
   "execution_count": 393,
   "id": "90085e17-5b4d-44af-bae0-70c674b8eecb",
   "metadata": {},
   "outputs": [],
   "source": [
    "def replace_company(row):\n",
    "    for key, value in lookup_dict.items():\n",
    "        if key in row[\"podrCompanystep1\"]:\n",
    "            return value\n",
    "    return row[\"podrCompanystep1\"]\n",
    "\n",
    "df_new_raw_content[\"podrCompanystep1\"] = df_new_raw_content.apply(replace_company, axis=1)"
   ]
  },
  {
   "cell_type": "code",
   "execution_count": 394,
   "id": "b3a25be7-0c70-4ba1-bc8c-15391c8c6409",
   "metadata": {},
   "outputs": [],
   "source": [
    "def convert_to_superfio(x):\n",
    "    d = {\n",
    "        \"value\": x,\n",
    "        \"payload\": {\n",
    "            \"superFIOkem\": x,\n",
    "            \"superCompany\": \"АО «НИПЦ ГНТ»\",\n",
    "            \"superPositionkem\": \"Супервайзером\"\n",
    "        }\n",
    "    }\n",
    "    return d\n",
    "\n",
    "df_new_raw_content[\"superFIO\"] = df_new_raw_content[\"superFIO\"].apply(lambda x: convert_to_superfio(x))"
   ]
  },
  {
   "cell_type": "code",
   "execution_count": 395,
   "id": "71767f16-5b07-4baf-9313-557bb7c14226",
   "metadata": {},
   "outputs": [],
   "source": [
    "def convert_to_field_raw(x):\n",
    "    fields = [{'choices': [{'value': 'Абино-Украинское', 'id': 0}, {'value': 'Абрамовское', 'id': 1}, {'value': 'Аганское', 'id': 2}, {'value': 'Акташское', 'id': 3}, {'value': 'Алексеевская', 'id': 4}, {'value': 'Алисовское', 'id': 5}, {'value': 'Амдермаельское', 'id': 6}, {'value': 'Андреевское', 'id': 7}, {'value': 'Антиповско-Балыклейская', 'id': 8}, {'value': 'Аригольское', 'id': 9}, {'value': 'Аспинское', 'id': 10}, {'value': 'Атамановское', 'id': 11}, {'value': 'Ачимовское', 'id': 12}, {'value': 'Ашальчинское', 'id': 13}, {'value': 'Баганское', 'id': 14}, {'value': 'Баклановское', 'id': 15}, {'value': 'Барсуковское', 'id': 16}, {'value': 'Батырбайское', 'id': 17}, {'value': 'Бахиловское', 'id': 18}, {'value': 'Бахиловское', 'id': 19}, {'value': 'Бахтияровское', 'id': 20}, {'value': 'Бельское', 'id': 21}, {'value': 'Береговое', 'id': 22}, {'value': 'Бобровское', 'id': 23}, {'value': 'Бобровское', 'id': 24}, {'value': 'Бобровское', 'id': 25}, {'value': 'Боголюбовское', 'id': 26}, {'value': 'Больше-Каменское', 'id': 27}, {'value': 'Бузулукское', 'id': 28}, {'value': 'В-Волостновское', 'id': 29}, {'value': 'В-боголюбовское', 'id': 30}, {'value': 'В. Сарутаюсское', 'id': 31}, {'value': 'В.Капитоновское', 'id': 32}, {'value': 'В.Малаховское', 'id': 33}, {'value': 'Ван еганское', 'id': 34}, {'value': 'Ван-Еганское', 'id': 35}, {'value': 'Ван-Еганское бур.', 'id': 36}, {'value': 'Ванкор', 'id': 37}, {'value': 'Варьёганское', 'id': 38}, {'value': 'Ватинское', 'id': 39}, {'value': 'Ватинское', 'id': 40}, {'value': 'Ватинское', 'id': 41}, {'value': 'Вать-Ёганское', 'id': 42}, {'value': 'Вать-Еганское', 'id': 43}, {'value': 'Ватьеганское', 'id': 44}, {'value': 'Вахитовское', 'id': 45}, {'value': 'Верхнеколик-Еганское', 'id': 46}, {'value': 'Верхнеколик-Еганское', 'id': 47}, {'value': 'Видное', 'id': 48}, {'value': 'Викторинское', 'id': 49}, {'value': 'Винниковское', 'id': 50}, {'value': 'Вишневское', 'id': 51}, {'value': 'Возей', 'id': 52}, {'value': 'Возейское', 'id': 53}, {'value': 'Волостновское', 'id': 54}, {'value': 'Воробьевское', 'id': 55}, {'value': 'Восточно- Мастерьельское', 'id': 56}, {'value': 'Восточно-Икилорское', 'id': 57}, {'value': 'Восточно-Икилорское', 'id': 58}, {'value': 'Восточно-Кустовое', 'id': 59}, {'value': 'Восточно-Макаровское', 'id': 60}, {'value': 'Восточно-Перевальное', 'id': 61}, {'value': 'Восточно-Перевальное', 'id': 62}, {'value': 'Восточно-Правдинское', 'id': 63}, {'value': 'Восточно-Придорожное', 'id': 64}, {'value': 'Восточно-Придорожное', 'id': 65}, {'value': 'Восточно-Придорожное', 'id': 66}, {'value': 'Восточно-Пякутинское', 'id': 67}, {'value': 'Восточно-Сарутаюское', 'id': 68}, {'value': 'Восточно-Сургутское', 'id': 69}, {'value': 'Восточно-Токайское', 'id': 70}, {'value': 'Восточно-Ягунское', 'id': 71}, {'value': 'Восточнро-Придорожное', 'id': 72}, {'value': 'Встречное', 'id': 73}, {'value': 'Вынгаяхинское', 'id': 74}, {'value': 'Гаршинское', 'id': 75}, {'value': 'Герасимовское', 'id': 76}, {'value': 'Геркулесовское', 'id': 77}, {'value': 'Гондыревское', 'id': 78}, {'value': 'Горное', 'id': 79}, {'value': 'Графское', 'id': 80}, {'value': 'Даниловское', 'id': 81}, {'value': 'Демаельская', 'id': 82}, {'value': 'Довыдовское', 'id': 83}, {'value': 'Дозорцевское', 'id': 84}, {'value': 'Долговское', 'id': 85}, {'value': 'Долговское', 'id': 86}, {'value': 'Долговское', 'id': 87}, {'value': 'Дон-Сыртовское', 'id': 88}, {'value': 'Донская', 'id': 89}, {'value': 'Дороховское', 'id': 90}, {'value': 'Дружное', 'id': 91}, {'value': 'Дружное', 'id': 92}, {'value': 'Е.Зыковское', 'id': 93}, {'value': 'Енапаевское', 'id': 94}, {'value': 'Енорусскинское', 'id': 95}, {'value': 'Етыпуровское', 'id': 96}, {'value': 'Жилинское', 'id': 97}, {'value': 'Журавское', 'id': 98}, {'value': 'Загорское', 'id': 99}, {'value': 'Залесское', 'id': 100}, {'value': 'Зап-Угутское', 'id': 101}, {'value': 'Зап-Усть -Былыкское', 'id': 102}, {'value': 'Западно-Асомкинское', 'id': 103}, {'value': 'Западно-Бимское', 'id': 104}, {'value': 'Западно-Варьёганское', 'id': 105}, {'value': 'Западно-Икилорское', 'id': 106}, {'value': 'Западно-Катыльгинское', 'id': 107}, {'value': 'Западно-Кулагинское', 'id': 108}, {'value': 'Западно-Малобалыкское', 'id': 109}, {'value': 'Западно-Пурпейское', 'id': 110}, {'value': 'Западно-Степановское', 'id': 111}, {'value': 'Западно-Тугровское', 'id': 112}, {'value': 'Западно-Эргинское', 'id': 113}, {'value': 'Западное Сюрхаратинское', 'id': 114}, {'value': 'Западный Могутлор', 'id': 115}, {'value': 'Зимнее', 'id': 116}, {'value': 'Ивановское', 'id': 117}, {'value': 'Икилорское', 'id': 118}, {'value': 'Икилорское', 'id': 119}, {'value': 'Ильичевское', 'id': 120}, {'value': 'Имилорское', 'id': 121}, {'value': 'Инзырейское', 'id': 122}, {'value': 'Ининское', 'id': 123}, {'value': 'Ининское', 'id': 124}, {'value': 'Ипатское', 'id': 125}, {'value': 'Ишуевское', 'id': 126}, {'value': 'Казыгашевское', 'id': 127}, {'value': 'Калиннинковское', 'id': 128}, {'value': 'Калмиярское', 'id': 129}, {'value': 'Камеликское', 'id': 130}, {'value': 'Каменское', 'id': 131}, {'value': 'Каменское', 'id': 132}, {'value': 'Кетовское', 'id': 133}, {'value': 'Кечимовское', 'id': 134}, {'value': 'Киндельское', 'id': 135}, {'value': 'Кинзельское', 'id': 136}, {'value': 'Киняминское', 'id': 137}, {'value': 'Кичкасское', 'id': 138}, {'value': 'Киязлинское', 'id': 139}, {'value': 'Ключевое', 'id': 140}, {'value': 'Ковыктинское ГКМ', 'id': 141}, {'value': 'Кодяковское', 'id': 142}, {'value': 'Колвинское', 'id': 143}, {'value': 'Командишорское', 'id': 144}, {'value': 'Комсомольское', 'id': 145}, {'value': 'Кондинское', 'id': 146}, {'value': 'Корниловское', 'id': 147}, {'value': 'Кочевское', 'id': 148}, {'value': 'Кочевское', 'id': 149}, {'value': 'Кошильское', 'id': 150}, {'value': 'Крайнее', 'id': 151}, {'value': 'Крапивинское', 'id': 152}, {'value': 'Красное', 'id': 153}, {'value': 'Красноленинское', 'id': 154}, {'value': 'Красноленинское', 'id': 155}, {'value': 'Краснонивское', 'id': 156}, {'value': 'Красноярско-Куединское', 'id': 157}, {'value': 'Красноярское', 'id': 158}, {'value': 'Кристальное', 'id': 159}, {'value': 'Крузенштернское', 'id': 160}, {'value': 'Кузоваткинское', 'id': 161}, {'value': 'Кукуштанское', 'id': 162}, {'value': 'Кулагинское', 'id': 163}, {'value': 'Курманаевское', 'id': 164}, {'value': 'Кустовое', 'id': 165}, {'value': 'Кустовое', 'id': 166}, {'value': 'Кутулукское', 'id': 167}, {'value': 'Куюмбинское', 'id': 168}, {'value': 'Кыртаельское', 'id': 169}, {'value': 'Кэралайское', 'id': 170}, {'value': 'Лабаганское', 'id': 171}, {'value': 'Лас-Еганское', 'id': 172}, {'value': 'Лачаель', 'id': 173}, {'value': 'Лебяжинское', 'id': 174}, {'value': 'Лебяжинское', 'id': 175}, {'value': 'Леккерское', 'id': 176}, {'value': 'Лекхарьягинское', 'id': 177}, {'value': 'Лесное', 'id': 178}, {'value': 'Лобановское', 'id': 179}, {'value': 'Локосовское', 'id': 180}, {'value': 'Луговое', 'id': 181}, {'value': 'Луньвожпальское', 'id': 182}, {'value': 'Лыаельское', 'id': 183}, {'value': 'Мало-Балыкское', 'id': 184}, {'value': 'Малобалыкское', 'id': 185}, {'value': 'Мамалаевское', 'id': 186}, {'value': 'Мамонтовское', 'id': 187}, {'value': 'Мастерьельское', 'id': 188}, {'value': 'Мегионское', 'id': 189}, {'value': 'Мельниковское', 'id': 190}, {'value': 'Мензелинское', 'id': 191}, {'value': 'Минибаевское', 'id': 192}, {'value': 'Моргуновское', 'id': 193}, {'value': 'Мортымья-Тетеревское', 'id': 194}, {'value': 'Мортымья-Тетеревское', 'id': 195}, {'value': 'Мортымья-Тетеревское', 'id': 196}, {'value': 'Московцева', 'id': 197}, {'value': 'Москудьинское', 'id': 198}, {'value': 'Мушакское', 'id': 199}, {'value': 'Мыхпайское', 'id': 200}, {'value': 'Мядсейское', 'id': 201}, {'value': 'Н-Кудренское', 'id': 202}, {'value': 'Н-Любимовское', 'id': 203}, {'value': 'Надейю', 'id': 204}, {'value': 'Натальинское', 'id': 205}, {'value': 'Натальинское', 'id': 206}, {'value': 'Нерутынское', 'id': 207}, {'value': 'Нивагальское', 'id': 208}, {'value': 'Ново-Боголюбовское', 'id': 209}, {'value': 'Ново-Дмитриевское', 'id': 210}, {'value': 'Ново-Жедринское', 'id': 211}, {'value': 'Ново-Землянское', 'id': 212}, {'value': 'Ново-Малаховское', 'id': 213}, {'value': 'Ново-Покурское', 'id': 214}, {'value': 'Ново-Пурпейское', 'id': 215}, {'value': 'Ново-Федоровское', 'id': 216}, {'value': 'Новокрасинская', 'id': 217}, {'value': 'Новомостовское', 'id': 218}, {'value': 'Новоортъягунское', 'id': 219}, {'value': 'Новосибирское', 'id': 220}, {'value': 'Нонг-Еганское', 'id': 221}, {'value': 'Ольгинское', 'id': 222}, {'value': 'Ольховское', 'id': 223}, {'value': 'Ольховское', 'id': 224}, {'value': 'Омбинское', 'id': 225}, {'value': 'Орехо-Ермаковское', 'id': 226}, {'value': 'Орехово-Ермаковское', 'id': 227}, {'value': 'Орехово-Ермаковское', 'id': 228}, {'value': 'Островное', 'id': 229}, {'value': 'Ошское', 'id': 230}, {'value': 'П.Сорочинское', 'id': 231}, {'value': 'Павловское', 'id': 232}, {'value': 'Памятно-Сасовское', 'id': 233}, {'value': 'Пачгинское', 'id': 234}, {'value': 'Пашнинское', 'id': 235}, {'value': 'Первомайское', 'id': 236}, {'value': 'Перевозное', 'id': 237}, {'value': 'Пермяковское', 'id': 238}, {'value': 'Петелинское', 'id': 239}, {'value': 'Пихтовое', 'id': 240}, {'value': 'Пихтовское', 'id': 241}, {'value': 'Пихтовское', 'id': 242}, {'value': 'Повховское', 'id': 243}, {'value': 'Повховское', 'id': 244}, {'value': 'Пожвинское', 'id': 245}, {'value': 'Покачевское', 'id': 246}, {'value': 'Покомасовское', 'id': 247}, {'value': 'Покрово-Сорочинское', 'id': 248}, {'value': 'Покровское', 'id': 249}, {'value': 'Потанай-Картопьинское', 'id': 250}, {'value': 'Поточное', 'id': 251}, {'value': 'Правдинское', 'id': 252}, {'value': 'Правдинское', 'id': 253}, {'value': 'Придорожное', 'id': 254}, {'value': 'Пример месторождения', 'id': 255}, {'value': 'Приобское', 'id': 256}, {'value': 'Приобское', 'id': 257}, {'value': 'Приразломное', 'id': 258}, {'value': 'Приразломное', 'id': 259}, {'value': 'Присклоновое', 'id': 260}, {'value': 'Присклоновое', 'id': 261}, {'value': 'Пробное', 'id': 262}, {'value': 'Пронькинское', 'id': 263}, {'value': 'Пыжельское', 'id': 264}, {'value': 'Пякяхинское', 'id': 265}, {'value': 'Р-Тевлинское', 'id': 266}, {'value': 'Р/Конновское', 'id': 267}, {'value': 'Равенское', 'id': 268}, {'value': 'Равенское', 'id': 269}, {'value': 'Радовское', 'id': 270}, {'value': 'Рассохинское', 'id': 271}, {'value': 'Расьюское', 'id': 272}, {'value': 'Речное', 'id': 273}, {'value': 'Ржавское', 'id': 274}, {'value': 'Родинское', 'id': 275}, {'value': 'Родниковское', 'id': 276}, {'value': 'Романовское', 'id': 277}, {'value': 'Рославльское', 'id': 278}, {'value': 'Россихинское', 'id': 279}, {'value': 'Росташинское', 'id': 280}, {'value': 'Рыбкинское', 'id': 281}, {'value': 'Рябиновое', 'id': 282}, {'value': 'С. Макарихинское', 'id': 283}, {'value': 'С.Краснояровское', 'id': 284}, {'value': 'С.Никольское', 'id': 285}, {'value': 'Савиноборское', 'id': 286}, {'value': 'Саврушинское', 'id': 287}, {'value': 'Сакадинское', 'id': 288}, {'value': 'Салымское', 'id': 289}, {'value': 'Самодуровское', 'id': 290}, {'value': 'Самотлорское', 'id': 291}, {'value': 'Самотлорское 13', 'id': 292}, {'value': 'Самотлорское 14', 'id': 293}, {'value': 'Самотлорское 2', 'id': 294}, {'value': 'Самотлорское 3', 'id': 295}, {'value': 'Свободное', 'id': 296}, {'value': 'Северный Баган', 'id': 297}, {'value': 'Северный Ванкор', 'id': 298}, {'value': 'Северо Губкинское', 'id': 299}, {'value': 'Северо- Ипатское', 'id': 300}, {'value': 'Северо-Варьеганское', 'id': 301}, {'value': 'Северо-Варьёганское', 'id': 302}, {'value': 'Северо-Губкинское', 'id': 303}, {'value': 'Северо-Даниловское', 'id': 304}, {'value': 'Северо-Конитлорское', 'id': 305}, {'value': 'Северо-Кочевское', 'id': 306}, {'value': 'Северо-Кочевское', 'id': 307}, {'value': 'Северо-Ореховское', 'id': 308}, {'value': 'Северо-Островное', 'id': 309}, {'value': 'Северо-Покачевское', 'id': 310}, {'value': 'Северо-Покровское', 'id': 311}, {'value': 'Северо-Покурское', 'id': 312}, {'value': 'Северо-Поточное', 'id': 313}, {'value': 'Северо-Савиноборское', 'id': 314}, {'value': 'Северо-Сарембой', 'id': 315}, {'value': 'Северо-Хохряковское', 'id': 316}, {'value': 'Северо-Янгтинское', 'id': 317}, {'value': 'Скворцовское', 'id': 318}, {'value': 'Слободское', 'id': 319}, {'value': 'Случайное', 'id': 320}, {'value': 'Солдатовское', 'id': 321}, {'value': 'Солдатовское', 'id': 322}, {'value': 'Солкинское', 'id': 323}, {'value': 'Сорочинск-Никольское', 'id': 324}, {'value': 'Сорочинско-Никольское', 'id': 325}, {'value': 'Сосновское', 'id': 326}, {'value': 'Софьинское', 'id': 327}, {'value': 'Спиридоновское', 'id': 328}, {'value': 'Средне - Балыкское', 'id': 329}, {'value': 'Средне-Мичаельское', 'id': 330}, {'value': 'Средне-Угутское', 'id': 331}, {'value': 'Средне-Харьягинское', 'id': 332}, {'value': 'Степноозерское', 'id': 333}, {'value': 'Суборское', 'id': 334}, {'value': 'Сугмутское', 'id': 335}, {'value': 'Султан-Заглядинское', 'id': 336}, {'value': 'Суторминское', 'id': 337}, {'value': 'Сухаревское', 'id': 338}, {'value': 'Сюрхаратинское', 'id': 339}, {'value': 'Тагринское', 'id': 340}, {'value': 'Тайлаковское', 'id': 341}, {'value': 'Тананыкское', 'id': 342}, {'value': 'Таращанское', 'id': 343}, {'value': 'Тевлино-Русскинское', 'id': 344}, {'id': 345, 'value': 'Тевлинско-Русскинское'}, {'value': 'Тединское', 'id': 346}, {'value': 'Тепловское', 'id': 347}, {'value': 'Тестовое', 'id': 348}, {'value': 'Титова', 'id': 349}, {'value': 'Тобойское', 'id': 350}, {'value': 'Токское', 'id': 351}, {'value': 'Толумское', 'id': 352}, {'value': 'Торовейское', 'id': 353}, {'value': 'Требса', 'id': 354}, {'value': 'Трубецкое', 'id': 355}, {'value': 'Турчаниновское', 'id': 356}, {'value': 'Угутское', 'id': 357}, {'value': 'Узунское', 'id': 358}, {'value': 'Умирское', 'id': 359}, {'value': 'Умсейское', 'id': 360}, {'value': 'Урьевское', 'id': 361}, {'value': 'Усинское', 'id': 362}, {'value': 'Усинское', 'id': 363}, {'value': 'Усть-Балыкское', 'id': 364}, {'value': 'Усть-Котухтинское', 'id': 365}, {'value': 'Устьевое', 'id': 366}, {'value': 'Федотовская площадь', 'id': 367}, {'value': 'Хальмерпоютинское', 'id': 368}, {'value': 'Хантос', 'id': 369}, {'value': 'Харьягинское', 'id': 370}, {'value': 'Хасырейское', 'id': 371}, {'value': 'Хыльчаюское', 'id': 372}, {'value': 'Чаяндинское', 'id': 373}, {'value': 'Чекалдинское', 'id': 374}, {'value': 'Чернушинское', 'id': 375}, {'value': 'Черпаю', 'id': 376}, {'value': 'Чистинное', 'id': 377}, {'value': 'Чишминская', 'id': 378}, {'value': 'Чумпасское', 'id': 379}, {'value': 'Чупальское', 'id': 380}, {'value': 'Чураковское', 'id': 381}, {'value': 'Шароновское', 'id': 382}, {'value': 'Шейгурчинское', 'id': 383}, {'value': 'Школьное', 'id': 384}, {'value': 'Шулаевское', 'id': 385}, {'value': 'Экилорское', 'id': 386}, {'value': 'Энтельское', 'id': 387}, {'value': 'Ю-Выинтойское', 'id': 388}, {'value': 'Ю-Султангуловское', 'id': 389}, {'value': 'Ю-Урьевское', 'id': 390}, {'value': 'Ю.Сперидоновское', 'id': 391}, {'value': 'Юбилейное', 'id': 392}, {'value': 'Южинское', 'id': 393}, {'value': 'Южно Ипатское', 'id': 394}, {'value': 'Южно Лыжского', 'id': 395}, {'value': 'Южно Юрьяхинское', 'id': 396}, {'value': 'Южно--Ягунское', 'id': 397}, {'value': 'Южно-Аганское', 'id': 398}, {'value': 'Южно-Баганское', 'id': 399}, {'value': 'Южно-Балыкское', 'id': 400}, {'value': 'Южно-Выинтойское', 'id': 401}, {'value': 'Южно-Выйнтой', 'id': 402}, {'value': 'Южно-Киняминское', 'id': 403}, {'value': 'Южно-Кустовое', 'id': 404}, {'value': 'Южно-Островное', 'id': 405}, {'value': 'Южно-Покамасовское', 'id': 406}, {'value': 'Южно-Покачевское', 'id': 407}, {'value': 'Южно-Приобское', 'id': 408}, {'value': 'Южно-Тарасовское', 'id': 409}, {'value': 'Южно-Тарасовское', 'id': 410}, {'value': 'Южно-Ягунское', 'id': 411}, {'value': 'Южно-Ягунское', 'id': 412}, {'value': 'Южно-арасовское', 'id': 413}, {'value': 'Южчно-Кустовое', 'id': 414}, {'value': 'Юрхаровское', 'id': 415}, {'value': 'Юрчукское', 'id': 416}, {'value': 'Ямбургское', 'id': 417}, {'value': 'Ярегское', 'id': 418}, {'value': 'Яреюское', 'id': 419}, {'value': 'Яркое', 'id': 420}, {'value': 'без названия', 'id': 421}, {'value': 'им. А.Титова', 'id': 422}, {'value': 'им. Алабушина', 'id': 423}, {'value': 'им. Московцева', 'id': 424}, {'value': 'им. Р. Требса', 'id': 425}, {'value': 'им. Россихина', 'id': 426}, {'value': 'скв 29956 залежь 221', 'id': 427}]}]\n",
    "    for field in fields[0][\"choices\"]:\n",
    "        if x in field[\"value\"]:\n",
    "            return field\n",
    "df_new_raw_content[\"field\"] = df_new_raw_content[\"field\"].apply(lambda x: convert_to_field_raw(x))"
   ]
  },
  {
   "cell_type": "code",
   "execution_count": 396,
   "id": "18897395-530e-4082-9fbc-a9fb58f5b7d7",
   "metadata": {},
   "outputs": [],
   "source": [
    "def convert_dateAkt_to_date(date_string):\n",
    "    date = pd.to_datetime(date_string, format='%Y%m%dT%H:%M:%S%z')\n",
    "    formatted_date = date.strftime('%Y-%m-%dT%H:%M:%S.%f%z')\n",
    "    return formatted_date\n",
    "\n",
    "df_new_raw_content[\"dateAkt\"] = df_new_raw_content[\"dateAkt\"].apply(lambda x: convert_dateAkt_to_date(x))"
   ]
  },
  {
   "cell_type": "code",
   "execution_count": 397,
   "id": "bcc4a5d2-fa81-4f72-bd46-b304f280bbbf",
   "metadata": {},
   "outputs": [],
   "source": [
    "df_new_raw_content = df_new_raw_content[df_new_raw_content['violations'].apply(lambda x: x != [])]"
   ]
  },
  {
   "cell_type": "code",
   "execution_count": 398,
   "id": "19edb8a9-9e78-4ae6-8516-611bad46b90c",
   "metadata": {},
   "outputs": [
    {
     "data": {
      "text/html": [
       "<div>\n",
       "<style scoped>\n",
       "    .dataframe tbody tr th:only-of-type {\n",
       "        vertical-align: middle;\n",
       "    }\n",
       "\n",
       "    .dataframe tbody tr th {\n",
       "        vertical-align: top;\n",
       "    }\n",
       "\n",
       "    .dataframe thead th {\n",
       "        text-align: right;\n",
       "    }\n",
       "</style>\n",
       "<table border=\"1\" class=\"dataframe\">\n",
       "  <thead>\n",
       "    <tr style=\"text-align: right;\">\n",
       "      <th></th>\n",
       "      <th>dateAkt</th>\n",
       "      <th>superFIO</th>\n",
       "      <th>padstep1</th>\n",
       "      <th>well</th>\n",
       "      <th>field</th>\n",
       "      <th>podrCompanystep1</th>\n",
       "      <th>MasterFIO</th>\n",
       "      <th>numBrigade</th>\n",
       "      <th>violations</th>\n",
       "    </tr>\n",
       "  </thead>\n",
       "  <tbody>\n",
       "    <tr>\n",
       "      <th>3</th>\n",
       "      <td>2021-01-02T16:30:00.000000+0000</td>\n",
       "      <td>{'value': 'Сергеев В.И', 'payload': {'superFIO...</td>\n",
       "      <td>20</td>\n",
       "      <td>451</td>\n",
       "      <td>{'value': 'Северо Губкинское', 'id': 299}</td>\n",
       "      <td>{'id': '2', 'value': 'ООО «БКЕ» ФРС'}</td>\n",
       "      <td>Карманов А.В.</td>\n",
       "      <td>287</td>\n",
       "      <td>[{'riskLevel': '', 'violationName': 'Проведены...</td>\n",
       "    </tr>\n",
       "    <tr>\n",
       "      <th>17</th>\n",
       "      <td>2021-01-06T10:40:00.000000+0000</td>\n",
       "      <td>{'value': 'Блудилин А.А', 'payload': {'superFI...</td>\n",
       "      <td>134Р</td>\n",
       "      <td></td>\n",
       "      <td>{'id': 345, 'value': 'Тевлинско-Русскинское'}</td>\n",
       "      <td>{'id': '2', 'value': 'ООО «БКЕ» ФРС'}</td>\n",
       "      <td>Назаров А.М.</td>\n",
       "      <td>261</td>\n",
       "      <td>[{'riskLevel': '', 'violationName': 'Вышел сро...</td>\n",
       "    </tr>\n",
       "    <tr>\n",
       "      <th>21</th>\n",
       "      <td>2021-01-07T15:00:00.000000+0000</td>\n",
       "      <td>{'value': 'Блудилин А.А', 'payload': {'superFI...</td>\n",
       "      <td>331</td>\n",
       "      <td>8567</td>\n",
       "      <td>{'id': 345, 'value': 'Тевлинско-Русскинское'}</td>\n",
       "      <td>{'id': '2', 'value': 'ООО «БКЕ» ФРС'}</td>\n",
       "      <td>Кузьмищев Л.С.</td>\n",
       "      <td>262</td>\n",
       "      <td>[{'riskLevel': '', 'violationName': 'Спуск ЭЦН...</td>\n",
       "    </tr>\n",
       "    <tr>\n",
       "      <th>22</th>\n",
       "      <td>2021-01-07T00:00:00.000000+0000</td>\n",
       "      <td>{'value': 'Леонов В.Ю', 'payload': {'superFIOk...</td>\n",
       "      <td>31а</td>\n",
       "      <td>2067</td>\n",
       "      <td>{'value': 'Северо-Кочевское', 'id': 306}</td>\n",
       "      <td>{'id': '2', 'value': 'ООО «БКЕ» ФРС'}</td>\n",
       "      <td>Ампукаев Д.С.</td>\n",
       "      <td>146</td>\n",
       "      <td>[{'riskLevel': '', 'violationName': 'При работ...</td>\n",
       "    </tr>\n",
       "    <tr>\n",
       "      <th>33</th>\n",
       "      <td>2021-01-11T12:00:00.000000+0000</td>\n",
       "      <td>{'value': 'Сергеев В.И', 'payload': {'superFIO...</td>\n",
       "      <td>13</td>\n",
       "      <td>124</td>\n",
       "      <td>{'value': 'Северо Губкинское', 'id': 299}</td>\n",
       "      <td>{'id': '2', 'value': 'ООО «БКЕ» ФРС'}</td>\n",
       "      <td>Гизатуллин Р.И.</td>\n",
       "      <td>61</td>\n",
       "      <td>[{'riskLevel': '', 'violationName': 'Бригада п...</td>\n",
       "    </tr>\n",
       "  </tbody>\n",
       "</table>\n",
       "</div>"
      ],
      "text/plain": [
       "                            dateAkt  \\\n",
       "3   2021-01-02T16:30:00.000000+0000   \n",
       "17  2021-01-06T10:40:00.000000+0000   \n",
       "21  2021-01-07T15:00:00.000000+0000   \n",
       "22  2021-01-07T00:00:00.000000+0000   \n",
       "33  2021-01-11T12:00:00.000000+0000   \n",
       "\n",
       "                                             superFIO padstep1  well  \\\n",
       "3   {'value': 'Сергеев В.И', 'payload': {'superFIO...       20   451   \n",
       "17  {'value': 'Блудилин А.А', 'payload': {'superFI...     134Р         \n",
       "21  {'value': 'Блудилин А.А', 'payload': {'superFI...      331  8567   \n",
       "22  {'value': 'Леонов В.Ю', 'payload': {'superFIOk...      31а  2067   \n",
       "33  {'value': 'Сергеев В.И', 'payload': {'superFIO...       13   124   \n",
       "\n",
       "                                            field  \\\n",
       "3       {'value': 'Северо Губкинское', 'id': 299}   \n",
       "17  {'id': 345, 'value': 'Тевлинско-Русскинское'}   \n",
       "21  {'id': 345, 'value': 'Тевлинско-Русскинское'}   \n",
       "22       {'value': 'Северо-Кочевское', 'id': 306}   \n",
       "33      {'value': 'Северо Губкинское', 'id': 299}   \n",
       "\n",
       "                         podrCompanystep1        MasterFIO  numBrigade  \\\n",
       "3   {'id': '2', 'value': 'ООО «БКЕ» ФРС'}    Карманов А.В.         287   \n",
       "17  {'id': '2', 'value': 'ООО «БКЕ» ФРС'}     Назаров А.М.         261   \n",
       "21  {'id': '2', 'value': 'ООО «БКЕ» ФРС'}   Кузьмищев Л.С.         262   \n",
       "22  {'id': '2', 'value': 'ООО «БКЕ» ФРС'}    Ампукаев Д.С.         146   \n",
       "33  {'id': '2', 'value': 'ООО «БКЕ» ФРС'}  Гизатуллин Р.И.          61   \n",
       "\n",
       "                                           violations  \n",
       "3   [{'riskLevel': '', 'violationName': 'Проведены...  \n",
       "17  [{'riskLevel': '', 'violationName': 'Вышел сро...  \n",
       "21  [{'riskLevel': '', 'violationName': 'Спуск ЭЦН...  \n",
       "22  [{'riskLevel': '', 'violationName': 'При работ...  \n",
       "33  [{'riskLevel': '', 'violationName': 'Бригада п...  "
      ]
     },
     "execution_count": 398,
     "metadata": {},
     "output_type": "execute_result"
    }
   ],
   "source": [
    "df_new_raw_content.head()"
   ]
  },
  {
   "cell_type": "code",
   "execution_count": 399,
   "id": "a27b3038-d6e1-410d-9c9f-90af9e60c8b6",
   "metadata": {},
   "outputs": [],
   "source": [
    "# Окончательно формируем raw_content\n",
    "res_raw_content = []\n",
    "for index, row in df_new_raw_content.iterrows():\n",
    "    dic = {\n",
    "        \"superFIO\": row[1],\n",
    "        \"inPresence\": \"\",\n",
    "        \"podrCompanystep1\": row[5],\n",
    "        \"dateAkt\": row[0],\n",
    "        \"zaknamestep1\": zaknamestep1,\n",
    "        \"nomerAktaKomiFreestep1\": \"\",\n",
    "        \"field\": row[4],\n",
    "        \"padstep1\": row[2],\n",
    "        \"wellstep1\": row[3],\n",
    "        \"typeJobstep1\": \"\",\n",
    "        \"superSignat\": \"\",\n",
    "        \"podrSignat\": \"\",\n",
    "        \"tbl_contents\": row[8],\n",
    "        \"numBrigade\": row[7],\n",
    "        \"cdng\": \"\",\n",
    "        \"findings\": \"\",\n",
    "        \"perfName\": \"\",\n",
    "        \"applicat\": \"\",\n",
    "        \"podrFIO\": row[6],\n",
    "        \"podrPosition\": \"\",\n",
    "        \"special_opinion\": \"\"\n",
    "    }\n",
    "    res_raw_content.append(dic)"
   ]
  },
  {
   "cell_type": "code",
   "execution_count": 400,
   "id": "ef0b4a5a-471e-457c-bb8f-ab1268de8c27",
   "metadata": {},
   "outputs": [
    {
     "data": {
      "text/plain": [
       "(214, 17)"
      ]
     },
     "execution_count": 400,
     "metadata": {},
     "output_type": "execute_result"
    }
   ],
   "source": [
    "df_new_for_content.shape"
   ]
  },
  {
   "cell_type": "markdown",
   "id": "e680c190-23ea-48f6-8db4-a60af92ffdaf",
   "metadata": {},
   "source": [
    "### Формируем датафрейм для запроса на нарушения"
   ]
  },
  {
   "cell_type": "code",
   "execution_count": 401,
   "id": "12ed29cb-c59f-4349-836b-f96ef496afb6",
   "metadata": {},
   "outputs": [],
   "source": [
    "df_for_violations_request = pd.DataFrame()"
   ]
  },
  {
   "cell_type": "code",
   "execution_count": 402,
   "id": "ad505aad-2d78-4196-997c-5a1fa50a36cc",
   "metadata": {},
   "outputs": [],
   "source": [
    "df_for_violations_request[\"content\"] = df_new_for_content.violations"
   ]
  },
  {
   "cell_type": "code",
   "execution_count": 403,
   "id": "fc5a710e-0155-49cd-be9c-6ce1d5085204",
   "metadata": {},
   "outputs": [],
   "source": [
    "def add_attachments_to_violations(row):\n",
    "    try:\n",
    "        for i in row:\n",
    "            i[\"attachments\"] = []\n",
    "        return row\n",
    "    except:\n",
    "        pass\n",
    "\n",
    "df_for_violations_request[\"raw_content\"] = df_for_violations_request[\"content\"].apply(add_attachments_to_violations)"
   ]
  },
  {
   "cell_type": "code",
   "execution_count": 404,
   "id": "e68909e5-d66b-421b-a574-754796b8b868",
   "metadata": {},
   "outputs": [],
   "source": [
    "def normative_articles_to_violations(row):\n",
    "    try:\n",
    "        normative_articles = []\n",
    "        for i in row:\n",
    "            for j in i[\"violationDescription\"]:\n",
    "                normative_articles.append(j[\"id\"])\n",
    "        return normative_articles\n",
    "    except:\n",
    "        pass\n",
    "df_for_violations_request[\"normative_articles\"] = df_for_violations_request.raw_content.apply(normative_articles_to_violations)"
   ]
  },
  {
   "cell_type": "code",
   "execution_count": 405,
   "id": "753f1dd2-565e-46e6-947a-15188608e77c",
   "metadata": {},
   "outputs": [],
   "source": [
    "def convert_to_name_violation(row):\n",
    "    try:\n",
    "        name = []\n",
    "        for i in row:\n",
    "            name.append(i[\"violationName\"])\n",
    "        return name\n",
    "    except:\n",
    "        pass\n",
    "        \n",
    "df_for_violations_request[\"name\"] = df_for_violations_request.raw_content.apply(convert_to_name_violation)"
   ]
  },
  {
   "cell_type": "code",
   "execution_count": 406,
   "id": "13338484-8016-4c8b-8a21-09d9085ce195",
   "metadata": {},
   "outputs": [],
   "source": [
    "df_for_violations_request = df_for_violations_request.assign(environment_state=2865)\n",
    "empty_lists_files = [[] for _ in range(len(df_for_violations_request))]\n",
    "df_for_violations_request = df_for_violations_request.assign(files=empty_lists_files)"
   ]
  },
  {
   "cell_type": "code",
   "execution_count": 407,
   "id": "14535411-6f77-42e2-a170-31a0648ffb52",
   "metadata": {},
   "outputs": [],
   "source": [
    "# Получаем id супервайзеров\n",
    "import json\n",
    "import requests\n",
    "s = requests.Session()\n",
    "r = s.request('POST','https://ma.gasoilcenter.ru/api/token/obtain/', json = {\"username\":\"admin\",\"password\":\"Yasin1367!\"})\n",
    "m = (eval(r.text))[\"access\"]\n",
    "response = s.get('https://ma.gasoilcenter.ru/api/user/get-user/?is_mobile=false', headers={'Authorization':f\"JWT {m}\"})\n",
    "response = json.loads(response.text)\n",
    "users_id = []\n",
    "users_first_name = []\n",
    "users_last_name = []\n",
    "for i in response:\n",
    "    users_id.append(i[\"id\"])\n",
    "    users_first_name.append(i[\"first_name\"])\n",
    "    users_last_name.append(i[\"last_name\"])\n",
    "\n",
    "df_users_all = pd.DataFrame({\n",
    "    \"id\": users_id,\n",
    "    \"last_name\": users_last_name,\n",
    "    \"first_name\": users_first_name\n",
    "})\n"
   ]
  },
  {
   "cell_type": "code",
   "execution_count": 408,
   "id": "601322e6-75f8-4957-b935-48167d83bc2b",
   "metadata": {},
   "outputs": [],
   "source": [
    "df_for_violations_request[\"superFIO\"] = df_new_raw_content.superFIO"
   ]
  },
  {
   "cell_type": "code",
   "execution_count": 409,
   "id": "57ea7d4e-0fae-44ee-a69d-4ce5cf4c63c1",
   "metadata": {},
   "outputs": [],
   "source": [
    "df_for_violations_request = df_for_violations_request.dropna()"
   ]
  },
  {
   "cell_type": "code",
   "execution_count": 410,
   "id": "ba3c2a7c-0ae2-4172-8588-c7913837ac57",
   "metadata": {},
   "outputs": [],
   "source": [
    "# Получаем id супервайзера по его ФИО\n",
    "users_id_true = []\n",
    "not_users = []\n",
    "for record in df_for_violations_request['superFIO']:\n",
    "    super_fio_full = record[\"value\"]\n",
    "    if super_fio_full == 'Габуллин Р.Р':\n",
    "        record[\"value\"] = 'Габдуллин Р.Р'\n",
    "        super_fio_full = 'Габдуллин Р.Р'\n",
    "    elif super_fio_full == 'Субботн В.А' or super_fio_full == 'Суботин В.А':\n",
    "        record[\"value\"] = 'Субботин В.А'\n",
    "        super_fio_full = 'Субботин В.А'\n",
    "    elif super_fio_full == 'Королмыцев Н.В':\n",
    "        record[\"value\"] = 'Коломыцев Н.В.'\n",
    "        super_fio_full = 'Коломыцев Н.В.'\n",
    "    super_fio_parts = super_fio_full.split()\n",
    "    last_name = super_fio_parts[0] if super_fio_parts else None\n",
    "    start_first_name = super_fio_parts[1][0] if super_fio_parts else None\n",
    "    try:\n",
    "        users_id_true.append(df_users_all[(df_users_all[\"last_name\"] == last_name) & (df_users_all[\"first_name\"].str.startswith(start_first_name))].id.iloc[0])\n",
    "    except: \n",
    "        users_id_true.append(\"нет id в системе\")\n",
    "        not_users.append(super_fio_full)\n",
    "        # break"
   ]
  },
  {
   "cell_type": "code",
   "execution_count": 411,
   "id": "716c1e9c-7afe-4ae0-84f4-c9f764cde720",
   "metadata": {},
   "outputs": [
    {
     "data": {
      "text/plain": [
       "set()"
      ]
     },
     "execution_count": 411,
     "metadata": {},
     "output_type": "execute_result"
    }
   ],
   "source": [
    "set(not_users)"
   ]
  },
  {
   "cell_type": "code",
   "execution_count": 412,
   "id": "a0c6748e-5c21-43d2-af6c-5eadff8778b6",
   "metadata": {},
   "outputs": [
    {
     "data": {
      "text/plain": [
       "True"
      ]
     },
     "execution_count": 412,
     "metadata": {},
     "output_type": "execute_result"
    }
   ],
   "source": [
    "# Проверяем что мы обработали всех супервайзеров\n",
    "len(users_id_true) == df_for_violations_request.shape[0]"
   ]
  },
  {
   "cell_type": "code",
   "execution_count": 413,
   "id": "d7d44548-f1d3-4cdf-90a1-628d33d40646",
   "metadata": {},
   "outputs": [],
   "source": [
    "df_for_violations_request = df_for_violations_request.assign(creator = users_id_true)"
   ]
  },
  {
   "cell_type": "code",
   "execution_count": 414,
   "id": "6422591b-976a-494a-9183-1ddd7ed1e941",
   "metadata": {},
   "outputs": [],
   "source": [
    "df_for_violations_request = df_for_violations_request.drop(columns=\"superFIO\")"
   ]
  },
  {
   "cell_type": "code",
   "execution_count": 415,
   "id": "d32a0da8-48ab-4b72-94c1-0469d37c0209",
   "metadata": {},
   "outputs": [
    {
     "data": {
      "text/html": [
       "<div>\n",
       "<style scoped>\n",
       "    .dataframe tbody tr th:only-of-type {\n",
       "        vertical-align: middle;\n",
       "    }\n",
       "\n",
       "    .dataframe tbody tr th {\n",
       "        vertical-align: top;\n",
       "    }\n",
       "\n",
       "    .dataframe thead th {\n",
       "        text-align: right;\n",
       "    }\n",
       "</style>\n",
       "<table border=\"1\" class=\"dataframe\">\n",
       "  <thead>\n",
       "    <tr style=\"text-align: right;\">\n",
       "      <th></th>\n",
       "      <th>content</th>\n",
       "      <th>raw_content</th>\n",
       "      <th>normative_articles</th>\n",
       "      <th>name</th>\n",
       "      <th>environment_state</th>\n",
       "      <th>files</th>\n",
       "      <th>creator</th>\n",
       "    </tr>\n",
       "  </thead>\n",
       "  <tbody>\n",
       "    <tr>\n",
       "      <th>3</th>\n",
       "      <td>[{'riskLevel': '', 'violationName': 'Проведены...</td>\n",
       "      <td>[{'riskLevel': '', 'violationName': 'Проведены...</td>\n",
       "      <td>[25838]</td>\n",
       "      <td>[Проведены не эффективные работы. Бригада прои...</td>\n",
       "      <td>2865</td>\n",
       "      <td>[]</td>\n",
       "      <td>19</td>\n",
       "    </tr>\n",
       "    <tr>\n",
       "      <th>17</th>\n",
       "      <td>[{'riskLevel': '', 'violationName': 'Вышел сро...</td>\n",
       "      <td>[{'riskLevel': '', 'violationName': 'Вышел сро...</td>\n",
       "      <td>[25833]</td>\n",
       "      <td>[Вышел срок инструктажа ЦДНГ у машинистка комп...</td>\n",
       "      <td>2865</td>\n",
       "      <td>[]</td>\n",
       "      <td>26</td>\n",
       "    </tr>\n",
       "    <tr>\n",
       "      <th>21</th>\n",
       "      <td>[{'riskLevel': '', 'violationName': 'Спуск ЭЦН...</td>\n",
       "      <td>[{'riskLevel': '', 'violationName': 'Спуск ЭЦН...</td>\n",
       "      <td>[25833]</td>\n",
       "      <td>[Спуск ЭЦН на НКТ- (Д-ремонтная) до глубины Н=...</td>\n",
       "      <td>2865</td>\n",
       "      <td>[]</td>\n",
       "      <td>26</td>\n",
       "    </tr>\n",
       "    <tr>\n",
       "      <th>22</th>\n",
       "      <td>[{'riskLevel': '', 'violationName': 'При работ...</td>\n",
       "      <td>[{'riskLevel': '', 'violationName': 'При работ...</td>\n",
       "      <td>[25838]</td>\n",
       "      <td>[При работе ГСЖ получили осложнение (прихват и...</td>\n",
       "      <td>2865</td>\n",
       "      <td>[]</td>\n",
       "      <td>15</td>\n",
       "    </tr>\n",
       "    <tr>\n",
       "      <th>33</th>\n",
       "      <td>[{'riskLevel': '', 'violationName': 'Бригада п...</td>\n",
       "      <td>[{'riskLevel': '', 'violationName': 'Бригада п...</td>\n",
       "      <td>[25838]</td>\n",
       "      <td>[Бригада производит очистку желобной ёмкости (...</td>\n",
       "      <td>2865</td>\n",
       "      <td>[]</td>\n",
       "      <td>19</td>\n",
       "    </tr>\n",
       "  </tbody>\n",
       "</table>\n",
       "</div>"
      ],
      "text/plain": [
       "                                              content  \\\n",
       "3   [{'riskLevel': '', 'violationName': 'Проведены...   \n",
       "17  [{'riskLevel': '', 'violationName': 'Вышел сро...   \n",
       "21  [{'riskLevel': '', 'violationName': 'Спуск ЭЦН...   \n",
       "22  [{'riskLevel': '', 'violationName': 'При работ...   \n",
       "33  [{'riskLevel': '', 'violationName': 'Бригада п...   \n",
       "\n",
       "                                          raw_content normative_articles  \\\n",
       "3   [{'riskLevel': '', 'violationName': 'Проведены...            [25838]   \n",
       "17  [{'riskLevel': '', 'violationName': 'Вышел сро...            [25833]   \n",
       "21  [{'riskLevel': '', 'violationName': 'Спуск ЭЦН...            [25833]   \n",
       "22  [{'riskLevel': '', 'violationName': 'При работ...            [25838]   \n",
       "33  [{'riskLevel': '', 'violationName': 'Бригада п...            [25838]   \n",
       "\n",
       "                                                 name  environment_state  \\\n",
       "3   [Проведены не эффективные работы. Бригада прои...               2865   \n",
       "17  [Вышел срок инструктажа ЦДНГ у машинистка комп...               2865   \n",
       "21  [Спуск ЭЦН на НКТ- (Д-ремонтная) до глубины Н=...               2865   \n",
       "22  [При работе ГСЖ получили осложнение (прихват и...               2865   \n",
       "33  [Бригада производит очистку желобной ёмкости (...               2865   \n",
       "\n",
       "   files  creator  \n",
       "3     []       19  \n",
       "17    []       26  \n",
       "21    []       26  \n",
       "22    []       15  \n",
       "33    []       19  "
      ]
     },
     "execution_count": 415,
     "metadata": {},
     "output_type": "execute_result"
    }
   ],
   "source": [
    "df_for_violations_request.head()"
   ]
  },
  {
   "cell_type": "code",
   "execution_count": 416,
   "id": "998a1857-df29-4aec-a614-df3b245f5771",
   "metadata": {},
   "outputs": [
    {
     "data": {
      "text/plain": [
       "(214, 7)"
      ]
     },
     "execution_count": 416,
     "metadata": {},
     "output_type": "execute_result"
    }
   ],
   "source": [
    "df_for_violations_request.shape"
   ]
  },
  {
   "cell_type": "markdown",
   "id": "715c3aea-dc01-476d-8cc5-6826b1aec9d8",
   "metadata": {},
   "source": [
    "### Формируем столбцы акта"
   ]
  },
  {
   "cell_type": "code",
   "execution_count": 417,
   "id": "bc65b9a3-f9f4-4ac2-8c17-be756b7149da",
   "metadata": {},
   "outputs": [
    {
     "ename": "ValueError",
     "evalue": "time data \"2021-01-02T16:30:00.000000Z\" doesn't match format \"%Y%m%dT%H:%M:%SZ\", at position 0. You might want to try:\n    - passing `format` if your strings have a consistent format;\n    - passing `format='ISO8601'` if your strings are all ISO8601 but not necessarily in exactly the same format;\n    - passing `format='mixed'`, and the format will be inferred for each element individually. You might want to use `dayfirst` alongside this.",
     "output_type": "error",
     "traceback": [
      "\u001b[1;31m---------------------------------------------------------------------------\u001b[0m",
      "\u001b[1;31mValueError\u001b[0m                                Traceback (most recent call last)",
      "Cell \u001b[1;32mIn[417], line 6\u001b[0m\n\u001b[0;32m      3\u001b[0m     formatted_date \u001b[38;5;241m=\u001b[39m date\u001b[38;5;241m.\u001b[39mstrftime(\u001b[38;5;124m'\u001b[39m\u001b[38;5;124m%\u001b[39m\u001b[38;5;124mY-\u001b[39m\u001b[38;5;124m%\u001b[39m\u001b[38;5;124mm-\u001b[39m\u001b[38;5;132;01m%d\u001b[39;00m\u001b[38;5;124mT\u001b[39m\u001b[38;5;124m%\u001b[39m\u001b[38;5;124mH:\u001b[39m\u001b[38;5;124m%\u001b[39m\u001b[38;5;124mM:\u001b[39m\u001b[38;5;124m%\u001b[39m\u001b[38;5;124mS.\u001b[39m\u001b[38;5;132;01m%f\u001b[39;00m\u001b[38;5;124mZ\u001b[39m\u001b[38;5;124m'\u001b[39m)\n\u001b[0;32m      4\u001b[0m     \u001b[38;5;28;01mreturn\u001b[39;00m formatted_date\n\u001b[1;32m----> 6\u001b[0m df_new_for_content[\u001b[38;5;124m'\u001b[39m\u001b[38;5;124mdateAkt\u001b[39m\u001b[38;5;124m'\u001b[39m] \u001b[38;5;241m=\u001b[39m \u001b[43mdf_new_for_content\u001b[49m\u001b[43m[\u001b[49m\u001b[38;5;124;43m'\u001b[39;49m\u001b[38;5;124;43mdateAkt\u001b[39;49m\u001b[38;5;124;43m'\u001b[39;49m\u001b[43m]\u001b[49m\u001b[38;5;241;43m.\u001b[39;49m\u001b[43mapply\u001b[49m\u001b[43m(\u001b[49m\n\u001b[0;32m      7\u001b[0m \u001b[43m            \u001b[49m\u001b[38;5;28;43;01mlambda\u001b[39;49;00m\u001b[43m \u001b[49m\u001b[43mx\u001b[49m\u001b[43m:\u001b[49m\u001b[43m \u001b[49m\u001b[43mpd\u001b[49m\u001b[38;5;241;43m.\u001b[39;49m\u001b[43mSeries\u001b[49m\u001b[43m(\u001b[49m\u001b[43mprocess_dates_raw\u001b[49m\u001b[43m(\u001b[49m\u001b[43mx\u001b[49m\u001b[43m)\u001b[49m\u001b[43m)\u001b[49m\n\u001b[0;32m      8\u001b[0m \u001b[43m        \u001b[49m\u001b[43m)\u001b[49m\n",
      "File \u001b[1;32m~\\AppData\\Local\\Programs\\Python\\Python39\\lib\\site-packages\\pandas\\core\\series.py:4753\u001b[0m, in \u001b[0;36mSeries.apply\u001b[1;34m(self, func, convert_dtype, args, by_row, **kwargs)\u001b[0m\n\u001b[0;32m   4625\u001b[0m \u001b[38;5;28;01mdef\u001b[39;00m \u001b[38;5;21mapply\u001b[39m(\n\u001b[0;32m   4626\u001b[0m     \u001b[38;5;28mself\u001b[39m,\n\u001b[0;32m   4627\u001b[0m     func: AggFuncType,\n\u001b[1;32m   (...)\u001b[0m\n\u001b[0;32m   4632\u001b[0m     \u001b[38;5;241m*\u001b[39m\u001b[38;5;241m*\u001b[39mkwargs,\n\u001b[0;32m   4633\u001b[0m ) \u001b[38;5;241m-\u001b[39m\u001b[38;5;241m>\u001b[39m DataFrame \u001b[38;5;241m|\u001b[39m Series:\n\u001b[0;32m   4634\u001b[0m \u001b[38;5;250m    \u001b[39m\u001b[38;5;124;03m\"\"\"\u001b[39;00m\n\u001b[0;32m   4635\u001b[0m \u001b[38;5;124;03m    Invoke function on values of Series.\u001b[39;00m\n\u001b[0;32m   4636\u001b[0m \n\u001b[1;32m   (...)\u001b[0m\n\u001b[0;32m   4751\u001b[0m \u001b[38;5;124;03m    dtype: float64\u001b[39;00m\n\u001b[0;32m   4752\u001b[0m \u001b[38;5;124;03m    \"\"\"\u001b[39;00m\n\u001b[1;32m-> 4753\u001b[0m     \u001b[38;5;28;01mreturn\u001b[39;00m \u001b[43mSeriesApply\u001b[49m\u001b[43m(\u001b[49m\n\u001b[0;32m   4754\u001b[0m \u001b[43m        \u001b[49m\u001b[38;5;28;43mself\u001b[39;49m\u001b[43m,\u001b[49m\n\u001b[0;32m   4755\u001b[0m \u001b[43m        \u001b[49m\u001b[43mfunc\u001b[49m\u001b[43m,\u001b[49m\n\u001b[0;32m   4756\u001b[0m \u001b[43m        \u001b[49m\u001b[43mconvert_dtype\u001b[49m\u001b[38;5;241;43m=\u001b[39;49m\u001b[43mconvert_dtype\u001b[49m\u001b[43m,\u001b[49m\n\u001b[0;32m   4757\u001b[0m \u001b[43m        \u001b[49m\u001b[43mby_row\u001b[49m\u001b[38;5;241;43m=\u001b[39;49m\u001b[43mby_row\u001b[49m\u001b[43m,\u001b[49m\n\u001b[0;32m   4758\u001b[0m \u001b[43m        \u001b[49m\u001b[43margs\u001b[49m\u001b[38;5;241;43m=\u001b[39;49m\u001b[43margs\u001b[49m\u001b[43m,\u001b[49m\n\u001b[0;32m   4759\u001b[0m \u001b[43m        \u001b[49m\u001b[43mkwargs\u001b[49m\u001b[38;5;241;43m=\u001b[39;49m\u001b[43mkwargs\u001b[49m\u001b[43m,\u001b[49m\n\u001b[0;32m   4760\u001b[0m \u001b[43m    \u001b[49m\u001b[43m)\u001b[49m\u001b[38;5;241;43m.\u001b[39;49m\u001b[43mapply\u001b[49m\u001b[43m(\u001b[49m\u001b[43m)\u001b[49m\n",
      "File \u001b[1;32m~\\AppData\\Local\\Programs\\Python\\Python39\\lib\\site-packages\\pandas\\core\\apply.py:1207\u001b[0m, in \u001b[0;36mSeriesApply.apply\u001b[1;34m(self)\u001b[0m\n\u001b[0;32m   1204\u001b[0m     \u001b[38;5;28;01mreturn\u001b[39;00m \u001b[38;5;28mself\u001b[39m\u001b[38;5;241m.\u001b[39mapply_compat()\n\u001b[0;32m   1206\u001b[0m \u001b[38;5;66;03m# self.func is Callable\u001b[39;00m\n\u001b[1;32m-> 1207\u001b[0m \u001b[38;5;28;01mreturn\u001b[39;00m \u001b[38;5;28;43mself\u001b[39;49m\u001b[38;5;241;43m.\u001b[39;49m\u001b[43mapply_standard\u001b[49m\u001b[43m(\u001b[49m\u001b[43m)\u001b[49m\n",
      "File \u001b[1;32m~\\AppData\\Local\\Programs\\Python\\Python39\\lib\\site-packages\\pandas\\core\\apply.py:1287\u001b[0m, in \u001b[0;36mSeriesApply.apply_standard\u001b[1;34m(self)\u001b[0m\n\u001b[0;32m   1281\u001b[0m \u001b[38;5;66;03m# row-wise access\u001b[39;00m\n\u001b[0;32m   1282\u001b[0m \u001b[38;5;66;03m# apply doesn't have a `na_action` keyword and for backward compat reasons\u001b[39;00m\n\u001b[0;32m   1283\u001b[0m \u001b[38;5;66;03m# we need to give `na_action=\"ignore\"` for categorical data.\u001b[39;00m\n\u001b[0;32m   1284\u001b[0m \u001b[38;5;66;03m# TODO: remove the `na_action=\"ignore\"` when that default has been changed in\u001b[39;00m\n\u001b[0;32m   1285\u001b[0m \u001b[38;5;66;03m#  Categorical (GH51645).\u001b[39;00m\n\u001b[0;32m   1286\u001b[0m action \u001b[38;5;241m=\u001b[39m \u001b[38;5;124m\"\u001b[39m\u001b[38;5;124mignore\u001b[39m\u001b[38;5;124m\"\u001b[39m \u001b[38;5;28;01mif\u001b[39;00m \u001b[38;5;28misinstance\u001b[39m(obj\u001b[38;5;241m.\u001b[39mdtype, CategoricalDtype) \u001b[38;5;28;01melse\u001b[39;00m \u001b[38;5;28;01mNone\u001b[39;00m\n\u001b[1;32m-> 1287\u001b[0m mapped \u001b[38;5;241m=\u001b[39m \u001b[43mobj\u001b[49m\u001b[38;5;241;43m.\u001b[39;49m\u001b[43m_map_values\u001b[49m\u001b[43m(\u001b[49m\n\u001b[0;32m   1288\u001b[0m \u001b[43m    \u001b[49m\u001b[43mmapper\u001b[49m\u001b[38;5;241;43m=\u001b[39;49m\u001b[43mcurried\u001b[49m\u001b[43m,\u001b[49m\u001b[43m \u001b[49m\u001b[43mna_action\u001b[49m\u001b[38;5;241;43m=\u001b[39;49m\u001b[43maction\u001b[49m\u001b[43m,\u001b[49m\u001b[43m \u001b[49m\u001b[43mconvert\u001b[49m\u001b[38;5;241;43m=\u001b[39;49m\u001b[38;5;28;43mself\u001b[39;49m\u001b[38;5;241;43m.\u001b[39;49m\u001b[43mconvert_dtype\u001b[49m\n\u001b[0;32m   1289\u001b[0m \u001b[43m\u001b[49m\u001b[43m)\u001b[49m\n\u001b[0;32m   1291\u001b[0m \u001b[38;5;28;01mif\u001b[39;00m \u001b[38;5;28mlen\u001b[39m(mapped) \u001b[38;5;129;01mand\u001b[39;00m \u001b[38;5;28misinstance\u001b[39m(mapped[\u001b[38;5;241m0\u001b[39m], ABCSeries):\n\u001b[0;32m   1292\u001b[0m     \u001b[38;5;66;03m# GH#43986 Need to do list(mapped) in order to get treated as nested\u001b[39;00m\n\u001b[0;32m   1293\u001b[0m     \u001b[38;5;66;03m#  See also GH#25959 regarding EA support\u001b[39;00m\n\u001b[0;32m   1294\u001b[0m     \u001b[38;5;28;01mreturn\u001b[39;00m obj\u001b[38;5;241m.\u001b[39m_constructor_expanddim(\u001b[38;5;28mlist\u001b[39m(mapped), index\u001b[38;5;241m=\u001b[39mobj\u001b[38;5;241m.\u001b[39mindex)\n",
      "File \u001b[1;32m~\\AppData\\Local\\Programs\\Python\\Python39\\lib\\site-packages\\pandas\\core\\base.py:921\u001b[0m, in \u001b[0;36mIndexOpsMixin._map_values\u001b[1;34m(self, mapper, na_action, convert)\u001b[0m\n\u001b[0;32m    918\u001b[0m \u001b[38;5;28;01mif\u001b[39;00m \u001b[38;5;28misinstance\u001b[39m(arr, ExtensionArray):\n\u001b[0;32m    919\u001b[0m     \u001b[38;5;28;01mreturn\u001b[39;00m arr\u001b[38;5;241m.\u001b[39mmap(mapper, na_action\u001b[38;5;241m=\u001b[39mna_action)\n\u001b[1;32m--> 921\u001b[0m \u001b[38;5;28;01mreturn\u001b[39;00m \u001b[43malgorithms\u001b[49m\u001b[38;5;241;43m.\u001b[39;49m\u001b[43mmap_array\u001b[49m\u001b[43m(\u001b[49m\u001b[43marr\u001b[49m\u001b[43m,\u001b[49m\u001b[43m \u001b[49m\u001b[43mmapper\u001b[49m\u001b[43m,\u001b[49m\u001b[43m \u001b[49m\u001b[43mna_action\u001b[49m\u001b[38;5;241;43m=\u001b[39;49m\u001b[43mna_action\u001b[49m\u001b[43m,\u001b[49m\u001b[43m \u001b[49m\u001b[43mconvert\u001b[49m\u001b[38;5;241;43m=\u001b[39;49m\u001b[43mconvert\u001b[49m\u001b[43m)\u001b[49m\n",
      "File \u001b[1;32m~\\AppData\\Local\\Programs\\Python\\Python39\\lib\\site-packages\\pandas\\core\\algorithms.py:1814\u001b[0m, in \u001b[0;36mmap_array\u001b[1;34m(arr, mapper, na_action, convert)\u001b[0m\n\u001b[0;32m   1812\u001b[0m values \u001b[38;5;241m=\u001b[39m arr\u001b[38;5;241m.\u001b[39mastype(\u001b[38;5;28mobject\u001b[39m, copy\u001b[38;5;241m=\u001b[39m\u001b[38;5;28;01mFalse\u001b[39;00m)\n\u001b[0;32m   1813\u001b[0m \u001b[38;5;28;01mif\u001b[39;00m na_action \u001b[38;5;129;01mis\u001b[39;00m \u001b[38;5;28;01mNone\u001b[39;00m:\n\u001b[1;32m-> 1814\u001b[0m     \u001b[38;5;28;01mreturn\u001b[39;00m \u001b[43mlib\u001b[49m\u001b[38;5;241;43m.\u001b[39;49m\u001b[43mmap_infer\u001b[49m\u001b[43m(\u001b[49m\u001b[43mvalues\u001b[49m\u001b[43m,\u001b[49m\u001b[43m \u001b[49m\u001b[43mmapper\u001b[49m\u001b[43m,\u001b[49m\u001b[43m \u001b[49m\u001b[43mconvert\u001b[49m\u001b[38;5;241;43m=\u001b[39;49m\u001b[43mconvert\u001b[49m\u001b[43m)\u001b[49m\n\u001b[0;32m   1815\u001b[0m \u001b[38;5;28;01melse\u001b[39;00m:\n\u001b[0;32m   1816\u001b[0m     \u001b[38;5;28;01mreturn\u001b[39;00m lib\u001b[38;5;241m.\u001b[39mmap_infer_mask(\n\u001b[0;32m   1817\u001b[0m         values, mapper, mask\u001b[38;5;241m=\u001b[39misna(values)\u001b[38;5;241m.\u001b[39mview(np\u001b[38;5;241m.\u001b[39muint8), convert\u001b[38;5;241m=\u001b[39mconvert\n\u001b[0;32m   1818\u001b[0m     )\n",
      "File \u001b[1;32mlib.pyx:2920\u001b[0m, in \u001b[0;36mpandas._libs.lib.map_infer\u001b[1;34m()\u001b[0m\n",
      "Cell \u001b[1;32mIn[417], line 7\u001b[0m, in \u001b[0;36m<lambda>\u001b[1;34m(x)\u001b[0m\n\u001b[0;32m      3\u001b[0m     formatted_date \u001b[38;5;241m=\u001b[39m date\u001b[38;5;241m.\u001b[39mstrftime(\u001b[38;5;124m'\u001b[39m\u001b[38;5;124m%\u001b[39m\u001b[38;5;124mY-\u001b[39m\u001b[38;5;124m%\u001b[39m\u001b[38;5;124mm-\u001b[39m\u001b[38;5;132;01m%d\u001b[39;00m\u001b[38;5;124mT\u001b[39m\u001b[38;5;124m%\u001b[39m\u001b[38;5;124mH:\u001b[39m\u001b[38;5;124m%\u001b[39m\u001b[38;5;124mM:\u001b[39m\u001b[38;5;124m%\u001b[39m\u001b[38;5;124mS.\u001b[39m\u001b[38;5;132;01m%f\u001b[39;00m\u001b[38;5;124mZ\u001b[39m\u001b[38;5;124m'\u001b[39m)\n\u001b[0;32m      4\u001b[0m     \u001b[38;5;28;01mreturn\u001b[39;00m formatted_date\n\u001b[0;32m      6\u001b[0m df_new_for_content[\u001b[38;5;124m'\u001b[39m\u001b[38;5;124mdateAkt\u001b[39m\u001b[38;5;124m'\u001b[39m] \u001b[38;5;241m=\u001b[39m df_new_for_content[\u001b[38;5;124m'\u001b[39m\u001b[38;5;124mdateAkt\u001b[39m\u001b[38;5;124m'\u001b[39m]\u001b[38;5;241m.\u001b[39mapply(\n\u001b[1;32m----> 7\u001b[0m             \u001b[38;5;28;01mlambda\u001b[39;00m x: pd\u001b[38;5;241m.\u001b[39mSeries(\u001b[43mprocess_dates_raw\u001b[49m\u001b[43m(\u001b[49m\u001b[43mx\u001b[49m\u001b[43m)\u001b[49m)\n\u001b[0;32m      8\u001b[0m         )\n",
      "Cell \u001b[1;32mIn[417], line 2\u001b[0m, in \u001b[0;36mprocess_dates_raw\u001b[1;34m(date_str)\u001b[0m\n\u001b[0;32m      1\u001b[0m \u001b[38;5;28;01mdef\u001b[39;00m \u001b[38;5;21mprocess_dates_raw\u001b[39m(date_str):\n\u001b[1;32m----> 2\u001b[0m     date \u001b[38;5;241m=\u001b[39m \u001b[43mpd\u001b[49m\u001b[38;5;241;43m.\u001b[39;49m\u001b[43mto_datetime\u001b[49m\u001b[43m(\u001b[49m\u001b[43mdate_str\u001b[49m\u001b[43m,\u001b[49m\u001b[43m \u001b[49m\u001b[38;5;28;43mformat\u001b[39;49m\u001b[38;5;241;43m=\u001b[39;49m\u001b[38;5;124;43m'\u001b[39;49m\u001b[38;5;124;43m%\u001b[39;49m\u001b[38;5;124;43mY\u001b[39;49m\u001b[38;5;124;43m%\u001b[39;49m\u001b[38;5;124;43mm\u001b[39;49m\u001b[38;5;132;43;01m%d\u001b[39;49;00m\u001b[38;5;124;43mT\u001b[39;49m\u001b[38;5;124;43m%\u001b[39;49m\u001b[38;5;124;43mH:\u001b[39;49m\u001b[38;5;124;43m%\u001b[39;49m\u001b[38;5;124;43mM:\u001b[39;49m\u001b[38;5;124;43m%\u001b[39;49m\u001b[38;5;124;43mSZ\u001b[39;49m\u001b[38;5;124;43m'\u001b[39;49m\u001b[43m)\u001b[49m\n\u001b[0;32m      3\u001b[0m     formatted_date \u001b[38;5;241m=\u001b[39m date\u001b[38;5;241m.\u001b[39mstrftime(\u001b[38;5;124m'\u001b[39m\u001b[38;5;124m%\u001b[39m\u001b[38;5;124mY-\u001b[39m\u001b[38;5;124m%\u001b[39m\u001b[38;5;124mm-\u001b[39m\u001b[38;5;132;01m%d\u001b[39;00m\u001b[38;5;124mT\u001b[39m\u001b[38;5;124m%\u001b[39m\u001b[38;5;124mH:\u001b[39m\u001b[38;5;124m%\u001b[39m\u001b[38;5;124mM:\u001b[39m\u001b[38;5;124m%\u001b[39m\u001b[38;5;124mS.\u001b[39m\u001b[38;5;132;01m%f\u001b[39;00m\u001b[38;5;124mZ\u001b[39m\u001b[38;5;124m'\u001b[39m)\n\u001b[0;32m      4\u001b[0m     \u001b[38;5;28;01mreturn\u001b[39;00m formatted_date\n",
      "File \u001b[1;32m~\\AppData\\Local\\Programs\\Python\\Python39\\lib\\site-packages\\pandas\\core\\tools\\datetimes.py:1146\u001b[0m, in \u001b[0;36mto_datetime\u001b[1;34m(arg, errors, dayfirst, yearfirst, utc, format, exact, unit, infer_datetime_format, origin, cache)\u001b[0m\n\u001b[0;32m   1144\u001b[0m         result \u001b[38;5;241m=\u001b[39m convert_listlike(argc, \u001b[38;5;28mformat\u001b[39m)\n\u001b[0;32m   1145\u001b[0m \u001b[38;5;28;01melse\u001b[39;00m:\n\u001b[1;32m-> 1146\u001b[0m     result \u001b[38;5;241m=\u001b[39m \u001b[43mconvert_listlike\u001b[49m\u001b[43m(\u001b[49m\u001b[43mnp\u001b[49m\u001b[38;5;241;43m.\u001b[39;49m\u001b[43marray\u001b[49m\u001b[43m(\u001b[49m\u001b[43m[\u001b[49m\u001b[43marg\u001b[49m\u001b[43m]\u001b[49m\u001b[43m)\u001b[49m\u001b[43m,\u001b[49m\u001b[43m \u001b[49m\u001b[38;5;28;43mformat\u001b[39;49m\u001b[43m)\u001b[49m[\u001b[38;5;241m0\u001b[39m]\n\u001b[0;32m   1147\u001b[0m     \u001b[38;5;28;01mif\u001b[39;00m \u001b[38;5;28misinstance\u001b[39m(arg, \u001b[38;5;28mbool\u001b[39m) \u001b[38;5;129;01mand\u001b[39;00m \u001b[38;5;28misinstance\u001b[39m(result, np\u001b[38;5;241m.\u001b[39mbool_):\n\u001b[0;32m   1148\u001b[0m         result \u001b[38;5;241m=\u001b[39m \u001b[38;5;28mbool\u001b[39m(result)  \u001b[38;5;66;03m# TODO: avoid this kludge.\u001b[39;00m\n",
      "File \u001b[1;32m~\\AppData\\Local\\Programs\\Python\\Python39\\lib\\site-packages\\pandas\\core\\tools\\datetimes.py:488\u001b[0m, in \u001b[0;36m_convert_listlike_datetimes\u001b[1;34m(arg, format, name, utc, unit, errors, dayfirst, yearfirst, exact)\u001b[0m\n\u001b[0;32m    486\u001b[0m \u001b[38;5;66;03m# `format` could be inferred, or user didn't ask for mixed-format parsing.\u001b[39;00m\n\u001b[0;32m    487\u001b[0m \u001b[38;5;28;01mif\u001b[39;00m \u001b[38;5;28mformat\u001b[39m \u001b[38;5;129;01mis\u001b[39;00m \u001b[38;5;129;01mnot\u001b[39;00m \u001b[38;5;28;01mNone\u001b[39;00m \u001b[38;5;129;01mand\u001b[39;00m \u001b[38;5;28mformat\u001b[39m \u001b[38;5;241m!=\u001b[39m \u001b[38;5;124m\"\u001b[39m\u001b[38;5;124mmixed\u001b[39m\u001b[38;5;124m\"\u001b[39m:\n\u001b[1;32m--> 488\u001b[0m     \u001b[38;5;28;01mreturn\u001b[39;00m \u001b[43m_array_strptime_with_fallback\u001b[49m\u001b[43m(\u001b[49m\u001b[43marg\u001b[49m\u001b[43m,\u001b[49m\u001b[43m \u001b[49m\u001b[43mname\u001b[49m\u001b[43m,\u001b[49m\u001b[43m \u001b[49m\u001b[43mutc\u001b[49m\u001b[43m,\u001b[49m\u001b[43m \u001b[49m\u001b[38;5;28;43mformat\u001b[39;49m\u001b[43m,\u001b[49m\u001b[43m \u001b[49m\u001b[43mexact\u001b[49m\u001b[43m,\u001b[49m\u001b[43m \u001b[49m\u001b[43merrors\u001b[49m\u001b[43m)\u001b[49m\n\u001b[0;32m    490\u001b[0m result, tz_parsed \u001b[38;5;241m=\u001b[39m objects_to_datetime64ns(\n\u001b[0;32m    491\u001b[0m     arg,\n\u001b[0;32m    492\u001b[0m     dayfirst\u001b[38;5;241m=\u001b[39mdayfirst,\n\u001b[1;32m   (...)\u001b[0m\n\u001b[0;32m    496\u001b[0m     allow_object\u001b[38;5;241m=\u001b[39m\u001b[38;5;28;01mTrue\u001b[39;00m,\n\u001b[0;32m    497\u001b[0m )\n\u001b[0;32m    499\u001b[0m \u001b[38;5;28;01mif\u001b[39;00m tz_parsed \u001b[38;5;129;01mis\u001b[39;00m \u001b[38;5;129;01mnot\u001b[39;00m \u001b[38;5;28;01mNone\u001b[39;00m:\n\u001b[0;32m    500\u001b[0m     \u001b[38;5;66;03m# We can take a shortcut since the datetime64 numpy array\u001b[39;00m\n\u001b[0;32m    501\u001b[0m     \u001b[38;5;66;03m# is in UTC\u001b[39;00m\n",
      "File \u001b[1;32m~\\AppData\\Local\\Programs\\Python\\Python39\\lib\\site-packages\\pandas\\core\\tools\\datetimes.py:519\u001b[0m, in \u001b[0;36m_array_strptime_with_fallback\u001b[1;34m(arg, name, utc, fmt, exact, errors)\u001b[0m\n\u001b[0;32m    508\u001b[0m \u001b[38;5;28;01mdef\u001b[39;00m \u001b[38;5;21m_array_strptime_with_fallback\u001b[39m(\n\u001b[0;32m    509\u001b[0m     arg,\n\u001b[0;32m    510\u001b[0m     name,\n\u001b[1;32m   (...)\u001b[0m\n\u001b[0;32m    514\u001b[0m     errors: \u001b[38;5;28mstr\u001b[39m,\n\u001b[0;32m    515\u001b[0m ) \u001b[38;5;241m-\u001b[39m\u001b[38;5;241m>\u001b[39m Index:\n\u001b[0;32m    516\u001b[0m \u001b[38;5;250m    \u001b[39m\u001b[38;5;124;03m\"\"\"\u001b[39;00m\n\u001b[0;32m    517\u001b[0m \u001b[38;5;124;03m    Call array_strptime, with fallback behavior depending on 'errors'.\u001b[39;00m\n\u001b[0;32m    518\u001b[0m \u001b[38;5;124;03m    \"\"\"\u001b[39;00m\n\u001b[1;32m--> 519\u001b[0m     result, timezones \u001b[38;5;241m=\u001b[39m \u001b[43marray_strptime\u001b[49m\u001b[43m(\u001b[49m\u001b[43marg\u001b[49m\u001b[43m,\u001b[49m\u001b[43m \u001b[49m\u001b[43mfmt\u001b[49m\u001b[43m,\u001b[49m\u001b[43m \u001b[49m\u001b[43mexact\u001b[49m\u001b[38;5;241;43m=\u001b[39;49m\u001b[43mexact\u001b[49m\u001b[43m,\u001b[49m\u001b[43m \u001b[49m\u001b[43merrors\u001b[49m\u001b[38;5;241;43m=\u001b[39;49m\u001b[43merrors\u001b[49m\u001b[43m,\u001b[49m\u001b[43m \u001b[49m\u001b[43mutc\u001b[49m\u001b[38;5;241;43m=\u001b[39;49m\u001b[43mutc\u001b[49m\u001b[43m)\u001b[49m\n\u001b[0;32m    520\u001b[0m     \u001b[38;5;28;01mif\u001b[39;00m \u001b[38;5;28many\u001b[39m(tz \u001b[38;5;129;01mis\u001b[39;00m \u001b[38;5;129;01mnot\u001b[39;00m \u001b[38;5;28;01mNone\u001b[39;00m \u001b[38;5;28;01mfor\u001b[39;00m tz \u001b[38;5;129;01min\u001b[39;00m timezones):\n\u001b[0;32m    521\u001b[0m         \u001b[38;5;28;01mreturn\u001b[39;00m _return_parsed_timezone_results(result, timezones, utc, name)\n",
      "File \u001b[1;32mstrptime.pyx:534\u001b[0m, in \u001b[0;36mpandas._libs.tslibs.strptime.array_strptime\u001b[1;34m()\u001b[0m\n",
      "File \u001b[1;32mstrptime.pyx:355\u001b[0m, in \u001b[0;36mpandas._libs.tslibs.strptime.array_strptime\u001b[1;34m()\u001b[0m\n",
      "\u001b[1;31mValueError\u001b[0m: time data \"2021-01-02T16:30:00.000000Z\" doesn't match format \"%Y%m%dT%H:%M:%SZ\", at position 0. You might want to try:\n    - passing `format` if your strings have a consistent format;\n    - passing `format='ISO8601'` if your strings are all ISO8601 but not necessarily in exactly the same format;\n    - passing `format='mixed'`, and the format will be inferred for each element individually. You might want to use `dayfirst` alongside this."
     ]
    }
   ],
   "source": [
    "def process_dates_raw(date_str):\n",
    "    date = pd.to_datetime(date_str, format='%Y%m%dT%H:%M:%SZ')\n",
    "    formatted_date = date.strftime('%Y-%m-%dT%H:%M:%S.%fZ')\n",
    "    return formatted_date\n",
    "\n",
    "df_new_for_content['dateAkt'] = df_new_for_content['dateAkt'].apply(\n",
    "            lambda x: pd.Series(process_dates_raw(x))\n",
    "        )"
   ]
  },
  {
   "cell_type": "code",
   "execution_count": 418,
   "id": "0906cbd5-d926-4d1b-84c9-fc3fdc3231b6",
   "metadata": {},
   "outputs": [
    {
     "data": {
      "text/html": [
       "<div>\n",
       "<style scoped>\n",
       "    .dataframe tbody tr th:only-of-type {\n",
       "        vertical-align: middle;\n",
       "    }\n",
       "\n",
       "    .dataframe tbody tr th {\n",
       "        vertical-align: top;\n",
       "    }\n",
       "\n",
       "    .dataframe thead th {\n",
       "        text-align: right;\n",
       "    }\n",
       "</style>\n",
       "<table border=\"1\" class=\"dataframe\">\n",
       "  <thead>\n",
       "    <tr style=\"text-align: right;\">\n",
       "      <th></th>\n",
       "      <th>dateAkt</th>\n",
       "      <th>superFIO</th>\n",
       "      <th>padstep1</th>\n",
       "      <th>well</th>\n",
       "      <th>field</th>\n",
       "      <th>podrCompanystep1</th>\n",
       "      <th>MasterFIO</th>\n",
       "      <th>numBrigade</th>\n",
       "      <th>violations</th>\n",
       "      <th>dateAktHour</th>\n",
       "      <th>dateAktMinute</th>\n",
       "      <th>dateAktmain</th>\n",
       "      <th>dateAkttime</th>\n",
       "      <th>dateTime</th>\n",
       "      <th>dateTime2</th>\n",
       "      <th>dateAktquotes</th>\n",
       "      <th>dateAktchbegin</th>\n",
       "    </tr>\n",
       "  </thead>\n",
       "  <tbody>\n",
       "    <tr>\n",
       "      <th>3</th>\n",
       "      <td>2021-01-02T16:30:00.000000Z</td>\n",
       "      <td>Сергеев В.И</td>\n",
       "      <td>20</td>\n",
       "      <td>451</td>\n",
       "      <td>Северо Губкинское</td>\n",
       "      <td>ООО «БКЕ» ФРС</td>\n",
       "      <td>Карманов А.В.</td>\n",
       "      <td>287</td>\n",
       "      <td>[{'riskLevel': '', 'violationName': 'Проведены...</td>\n",
       "      <td>16</td>\n",
       "      <td>30</td>\n",
       "      <td>02 января 2021</td>\n",
       "      <td>16:30, 02.01.2021</td>\n",
       "      <td>02 января 16</td>\n",
       "      <td>02/января/21</td>\n",
       "      <td>02 01</td>\n",
       "      <td>02</td>\n",
       "    </tr>\n",
       "    <tr>\n",
       "      <th>17</th>\n",
       "      <td>2021-01-06T10:40:00.000000Z</td>\n",
       "      <td>Блудилин А.А</td>\n",
       "      <td>134Р</td>\n",
       "      <td></td>\n",
       "      <td>Тевлинско-Русскинское</td>\n",
       "      <td>ООО «БКЕ» ФРС</td>\n",
       "      <td>Назаров А.М.</td>\n",
       "      <td>261</td>\n",
       "      <td>[{'riskLevel': '', 'violationName': 'Вышел сро...</td>\n",
       "      <td>10</td>\n",
       "      <td>40</td>\n",
       "      <td>06 января 2021</td>\n",
       "      <td>10:40, 06.01.2021</td>\n",
       "      <td>06 января 10</td>\n",
       "      <td>06/января/21</td>\n",
       "      <td>06 01</td>\n",
       "      <td>06</td>\n",
       "    </tr>\n",
       "    <tr>\n",
       "      <th>21</th>\n",
       "      <td>2021-01-07T15:00:00.000000Z</td>\n",
       "      <td>Блудилин А.А</td>\n",
       "      <td>331</td>\n",
       "      <td>8567</td>\n",
       "      <td>Тевлинско-Русскинское</td>\n",
       "      <td>ООО «БКЕ» ФРС</td>\n",
       "      <td>Кузьмищев Л.С.</td>\n",
       "      <td>262</td>\n",
       "      <td>[{'riskLevel': '', 'violationName': 'Спуск ЭЦН...</td>\n",
       "      <td>15</td>\n",
       "      <td>00</td>\n",
       "      <td>07 января 2021</td>\n",
       "      <td>15:00, 07.01.2021</td>\n",
       "      <td>07 января 15</td>\n",
       "      <td>07/января/21</td>\n",
       "      <td>07 01</td>\n",
       "      <td>07</td>\n",
       "    </tr>\n",
       "    <tr>\n",
       "      <th>22</th>\n",
       "      <td>2021-01-07T00:00:00.000000Z</td>\n",
       "      <td>Леонов В.Ю</td>\n",
       "      <td>31а</td>\n",
       "      <td>2067</td>\n",
       "      <td>Северо-Кочевское</td>\n",
       "      <td>ООО «БКЕ» ФРС</td>\n",
       "      <td>Ампукаев Д.С.</td>\n",
       "      <td>146</td>\n",
       "      <td>[{'riskLevel': '', 'violationName': 'При работ...</td>\n",
       "      <td>00</td>\n",
       "      <td>00</td>\n",
       "      <td>07 января 2021</td>\n",
       "      <td>00:00, 07.01.2021</td>\n",
       "      <td>07 января 00</td>\n",
       "      <td>07/января/21</td>\n",
       "      <td>07 01</td>\n",
       "      <td>07</td>\n",
       "    </tr>\n",
       "    <tr>\n",
       "      <th>33</th>\n",
       "      <td>2021-01-11T12:00:00.000000Z</td>\n",
       "      <td>Сергеев В.И</td>\n",
       "      <td>13</td>\n",
       "      <td>124</td>\n",
       "      <td>Северо Губкинское</td>\n",
       "      <td>ООО «БКЕ» ФРС</td>\n",
       "      <td>Гизатуллин Р.И.</td>\n",
       "      <td>61</td>\n",
       "      <td>[{'riskLevel': '', 'violationName': 'Бригада п...</td>\n",
       "      <td>12</td>\n",
       "      <td>00</td>\n",
       "      <td>11 января 2021</td>\n",
       "      <td>12:00, 11.01.2021</td>\n",
       "      <td>11 января 12</td>\n",
       "      <td>11/января/21</td>\n",
       "      <td>11 01</td>\n",
       "      <td>11</td>\n",
       "    </tr>\n",
       "  </tbody>\n",
       "</table>\n",
       "</div>"
      ],
      "text/plain": [
       "                        dateAkt      superFIO padstep1  well  \\\n",
       "3   2021-01-02T16:30:00.000000Z   Сергеев В.И       20   451   \n",
       "17  2021-01-06T10:40:00.000000Z  Блудилин А.А     134Р         \n",
       "21  2021-01-07T15:00:00.000000Z  Блудилин А.А      331  8567   \n",
       "22  2021-01-07T00:00:00.000000Z    Леонов В.Ю      31а  2067   \n",
       "33  2021-01-11T12:00:00.000000Z   Сергеев В.И       13   124   \n",
       "\n",
       "                    field podrCompanystep1        MasterFIO  numBrigade  \\\n",
       "3       Северо Губкинское    ООО «БКЕ» ФРС    Карманов А.В.         287   \n",
       "17  Тевлинско-Русскинское    ООО «БКЕ» ФРС     Назаров А.М.         261   \n",
       "21  Тевлинско-Русскинское    ООО «БКЕ» ФРС   Кузьмищев Л.С.         262   \n",
       "22       Северо-Кочевское    ООО «БКЕ» ФРС    Ампукаев Д.С.         146   \n",
       "33      Северо Губкинское    ООО «БКЕ» ФРС  Гизатуллин Р.И.          61   \n",
       "\n",
       "                                           violations dateAktHour  \\\n",
       "3   [{'riskLevel': '', 'violationName': 'Проведены...          16   \n",
       "17  [{'riskLevel': '', 'violationName': 'Вышел сро...          10   \n",
       "21  [{'riskLevel': '', 'violationName': 'Спуск ЭЦН...          15   \n",
       "22  [{'riskLevel': '', 'violationName': 'При работ...          00   \n",
       "33  [{'riskLevel': '', 'violationName': 'Бригада п...          12   \n",
       "\n",
       "   dateAktMinute     dateAktmain        dateAkttime      dateTime  \\\n",
       "3             30  02 января 2021  16:30, 02.01.2021  02 января 16   \n",
       "17            40  06 января 2021  10:40, 06.01.2021  06 января 10   \n",
       "21            00  07 января 2021  15:00, 07.01.2021  07 января 15   \n",
       "22            00  07 января 2021  00:00, 07.01.2021  07 января 00   \n",
       "33            00  11 января 2021  12:00, 11.01.2021  11 января 12   \n",
       "\n",
       "       dateTime2 dateAktquotes dateAktchbegin  \n",
       "3   02/января/21         02 01             02  \n",
       "17  06/января/21         06 01             06  \n",
       "21  07/января/21         07 01             07  \n",
       "22  07/января/21         07 01             07  \n",
       "33  11/января/21         11 01             11  "
      ]
     },
     "execution_count": 418,
     "metadata": {},
     "output_type": "execute_result"
    }
   ],
   "source": [
    "df_new_for_content.head()"
   ]
  },
  {
   "cell_type": "code",
   "execution_count": 419,
   "id": "d8ac32c8-83c8-446b-b86c-a1efadc114e4",
   "metadata": {},
   "outputs": [],
   "source": [
    "df_final = pd.DataFrame()\n",
    "df_final[\"name\"] = df_new_for_content['dateAkt'].apply(lambda x: \"Предписание ЛЗС-КРС_sign. \" + x)"
   ]
  },
  {
   "cell_type": "code",
   "execution_count": 420,
   "id": "6a32606a-4fbe-4cda-ad42-598f1b2ccef9",
   "metadata": {},
   "outputs": [],
   "source": [
    "# Заносим оставшиеся столбцы\n",
    "df_final = df_final.assign(status=\"signed\")\n",
    "df_final = df_final.assign(environment_state=2865)\n",
    "df_final = df_final.assign(content=res_content)\n",
    "df_final = df_final.assign(raw_content=res_raw_content)\n",
    "\n",
    "# Создаем пустые списки для каждой строки в DataFrame\n",
    "empty_lists_files = [[] for _ in range(len(df_final))]\n",
    "empty_lists_violations = [[] for _ in range(len(df_final))]\n",
    "\n",
    "df_final = df_final.assign(files=empty_lists_files)\n",
    "df_final = df_final.assign(violations=empty_lists_violations)"
   ]
  },
  {
   "cell_type": "code",
   "execution_count": 421,
   "id": "ee21a257-089b-4701-96ff-d8008430c739",
   "metadata": {},
   "outputs": [
    {
     "data": {
      "text/plain": [
       "True"
      ]
     },
     "execution_count": 421,
     "metadata": {},
     "output_type": "execute_result"
    }
   ],
   "source": [
    "# Проверям, что кол-во нарушений совпадает\n",
    "len(res_content) == len(res_raw_content)"
   ]
  },
  {
   "cell_type": "code",
   "execution_count": 422,
   "id": "f9c6cc04-dcea-4377-8d45-24c254b21c0a",
   "metadata": {},
   "outputs": [],
   "source": [
    "# Получаем id супервайзера по его ФИО\n",
    "users_id_true = []\n",
    "not_users = []\n",
    "for record in df_final['raw_content']:\n",
    "    super_fio_full = record[\"superFIO\"][\"value\"]\n",
    "    if super_fio_full == 'Габуллин Р.Р':\n",
    "        record[\"superFIO\"][\"value\"] = 'Габдуллин Р.Р'\n",
    "        super_fio_full = 'Габдуллин Р.Р'\n",
    "    elif super_fio_full == 'Субботн В.А' or super_fio_full == 'Суботин В.А':\n",
    "        record[\"superFIO\"][\"value\"] = 'Субботин В.А'\n",
    "        super_fio_full = 'Субботин В.А'\n",
    "    super_fio_parts = super_fio_full.split()\n",
    "    date_akt = record[\"dateAkt\"]\n",
    "    last_name = super_fio_parts[0] if super_fio_parts else None\n",
    "    start_first_name = super_fio_parts[1][0] if super_fio_parts else None\n",
    "    try:\n",
    "        users_id_true.append(df_users_all[(df_users_all[\"last_name\"] == last_name) & (df_users_all[\"first_name\"].str.startswith(start_first_name))].id.iloc[0])\n",
    "    except: \n",
    "        users_id_true.append(\"нет id в системе\")\n",
    "        not_users.append(super_fio_full)\n",
    "        # break"
   ]
  },
  {
   "cell_type": "code",
   "execution_count": 423,
   "id": "b47f57a8-9c66-43d2-841b-016e7058baa0",
   "metadata": {},
   "outputs": [
    {
     "data": {
      "text/plain": [
       "set()"
      ]
     },
     "execution_count": 423,
     "metadata": {},
     "output_type": "execute_result"
    }
   ],
   "source": [
    "set(not_users)"
   ]
  },
  {
   "cell_type": "code",
   "execution_count": 424,
   "id": "1d2683a5-ac8b-4d10-9ae7-0cba2b2346d1",
   "metadata": {},
   "outputs": [
    {
     "data": {
      "text/plain": [
       "True"
      ]
     },
     "execution_count": 424,
     "metadata": {},
     "output_type": "execute_result"
    }
   ],
   "source": [
    "# Проверяем что мы обработали всех супервайзеров\n",
    "len(users_id_true) == df_final.shape[0]"
   ]
  },
  {
   "cell_type": "code",
   "execution_count": 425,
   "id": "dccf00ab-7c24-4d81-b430-304dfedbdd78",
   "metadata": {},
   "outputs": [],
   "source": [
    "df_final = df_final.assign(creator = users_id_true)"
   ]
  },
  {
   "cell_type": "code",
   "execution_count": 426,
   "id": "99928755-3381-4698-ac50-d5e6641476e4",
   "metadata": {},
   "outputs": [
    {
     "data": {
      "text/html": [
       "<div>\n",
       "<style scoped>\n",
       "    .dataframe tbody tr th:only-of-type {\n",
       "        vertical-align: middle;\n",
       "    }\n",
       "\n",
       "    .dataframe tbody tr th {\n",
       "        vertical-align: top;\n",
       "    }\n",
       "\n",
       "    .dataframe thead th {\n",
       "        text-align: right;\n",
       "    }\n",
       "</style>\n",
       "<table border=\"1\" class=\"dataframe\">\n",
       "  <thead>\n",
       "    <tr style=\"text-align: right;\">\n",
       "      <th></th>\n",
       "      <th>name</th>\n",
       "      <th>status</th>\n",
       "      <th>environment_state</th>\n",
       "      <th>content</th>\n",
       "      <th>raw_content</th>\n",
       "      <th>files</th>\n",
       "      <th>violations</th>\n",
       "      <th>creator</th>\n",
       "    </tr>\n",
       "  </thead>\n",
       "  <tbody>\n",
       "    <tr>\n",
       "      <th>3</th>\n",
       "      <td>Предписание ЛЗС-КРС_sign. 2021-01-02T16:30:00....</td>\n",
       "      <td>signed</td>\n",
       "      <td>2865</td>\n",
       "      <td>{'superFIO': 'Сергеев В.И', 'superCompany ': '...</td>\n",
       "      <td>{'superFIO': {'value': 'Сергеев В.И', 'payload...</td>\n",
       "      <td>[]</td>\n",
       "      <td>[]</td>\n",
       "      <td>19</td>\n",
       "    </tr>\n",
       "    <tr>\n",
       "      <th>17</th>\n",
       "      <td>Предписание ЛЗС-КРС_sign. 2021-01-06T10:40:00....</td>\n",
       "      <td>signed</td>\n",
       "      <td>2865</td>\n",
       "      <td>{'superFIO': 'Блудилин А.А', 'superCompany ': ...</td>\n",
       "      <td>{'superFIO': {'value': 'Блудилин А.А', 'payloa...</td>\n",
       "      <td>[]</td>\n",
       "      <td>[]</td>\n",
       "      <td>26</td>\n",
       "    </tr>\n",
       "    <tr>\n",
       "      <th>21</th>\n",
       "      <td>Предписание ЛЗС-КРС_sign. 2021-01-07T15:00:00....</td>\n",
       "      <td>signed</td>\n",
       "      <td>2865</td>\n",
       "      <td>{'superFIO': 'Блудилин А.А', 'superCompany ': ...</td>\n",
       "      <td>{'superFIO': {'value': 'Блудилин А.А', 'payloa...</td>\n",
       "      <td>[]</td>\n",
       "      <td>[]</td>\n",
       "      <td>26</td>\n",
       "    </tr>\n",
       "    <tr>\n",
       "      <th>22</th>\n",
       "      <td>Предписание ЛЗС-КРС_sign. 2021-01-07T00:00:00....</td>\n",
       "      <td>signed</td>\n",
       "      <td>2865</td>\n",
       "      <td>{'superFIO': 'Леонов В.Ю', 'superCompany ': 'А...</td>\n",
       "      <td>{'superFIO': {'value': 'Леонов В.Ю', 'payload'...</td>\n",
       "      <td>[]</td>\n",
       "      <td>[]</td>\n",
       "      <td>15</td>\n",
       "    </tr>\n",
       "    <tr>\n",
       "      <th>33</th>\n",
       "      <td>Предписание ЛЗС-КРС_sign. 2021-01-11T12:00:00....</td>\n",
       "      <td>signed</td>\n",
       "      <td>2865</td>\n",
       "      <td>{'superFIO': 'Сергеев В.И', 'superCompany ': '...</td>\n",
       "      <td>{'superFIO': {'value': 'Сергеев В.И', 'payload...</td>\n",
       "      <td>[]</td>\n",
       "      <td>[]</td>\n",
       "      <td>19</td>\n",
       "    </tr>\n",
       "  </tbody>\n",
       "</table>\n",
       "</div>"
      ],
      "text/plain": [
       "                                                 name  status  \\\n",
       "3   Предписание ЛЗС-КРС_sign. 2021-01-02T16:30:00....  signed   \n",
       "17  Предписание ЛЗС-КРС_sign. 2021-01-06T10:40:00....  signed   \n",
       "21  Предписание ЛЗС-КРС_sign. 2021-01-07T15:00:00....  signed   \n",
       "22  Предписание ЛЗС-КРС_sign. 2021-01-07T00:00:00....  signed   \n",
       "33  Предписание ЛЗС-КРС_sign. 2021-01-11T12:00:00....  signed   \n",
       "\n",
       "    environment_state                                            content  \\\n",
       "3                2865  {'superFIO': 'Сергеев В.И', 'superCompany ': '...   \n",
       "17               2865  {'superFIO': 'Блудилин А.А', 'superCompany ': ...   \n",
       "21               2865  {'superFIO': 'Блудилин А.А', 'superCompany ': ...   \n",
       "22               2865  {'superFIO': 'Леонов В.Ю', 'superCompany ': 'А...   \n",
       "33               2865  {'superFIO': 'Сергеев В.И', 'superCompany ': '...   \n",
       "\n",
       "                                          raw_content files violations  \\\n",
       "3   {'superFIO': {'value': 'Сергеев В.И', 'payload...    []         []   \n",
       "17  {'superFIO': {'value': 'Блудилин А.А', 'payloa...    []         []   \n",
       "21  {'superFIO': {'value': 'Блудилин А.А', 'payloa...    []         []   \n",
       "22  {'superFIO': {'value': 'Леонов В.Ю', 'payload'...    []         []   \n",
       "33  {'superFIO': {'value': 'Сергеев В.И', 'payload...    []         []   \n",
       "\n",
       "    creator  \n",
       "3        19  \n",
       "17       26  \n",
       "21       26  \n",
       "22       15  \n",
       "33       19  "
      ]
     },
     "execution_count": 426,
     "metadata": {},
     "output_type": "execute_result"
    }
   ],
   "source": [
    "df_final.head()"
   ]
  },
  {
   "cell_type": "markdown",
   "id": "97d16d84-f5ab-4df1-95cb-51a4ac3339ec",
   "metadata": {},
   "source": [
    "### Загружаем нарушения в базу"
   ]
  },
  {
   "cell_type": "code",
   "execution_count": 427,
   "id": "dc0b1f83-5eca-4382-ba69-4950ca490e5c",
   "metadata": {},
   "outputs": [],
   "source": [
    "df_final = df_final.reset_index(drop=True)\n",
    "df_for_violations_request = df_for_violations_request.reset_index(drop=True)"
   ]
  },
  {
   "cell_type": "code",
   "execution_count": 428,
   "id": "2dd38843-a292-4ab2-9394-a95274a1e802",
   "metadata": {},
   "outputs": [],
   "source": [
    "df_final = df_final[:2]\n",
    "df_for_violations_request = df_for_violations_request[:2]"
   ]
  },
  {
   "cell_type": "code",
   "execution_count": 429,
   "id": "d1752892-f537-4dde-955d-01b919b100bd",
   "metadata": {},
   "outputs": [
    {
     "name": "stdout",
     "output_type": "stream",
     "text": [
      "(2, 7)\n",
      "(2, 8)\n"
     ]
    }
   ],
   "source": [
    "print(df_for_violations_request.shape)\n",
    "print(df_final.shape)"
   ]
  },
  {
   "cell_type": "code",
   "execution_count": 430,
   "id": "a36a4b14-0bab-42e9-bc92-005b0d7a563b",
   "metadata": {},
   "outputs": [],
   "source": [
    "# Отправляем запрос\n",
    "import requests\n",
    "s = requests.Session()\n",
    "r = s.request('POST','https://ma.gasoilcenter.ru/api/token/obtain/',json = {\"username\":\"admin\",\"password\":\"Yasin1367!\"})\n",
    "m = (eval(r.text))[\"access\"]\n",
    "for k in range(len(df_final)):\n",
    "    responses = []\n",
    "    violations = df_for_violations_request.loc[k].to_dict()\n",
    "    for i in range(len(violations[\"content\"])):\n",
    "        violation = violations.copy()\n",
    "        violation[\"name\"] = violations[\"name\"][i]\n",
    "        violation[\"content\"] = violations[\"content\"][i]\n",
    "        violation[\"raw_content\"] = violations[\"raw_content\"][i]\n",
    "        violation[\"normative_articles\"] = [violations[\"normative_articles\"][i]]\n",
    "        json_data = json.dumps(violation, ensure_ascii=False).encode('utf8')\n",
    "        # Отправляем данные\n",
    "        response_violation = s.post('https://ma.gasoilcenter.ru/api/master-of-acts/violations/', headers={'Authorization': f\"JWT {m}\", 'Content-Type': 'application/json; charset=utf-8'}, data=json_data)\n",
    "        response_text_violation = json.loads(response_violation.text)\n",
    "        responses.append(response_text_violation)\n",
    "    #Получаем id и вставляем в акты для запроса\n",
    "    responses_id =[]\n",
    "    for i in responses:\n",
    "        responses_id.append(i[\"id\"])\n",
    "    df_final[\"violations\"].loc[k] = responses_id\n",
    "    for i, j in zip(df_final.content[k][\"tbl_contents\"], responses_id):\n",
    "        i[\"id\"] = j\n",
    "    for i, j in zip(df_final.content[k][\"tbl_contents\"], responses_id):\n",
    "        i[\"id\"] = j\n",
    "    data_final = df_final.loc[k].to_dict()\n",
    "    \n",
    "    # Отправляем данные\n",
    "    response = s.post('https://ma.gasoilcenter.ru/api/master-of-acts/acts/', headers={'Authorization': f\"JWT {m}\"}, json=data_final)\n",
    "    response_test_text = json.loads(response.text)\n",
    "    id_response = response_test_text[\"id\"]\n",
    "    keys_to_remove = ['id', 'name', 'created_at', 'creator', 'environment_state']\n",
    "    response_test_text = {key: value for key, value in response_test_text.items() if key not in keys_to_remove}\n",
    "    response1 = s.patch(f\"https://ma.gasoilcenter.ru/api/master-of-acts/acts/{id_response}/\", headers={'Authorization':f\"JWT {m}\"}, json=response_test_text)"
   ]
  },
  {
   "cell_type": "code",
   "execution_count": 431,
   "id": "04988331-c2b8-4df3-8c0f-6b84c4c71812",
   "metadata": {},
   "outputs": [
    {
     "data": {
      "text/plain": [
       "200"
      ]
     },
     "execution_count": 431,
     "metadata": {},
     "output_type": "execute_result"
    }
   ],
   "source": [
    "response1.status_code"
   ]
  },
  {
   "cell_type": "code",
   "execution_count": null,
   "id": "7a5f02ba-5a7d-45d6-89a8-6b647e998637",
   "metadata": {},
   "outputs": [],
   "source": []
  }
 ],
 "metadata": {
  "kernelspec": {
   "display_name": "Python 3 (ipykernel)",
   "language": "python",
   "name": "python3"
  },
  "language_info": {
   "codemirror_mode": {
    "name": "ipython",
    "version": 3
   },
   "file_extension": ".py",
   "mimetype": "text/x-python",
   "name": "python",
   "nbconvert_exporter": "python",
   "pygments_lexer": "ipython3",
   "version": "3.9.13"
  }
 },
 "nbformat": 4,
 "nbformat_minor": 5
}
